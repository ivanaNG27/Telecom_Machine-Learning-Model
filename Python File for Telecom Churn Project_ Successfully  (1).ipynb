{
 "cells": [
  {
   "cell_type": "code",
   "execution_count": 1,
   "id": "6c4b179d",
   "metadata": {},
   "outputs": [
    {
     "data": {
      "text/html": [
       "        <script type=\"text/javascript\">\n",
       "        window.PlotlyConfig = {MathJaxConfig: 'local'};\n",
       "        if (window.MathJax && window.MathJax.Hub && window.MathJax.Hub.Config) {window.MathJax.Hub.Config({SVG: {font: \"STIX-Web\"}});}\n",
       "        if (typeof require !== 'undefined') {\n",
       "        require.undef(\"plotly\");\n",
       "        requirejs.config({\n",
       "            paths: {\n",
       "                'plotly': ['https://cdn.plot.ly/plotly-2.12.1.min']\n",
       "            }\n",
       "        });\n",
       "        require(['plotly'], function(Plotly) {\n",
       "            window._Plotly = Plotly;\n",
       "        });\n",
       "        }\n",
       "        </script>\n",
       "        "
      ]
     },
     "metadata": {},
     "output_type": "display_data"
    }
   ],
   "source": [
    "#Import Lib\n",
    "import numpy as np\n",
    "import pandas as pd \n",
    "from math import * # module math\n",
    "import matplotlib.pyplot as plt \n",
    "\n",
    "#encode and scaling\n",
    "from sklearn.preprocessing import LabelEncoder\n",
    "from sklearn.preprocessing import StandardScaler\n",
    "\n",
    "#\n",
    "from sklearn.model_selection import train_test_split\n",
    "from sklearn.metrics import confusion_matrix, accuracy_score, classification_report, cohen_kappa_score\n",
    "#KNN\n",
    "from sklearn.neighbors import KNeighborsClassifier\n",
    "#Decision Tree\n",
    "\n",
    "from sklearn.datasets import load_iris\n",
    "from sklearn.tree import DecisionTreeClassifier, export_graphviz\n",
    "\n",
    "import matplotlib.pyplot as plt # visualization\n",
    "from PIL import Image\n",
    "import seaborn as sns # visualization\n",
    "import itertools\n",
    "import io\n",
    "import plotly.offline as py # visualization\n",
    "py.init_notebook_mode(connected=True) # visualization\n",
    "import plotly.graph_objs as go # visualization\n",
    "from plotly.subplots import make_subplots\n",
    "import plotly.figure_factory as ff # visualization\n"
   ]
  },
  {
   "cell_type": "markdown",
   "id": "db4c0088",
   "metadata": {},
   "source": [
    "1. DATASET OVERVIEW & EXPLORATION"
   ]
  },
  {
   "cell_type": "code",
   "execution_count": 5,
   "id": "89219439",
   "metadata": {
    "scrolled": true
   },
   "outputs": [
    {
     "name": "stdout",
     "output_type": "stream",
     "text": [
      "  State  Account length  Area code International plan Voice mail plan  \\\n",
      "0    KS             128        415                 No             Yes   \n",
      "1    OH             107        415                 No             Yes   \n",
      "2    NJ             137        415                 No              No   \n",
      "3    OH              84        408                Yes              No   \n",
      "4    OK              75        415                Yes              No   \n",
      "\n",
      "   Number vmail messages  Total day minutes  Total day calls  \\\n",
      "0                     25              265.1              110   \n",
      "1                     26              161.6              123   \n",
      "2                      0              243.4              114   \n",
      "3                      0              299.4               71   \n",
      "4                      0              166.7              113   \n",
      "\n",
      "   Total day charge  Total eve minutes  Total eve calls  Total eve charge  \\\n",
      "0             45.07              197.4               99             16.78   \n",
      "1             27.47              195.5              103             16.62   \n",
      "2             41.38              121.2              110             10.30   \n",
      "3             50.90               61.9               88              5.26   \n",
      "4             28.34              148.3              122             12.61   \n",
      "\n",
      "   Total night minutes  Total night calls  Total night charge  \\\n",
      "0                244.7                 91               11.01   \n",
      "1                254.4                103               11.45   \n",
      "2                162.6                104                7.32   \n",
      "3                196.9                 89                8.86   \n",
      "4                186.9                121                8.41   \n",
      "\n",
      "   Total intl minutes  Total intl calls  Total intl charge  \\\n",
      "0                10.0                 3               2.70   \n",
      "1                13.7                 3               3.70   \n",
      "2                12.2                 5               3.29   \n",
      "3                 6.6                 7               1.78   \n",
      "4                10.1                 3               2.73   \n",
      "\n",
      "   Customer service calls  Churn  \n",
      "0                       1  False  \n",
      "1                       1  False  \n",
      "2                       0  False  \n",
      "3                       2  False  \n",
      "4                       3  False  \n",
      "\n",
      "####\n",
      "   State  Account length  Area code International plan Voice mail plan  \\\n",
      "0    LA             117        408                 No              No   \n",
      "1    IN              65        415                 No              No   \n",
      "2    NY             161        415                 No              No   \n",
      "3    SC             111        415                 No              No   \n",
      "4    HI              49        510                 No              No   \n",
      "\n",
      "   Number vmail messages  Total day minutes  Total day calls  \\\n",
      "0                      0              184.5               97   \n",
      "1                      0              129.1              137   \n",
      "2                      0              332.9               67   \n",
      "3                      0              110.4              103   \n",
      "4                      0              119.3              117   \n",
      "\n",
      "   Total day charge  Total eve minutes  Total eve calls  Total eve charge  \\\n",
      "0             31.37              351.6               80             29.89   \n",
      "1             21.95              228.5               83             19.42   \n",
      "2             56.59              317.8               97             27.01   \n",
      "3             18.77              137.3              102             11.67   \n",
      "4             20.28              215.1              109             18.28   \n",
      "\n",
      "   Total night minutes  Total night calls  Total night charge  \\\n",
      "0                215.8                 90                9.71   \n",
      "1                208.8                111                9.40   \n",
      "2                160.6                128                7.23   \n",
      "3                189.6                105                8.53   \n",
      "4                178.7                 90                8.04   \n",
      "\n",
      "   Total intl minutes  Total intl calls  Total intl charge  \\\n",
      "0                 8.7                 4               2.35   \n",
      "1                12.7                 6               3.43   \n",
      "2                 5.4                 9               1.46   \n",
      "3                 7.7                 6               2.08   \n",
      "4                11.1                 1               3.00   \n",
      "\n",
      "   Customer service calls  Churn  \n",
      "0                       1  False  \n",
      "1                       4   True  \n",
      "2                       4   True  \n",
      "3                       2  False  \n",
      "4                       1  False  \n"
     ]
    }
   ],
   "source": [
    "#Loaded Training and Test Sets\n",
    "churn_train=pd.read_csv('churn_80.csv')\n",
    "churn_test=pd.read_csv('churn_20.csv')\n",
    "print(churn_train.head())\n",
    "print('\\n####\\n',churn_test.head())"
   ]
  },
  {
   "cell_type": "markdown",
   "id": "9979c13c",
   "metadata": {},
   "source": [
    "1.1. Statistical Description: Training Set"
   ]
  },
  {
   "cell_type": "code",
   "execution_count": 102,
   "id": "d3ac0b09",
   "metadata": {
    "scrolled": true
   },
   "outputs": [
    {
     "name": "stdout",
     "output_type": "stream",
     "text": [
      "       Account length    Area code  Number vmail messages  Total day minutes  \\\n",
      "count     2666.000000  2666.000000            2666.000000         2666.00000   \n",
      "mean       100.620405   437.438860               8.021755          179.48162   \n",
      "std         39.563974    42.521018              13.612277           54.21035   \n",
      "min          1.000000   408.000000               0.000000            0.00000   \n",
      "25%         73.000000   408.000000               0.000000          143.40000   \n",
      "50%        100.000000   415.000000               0.000000          179.95000   \n",
      "75%        127.000000   510.000000              19.000000          215.90000   \n",
      "max        243.000000   510.000000              50.000000          350.80000   \n",
      "\n",
      "       Total day calls  Total day charge  Total eve minutes  Total eve calls  \\\n",
      "count      2666.000000       2666.000000        2666.000000      2666.000000   \n",
      "mean        100.310203         30.512404         200.386159       100.023631   \n",
      "std          19.988162          9.215733          50.951515        20.161445   \n",
      "min           0.000000          0.000000           0.000000         0.000000   \n",
      "25%          87.000000         24.380000         165.300000        87.000000   \n",
      "50%         101.000000         30.590000         200.900000       100.000000   \n",
      "75%         114.000000         36.700000         235.100000       114.000000   \n",
      "max         160.000000         59.640000         363.700000       170.000000   \n",
      "\n",
      "       Total eve charge  Total night minutes  Total night calls  \\\n",
      "count       2666.000000          2666.000000        2666.000000   \n",
      "mean          17.033072           201.168942         100.106152   \n",
      "std            4.330864            50.780323          19.418459   \n",
      "min            0.000000            43.700000          33.000000   \n",
      "25%           14.050000           166.925000          87.000000   \n",
      "50%           17.080000           201.150000         100.000000   \n",
      "75%           19.980000           236.475000         113.000000   \n",
      "max           30.910000           395.000000         166.000000   \n",
      "\n",
      "       Total night charge  Total intl minutes  Total intl calls  \\\n",
      "count         2666.000000         2666.000000       2666.000000   \n",
      "mean             9.052689           10.237022          4.467367   \n",
      "std              2.285120            2.788349          2.456195   \n",
      "min              1.970000            0.000000          0.000000   \n",
      "25%              7.512500            8.500000          3.000000   \n",
      "50%              9.050000           10.200000          4.000000   \n",
      "75%             10.640000           12.100000          6.000000   \n",
      "max             17.770000           20.000000         20.000000   \n",
      "\n",
      "       Total intl charge  Customer service calls  \n",
      "count        2666.000000             2666.000000  \n",
      "mean            2.764490                1.562641  \n",
      "std             0.752812                1.311236  \n",
      "min             0.000000                0.000000  \n",
      "25%             2.300000                1.000000  \n",
      "50%             2.750000                1.000000  \n",
      "75%             3.270000                2.000000  \n",
      "max             5.400000                9.000000  \n"
     ]
    }
   ],
   "source": [
    "print(churn_train.describe())\n"
   ]
  },
  {
   "cell_type": "markdown",
   "id": "99f9e64a",
   "metadata": {},
   "source": [
    "1.2. Summary of Dataset information: Training Set"
   ]
  },
  {
   "cell_type": "code",
   "execution_count": 6,
   "id": "1bafae1e",
   "metadata": {
    "scrolled": false
   },
   "outputs": [
    {
     "name": "stdout",
     "output_type": "stream",
     "text": [
      "<class 'pandas.core.frame.DataFrame'>\n",
      "RangeIndex: 2666 entries, 0 to 2665\n",
      "Data columns (total 20 columns):\n",
      " #   Column                  Non-Null Count  Dtype  \n",
      "---  ------                  --------------  -----  \n",
      " 0   State                   2666 non-null   object \n",
      " 1   Account length          2666 non-null   int64  \n",
      " 2   Area code               2666 non-null   int64  \n",
      " 3   International plan      2666 non-null   object \n",
      " 4   Voice mail plan         2666 non-null   object \n",
      " 5   Number vmail messages   2666 non-null   int64  \n",
      " 6   Total day minutes       2666 non-null   float64\n",
      " 7   Total day calls         2666 non-null   int64  \n",
      " 8   Total day charge        2666 non-null   float64\n",
      " 9   Total eve minutes       2666 non-null   float64\n",
      " 10  Total eve calls         2666 non-null   int64  \n",
      " 11  Total eve charge        2666 non-null   float64\n",
      " 12  Total night minutes     2666 non-null   float64\n",
      " 13  Total night calls       2666 non-null   int64  \n",
      " 14  Total night charge      2666 non-null   float64\n",
      " 15  Total intl minutes      2666 non-null   float64\n",
      " 16  Total intl calls        2666 non-null   int64  \n",
      " 17  Total intl charge       2666 non-null   float64\n",
      " 18  Customer service calls  2666 non-null   int64  \n",
      " 19  Churn                   2666 non-null   bool   \n",
      "dtypes: bool(1), float64(8), int64(8), object(3)\n",
      "memory usage: 398.5+ KB\n",
      "None\n",
      "\n",
      "\n",
      "Training Data Information\n",
      "-Rows               : 2666\n",
      "-No. of Features    : 20\n",
      "-Features           : ['State', 'Account length', 'Area code', 'International plan', 'Voice mail plan', 'Number vmail messages', 'Total day minutes', 'Total day calls', 'Total day charge', 'Total eve minutes', 'Total eve calls', 'Total eve charge', 'Total night minutes', 'Total night calls', 'Total night charge', 'Total intl minutes', 'Total intl calls', 'Total intl charge', 'Customer service calls', 'Churn']\n",
      "-No. of Null Values : 0\n"
     ]
    }
   ],
   "source": [
    "print(churn_train.info())\n",
    "\n",
    "# Print information about the churn_train dataframe\n",
    "print(\"\\n\\nTraining Data Information\")\n",
    "print(\"-Rows               :\", churn_train.shape[0])\n",
    "print(\"-No. of Features    :\", churn_train.shape[1])\n",
    "print(\"-Features           :\", churn_train.columns.tolist())\n",
    "print(\"-No. of Null Values :\", churn_train.isnull().sum().sum())\n"
   ]
  },
  {
   "cell_type": "code",
   "execution_count": null,
   "id": "b602f0a5",
   "metadata": {},
   "outputs": [],
   "source": [
    "1.3. Dataset Exploration"
   ]
  },
  {
   "cell_type": "code",
   "execution_count": 7,
   "id": "220785d9",
   "metadata": {},
   "outputs": [
    {
     "data": {
      "application/vnd.plotly.v1+json": {
       "config": {
        "plotlyServerURL": "https://plot.ly"
       },
       "data": [
        {
         "hole": 0.5,
         "hoverinfo": "label+value+text",
         "labels": [
          false,
          true
         ],
         "marker": {
          "colors": [
           "#FF0000",
           "#d5d7ce"
          ],
          "line": {
           "color": "white",
           "width": 1.3
          }
         },
         "rotation": 90,
         "type": "pie",
         "values": [
          2278,
          388
         ]
        }
       ],
       "layout": {
        "paper_bgcolor": "rgb(243,243,243)",
        "plot_bgcolor": "rgb(243,243,243)",
        "template": {
         "data": {
          "bar": [
           {
            "error_x": {
             "color": "#2a3f5f"
            },
            "error_y": {
             "color": "#2a3f5f"
            },
            "marker": {
             "line": {
              "color": "#E5ECF6",
              "width": 0.5
             },
             "pattern": {
              "fillmode": "overlay",
              "size": 10,
              "solidity": 0.2
             }
            },
            "type": "bar"
           }
          ],
          "barpolar": [
           {
            "marker": {
             "line": {
              "color": "#E5ECF6",
              "width": 0.5
             },
             "pattern": {
              "fillmode": "overlay",
              "size": 10,
              "solidity": 0.2
             }
            },
            "type": "barpolar"
           }
          ],
          "carpet": [
           {
            "aaxis": {
             "endlinecolor": "#2a3f5f",
             "gridcolor": "white",
             "linecolor": "white",
             "minorgridcolor": "white",
             "startlinecolor": "#2a3f5f"
            },
            "baxis": {
             "endlinecolor": "#2a3f5f",
             "gridcolor": "white",
             "linecolor": "white",
             "minorgridcolor": "white",
             "startlinecolor": "#2a3f5f"
            },
            "type": "carpet"
           }
          ],
          "choropleth": [
           {
            "colorbar": {
             "outlinewidth": 0,
             "ticks": ""
            },
            "type": "choropleth"
           }
          ],
          "contour": [
           {
            "colorbar": {
             "outlinewidth": 0,
             "ticks": ""
            },
            "colorscale": [
             [
              0,
              "#0d0887"
             ],
             [
              0.1111111111111111,
              "#46039f"
             ],
             [
              0.2222222222222222,
              "#7201a8"
             ],
             [
              0.3333333333333333,
              "#9c179e"
             ],
             [
              0.4444444444444444,
              "#bd3786"
             ],
             [
              0.5555555555555556,
              "#d8576b"
             ],
             [
              0.6666666666666666,
              "#ed7953"
             ],
             [
              0.7777777777777778,
              "#fb9f3a"
             ],
             [
              0.8888888888888888,
              "#fdca26"
             ],
             [
              1,
              "#f0f921"
             ]
            ],
            "type": "contour"
           }
          ],
          "contourcarpet": [
           {
            "colorbar": {
             "outlinewidth": 0,
             "ticks": ""
            },
            "type": "contourcarpet"
           }
          ],
          "heatmap": [
           {
            "colorbar": {
             "outlinewidth": 0,
             "ticks": ""
            },
            "colorscale": [
             [
              0,
              "#0d0887"
             ],
             [
              0.1111111111111111,
              "#46039f"
             ],
             [
              0.2222222222222222,
              "#7201a8"
             ],
             [
              0.3333333333333333,
              "#9c179e"
             ],
             [
              0.4444444444444444,
              "#bd3786"
             ],
             [
              0.5555555555555556,
              "#d8576b"
             ],
             [
              0.6666666666666666,
              "#ed7953"
             ],
             [
              0.7777777777777778,
              "#fb9f3a"
             ],
             [
              0.8888888888888888,
              "#fdca26"
             ],
             [
              1,
              "#f0f921"
             ]
            ],
            "type": "heatmap"
           }
          ],
          "heatmapgl": [
           {
            "colorbar": {
             "outlinewidth": 0,
             "ticks": ""
            },
            "colorscale": [
             [
              0,
              "#0d0887"
             ],
             [
              0.1111111111111111,
              "#46039f"
             ],
             [
              0.2222222222222222,
              "#7201a8"
             ],
             [
              0.3333333333333333,
              "#9c179e"
             ],
             [
              0.4444444444444444,
              "#bd3786"
             ],
             [
              0.5555555555555556,
              "#d8576b"
             ],
             [
              0.6666666666666666,
              "#ed7953"
             ],
             [
              0.7777777777777778,
              "#fb9f3a"
             ],
             [
              0.8888888888888888,
              "#fdca26"
             ],
             [
              1,
              "#f0f921"
             ]
            ],
            "type": "heatmapgl"
           }
          ],
          "histogram": [
           {
            "marker": {
             "pattern": {
              "fillmode": "overlay",
              "size": 10,
              "solidity": 0.2
             }
            },
            "type": "histogram"
           }
          ],
          "histogram2d": [
           {
            "colorbar": {
             "outlinewidth": 0,
             "ticks": ""
            },
            "colorscale": [
             [
              0,
              "#0d0887"
             ],
             [
              0.1111111111111111,
              "#46039f"
             ],
             [
              0.2222222222222222,
              "#7201a8"
             ],
             [
              0.3333333333333333,
              "#9c179e"
             ],
             [
              0.4444444444444444,
              "#bd3786"
             ],
             [
              0.5555555555555556,
              "#d8576b"
             ],
             [
              0.6666666666666666,
              "#ed7953"
             ],
             [
              0.7777777777777778,
              "#fb9f3a"
             ],
             [
              0.8888888888888888,
              "#fdca26"
             ],
             [
              1,
              "#f0f921"
             ]
            ],
            "type": "histogram2d"
           }
          ],
          "histogram2dcontour": [
           {
            "colorbar": {
             "outlinewidth": 0,
             "ticks": ""
            },
            "colorscale": [
             [
              0,
              "#0d0887"
             ],
             [
              0.1111111111111111,
              "#46039f"
             ],
             [
              0.2222222222222222,
              "#7201a8"
             ],
             [
              0.3333333333333333,
              "#9c179e"
             ],
             [
              0.4444444444444444,
              "#bd3786"
             ],
             [
              0.5555555555555556,
              "#d8576b"
             ],
             [
              0.6666666666666666,
              "#ed7953"
             ],
             [
              0.7777777777777778,
              "#fb9f3a"
             ],
             [
              0.8888888888888888,
              "#fdca26"
             ],
             [
              1,
              "#f0f921"
             ]
            ],
            "type": "histogram2dcontour"
           }
          ],
          "mesh3d": [
           {
            "colorbar": {
             "outlinewidth": 0,
             "ticks": ""
            },
            "type": "mesh3d"
           }
          ],
          "parcoords": [
           {
            "line": {
             "colorbar": {
              "outlinewidth": 0,
              "ticks": ""
             }
            },
            "type": "parcoords"
           }
          ],
          "pie": [
           {
            "automargin": true,
            "type": "pie"
           }
          ],
          "scatter": [
           {
            "fillpattern": {
             "fillmode": "overlay",
             "size": 10,
             "solidity": 0.2
            },
            "type": "scatter"
           }
          ],
          "scatter3d": [
           {
            "line": {
             "colorbar": {
              "outlinewidth": 0,
              "ticks": ""
             }
            },
            "marker": {
             "colorbar": {
              "outlinewidth": 0,
              "ticks": ""
             }
            },
            "type": "scatter3d"
           }
          ],
          "scattercarpet": [
           {
            "marker": {
             "colorbar": {
              "outlinewidth": 0,
              "ticks": ""
             }
            },
            "type": "scattercarpet"
           }
          ],
          "scattergeo": [
           {
            "marker": {
             "colorbar": {
              "outlinewidth": 0,
              "ticks": ""
             }
            },
            "type": "scattergeo"
           }
          ],
          "scattergl": [
           {
            "marker": {
             "colorbar": {
              "outlinewidth": 0,
              "ticks": ""
             }
            },
            "type": "scattergl"
           }
          ],
          "scattermapbox": [
           {
            "marker": {
             "colorbar": {
              "outlinewidth": 0,
              "ticks": ""
             }
            },
            "type": "scattermapbox"
           }
          ],
          "scatterpolar": [
           {
            "marker": {
             "colorbar": {
              "outlinewidth": 0,
              "ticks": ""
             }
            },
            "type": "scatterpolar"
           }
          ],
          "scatterpolargl": [
           {
            "marker": {
             "colorbar": {
              "outlinewidth": 0,
              "ticks": ""
             }
            },
            "type": "scatterpolargl"
           }
          ],
          "scatterternary": [
           {
            "marker": {
             "colorbar": {
              "outlinewidth": 0,
              "ticks": ""
             }
            },
            "type": "scatterternary"
           }
          ],
          "surface": [
           {
            "colorbar": {
             "outlinewidth": 0,
             "ticks": ""
            },
            "colorscale": [
             [
              0,
              "#0d0887"
             ],
             [
              0.1111111111111111,
              "#46039f"
             ],
             [
              0.2222222222222222,
              "#7201a8"
             ],
             [
              0.3333333333333333,
              "#9c179e"
             ],
             [
              0.4444444444444444,
              "#bd3786"
             ],
             [
              0.5555555555555556,
              "#d8576b"
             ],
             [
              0.6666666666666666,
              "#ed7953"
             ],
             [
              0.7777777777777778,
              "#fb9f3a"
             ],
             [
              0.8888888888888888,
              "#fdca26"
             ],
             [
              1,
              "#f0f921"
             ]
            ],
            "type": "surface"
           }
          ],
          "table": [
           {
            "cells": {
             "fill": {
              "color": "#EBF0F8"
             },
             "line": {
              "color": "white"
             }
            },
            "header": {
             "fill": {
              "color": "#C8D4E3"
             },
             "line": {
              "color": "white"
             }
            },
            "type": "table"
           }
          ]
         },
         "layout": {
          "annotationdefaults": {
           "arrowcolor": "#2a3f5f",
           "arrowhead": 0,
           "arrowwidth": 1
          },
          "autotypenumbers": "strict",
          "coloraxis": {
           "colorbar": {
            "outlinewidth": 0,
            "ticks": ""
           }
          },
          "colorscale": {
           "diverging": [
            [
             0,
             "#8e0152"
            ],
            [
             0.1,
             "#c51b7d"
            ],
            [
             0.2,
             "#de77ae"
            ],
            [
             0.3,
             "#f1b6da"
            ],
            [
             0.4,
             "#fde0ef"
            ],
            [
             0.5,
             "#f7f7f7"
            ],
            [
             0.6,
             "#e6f5d0"
            ],
            [
             0.7,
             "#b8e186"
            ],
            [
             0.8,
             "#7fbc41"
            ],
            [
             0.9,
             "#4d9221"
            ],
            [
             1,
             "#276419"
            ]
           ],
           "sequential": [
            [
             0,
             "#0d0887"
            ],
            [
             0.1111111111111111,
             "#46039f"
            ],
            [
             0.2222222222222222,
             "#7201a8"
            ],
            [
             0.3333333333333333,
             "#9c179e"
            ],
            [
             0.4444444444444444,
             "#bd3786"
            ],
            [
             0.5555555555555556,
             "#d8576b"
            ],
            [
             0.6666666666666666,
             "#ed7953"
            ],
            [
             0.7777777777777778,
             "#fb9f3a"
            ],
            [
             0.8888888888888888,
             "#fdca26"
            ],
            [
             1,
             "#f0f921"
            ]
           ],
           "sequentialminus": [
            [
             0,
             "#0d0887"
            ],
            [
             0.1111111111111111,
             "#46039f"
            ],
            [
             0.2222222222222222,
             "#7201a8"
            ],
            [
             0.3333333333333333,
             "#9c179e"
            ],
            [
             0.4444444444444444,
             "#bd3786"
            ],
            [
             0.5555555555555556,
             "#d8576b"
            ],
            [
             0.6666666666666666,
             "#ed7953"
            ],
            [
             0.7777777777777778,
             "#fb9f3a"
            ],
            [
             0.8888888888888888,
             "#fdca26"
            ],
            [
             1,
             "#f0f921"
            ]
           ]
          },
          "colorway": [
           "#636efa",
           "#EF553B",
           "#00cc96",
           "#ab63fa",
           "#FFA15A",
           "#19d3f3",
           "#FF6692",
           "#B6E880",
           "#FF97FF",
           "#FECB52"
          ],
          "font": {
           "color": "#2a3f5f"
          },
          "geo": {
           "bgcolor": "white",
           "lakecolor": "white",
           "landcolor": "#E5ECF6",
           "showlakes": true,
           "showland": true,
           "subunitcolor": "white"
          },
          "hoverlabel": {
           "align": "left"
          },
          "hovermode": "closest",
          "mapbox": {
           "style": "light"
          },
          "paper_bgcolor": "white",
          "plot_bgcolor": "#E5ECF6",
          "polar": {
           "angularaxis": {
            "gridcolor": "white",
            "linecolor": "white",
            "ticks": ""
           },
           "bgcolor": "#E5ECF6",
           "radialaxis": {
            "gridcolor": "white",
            "linecolor": "white",
            "ticks": ""
           }
          },
          "scene": {
           "xaxis": {
            "backgroundcolor": "#E5ECF6",
            "gridcolor": "white",
            "gridwidth": 2,
            "linecolor": "white",
            "showbackground": true,
            "ticks": "",
            "zerolinecolor": "white"
           },
           "yaxis": {
            "backgroundcolor": "#E5ECF6",
            "gridcolor": "white",
            "gridwidth": 2,
            "linecolor": "white",
            "showbackground": true,
            "ticks": "",
            "zerolinecolor": "white"
           },
           "zaxis": {
            "backgroundcolor": "#E5ECF6",
            "gridcolor": "white",
            "gridwidth": 2,
            "linecolor": "white",
            "showbackground": true,
            "ticks": "",
            "zerolinecolor": "white"
           }
          },
          "shapedefaults": {
           "line": {
            "color": "#2a3f5f"
           }
          },
          "ternary": {
           "aaxis": {
            "gridcolor": "white",
            "linecolor": "white",
            "ticks": ""
           },
           "baxis": {
            "gridcolor": "white",
            "linecolor": "white",
            "ticks": ""
           },
           "bgcolor": "#E5ECF6",
           "caxis": {
            "gridcolor": "white",
            "linecolor": "white",
            "ticks": ""
           }
          },
          "title": {
           "x": 0.05
          },
          "xaxis": {
           "automargin": true,
           "gridcolor": "white",
           "linecolor": "white",
           "ticks": "",
           "title": {
            "standoff": 15
           },
           "zerolinecolor": "white",
           "zerolinewidth": 2
          },
          "yaxis": {
           "automargin": true,
           "gridcolor": "white",
           "linecolor": "white",
           "ticks": "",
           "title": {
            "standoff": 15
           },
           "zerolinecolor": "white",
           "zerolinewidth": 2
          }
         }
        },
        "title": {
         "text": "Customer churn in training data"
        }
       }
      },
      "text/html": [
       "<div>                            <div id=\"c26e69df-e008-4d01-85f6-6a34a0af2819\" class=\"plotly-graph-div\" style=\"height:525px; width:100%;\"></div>            <script type=\"text/javascript\">                require([\"plotly\"], function(Plotly) {                    window.PLOTLYENV=window.PLOTLYENV || {};                                    if (document.getElementById(\"c26e69df-e008-4d01-85f6-6a34a0af2819\")) {                    Plotly.newPlot(                        \"c26e69df-e008-4d01-85f6-6a34a0af2819\",                        [{\"hole\":0.5,\"hoverinfo\":\"label+value+text\",\"labels\":[false,true],\"marker\":{\"colors\":[\"#FF0000\",\"#d5d7ce\"],\"line\":{\"color\":\"white\",\"width\":1.3}},\"rotation\":90,\"values\":[2278,388],\"type\":\"pie\"}],                        {\"template\":{\"data\":{\"histogram2dcontour\":[{\"type\":\"histogram2dcontour\",\"colorbar\":{\"outlinewidth\":0,\"ticks\":\"\"},\"colorscale\":[[0.0,\"#0d0887\"],[0.1111111111111111,\"#46039f\"],[0.2222222222222222,\"#7201a8\"],[0.3333333333333333,\"#9c179e\"],[0.4444444444444444,\"#bd3786\"],[0.5555555555555556,\"#d8576b\"],[0.6666666666666666,\"#ed7953\"],[0.7777777777777778,\"#fb9f3a\"],[0.8888888888888888,\"#fdca26\"],[1.0,\"#f0f921\"]]}],\"choropleth\":[{\"type\":\"choropleth\",\"colorbar\":{\"outlinewidth\":0,\"ticks\":\"\"}}],\"histogram2d\":[{\"type\":\"histogram2d\",\"colorbar\":{\"outlinewidth\":0,\"ticks\":\"\"},\"colorscale\":[[0.0,\"#0d0887\"],[0.1111111111111111,\"#46039f\"],[0.2222222222222222,\"#7201a8\"],[0.3333333333333333,\"#9c179e\"],[0.4444444444444444,\"#bd3786\"],[0.5555555555555556,\"#d8576b\"],[0.6666666666666666,\"#ed7953\"],[0.7777777777777778,\"#fb9f3a\"],[0.8888888888888888,\"#fdca26\"],[1.0,\"#f0f921\"]]}],\"heatmap\":[{\"type\":\"heatmap\",\"colorbar\":{\"outlinewidth\":0,\"ticks\":\"\"},\"colorscale\":[[0.0,\"#0d0887\"],[0.1111111111111111,\"#46039f\"],[0.2222222222222222,\"#7201a8\"],[0.3333333333333333,\"#9c179e\"],[0.4444444444444444,\"#bd3786\"],[0.5555555555555556,\"#d8576b\"],[0.6666666666666666,\"#ed7953\"],[0.7777777777777778,\"#fb9f3a\"],[0.8888888888888888,\"#fdca26\"],[1.0,\"#f0f921\"]]}],\"heatmapgl\":[{\"type\":\"heatmapgl\",\"colorbar\":{\"outlinewidth\":0,\"ticks\":\"\"},\"colorscale\":[[0.0,\"#0d0887\"],[0.1111111111111111,\"#46039f\"],[0.2222222222222222,\"#7201a8\"],[0.3333333333333333,\"#9c179e\"],[0.4444444444444444,\"#bd3786\"],[0.5555555555555556,\"#d8576b\"],[0.6666666666666666,\"#ed7953\"],[0.7777777777777778,\"#fb9f3a\"],[0.8888888888888888,\"#fdca26\"],[1.0,\"#f0f921\"]]}],\"contourcarpet\":[{\"type\":\"contourcarpet\",\"colorbar\":{\"outlinewidth\":0,\"ticks\":\"\"}}],\"contour\":[{\"type\":\"contour\",\"colorbar\":{\"outlinewidth\":0,\"ticks\":\"\"},\"colorscale\":[[0.0,\"#0d0887\"],[0.1111111111111111,\"#46039f\"],[0.2222222222222222,\"#7201a8\"],[0.3333333333333333,\"#9c179e\"],[0.4444444444444444,\"#bd3786\"],[0.5555555555555556,\"#d8576b\"],[0.6666666666666666,\"#ed7953\"],[0.7777777777777778,\"#fb9f3a\"],[0.8888888888888888,\"#fdca26\"],[1.0,\"#f0f921\"]]}],\"surface\":[{\"type\":\"surface\",\"colorbar\":{\"outlinewidth\":0,\"ticks\":\"\"},\"colorscale\":[[0.0,\"#0d0887\"],[0.1111111111111111,\"#46039f\"],[0.2222222222222222,\"#7201a8\"],[0.3333333333333333,\"#9c179e\"],[0.4444444444444444,\"#bd3786\"],[0.5555555555555556,\"#d8576b\"],[0.6666666666666666,\"#ed7953\"],[0.7777777777777778,\"#fb9f3a\"],[0.8888888888888888,\"#fdca26\"],[1.0,\"#f0f921\"]]}],\"mesh3d\":[{\"type\":\"mesh3d\",\"colorbar\":{\"outlinewidth\":0,\"ticks\":\"\"}}],\"scatter\":[{\"fillpattern\":{\"fillmode\":\"overlay\",\"size\":10,\"solidity\":0.2},\"type\":\"scatter\"}],\"parcoords\":[{\"type\":\"parcoords\",\"line\":{\"colorbar\":{\"outlinewidth\":0,\"ticks\":\"\"}}}],\"scatterpolargl\":[{\"type\":\"scatterpolargl\",\"marker\":{\"colorbar\":{\"outlinewidth\":0,\"ticks\":\"\"}}}],\"bar\":[{\"error_x\":{\"color\":\"#2a3f5f\"},\"error_y\":{\"color\":\"#2a3f5f\"},\"marker\":{\"line\":{\"color\":\"#E5ECF6\",\"width\":0.5},\"pattern\":{\"fillmode\":\"overlay\",\"size\":10,\"solidity\":0.2}},\"type\":\"bar\"}],\"scattergeo\":[{\"type\":\"scattergeo\",\"marker\":{\"colorbar\":{\"outlinewidth\":0,\"ticks\":\"\"}}}],\"scatterpolar\":[{\"type\":\"scatterpolar\",\"marker\":{\"colorbar\":{\"outlinewidth\":0,\"ticks\":\"\"}}}],\"histogram\":[{\"marker\":{\"pattern\":{\"fillmode\":\"overlay\",\"size\":10,\"solidity\":0.2}},\"type\":\"histogram\"}],\"scattergl\":[{\"type\":\"scattergl\",\"marker\":{\"colorbar\":{\"outlinewidth\":0,\"ticks\":\"\"}}}],\"scatter3d\":[{\"type\":\"scatter3d\",\"line\":{\"colorbar\":{\"outlinewidth\":0,\"ticks\":\"\"}},\"marker\":{\"colorbar\":{\"outlinewidth\":0,\"ticks\":\"\"}}}],\"scattermapbox\":[{\"type\":\"scattermapbox\",\"marker\":{\"colorbar\":{\"outlinewidth\":0,\"ticks\":\"\"}}}],\"scatterternary\":[{\"type\":\"scatterternary\",\"marker\":{\"colorbar\":{\"outlinewidth\":0,\"ticks\":\"\"}}}],\"scattercarpet\":[{\"type\":\"scattercarpet\",\"marker\":{\"colorbar\":{\"outlinewidth\":0,\"ticks\":\"\"}}}],\"carpet\":[{\"aaxis\":{\"endlinecolor\":\"#2a3f5f\",\"gridcolor\":\"white\",\"linecolor\":\"white\",\"minorgridcolor\":\"white\",\"startlinecolor\":\"#2a3f5f\"},\"baxis\":{\"endlinecolor\":\"#2a3f5f\",\"gridcolor\":\"white\",\"linecolor\":\"white\",\"minorgridcolor\":\"white\",\"startlinecolor\":\"#2a3f5f\"},\"type\":\"carpet\"}],\"table\":[{\"cells\":{\"fill\":{\"color\":\"#EBF0F8\"},\"line\":{\"color\":\"white\"}},\"header\":{\"fill\":{\"color\":\"#C8D4E3\"},\"line\":{\"color\":\"white\"}},\"type\":\"table\"}],\"barpolar\":[{\"marker\":{\"line\":{\"color\":\"#E5ECF6\",\"width\":0.5},\"pattern\":{\"fillmode\":\"overlay\",\"size\":10,\"solidity\":0.2}},\"type\":\"barpolar\"}],\"pie\":[{\"automargin\":true,\"type\":\"pie\"}]},\"layout\":{\"autotypenumbers\":\"strict\",\"colorway\":[\"#636efa\",\"#EF553B\",\"#00cc96\",\"#ab63fa\",\"#FFA15A\",\"#19d3f3\",\"#FF6692\",\"#B6E880\",\"#FF97FF\",\"#FECB52\"],\"font\":{\"color\":\"#2a3f5f\"},\"hovermode\":\"closest\",\"hoverlabel\":{\"align\":\"left\"},\"paper_bgcolor\":\"white\",\"plot_bgcolor\":\"#E5ECF6\",\"polar\":{\"bgcolor\":\"#E5ECF6\",\"angularaxis\":{\"gridcolor\":\"white\",\"linecolor\":\"white\",\"ticks\":\"\"},\"radialaxis\":{\"gridcolor\":\"white\",\"linecolor\":\"white\",\"ticks\":\"\"}},\"ternary\":{\"bgcolor\":\"#E5ECF6\",\"aaxis\":{\"gridcolor\":\"white\",\"linecolor\":\"white\",\"ticks\":\"\"},\"baxis\":{\"gridcolor\":\"white\",\"linecolor\":\"white\",\"ticks\":\"\"},\"caxis\":{\"gridcolor\":\"white\",\"linecolor\":\"white\",\"ticks\":\"\"}},\"coloraxis\":{\"colorbar\":{\"outlinewidth\":0,\"ticks\":\"\"}},\"colorscale\":{\"sequential\":[[0.0,\"#0d0887\"],[0.1111111111111111,\"#46039f\"],[0.2222222222222222,\"#7201a8\"],[0.3333333333333333,\"#9c179e\"],[0.4444444444444444,\"#bd3786\"],[0.5555555555555556,\"#d8576b\"],[0.6666666666666666,\"#ed7953\"],[0.7777777777777778,\"#fb9f3a\"],[0.8888888888888888,\"#fdca26\"],[1.0,\"#f0f921\"]],\"sequentialminus\":[[0.0,\"#0d0887\"],[0.1111111111111111,\"#46039f\"],[0.2222222222222222,\"#7201a8\"],[0.3333333333333333,\"#9c179e\"],[0.4444444444444444,\"#bd3786\"],[0.5555555555555556,\"#d8576b\"],[0.6666666666666666,\"#ed7953\"],[0.7777777777777778,\"#fb9f3a\"],[0.8888888888888888,\"#fdca26\"],[1.0,\"#f0f921\"]],\"diverging\":[[0,\"#8e0152\"],[0.1,\"#c51b7d\"],[0.2,\"#de77ae\"],[0.3,\"#f1b6da\"],[0.4,\"#fde0ef\"],[0.5,\"#f7f7f7\"],[0.6,\"#e6f5d0\"],[0.7,\"#b8e186\"],[0.8,\"#7fbc41\"],[0.9,\"#4d9221\"],[1,\"#276419\"]]},\"xaxis\":{\"gridcolor\":\"white\",\"linecolor\":\"white\",\"ticks\":\"\",\"title\":{\"standoff\":15},\"zerolinecolor\":\"white\",\"automargin\":true,\"zerolinewidth\":2},\"yaxis\":{\"gridcolor\":\"white\",\"linecolor\":\"white\",\"ticks\":\"\",\"title\":{\"standoff\":15},\"zerolinecolor\":\"white\",\"automargin\":true,\"zerolinewidth\":2},\"scene\":{\"xaxis\":{\"backgroundcolor\":\"#E5ECF6\",\"gridcolor\":\"white\",\"linecolor\":\"white\",\"showbackground\":true,\"ticks\":\"\",\"zerolinecolor\":\"white\",\"gridwidth\":2},\"yaxis\":{\"backgroundcolor\":\"#E5ECF6\",\"gridcolor\":\"white\",\"linecolor\":\"white\",\"showbackground\":true,\"ticks\":\"\",\"zerolinecolor\":\"white\",\"gridwidth\":2},\"zaxis\":{\"backgroundcolor\":\"#E5ECF6\",\"gridcolor\":\"white\",\"linecolor\":\"white\",\"showbackground\":true,\"ticks\":\"\",\"zerolinecolor\":\"white\",\"gridwidth\":2}},\"shapedefaults\":{\"line\":{\"color\":\"#2a3f5f\"}},\"annotationdefaults\":{\"arrowcolor\":\"#2a3f5f\",\"arrowhead\":0,\"arrowwidth\":1},\"geo\":{\"bgcolor\":\"white\",\"landcolor\":\"#E5ECF6\",\"subunitcolor\":\"white\",\"showland\":true,\"showlakes\":true,\"lakecolor\":\"white\"},\"title\":{\"x\":0.05},\"mapbox\":{\"style\":\"light\"}}},\"title\":{\"text\":\"Customer churn in training data\"},\"plot_bgcolor\":\"rgb(243,243,243)\",\"paper_bgcolor\":\"rgb(243,243,243)\"},                        {\"responsive\": true}                    ).then(function(){\n",
       "                            \n",
       "var gd = document.getElementById('c26e69df-e008-4d01-85f6-6a34a0af2819');\n",
       "var x = new MutationObserver(function (mutations, observer) {{\n",
       "        var display = window.getComputedStyle(gd).display;\n",
       "        if (!display || display === 'none') {{\n",
       "            console.log([gd, 'removed!']);\n",
       "            Plotly.purge(gd);\n",
       "            observer.disconnect();\n",
       "        }}\n",
       "}});\n",
       "\n",
       "// Listen for the removal of the full notebook cells\n",
       "var notebookContainer = gd.closest('#notebook-container');\n",
       "if (notebookContainer) {{\n",
       "    x.observe(notebookContainer, {childList: true});\n",
       "}}\n",
       "\n",
       "// Listen for the clearing of the current output cell\n",
       "var outputEl = gd.closest('.output');\n",
       "if (outputEl) {{\n",
       "    x.observe(outputEl, {childList: true});\n",
       "}}\n",
       "\n",
       "                        })                };                });            </script>        </div>"
      ]
     },
     "metadata": {},
     "output_type": "display_data"
    }
   ],
   "source": [
    "import plotly.graph_objs as go\n",
    "\n",
    "churn_counts = churn_train['Churn'].value_counts()\n",
    "\n",
    "fig = go.Figure(data=[go.Pie(\n",
    "    labels=churn_counts.index,\n",
    "    values=churn_counts.values,\n",
    "    hole=0.5,\n",
    "    marker=dict(colors=['#FF0000', '#d5d7ce'], line=dict(color='white', width=1.3)),\n",
    "    rotation=90,\n",
    "    hoverinfo='label+value+text'\n",
    ")])\n",
    "\n",
    "fig.update_layout(\n",
    "    title=\"Customer churn in training data\",\n",
    "    plot_bgcolor=\"rgb(243,243,243)\",\n",
    "    paper_bgcolor=\"rgb(243,243,243)\"\n",
    ")\n",
    "\n",
    "fig.show()\n"
   ]
  },
  {
   "cell_type": "code",
   "execution_count": null,
   "id": "28afa157",
   "metadata": {},
   "outputs": [],
   "source": [
    "2. Data Processing"
   ]
  },
  {
   "cell_type": "markdown",
   "id": "51055a87",
   "metadata": {},
   "source": [
    "2.1 Data Cleaning"
   ]
  },
  {
   "cell_type": "markdown",
   "id": "51ef609d",
   "metadata": {},
   "source": [
    "**Take away correlated features"
   ]
  },
  {
   "cell_type": "code",
   "execution_count": 8,
   "id": "355b886a",
   "metadata": {},
   "outputs": [
    {
     "name": "stdout",
     "output_type": "stream",
     "text": [
      "                        Account length  Area code  Number vmail messages  \\\n",
      "Account length                1.000000   0.008620               0.002996   \n",
      "Area code                     0.008620   1.000000               0.000584   \n",
      "Number vmail messages         0.002996   0.000584               1.000000   \n",
      "Total day minutes             0.002847   0.023134               0.019027   \n",
      "Total day calls               0.038862   0.009629               0.009622   \n",
      "Total day charge              0.002843   0.023130               0.019027   \n",
      "Total eve minutes             0.015923   0.000679               0.011401   \n",
      "Total eve calls               0.018552   0.018602               0.005131   \n",
      "Total eve charge              0.015909   0.000707               0.011418   \n",
      "Total night minutes           0.008994   0.003353               0.000224   \n",
      "Total night calls             0.024007   0.011455               0.008124   \n",
      "Total night charge            0.008999   0.003382               0.000229   \n",
      "Total intl minutes            0.011369   0.013418               0.004156   \n",
      "Total intl calls              0.017627   0.027423               0.027013   \n",
      "Total intl charge             0.011383   0.013534               0.004136   \n",
      "Customer service calls        0.002455   0.034442               0.018787   \n",
      "Churn                         0.017728   0.001019               0.086474   \n",
      "\n",
      "                        Total day minutes  Total day calls  Total day charge  \\\n",
      "Account length                   0.002847         0.038862          0.002843   \n",
      "Area code                        0.023134         0.009629          0.023130   \n",
      "Number vmail messages            0.019027         0.009622          0.019027   \n",
      "Total day minutes                1.000000         0.016780          1.000000   \n",
      "Total day calls                  0.016780         1.000000          0.016787   \n",
      "Total day charge                 1.000000         0.016787          1.000000   \n",
      "Total eve minutes                0.003999         0.026003          0.004008   \n",
      "Total eve calls                  0.009059         0.006473          0.009056   \n",
      "Total eve charge                 0.003992         0.026006          0.004002   \n",
      "Total night minutes              0.013491         0.008986          0.013495   \n",
      "Total night calls                0.015054         0.016776          0.015057   \n",
      "Total night charge               0.013464         0.008972          0.013468   \n",
      "Total intl minutes               0.011042         0.031036          0.011046   \n",
      "Total intl calls                 0.005687         0.006928          0.005688   \n",
      "Total intl charge                0.010934         0.031133          0.010938   \n",
      "Customer service calls           0.024543         0.011945          0.024548   \n",
      "Churn                            0.195688         0.018290          0.195689   \n",
      "\n",
      "                        Total eve minutes  Total eve calls  Total eve charge  \\\n",
      "Account length                   0.015923         0.018552          0.015909   \n",
      "Area code                        0.000679         0.018602          0.000707   \n",
      "Number vmail messages            0.011401         0.005131          0.011418   \n",
      "Total day minutes                0.003999         0.009059          0.003992   \n",
      "Total day calls                  0.026003         0.006473          0.026006   \n",
      "Total day charge                 0.004008         0.009056          0.004002   \n",
      "Total eve minutes                1.000000         0.007654          1.000000   \n",
      "Total eve calls                  0.007654         1.000000          0.007642   \n",
      "Total eve charge                 1.000000         0.007642          1.000000   \n",
      "Total night minutes              0.013414         0.000175          0.013428   \n",
      "Total night calls                0.009017         0.000797          0.009030   \n",
      "Total night charge               0.013450         0.000135          0.013464   \n",
      "Total intl minutes               0.006915         0.011012          0.006923   \n",
      "Total intl calls                 0.002160         0.003710          0.002169   \n",
      "Total intl charge                0.006947         0.011000          0.006955   \n",
      "Customer service calls           0.013192         0.001058          0.013196   \n",
      "Churn                            0.072906         0.001539          0.072893   \n",
      "\n",
      "                        Total night minutes  Total night calls  \\\n",
      "Account length                     0.008994           0.024007   \n",
      "Area code                          0.003353           0.011455   \n",
      "Number vmail messages              0.000224           0.008124   \n",
      "Total day minutes                  0.013491           0.015054   \n",
      "Total day calls                    0.008986           0.016776   \n",
      "Total day charge                   0.013495           0.015057   \n",
      "Total eve minutes                  0.013414           0.009017   \n",
      "Total eve calls                    0.000175           0.000797   \n",
      "Total eve charge                   0.013428           0.009030   \n",
      "Total night minutes                1.000000           0.012736   \n",
      "Total night calls                  0.012736           1.000000   \n",
      "Total night charge                 0.999999           0.012720   \n",
      "Total intl minutes                 0.008607           0.023447   \n",
      "Total intl calls                   0.001110           0.019367   \n",
      "Total intl charge                  0.008510           0.023434   \n",
      "Customer service calls             0.005236           0.005677   \n",
      "Churn                              0.033639           0.012262   \n",
      "\n",
      "                        Total night charge  Total intl minutes  \\\n",
      "Account length                    0.008999            0.011369   \n",
      "Area code                         0.003382            0.013418   \n",
      "Number vmail messages             0.000229            0.004156   \n",
      "Total day minutes                 0.013464            0.011042   \n",
      "Total day calls                   0.008972            0.031036   \n",
      "Total day charge                  0.013468            0.011046   \n",
      "Total eve minutes                 0.013450            0.006915   \n",
      "Total eve calls                   0.000135            0.011012   \n",
      "Total eve charge                  0.013464            0.006923   \n",
      "Total night minutes               0.999999            0.008607   \n",
      "Total night calls                 0.012720            0.023447   \n",
      "Total night charge                1.000000            0.008615   \n",
      "Total intl minutes                0.008615            1.000000   \n",
      "Total intl calls                  0.001099            0.037315   \n",
      "Total intl charge                 0.008517            0.999993   \n",
      "Customer service calls            0.005257            0.002826   \n",
      "Churn                             0.033635            0.086204   \n",
      "\n",
      "                        Total intl calls  Total intl charge  \\\n",
      "Account length                  0.017627           0.011383   \n",
      "Area code                       0.027423           0.013534   \n",
      "Number vmail messages           0.027013           0.004136   \n",
      "Total day minutes               0.005687           0.010934   \n",
      "Total day calls                 0.006928           0.031133   \n",
      "Total day charge                0.005688           0.010938   \n",
      "Total eve minutes               0.002160           0.006947   \n",
      "Total eve calls                 0.003710           0.011000   \n",
      "Total eve charge                0.002169           0.006955   \n",
      "Total night minutes             0.001110           0.008510   \n",
      "Total night calls               0.019367           0.023434   \n",
      "Total night charge              0.001099           0.008517   \n",
      "Total intl minutes              0.037315           0.999993   \n",
      "Total intl calls                1.000000           0.037363   \n",
      "Total intl charge               0.037363           1.000000   \n",
      "Customer service calls          0.022143           0.002895   \n",
      "Churn                           0.069882           0.086216   \n",
      "\n",
      "                        Customer service calls     Churn  \n",
      "Account length                        0.002455  0.017728  \n",
      "Area code                             0.034442  0.001019  \n",
      "Number vmail messages                 0.018787  0.086474  \n",
      "Total day minutes                     0.024543  0.195688  \n",
      "Total day calls                       0.011945  0.018290  \n",
      "Total day charge                      0.024548  0.195689  \n",
      "Total eve minutes                     0.013192  0.072906  \n",
      "Total eve calls                       0.001058  0.001539  \n",
      "Total eve charge                      0.013196  0.072893  \n",
      "Total night minutes                   0.005236  0.033639  \n",
      "Total night calls                     0.005677  0.012262  \n",
      "Total night charge                    0.005257  0.033635  \n",
      "Total intl minutes                    0.002826  0.086204  \n",
      "Total intl calls                      0.022143  0.069882  \n",
      "Total intl charge                     0.002895  0.086216  \n",
      "Customer service calls                1.000000  0.202590  \n",
      "Churn                                 0.202590  1.000000  \n",
      "\n",
      "CHURN_TRAIN    Account length International plan Voice mail plan  Number vmail messages  \\\n",
      "0             128                 No             Yes                     25   \n",
      "1             107                 No             Yes                     26   \n",
      "2             137                 No              No                      0   \n",
      "3              84                Yes              No                      0   \n",
      "4              75                Yes              No                      0   \n",
      "\n",
      "   Total day minutes  Total day calls  Total eve minutes  Total eve calls  \\\n",
      "0              265.1              110              197.4               99   \n",
      "1              161.6              123              195.5              103   \n",
      "2              243.4              114              121.2              110   \n",
      "3              299.4               71               61.9               88   \n",
      "4              166.7              113              148.3              122   \n",
      "\n",
      "   Total night minutes  Total night calls  Total intl minutes  \\\n",
      "0                244.7                 91                10.0   \n",
      "1                254.4                103                13.7   \n",
      "2                162.6                104                12.2   \n",
      "3                196.9                 89                 6.6   \n",
      "4                186.9                121                10.1   \n",
      "\n",
      "   Total intl calls  Customer service calls  Churn  \n",
      "0                 3                       1  False  \n",
      "1                 3                       1  False  \n",
      "2                 5                       0  False  \n",
      "3                 7                       2  False  \n",
      "4                 3                       3  False  \n",
      "\n",
      "\n",
      "#CHURN_TEST    Account length International plan Voice mail plan  Number vmail messages  \\\n",
      "0             117                 No              No                      0   \n",
      "1              65                 No              No                      0   \n",
      "2             161                 No              No                      0   \n",
      "3             111                 No              No                      0   \n",
      "4              49                 No              No                      0   \n",
      "\n",
      "   Total day minutes  Total day calls  Total eve minutes  Total eve calls  \\\n",
      "0              184.5               97              351.6               80   \n",
      "1              129.1              137              228.5               83   \n",
      "2              332.9               67              317.8               97   \n",
      "3              110.4              103              137.3              102   \n",
      "4              119.3              117              215.1              109   \n",
      "\n",
      "   Total night minutes  Total night calls  Total intl minutes  \\\n",
      "0                215.8                 90                 8.7   \n",
      "1                208.8                111                12.7   \n",
      "2                160.6                128                 5.4   \n",
      "3                189.6                105                 7.7   \n",
      "4                178.7                 90                11.1   \n",
      "\n",
      "   Total intl calls  Customer service calls  Churn  \n",
      "0                 4                       1  False  \n",
      "1                 6                       4   True  \n",
      "2                 9                       4   True  \n",
      "3                 6                       2  False  \n",
      "4                 1                       1  False  \n"
     ]
    }
   ],
   "source": [
    "#Find a redundant features\n",
    "bf_abs=churn_train.corr()\n",
    "af_abs=bf_abs.abs()\n",
    "print(af_abs)\n",
    "#print('\\n Mean Value per Each Features \\n',af_abs.mean())\n",
    "\n",
    "#REMOVING highly correlated features\n",
    "col_to_drop = ['State', 'Area code', 'Total day charge', 'Total eve charge', \n",
    "               'Total night charge', 'Total intl charge']\n",
    "   \n",
    "churn_train = churn_train.drop(columns = col_to_drop, axis = 1)\n",
    "churn_test = churn_test.drop(columns = col_to_drop, axis = 1)\n",
    "\n",
    "#target column\n",
    "target_col = [\"Churn\"]\n",
    "\n",
    "print('\\nCHURN_TRAIN', churn_train.head())\n",
    "print('\\n\\n#CHURN_TEST', churn_test.head())"
   ]
  },
  {
   "cell_type": "markdown",
   "id": "ff3ad866",
   "metadata": {},
   "source": [
    " **Encode Categorical Data"
   ]
  },
  {
   "cell_type": "code",
   "execution_count": 9,
   "id": "33621f3d",
   "metadata": {
    "collapsed": true
   },
   "outputs": [
    {
     "name": "stdout",
     "output_type": "stream",
     "text": [
      "\n",
      "Numeric Columns Check:  ['Account length', 'Number vmail messages', 'Total day minutes', 'Total day calls', 'Total eve minutes', 'Total eve calls', 'Total night minutes', 'Total night calls', 'Total intl minutes', 'Total intl calls', 'Customer service calls']\n",
      "\n",
      "2-value Columns Check: ['International plan', 'Voice mail plan', 'Churn']\n",
      "\n",
      ">2-value Columns Check: []\n",
      "\n",
      "CHURN_TRAIN    Account length  International plan  Voice mail plan  Number vmail messages  \\\n",
      "0             128                   0                1                     25   \n",
      "1             107                   0                1                     26   \n",
      "2             137                   0                0                      0   \n",
      "3              84                   1                0                      0   \n",
      "4              75                   1                0                      0   \n",
      "\n",
      "   Total day minutes  Total day calls  Total eve minutes  Total eve calls  \\\n",
      "0              265.1              110              197.4               99   \n",
      "1              161.6              123              195.5              103   \n",
      "2              243.4              114              121.2              110   \n",
      "3              299.4               71               61.9               88   \n",
      "4              166.7              113              148.3              122   \n",
      "\n",
      "   Total night minutes  Total night calls  Total intl minutes  \\\n",
      "0                244.7                 91                10.0   \n",
      "1                254.4                103                13.7   \n",
      "2                162.6                104                12.2   \n",
      "3                196.9                 89                 6.6   \n",
      "4                186.9                121                10.1   \n",
      "\n",
      "   Total intl calls  Customer service calls  Churn  \n",
      "0                 3                       1      0  \n",
      "1                 3                       1      0  \n",
      "2                 5                       0      0  \n",
      "3                 7                       2      0  \n",
      "4                 3                       3      0  \n",
      "\n",
      "\n",
      "#CHURN_TEST    Account length  International plan  Voice mail plan  Number vmail messages  \\\n",
      "0             117                   0                0                      0   \n",
      "1              65                   0                0                      0   \n",
      "2             161                   0                0                      0   \n",
      "3             111                   0                0                      0   \n",
      "4              49                   0                0                      0   \n",
      "\n",
      "   Total day minutes  Total day calls  Total eve minutes  Total eve calls  \\\n",
      "0              184.5               97              351.6               80   \n",
      "1              129.1              137              228.5               83   \n",
      "2              332.9               67              317.8               97   \n",
      "3              110.4              103              137.3              102   \n",
      "4              119.3              117              215.1              109   \n",
      "\n",
      "   Total night minutes  Total night calls  Total intl minutes  \\\n",
      "0                215.8                 90                 8.7   \n",
      "1                208.8                111                12.7   \n",
      "2                160.6                128                 5.4   \n",
      "3                189.6                105                 7.7   \n",
      "4                178.7                 90                11.1   \n",
      "\n",
      "   Total intl calls  Customer service calls  Churn  \n",
      "0                 4                       1      0  \n",
      "1                 6                       4      1  \n",
      "2                 9                       4      1  \n",
      "3                 6                       2      0  \n",
      "4                 1                       1      0  \n"
     ]
    }
   ],
   "source": [
    "#Separating categorical and numerical columns\n",
    "#number of levels in feature to be a categorical feature\n",
    "nlevels = 6\n",
    "#categorical columns\n",
    "cat_cols = list(set(churn_train.nunique()[churn_train.nunique()<nlevels].keys().tolist() \n",
    "                    + churn_train.select_dtypes(include='object').columns.tolist()))\n",
    "cat_cols = [x for x in cat_cols if x not in target_col]\n",
    "#numerical columns\n",
    "num_cols = [x for x in churn_train.columns if x not in cat_cols + target_col]\n",
    "print('\\nNumeric Columns Check: ',num_cols)\n",
    "\n",
    "#SPLITING COLUMN: Binary & Multi-value\n",
    "#Binary columns with 2 values\n",
    "binary_cols = churn_train.nunique()[churn_train.nunique() == 2].keys().tolist()\n",
    "print('\\n2-value Columns Check:',binary_cols)\n",
    "#Mutli-value Columns more than 2 values\n",
    "multi_cols = [i for i in cat_cols if i not in binary_cols]\n",
    "print('\\n>2-value Columns Check:',multi_cols)\n",
    "\n",
    "#2 METHODS to ENCODE\n",
    "#ENCODING PROCESS by Label method for Binary columns on test& train data\n",
    "le = LabelEncoder()\n",
    "for i in binary_cols:\n",
    "    churn_train[i] = le.fit_transform(churn_train[i])\n",
    "    churn_test[i] = le.transform(churn_test[i])\n",
    "\n",
    "#ENCODING PROCESS by get_dummies for multi-value columns\n",
    "#combining the train and test datasets\n",
    "trainsize = churn_train.shape[0]\n",
    "combine = pd.concat((churn_train, churn_test), sort=False)\n",
    "\n",
    "#Encode for multi value columns by get_dummies()\n",
    "combine = pd.get_dummies(data = combine, columns = multi_cols)\n",
    "\n",
    "#split the train and test datasets\n",
    "churn_train= combine[:trainsize]\n",
    "churn_test= combine[trainsize:]\n",
    "\n",
    "\n",
    "print('\\nCHURN_TRAIN', churn_train.head())\n",
    "print('\\n\\n#CHURN_TEST', churn_test.head())\n"
   ]
  },
  {
   "cell_type": "markdown",
   "id": "6746597f",
   "metadata": {},
   "source": [
    "2.2 Data Transformation: Scaling Method"
   ]
  },
  {
   "cell_type": "code",
   "execution_count": 3,
   "id": "5a70bdef",
   "metadata": {},
   "outputs": [
    {
     "ename": "NameError",
     "evalue": "name 'churn_train' is not defined",
     "output_type": "error",
     "traceback": [
      "\u001b[0;31m---------------------------------------------------------------------------\u001b[0m",
      "\u001b[0;31mNameError\u001b[0m                                 Traceback (most recent call last)",
      "\u001b[0;32m/var/folders/q4/599_9y312tq2r68dy826djjr0000gn/T/ipykernel_55546/3431070179.py\u001b[0m in \u001b[0;36m<module>\u001b[0;34m\u001b[0m\n\u001b[1;32m      4\u001b[0m \u001b[0;31m# on Training Data\u001b[0m\u001b[0;34m\u001b[0m\u001b[0;34m\u001b[0m\u001b[0m\n\u001b[1;32m      5\u001b[0m \u001b[0mscaler\u001b[0m \u001b[0;34m=\u001b[0m \u001b[0mMinMaxScaler\u001b[0m\u001b[0;34m(\u001b[0m\u001b[0;34m)\u001b[0m\u001b[0;34m\u001b[0m\u001b[0;34m\u001b[0m\u001b[0m\n\u001b[0;32m----> 6\u001b[0;31m \u001b[0mscaled\u001b[0m \u001b[0;34m=\u001b[0m \u001b[0mscaler\u001b[0m\u001b[0;34m.\u001b[0m\u001b[0mfit_transform\u001b[0m\u001b[0;34m(\u001b[0m\u001b[0mchurn_train\u001b[0m\u001b[0;34m[\u001b[0m\u001b[0mnum_cols\u001b[0m\u001b[0;34m]\u001b[0m\u001b[0;34m)\u001b[0m\u001b[0;34m\u001b[0m\u001b[0;34m\u001b[0m\u001b[0m\n\u001b[0m\u001b[1;32m      7\u001b[0m \u001b[0mscaled\u001b[0m \u001b[0;34m=\u001b[0m \u001b[0mpd\u001b[0m\u001b[0;34m.\u001b[0m\u001b[0mDataFrame\u001b[0m\u001b[0;34m(\u001b[0m\u001b[0mscaled\u001b[0m\u001b[0;34m,\u001b[0m \u001b[0mcolumns\u001b[0m\u001b[0;34m=\u001b[0m\u001b[0mnum_cols\u001b[0m\u001b[0;34m)\u001b[0m\u001b[0;34m\u001b[0m\u001b[0;34m\u001b[0m\u001b[0m\n\u001b[1;32m      8\u001b[0m \u001b[0;34m\u001b[0m\u001b[0m\n",
      "\u001b[0;31mNameError\u001b[0m: name 'churn_train' is not defined"
     ]
    }
   ],
   "source": [
    "from sklearn.preprocessing import MinMaxScaler\n",
    "\n",
    "# Scaling Numerical columns\n",
    "# on Training Data\n",
    "scaler = MinMaxScaler()\n",
    "scaled = scaler.fit_transform(churn_train[num_cols])\n",
    "scaled = pd.DataFrame(scaled, columns=num_cols)\n",
    "\n",
    "# on Testing Data\n",
    "scaled_test = scaler.transform(churn_test[num_cols])\n",
    "scaled_test = pd.DataFrame(scaled_test, columns=num_cols)\n",
    "\n",
    "# dropping original---not scaled values---merging scaled values for numerical columns\n",
    "# on Training Data\n",
    "df_telcom_ogrin = churn_train.copy()\n",
    "churn_train = churn_train.drop(columns=num_cols, axis=1)\n",
    "churn_train = churn_train.merge(scaled, left_index=True, right_index=True, how=\"left\")\n",
    "\n",
    "# on Testing Data\n",
    "df_telcom_test_og = churn_test.copy()\n",
    "churn_test = churn_test.drop(columns=num_cols, axis=1)\n",
    "churn_test = churn_test.merge(scaled_test, left_index=True, right_index=True, how=\"left\")\n",
    "\n",
    "print('\\nCHURN_TRAIN', churn_train.head())\n",
    "print('\\n\\n#CHURN_TEST', churn_test.head())\n"
   ]
  },
  {
   "cell_type": "markdown",
   "id": "b9822161",
   "metadata": {},
   "source": [
    "2.3 Variable Summary after Preprocessing Stage"
   ]
  },
  {
   "cell_type": "markdown",
   "id": "89acf1b0",
   "metadata": {},
   "source": [
    "**Table Summary"
   ]
  },
  {
   "cell_type": "code",
   "execution_count": 10,
   "id": "2db98f07",
   "metadata": {},
   "outputs": [
    {
     "data": {
      "application/vnd.plotly.v1+json": {
       "config": {
        "linkText": "Export to plot.ly",
        "plotlyServerURL": "https://plot.ly",
        "showLink": false
       },
       "data": [
        {
         "cells": {
          "align": "left",
          "fill": {
           "color": "#d5d7ce"
          },
          "values": [
           [
            "Account length",
            "International plan",
            "Voice mail plan",
            "Number vmail messages",
            "Total day minutes",
            "Total day calls",
            "Total eve minutes",
            "Total eve calls",
            "Total night minutes",
            "Total night calls",
            "Total intl minutes",
            "Total intl calls",
            "Customer service calls",
            "Churn"
           ],
           [
            2666,
            2666,
            2666,
            2666,
            2666,
            2666,
            2666,
            2666,
            2666,
            2666,
            2666,
            2666,
            2666,
            2666
           ],
           [
            100.62040510127532,
            0.10127531882970743,
            0.27494373593398347,
            8.021755438859715,
            179.48162040510135,
            100.31020255063765,
            200.38615903976006,
            100.02363090772693,
            201.16894223555968,
            100.10615153788447,
            10.23702175543886,
            4.467366841710428,
            1.5626406601650413,
            0.145536384096024
           ],
           [
            39.56397365334971,
            0.30174953514000513,
            0.44656968200460173,
            13.612277018291671,
            54.210350220869856,
            19.98816218605952,
            50.95151511764593,
            20.161445115318873,
            50.78032336872526,
            19.418458551101722,
            2.7883485770512655,
            2.45619490301294,
            1.311235758994902,
            0.35270697114419036
           ],
           [
            1,
            0,
            0,
            0,
            0,
            0,
            0,
            0,
            43.7,
            33,
            0,
            0,
            0,
            0
           ],
           [
            73,
            0,
            0,
            0,
            143.4,
            87,
            165.3,
            87,
            166.925,
            87,
            8.5,
            3,
            1,
            0
           ],
           [
            100,
            0,
            0,
            0,
            179.95,
            101,
            200.9,
            100,
            201.14999999999998,
            100,
            10.2,
            4,
            1,
            0
           ],
           [
            127,
            0,
            1,
            19,
            215.9,
            114,
            235.1,
            114,
            236.475,
            113,
            12.1,
            6,
            2,
            0
           ],
           [
            243,
            1,
            1,
            50,
            350.8,
            160,
            363.7,
            170,
            395,
            166,
            20,
            20,
            9,
            1
           ]
          ]
         },
         "header": {
          "align": "left",
          "fill": {
           "color": "#FF0000"
          },
          "values": [
           "feature",
           "count",
           "mean",
           "std",
           "min",
           "25%",
           "50%",
           "75%",
           "max"
          ]
         },
         "type": "table"
        }
       ],
       "layout": {
        "template": {
         "data": {
          "bar": [
           {
            "error_x": {
             "color": "#2a3f5f"
            },
            "error_y": {
             "color": "#2a3f5f"
            },
            "marker": {
             "line": {
              "color": "#E5ECF6",
              "width": 0.5
             },
             "pattern": {
              "fillmode": "overlay",
              "size": 10,
              "solidity": 0.2
             }
            },
            "type": "bar"
           }
          ],
          "barpolar": [
           {
            "marker": {
             "line": {
              "color": "#E5ECF6",
              "width": 0.5
             },
             "pattern": {
              "fillmode": "overlay",
              "size": 10,
              "solidity": 0.2
             }
            },
            "type": "barpolar"
           }
          ],
          "carpet": [
           {
            "aaxis": {
             "endlinecolor": "#2a3f5f",
             "gridcolor": "white",
             "linecolor": "white",
             "minorgridcolor": "white",
             "startlinecolor": "#2a3f5f"
            },
            "baxis": {
             "endlinecolor": "#2a3f5f",
             "gridcolor": "white",
             "linecolor": "white",
             "minorgridcolor": "white",
             "startlinecolor": "#2a3f5f"
            },
            "type": "carpet"
           }
          ],
          "choropleth": [
           {
            "colorbar": {
             "outlinewidth": 0,
             "ticks": ""
            },
            "type": "choropleth"
           }
          ],
          "contour": [
           {
            "colorbar": {
             "outlinewidth": 0,
             "ticks": ""
            },
            "colorscale": [
             [
              0,
              "#0d0887"
             ],
             [
              0.1111111111111111,
              "#46039f"
             ],
             [
              0.2222222222222222,
              "#7201a8"
             ],
             [
              0.3333333333333333,
              "#9c179e"
             ],
             [
              0.4444444444444444,
              "#bd3786"
             ],
             [
              0.5555555555555556,
              "#d8576b"
             ],
             [
              0.6666666666666666,
              "#ed7953"
             ],
             [
              0.7777777777777778,
              "#fb9f3a"
             ],
             [
              0.8888888888888888,
              "#fdca26"
             ],
             [
              1,
              "#f0f921"
             ]
            ],
            "type": "contour"
           }
          ],
          "contourcarpet": [
           {
            "colorbar": {
             "outlinewidth": 0,
             "ticks": ""
            },
            "type": "contourcarpet"
           }
          ],
          "heatmap": [
           {
            "colorbar": {
             "outlinewidth": 0,
             "ticks": ""
            },
            "colorscale": [
             [
              0,
              "#0d0887"
             ],
             [
              0.1111111111111111,
              "#46039f"
             ],
             [
              0.2222222222222222,
              "#7201a8"
             ],
             [
              0.3333333333333333,
              "#9c179e"
             ],
             [
              0.4444444444444444,
              "#bd3786"
             ],
             [
              0.5555555555555556,
              "#d8576b"
             ],
             [
              0.6666666666666666,
              "#ed7953"
             ],
             [
              0.7777777777777778,
              "#fb9f3a"
             ],
             [
              0.8888888888888888,
              "#fdca26"
             ],
             [
              1,
              "#f0f921"
             ]
            ],
            "type": "heatmap"
           }
          ],
          "heatmapgl": [
           {
            "colorbar": {
             "outlinewidth": 0,
             "ticks": ""
            },
            "colorscale": [
             [
              0,
              "#0d0887"
             ],
             [
              0.1111111111111111,
              "#46039f"
             ],
             [
              0.2222222222222222,
              "#7201a8"
             ],
             [
              0.3333333333333333,
              "#9c179e"
             ],
             [
              0.4444444444444444,
              "#bd3786"
             ],
             [
              0.5555555555555556,
              "#d8576b"
             ],
             [
              0.6666666666666666,
              "#ed7953"
             ],
             [
              0.7777777777777778,
              "#fb9f3a"
             ],
             [
              0.8888888888888888,
              "#fdca26"
             ],
             [
              1,
              "#f0f921"
             ]
            ],
            "type": "heatmapgl"
           }
          ],
          "histogram": [
           {
            "marker": {
             "pattern": {
              "fillmode": "overlay",
              "size": 10,
              "solidity": 0.2
             }
            },
            "type": "histogram"
           }
          ],
          "histogram2d": [
           {
            "colorbar": {
             "outlinewidth": 0,
             "ticks": ""
            },
            "colorscale": [
             [
              0,
              "#0d0887"
             ],
             [
              0.1111111111111111,
              "#46039f"
             ],
             [
              0.2222222222222222,
              "#7201a8"
             ],
             [
              0.3333333333333333,
              "#9c179e"
             ],
             [
              0.4444444444444444,
              "#bd3786"
             ],
             [
              0.5555555555555556,
              "#d8576b"
             ],
             [
              0.6666666666666666,
              "#ed7953"
             ],
             [
              0.7777777777777778,
              "#fb9f3a"
             ],
             [
              0.8888888888888888,
              "#fdca26"
             ],
             [
              1,
              "#f0f921"
             ]
            ],
            "type": "histogram2d"
           }
          ],
          "histogram2dcontour": [
           {
            "colorbar": {
             "outlinewidth": 0,
             "ticks": ""
            },
            "colorscale": [
             [
              0,
              "#0d0887"
             ],
             [
              0.1111111111111111,
              "#46039f"
             ],
             [
              0.2222222222222222,
              "#7201a8"
             ],
             [
              0.3333333333333333,
              "#9c179e"
             ],
             [
              0.4444444444444444,
              "#bd3786"
             ],
             [
              0.5555555555555556,
              "#d8576b"
             ],
             [
              0.6666666666666666,
              "#ed7953"
             ],
             [
              0.7777777777777778,
              "#fb9f3a"
             ],
             [
              0.8888888888888888,
              "#fdca26"
             ],
             [
              1,
              "#f0f921"
             ]
            ],
            "type": "histogram2dcontour"
           }
          ],
          "mesh3d": [
           {
            "colorbar": {
             "outlinewidth": 0,
             "ticks": ""
            },
            "type": "mesh3d"
           }
          ],
          "parcoords": [
           {
            "line": {
             "colorbar": {
              "outlinewidth": 0,
              "ticks": ""
             }
            },
            "type": "parcoords"
           }
          ],
          "pie": [
           {
            "automargin": true,
            "type": "pie"
           }
          ],
          "scatter": [
           {
            "fillpattern": {
             "fillmode": "overlay",
             "size": 10,
             "solidity": 0.2
            },
            "type": "scatter"
           }
          ],
          "scatter3d": [
           {
            "line": {
             "colorbar": {
              "outlinewidth": 0,
              "ticks": ""
             }
            },
            "marker": {
             "colorbar": {
              "outlinewidth": 0,
              "ticks": ""
             }
            },
            "type": "scatter3d"
           }
          ],
          "scattercarpet": [
           {
            "marker": {
             "colorbar": {
              "outlinewidth": 0,
              "ticks": ""
             }
            },
            "type": "scattercarpet"
           }
          ],
          "scattergeo": [
           {
            "marker": {
             "colorbar": {
              "outlinewidth": 0,
              "ticks": ""
             }
            },
            "type": "scattergeo"
           }
          ],
          "scattergl": [
           {
            "marker": {
             "colorbar": {
              "outlinewidth": 0,
              "ticks": ""
             }
            },
            "type": "scattergl"
           }
          ],
          "scattermapbox": [
           {
            "marker": {
             "colorbar": {
              "outlinewidth": 0,
              "ticks": ""
             }
            },
            "type": "scattermapbox"
           }
          ],
          "scatterpolar": [
           {
            "marker": {
             "colorbar": {
              "outlinewidth": 0,
              "ticks": ""
             }
            },
            "type": "scatterpolar"
           }
          ],
          "scatterpolargl": [
           {
            "marker": {
             "colorbar": {
              "outlinewidth": 0,
              "ticks": ""
             }
            },
            "type": "scatterpolargl"
           }
          ],
          "scatterternary": [
           {
            "marker": {
             "colorbar": {
              "outlinewidth": 0,
              "ticks": ""
             }
            },
            "type": "scatterternary"
           }
          ],
          "surface": [
           {
            "colorbar": {
             "outlinewidth": 0,
             "ticks": ""
            },
            "colorscale": [
             [
              0,
              "#0d0887"
             ],
             [
              0.1111111111111111,
              "#46039f"
             ],
             [
              0.2222222222222222,
              "#7201a8"
             ],
             [
              0.3333333333333333,
              "#9c179e"
             ],
             [
              0.4444444444444444,
              "#bd3786"
             ],
             [
              0.5555555555555556,
              "#d8576b"
             ],
             [
              0.6666666666666666,
              "#ed7953"
             ],
             [
              0.7777777777777778,
              "#fb9f3a"
             ],
             [
              0.8888888888888888,
              "#fdca26"
             ],
             [
              1,
              "#f0f921"
             ]
            ],
            "type": "surface"
           }
          ],
          "table": [
           {
            "cells": {
             "fill": {
              "color": "#EBF0F8"
             },
             "line": {
              "color": "white"
             }
            },
            "header": {
             "fill": {
              "color": "#C8D4E3"
             },
             "line": {
              "color": "white"
             }
            },
            "type": "table"
           }
          ]
         },
         "layout": {
          "annotationdefaults": {
           "arrowcolor": "#2a3f5f",
           "arrowhead": 0,
           "arrowwidth": 1
          },
          "autotypenumbers": "strict",
          "coloraxis": {
           "colorbar": {
            "outlinewidth": 0,
            "ticks": ""
           }
          },
          "colorscale": {
           "diverging": [
            [
             0,
             "#8e0152"
            ],
            [
             0.1,
             "#c51b7d"
            ],
            [
             0.2,
             "#de77ae"
            ],
            [
             0.3,
             "#f1b6da"
            ],
            [
             0.4,
             "#fde0ef"
            ],
            [
             0.5,
             "#f7f7f7"
            ],
            [
             0.6,
             "#e6f5d0"
            ],
            [
             0.7,
             "#b8e186"
            ],
            [
             0.8,
             "#7fbc41"
            ],
            [
             0.9,
             "#4d9221"
            ],
            [
             1,
             "#276419"
            ]
           ],
           "sequential": [
            [
             0,
             "#0d0887"
            ],
            [
             0.1111111111111111,
             "#46039f"
            ],
            [
             0.2222222222222222,
             "#7201a8"
            ],
            [
             0.3333333333333333,
             "#9c179e"
            ],
            [
             0.4444444444444444,
             "#bd3786"
            ],
            [
             0.5555555555555556,
             "#d8576b"
            ],
            [
             0.6666666666666666,
             "#ed7953"
            ],
            [
             0.7777777777777778,
             "#fb9f3a"
            ],
            [
             0.8888888888888888,
             "#fdca26"
            ],
            [
             1,
             "#f0f921"
            ]
           ],
           "sequentialminus": [
            [
             0,
             "#0d0887"
            ],
            [
             0.1111111111111111,
             "#46039f"
            ],
            [
             0.2222222222222222,
             "#7201a8"
            ],
            [
             0.3333333333333333,
             "#9c179e"
            ],
            [
             0.4444444444444444,
             "#bd3786"
            ],
            [
             0.5555555555555556,
             "#d8576b"
            ],
            [
             0.6666666666666666,
             "#ed7953"
            ],
            [
             0.7777777777777778,
             "#fb9f3a"
            ],
            [
             0.8888888888888888,
             "#fdca26"
            ],
            [
             1,
             "#f0f921"
            ]
           ]
          },
          "colorway": [
           "#636efa",
           "#EF553B",
           "#00cc96",
           "#ab63fa",
           "#FFA15A",
           "#19d3f3",
           "#FF6692",
           "#B6E880",
           "#FF97FF",
           "#FECB52"
          ],
          "font": {
           "color": "#2a3f5f"
          },
          "geo": {
           "bgcolor": "white",
           "lakecolor": "white",
           "landcolor": "#E5ECF6",
           "showlakes": true,
           "showland": true,
           "subunitcolor": "white"
          },
          "hoverlabel": {
           "align": "left"
          },
          "hovermode": "closest",
          "mapbox": {
           "style": "light"
          },
          "paper_bgcolor": "white",
          "plot_bgcolor": "#E5ECF6",
          "polar": {
           "angularaxis": {
            "gridcolor": "white",
            "linecolor": "white",
            "ticks": ""
           },
           "bgcolor": "#E5ECF6",
           "radialaxis": {
            "gridcolor": "white",
            "linecolor": "white",
            "ticks": ""
           }
          },
          "scene": {
           "xaxis": {
            "backgroundcolor": "#E5ECF6",
            "gridcolor": "white",
            "gridwidth": 2,
            "linecolor": "white",
            "showbackground": true,
            "ticks": "",
            "zerolinecolor": "white"
           },
           "yaxis": {
            "backgroundcolor": "#E5ECF6",
            "gridcolor": "white",
            "gridwidth": 2,
            "linecolor": "white",
            "showbackground": true,
            "ticks": "",
            "zerolinecolor": "white"
           },
           "zaxis": {
            "backgroundcolor": "#E5ECF6",
            "gridcolor": "white",
            "gridwidth": 2,
            "linecolor": "white",
            "showbackground": true,
            "ticks": "",
            "zerolinecolor": "white"
           }
          },
          "shapedefaults": {
           "line": {
            "color": "#2a3f5f"
           }
          },
          "ternary": {
           "aaxis": {
            "gridcolor": "white",
            "linecolor": "white",
            "ticks": ""
           },
           "baxis": {
            "gridcolor": "white",
            "linecolor": "white",
            "ticks": ""
           },
           "bgcolor": "#E5ECF6",
           "caxis": {
            "gridcolor": "white",
            "linecolor": "white",
            "ticks": ""
           }
          },
          "title": {
           "x": 0.05
          },
          "xaxis": {
           "automargin": true,
           "gridcolor": "white",
           "linecolor": "white",
           "ticks": "",
           "title": {
            "standoff": 15
           },
           "zerolinecolor": "white",
           "zerolinewidth": 2
          },
          "yaxis": {
           "automargin": true,
           "gridcolor": "white",
           "linecolor": "white",
           "ticks": "",
           "title": {
            "standoff": 15
           },
           "zerolinecolor": "white",
           "zerolinewidth": 2
          }
         }
        },
        "title": {
         "text": "Training variable Summary"
        }
       }
      },
      "text/html": [
       "<div>                            <div id=\"41ed315c-5d9b-4f91-9dd1-cfb7b4205ee3\" class=\"plotly-graph-div\" style=\"height:525px; width:100%;\"></div>            <script type=\"text/javascript\">                require([\"plotly\"], function(Plotly) {                    window.PLOTLYENV=window.PLOTLYENV || {};                                    if (document.getElementById(\"41ed315c-5d9b-4f91-9dd1-cfb7b4205ee3\")) {                    Plotly.newPlot(                        \"41ed315c-5d9b-4f91-9dd1-cfb7b4205ee3\",                        [{\"cells\":{\"align\":\"left\",\"fill\":{\"color\":\"#d5d7ce\"},\"values\":[[\"Account length\",\"International plan\",\"Voice mail plan\",\"Number vmail messages\",\"Total day minutes\",\"Total day calls\",\"Total eve minutes\",\"Total eve calls\",\"Total night minutes\",\"Total night calls\",\"Total intl minutes\",\"Total intl calls\",\"Customer service calls\",\"Churn\"],[2666.0,2666.0,2666.0,2666.0,2666.0,2666.0,2666.0,2666.0,2666.0,2666.0,2666.0,2666.0,2666.0,2666.0],[100.62040510127532,0.10127531882970743,0.27494373593398347,8.021755438859715,179.48162040510135,100.31020255063765,200.38615903976006,100.02363090772693,201.16894223555968,100.10615153788447,10.23702175543886,4.467366841710428,1.5626406601650413,0.145536384096024],[39.56397365334971,0.30174953514000513,0.44656968200460173,13.612277018291671,54.210350220869856,19.98816218605952,50.95151511764593,20.161445115318873,50.78032336872526,19.418458551101722,2.7883485770512655,2.45619490301294,1.311235758994902,0.35270697114419036],[1.0,0.0,0.0,0.0,0.0,0.0,0.0,0.0,43.7,33.0,0.0,0.0,0.0,0.0],[73.0,0.0,0.0,0.0,143.4,87.0,165.3,87.0,166.925,87.0,8.5,3.0,1.0,0.0],[100.0,0.0,0.0,0.0,179.95,101.0,200.9,100.0,201.14999999999998,100.0,10.2,4.0,1.0,0.0],[127.0,0.0,1.0,19.0,215.9,114.0,235.1,114.0,236.475,113.0,12.1,6.0,2.0,0.0],[243.0,1.0,1.0,50.0,350.8,160.0,363.7,170.0,395.0,166.0,20.0,20.0,9.0,1.0]]},\"header\":{\"align\":\"left\",\"fill\":{\"color\":\"#FF0000\"},\"values\":[\"feature\",\"count\",\"mean\",\"std\",\"min\",\"25%\",\"50%\",\"75%\",\"max\"]},\"type\":\"table\"}],                        {\"template\":{\"data\":{\"barpolar\":[{\"marker\":{\"line\":{\"color\":\"#E5ECF6\",\"width\":0.5},\"pattern\":{\"fillmode\":\"overlay\",\"size\":10,\"solidity\":0.2}},\"type\":\"barpolar\"}],\"bar\":[{\"error_x\":{\"color\":\"#2a3f5f\"},\"error_y\":{\"color\":\"#2a3f5f\"},\"marker\":{\"line\":{\"color\":\"#E5ECF6\",\"width\":0.5},\"pattern\":{\"fillmode\":\"overlay\",\"size\":10,\"solidity\":0.2}},\"type\":\"bar\"}],\"carpet\":[{\"aaxis\":{\"endlinecolor\":\"#2a3f5f\",\"gridcolor\":\"white\",\"linecolor\":\"white\",\"minorgridcolor\":\"white\",\"startlinecolor\":\"#2a3f5f\"},\"baxis\":{\"endlinecolor\":\"#2a3f5f\",\"gridcolor\":\"white\",\"linecolor\":\"white\",\"minorgridcolor\":\"white\",\"startlinecolor\":\"#2a3f5f\"},\"type\":\"carpet\"}],\"choropleth\":[{\"colorbar\":{\"outlinewidth\":0,\"ticks\":\"\"},\"type\":\"choropleth\"}],\"contourcarpet\":[{\"colorbar\":{\"outlinewidth\":0,\"ticks\":\"\"},\"type\":\"contourcarpet\"}],\"contour\":[{\"colorbar\":{\"outlinewidth\":0,\"ticks\":\"\"},\"colorscale\":[[0.0,\"#0d0887\"],[0.1111111111111111,\"#46039f\"],[0.2222222222222222,\"#7201a8\"],[0.3333333333333333,\"#9c179e\"],[0.4444444444444444,\"#bd3786\"],[0.5555555555555556,\"#d8576b\"],[0.6666666666666666,\"#ed7953\"],[0.7777777777777778,\"#fb9f3a\"],[0.8888888888888888,\"#fdca26\"],[1.0,\"#f0f921\"]],\"type\":\"contour\"}],\"heatmapgl\":[{\"colorbar\":{\"outlinewidth\":0,\"ticks\":\"\"},\"colorscale\":[[0.0,\"#0d0887\"],[0.1111111111111111,\"#46039f\"],[0.2222222222222222,\"#7201a8\"],[0.3333333333333333,\"#9c179e\"],[0.4444444444444444,\"#bd3786\"],[0.5555555555555556,\"#d8576b\"],[0.6666666666666666,\"#ed7953\"],[0.7777777777777778,\"#fb9f3a\"],[0.8888888888888888,\"#fdca26\"],[1.0,\"#f0f921\"]],\"type\":\"heatmapgl\"}],\"heatmap\":[{\"colorbar\":{\"outlinewidth\":0,\"ticks\":\"\"},\"colorscale\":[[0.0,\"#0d0887\"],[0.1111111111111111,\"#46039f\"],[0.2222222222222222,\"#7201a8\"],[0.3333333333333333,\"#9c179e\"],[0.4444444444444444,\"#bd3786\"],[0.5555555555555556,\"#d8576b\"],[0.6666666666666666,\"#ed7953\"],[0.7777777777777778,\"#fb9f3a\"],[0.8888888888888888,\"#fdca26\"],[1.0,\"#f0f921\"]],\"type\":\"heatmap\"}],\"histogram2dcontour\":[{\"colorbar\":{\"outlinewidth\":0,\"ticks\":\"\"},\"colorscale\":[[0.0,\"#0d0887\"],[0.1111111111111111,\"#46039f\"],[0.2222222222222222,\"#7201a8\"],[0.3333333333333333,\"#9c179e\"],[0.4444444444444444,\"#bd3786\"],[0.5555555555555556,\"#d8576b\"],[0.6666666666666666,\"#ed7953\"],[0.7777777777777778,\"#fb9f3a\"],[0.8888888888888888,\"#fdca26\"],[1.0,\"#f0f921\"]],\"type\":\"histogram2dcontour\"}],\"histogram2d\":[{\"colorbar\":{\"outlinewidth\":0,\"ticks\":\"\"},\"colorscale\":[[0.0,\"#0d0887\"],[0.1111111111111111,\"#46039f\"],[0.2222222222222222,\"#7201a8\"],[0.3333333333333333,\"#9c179e\"],[0.4444444444444444,\"#bd3786\"],[0.5555555555555556,\"#d8576b\"],[0.6666666666666666,\"#ed7953\"],[0.7777777777777778,\"#fb9f3a\"],[0.8888888888888888,\"#fdca26\"],[1.0,\"#f0f921\"]],\"type\":\"histogram2d\"}],\"histogram\":[{\"marker\":{\"pattern\":{\"fillmode\":\"overlay\",\"size\":10,\"solidity\":0.2}},\"type\":\"histogram\"}],\"mesh3d\":[{\"colorbar\":{\"outlinewidth\":0,\"ticks\":\"\"},\"type\":\"mesh3d\"}],\"parcoords\":[{\"line\":{\"colorbar\":{\"outlinewidth\":0,\"ticks\":\"\"}},\"type\":\"parcoords\"}],\"pie\":[{\"automargin\":true,\"type\":\"pie\"}],\"scatter3d\":[{\"line\":{\"colorbar\":{\"outlinewidth\":0,\"ticks\":\"\"}},\"marker\":{\"colorbar\":{\"outlinewidth\":0,\"ticks\":\"\"}},\"type\":\"scatter3d\"}],\"scattercarpet\":[{\"marker\":{\"colorbar\":{\"outlinewidth\":0,\"ticks\":\"\"}},\"type\":\"scattercarpet\"}],\"scattergeo\":[{\"marker\":{\"colorbar\":{\"outlinewidth\":0,\"ticks\":\"\"}},\"type\":\"scattergeo\"}],\"scattergl\":[{\"marker\":{\"colorbar\":{\"outlinewidth\":0,\"ticks\":\"\"}},\"type\":\"scattergl\"}],\"scattermapbox\":[{\"marker\":{\"colorbar\":{\"outlinewidth\":0,\"ticks\":\"\"}},\"type\":\"scattermapbox\"}],\"scatterpolargl\":[{\"marker\":{\"colorbar\":{\"outlinewidth\":0,\"ticks\":\"\"}},\"type\":\"scatterpolargl\"}],\"scatterpolar\":[{\"marker\":{\"colorbar\":{\"outlinewidth\":0,\"ticks\":\"\"}},\"type\":\"scatterpolar\"}],\"scatter\":[{\"fillpattern\":{\"fillmode\":\"overlay\",\"size\":10,\"solidity\":0.2},\"type\":\"scatter\"}],\"scatterternary\":[{\"marker\":{\"colorbar\":{\"outlinewidth\":0,\"ticks\":\"\"}},\"type\":\"scatterternary\"}],\"surface\":[{\"colorbar\":{\"outlinewidth\":0,\"ticks\":\"\"},\"colorscale\":[[0.0,\"#0d0887\"],[0.1111111111111111,\"#46039f\"],[0.2222222222222222,\"#7201a8\"],[0.3333333333333333,\"#9c179e\"],[0.4444444444444444,\"#bd3786\"],[0.5555555555555556,\"#d8576b\"],[0.6666666666666666,\"#ed7953\"],[0.7777777777777778,\"#fb9f3a\"],[0.8888888888888888,\"#fdca26\"],[1.0,\"#f0f921\"]],\"type\":\"surface\"}],\"table\":[{\"cells\":{\"fill\":{\"color\":\"#EBF0F8\"},\"line\":{\"color\":\"white\"}},\"header\":{\"fill\":{\"color\":\"#C8D4E3\"},\"line\":{\"color\":\"white\"}},\"type\":\"table\"}]},\"layout\":{\"annotationdefaults\":{\"arrowcolor\":\"#2a3f5f\",\"arrowhead\":0,\"arrowwidth\":1},\"autotypenumbers\":\"strict\",\"coloraxis\":{\"colorbar\":{\"outlinewidth\":0,\"ticks\":\"\"}},\"colorscale\":{\"diverging\":[[0,\"#8e0152\"],[0.1,\"#c51b7d\"],[0.2,\"#de77ae\"],[0.3,\"#f1b6da\"],[0.4,\"#fde0ef\"],[0.5,\"#f7f7f7\"],[0.6,\"#e6f5d0\"],[0.7,\"#b8e186\"],[0.8,\"#7fbc41\"],[0.9,\"#4d9221\"],[1,\"#276419\"]],\"sequential\":[[0.0,\"#0d0887\"],[0.1111111111111111,\"#46039f\"],[0.2222222222222222,\"#7201a8\"],[0.3333333333333333,\"#9c179e\"],[0.4444444444444444,\"#bd3786\"],[0.5555555555555556,\"#d8576b\"],[0.6666666666666666,\"#ed7953\"],[0.7777777777777778,\"#fb9f3a\"],[0.8888888888888888,\"#fdca26\"],[1.0,\"#f0f921\"]],\"sequentialminus\":[[0.0,\"#0d0887\"],[0.1111111111111111,\"#46039f\"],[0.2222222222222222,\"#7201a8\"],[0.3333333333333333,\"#9c179e\"],[0.4444444444444444,\"#bd3786\"],[0.5555555555555556,\"#d8576b\"],[0.6666666666666666,\"#ed7953\"],[0.7777777777777778,\"#fb9f3a\"],[0.8888888888888888,\"#fdca26\"],[1.0,\"#f0f921\"]]},\"colorway\":[\"#636efa\",\"#EF553B\",\"#00cc96\",\"#ab63fa\",\"#FFA15A\",\"#19d3f3\",\"#FF6692\",\"#B6E880\",\"#FF97FF\",\"#FECB52\"],\"font\":{\"color\":\"#2a3f5f\"},\"geo\":{\"bgcolor\":\"white\",\"lakecolor\":\"white\",\"landcolor\":\"#E5ECF6\",\"showlakes\":true,\"showland\":true,\"subunitcolor\":\"white\"},\"hoverlabel\":{\"align\":\"left\"},\"hovermode\":\"closest\",\"mapbox\":{\"style\":\"light\"},\"paper_bgcolor\":\"white\",\"plot_bgcolor\":\"#E5ECF6\",\"polar\":{\"angularaxis\":{\"gridcolor\":\"white\",\"linecolor\":\"white\",\"ticks\":\"\"},\"bgcolor\":\"#E5ECF6\",\"radialaxis\":{\"gridcolor\":\"white\",\"linecolor\":\"white\",\"ticks\":\"\"}},\"scene\":{\"xaxis\":{\"backgroundcolor\":\"#E5ECF6\",\"gridcolor\":\"white\",\"gridwidth\":2,\"linecolor\":\"white\",\"showbackground\":true,\"ticks\":\"\",\"zerolinecolor\":\"white\"},\"yaxis\":{\"backgroundcolor\":\"#E5ECF6\",\"gridcolor\":\"white\",\"gridwidth\":2,\"linecolor\":\"white\",\"showbackground\":true,\"ticks\":\"\",\"zerolinecolor\":\"white\"},\"zaxis\":{\"backgroundcolor\":\"#E5ECF6\",\"gridcolor\":\"white\",\"gridwidth\":2,\"linecolor\":\"white\",\"showbackground\":true,\"ticks\":\"\",\"zerolinecolor\":\"white\"}},\"shapedefaults\":{\"line\":{\"color\":\"#2a3f5f\"}},\"ternary\":{\"aaxis\":{\"gridcolor\":\"white\",\"linecolor\":\"white\",\"ticks\":\"\"},\"baxis\":{\"gridcolor\":\"white\",\"linecolor\":\"white\",\"ticks\":\"\"},\"bgcolor\":\"#E5ECF6\",\"caxis\":{\"gridcolor\":\"white\",\"linecolor\":\"white\",\"ticks\":\"\"}},\"title\":{\"x\":0.05},\"xaxis\":{\"automargin\":true,\"gridcolor\":\"white\",\"linecolor\":\"white\",\"ticks\":\"\",\"title\":{\"standoff\":15},\"zerolinecolor\":\"white\",\"zerolinewidth\":2},\"yaxis\":{\"automargin\":true,\"gridcolor\":\"white\",\"linecolor\":\"white\",\"ticks\":\"\",\"title\":{\"standoff\":15},\"zerolinecolor\":\"white\",\"zerolinewidth\":2}}},\"title\":{\"text\":\"Training variable Summary\"}},                        {\"responsive\": true}                    ).then(function(){\n",
       "                            \n",
       "var gd = document.getElementById('41ed315c-5d9b-4f91-9dd1-cfb7b4205ee3');\n",
       "var x = new MutationObserver(function (mutations, observer) {{\n",
       "        var display = window.getComputedStyle(gd).display;\n",
       "        if (!display || display === 'none') {{\n",
       "            console.log([gd, 'removed!']);\n",
       "            Plotly.purge(gd);\n",
       "            observer.disconnect();\n",
       "        }}\n",
       "}});\n",
       "\n",
       "// Listen for the removal of the full notebook cells\n",
       "var notebookContainer = gd.closest('#notebook-container');\n",
       "if (notebookContainer) {{\n",
       "    x.observe(notebookContainer, {childList: true});\n",
       "}}\n",
       "\n",
       "// Listen for the clearing of the current output cell\n",
       "var outputEl = gd.closest('.output');\n",
       "if (outputEl) {{\n",
       "    x.observe(outputEl, {childList: true});\n",
       "}}\n",
       "\n",
       "                        })                };                });            </script>        </div>"
      ]
     },
     "metadata": {},
     "output_type": "display_data"
    }
   ],
   "source": [
    "import plotly.graph_objs as go\n",
    "import plotly.offline as py\n",
    "\n",
    "summary = churn_train.describe(include='all').transpose().reset_index()\n",
    "summary = summary.rename(columns={\"index\": \"feature\"})\n",
    "\n",
    "val_lst = [summary['feature'], summary['count'], summary['mean'], summary['std'],\n",
    "           summary['min'], summary['25%'], summary['50%'], summary['75%'], summary['max']]\n",
    "\n",
    "header = dict(values=summary.columns.tolist(),\n",
    "              fill_color='#FF0000',\n",
    "              align='left')\n",
    "              \n",
    "cells = dict(values=val_lst,\n",
    "             fill_color='#d5d7ce',\n",
    "             align='left')\n",
    "\n",
    "table = go.Table(header=header, cells=cells)\n",
    "\n",
    "layout = go.Layout(dict(title=\"Training variable Summary\"))\n",
    "figure = go.Figure(data=[table], layout=layout)\n",
    "\n",
    "py.iplot(figure)\n"
   ]
  },
  {
   "cell_type": "markdown",
   "id": "e1a5b0ba",
   "metadata": {},
   "source": [
    "**Correlation Matrix"
   ]
  },
  {
   "cell_type": "code",
   "execution_count": 109,
   "id": "1dd836ae",
   "metadata": {},
   "outputs": [
    {
     "data": {
      "application/vnd.plotly.v1+json": {
       "config": {
        "linkText": "Export to plot.ly",
        "plotlyServerURL": "https://plot.ly",
        "showLink": false
       },
       "data": [
        {
         "colorbar": {
          "title": {
           "side": "right",
           "text": " Correlation coefficients"
          }
         },
         "colorscale": [
          [
           0,
           "#FFFFFF"
          ],
          [
           0.25,
           "#FEE5D9"
          ],
          [
           0.5,
           "#FCAE91"
          ],
          [
           0.75,
           "#FB6A4A"
          ],
          [
           1,
           "#DE2D26"
          ]
         ],
         "type": "heatmap",
         "x": [
          "International plan",
          "Voice mail plan",
          "Churn",
          "Account length",
          "Number vmail messages",
          "Total day minutes",
          "Total day calls",
          "Total eve minutes",
          "Total eve calls",
          "Total night minutes",
          "Total night calls",
          "Total intl minutes",
          "Total intl calls",
          "Customer service calls"
         ],
         "y": [
          "International plan",
          "Voice mail plan",
          "Churn",
          "Account length",
          "Number vmail messages",
          "Total day minutes",
          "Total day calls",
          "Total eve minutes",
          "Total eve calls",
          "Total night minutes",
          "Total night calls",
          "Total intl minutes",
          "Total intl calls",
          "Customer service calls"
         ],
         "z": [
          [
           1,
           0.0021307719164441814,
           0.27748878127401433,
           0.02450006112534799,
           0.005858140214762864,
           0.04954961443130176,
           -0.004277456800116026,
           0.02661579866268211,
           0.01027686732270199,
           -0.010309976344167235,
           0.018080582880105153,
           0.05316188847664221,
           0.011548797751388673,
           -0.03595533124446167
          ],
          [
           0.0021307719164441814,
           1,
           -0.09929060228146377,
           0.0024475322996568155,
           0.957158905212815,
           0.01343805863886847,
           -0.007540688508872839,
           0.01913237479480389,
           0.0034040809912335994,
           0.0010650504153867384,
           0.013984854543873885,
           -0.01396348748991293,
           0.01519603575612028,
           -0.02205404019205958
          ],
          [
           0.27748878127401433,
           -0.09929060228146377,
           1,
           0.01772803491759943,
           -0.08647414333110287,
           0.19568792621993572,
           0.018290322842047534,
           0.07290626808163171,
           -0.001539166249973634,
           0.03363909290341838,
           0.012261954319259787,
           0.08620377131557011,
           -0.06988170411329625,
           0.2025902507042385
          ],
          [
           0.02450006112534799,
           0.0024475322996568155,
           0.01772803491759943,
           1,
           -0.002995979881368167,
           0.0028474602717563063,
           0.03886190871287123,
           -0.01592275114840964,
           0.01855171882598357,
           -0.008993603778133269,
           -0.024007295449478223,
           0.011369014443165192,
           0.01762700320676012,
           0.0024548453896569692
          ],
          [
           0.005858140214762864,
           0.957158905212815,
           -0.08647414333110287,
           -0.002995979881368167,
           1,
           0.01902703564711538,
           -0.009622044311372806,
           0.011401065774615216,
           0.005130811123996679,
           -0.00022392319236611406,
           0.008123984820219771,
           -0.004155594529084797,
           0.027012570668817595,
           -0.018786699919002094
          ],
          [
           0.04954961443130176,
           0.01343805863886847,
           0.19568792621993572,
           0.0028474602717563063,
           0.01902703564711538,
           1,
           0.01678030113192562,
           0.003998626727632572,
           0.009059029139331777,
           0.013490952953805768,
           0.01505377526284679,
           -0.011041972919924212,
           0.0056866643875381345,
           -0.024543145302899687
          ],
          [
           -0.004277456800116026,
           -0.007540688508872839,
           0.018290322842047534,
           0.03886190871287123,
           -0.009622044311372806,
           0.01678030113192562,
           1,
           -0.026002555703066265,
           0.006472679746911699,
           0.008985908153417467,
           -0.016775845339004697,
           0.031035828250343758,
           0.006928336527061128,
           -0.011944648459920472
          ],
          [
           0.02661579866268211,
           0.01913237479480389,
           0.07290626808163171,
           -0.01592275114840964,
           0.011401065774615216,
           0.003998626727632572,
           -0.026002555703066265,
           1,
           -0.007653798732660497,
           -0.013414074447421057,
           0.009017392908584741,
           -0.006914655799006241,
           0.002160451249662149,
           -0.013192225526350071
          ],
          [
           0.01027686732270199,
           0.0034040809912335994,
           -0.001539166249973634,
           0.01855171882598357,
           0.005130811123996679,
           0.009059029139331777,
           0.006472679746911699,
           -0.007653798732660497,
           1,
           -0.00017517095584840617,
           0.0007967657602092824,
           0.011011762647215834,
           0.0037095444728628187,
           0.0010582034845461313
          ],
          [
           -0.010309976344167235,
           0.0010650504153867384,
           0.03363909290341838,
           -0.008993603778133269,
           -0.00022392319236611406,
           0.013490952953805768,
           0.008985908153417467,
           -0.013414074447421057,
           -0.00017517095584840617,
           1,
           0.012736100224890677,
           -0.008607444297757567,
           -0.0011101284909693417,
           0.00523636003979804
          ],
          [
           0.018080582880105153,
           0.013984854543873885,
           0.012261954319259787,
           -0.024007295449478223,
           0.008123984820219771,
           0.01505377526284679,
           -0.016775845339004697,
           0.009017392908584741,
           0.0007967657602092824,
           0.012736100224890677,
           1,
           -0.0234472212885338,
           0.019367186790327295,
           -0.005677070850265133
          ],
          [
           0.05316188847664221,
           -0.01396348748991293,
           0.08620377131557011,
           0.011369014443165192,
           -0.004155594529084797,
           -0.011041972919924212,
           0.031035828250343758,
           -0.006914655799006241,
           0.011011762647215834,
           -0.008607444297757567,
           -0.0234472212885338,
           1,
           0.037315152084498704,
           -0.0028256780996680467
          ],
          [
           0.011548797751388673,
           0.01519603575612028,
           -0.06988170411329625,
           0.01762700320676012,
           0.027012570668817595,
           0.0056866643875381345,
           0.006928336527061128,
           0.002160451249662149,
           0.0037095444728628187,
           -0.0011101284909693417,
           0.019367186790327295,
           0.037315152084498704,
           1,
           -0.02214255083035689
          ],
          [
           -0.03595533124446167,
           -0.02205404019205958,
           0.2025902507042385,
           0.0024548453896569692,
           -0.018786699919002094,
           -0.024543145302899687,
           -0.011944648459920472,
           -0.013192225526350071,
           0.0010582034845461313,
           0.00523636003979804,
           -0.005677070850265133,
           -0.0028256780996680467,
           -0.02214255083035689,
           1
          ]
         ]
        }
       ],
       "layout": {
        "autosize": false,
        "height": 720,
        "margin": {
         "b": 210,
         "l": 210,
         "r": 0,
         "t": 25
        },
        "template": {
         "data": {
          "bar": [
           {
            "error_x": {
             "color": "#2a3f5f"
            },
            "error_y": {
             "color": "#2a3f5f"
            },
            "marker": {
             "line": {
              "color": "#E5ECF6",
              "width": 0.5
             },
             "pattern": {
              "fillmode": "overlay",
              "size": 10,
              "solidity": 0.2
             }
            },
            "type": "bar"
           }
          ],
          "barpolar": [
           {
            "marker": {
             "line": {
              "color": "#E5ECF6",
              "width": 0.5
             },
             "pattern": {
              "fillmode": "overlay",
              "size": 10,
              "solidity": 0.2
             }
            },
            "type": "barpolar"
           }
          ],
          "carpet": [
           {
            "aaxis": {
             "endlinecolor": "#2a3f5f",
             "gridcolor": "white",
             "linecolor": "white",
             "minorgridcolor": "white",
             "startlinecolor": "#2a3f5f"
            },
            "baxis": {
             "endlinecolor": "#2a3f5f",
             "gridcolor": "white",
             "linecolor": "white",
             "minorgridcolor": "white",
             "startlinecolor": "#2a3f5f"
            },
            "type": "carpet"
           }
          ],
          "choropleth": [
           {
            "colorbar": {
             "outlinewidth": 0,
             "ticks": ""
            },
            "type": "choropleth"
           }
          ],
          "contour": [
           {
            "colorbar": {
             "outlinewidth": 0,
             "ticks": ""
            },
            "colorscale": [
             [
              0,
              "#0d0887"
             ],
             [
              0.1111111111111111,
              "#46039f"
             ],
             [
              0.2222222222222222,
              "#7201a8"
             ],
             [
              0.3333333333333333,
              "#9c179e"
             ],
             [
              0.4444444444444444,
              "#bd3786"
             ],
             [
              0.5555555555555556,
              "#d8576b"
             ],
             [
              0.6666666666666666,
              "#ed7953"
             ],
             [
              0.7777777777777778,
              "#fb9f3a"
             ],
             [
              0.8888888888888888,
              "#fdca26"
             ],
             [
              1,
              "#f0f921"
             ]
            ],
            "type": "contour"
           }
          ],
          "contourcarpet": [
           {
            "colorbar": {
             "outlinewidth": 0,
             "ticks": ""
            },
            "type": "contourcarpet"
           }
          ],
          "heatmap": [
           {
            "colorbar": {
             "outlinewidth": 0,
             "ticks": ""
            },
            "colorscale": [
             [
              0,
              "#0d0887"
             ],
             [
              0.1111111111111111,
              "#46039f"
             ],
             [
              0.2222222222222222,
              "#7201a8"
             ],
             [
              0.3333333333333333,
              "#9c179e"
             ],
             [
              0.4444444444444444,
              "#bd3786"
             ],
             [
              0.5555555555555556,
              "#d8576b"
             ],
             [
              0.6666666666666666,
              "#ed7953"
             ],
             [
              0.7777777777777778,
              "#fb9f3a"
             ],
             [
              0.8888888888888888,
              "#fdca26"
             ],
             [
              1,
              "#f0f921"
             ]
            ],
            "type": "heatmap"
           }
          ],
          "heatmapgl": [
           {
            "colorbar": {
             "outlinewidth": 0,
             "ticks": ""
            },
            "colorscale": [
             [
              0,
              "#0d0887"
             ],
             [
              0.1111111111111111,
              "#46039f"
             ],
             [
              0.2222222222222222,
              "#7201a8"
             ],
             [
              0.3333333333333333,
              "#9c179e"
             ],
             [
              0.4444444444444444,
              "#bd3786"
             ],
             [
              0.5555555555555556,
              "#d8576b"
             ],
             [
              0.6666666666666666,
              "#ed7953"
             ],
             [
              0.7777777777777778,
              "#fb9f3a"
             ],
             [
              0.8888888888888888,
              "#fdca26"
             ],
             [
              1,
              "#f0f921"
             ]
            ],
            "type": "heatmapgl"
           }
          ],
          "histogram": [
           {
            "marker": {
             "pattern": {
              "fillmode": "overlay",
              "size": 10,
              "solidity": 0.2
             }
            },
            "type": "histogram"
           }
          ],
          "histogram2d": [
           {
            "colorbar": {
             "outlinewidth": 0,
             "ticks": ""
            },
            "colorscale": [
             [
              0,
              "#0d0887"
             ],
             [
              0.1111111111111111,
              "#46039f"
             ],
             [
              0.2222222222222222,
              "#7201a8"
             ],
             [
              0.3333333333333333,
              "#9c179e"
             ],
             [
              0.4444444444444444,
              "#bd3786"
             ],
             [
              0.5555555555555556,
              "#d8576b"
             ],
             [
              0.6666666666666666,
              "#ed7953"
             ],
             [
              0.7777777777777778,
              "#fb9f3a"
             ],
             [
              0.8888888888888888,
              "#fdca26"
             ],
             [
              1,
              "#f0f921"
             ]
            ],
            "type": "histogram2d"
           }
          ],
          "histogram2dcontour": [
           {
            "colorbar": {
             "outlinewidth": 0,
             "ticks": ""
            },
            "colorscale": [
             [
              0,
              "#0d0887"
             ],
             [
              0.1111111111111111,
              "#46039f"
             ],
             [
              0.2222222222222222,
              "#7201a8"
             ],
             [
              0.3333333333333333,
              "#9c179e"
             ],
             [
              0.4444444444444444,
              "#bd3786"
             ],
             [
              0.5555555555555556,
              "#d8576b"
             ],
             [
              0.6666666666666666,
              "#ed7953"
             ],
             [
              0.7777777777777778,
              "#fb9f3a"
             ],
             [
              0.8888888888888888,
              "#fdca26"
             ],
             [
              1,
              "#f0f921"
             ]
            ],
            "type": "histogram2dcontour"
           }
          ],
          "mesh3d": [
           {
            "colorbar": {
             "outlinewidth": 0,
             "ticks": ""
            },
            "type": "mesh3d"
           }
          ],
          "parcoords": [
           {
            "line": {
             "colorbar": {
              "outlinewidth": 0,
              "ticks": ""
             }
            },
            "type": "parcoords"
           }
          ],
          "pie": [
           {
            "automargin": true,
            "type": "pie"
           }
          ],
          "scatter": [
           {
            "fillpattern": {
             "fillmode": "overlay",
             "size": 10,
             "solidity": 0.2
            },
            "type": "scatter"
           }
          ],
          "scatter3d": [
           {
            "line": {
             "colorbar": {
              "outlinewidth": 0,
              "ticks": ""
             }
            },
            "marker": {
             "colorbar": {
              "outlinewidth": 0,
              "ticks": ""
             }
            },
            "type": "scatter3d"
           }
          ],
          "scattercarpet": [
           {
            "marker": {
             "colorbar": {
              "outlinewidth": 0,
              "ticks": ""
             }
            },
            "type": "scattercarpet"
           }
          ],
          "scattergeo": [
           {
            "marker": {
             "colorbar": {
              "outlinewidth": 0,
              "ticks": ""
             }
            },
            "type": "scattergeo"
           }
          ],
          "scattergl": [
           {
            "marker": {
             "colorbar": {
              "outlinewidth": 0,
              "ticks": ""
             }
            },
            "type": "scattergl"
           }
          ],
          "scattermapbox": [
           {
            "marker": {
             "colorbar": {
              "outlinewidth": 0,
              "ticks": ""
             }
            },
            "type": "scattermapbox"
           }
          ],
          "scatterpolar": [
           {
            "marker": {
             "colorbar": {
              "outlinewidth": 0,
              "ticks": ""
             }
            },
            "type": "scatterpolar"
           }
          ],
          "scatterpolargl": [
           {
            "marker": {
             "colorbar": {
              "outlinewidth": 0,
              "ticks": ""
             }
            },
            "type": "scatterpolargl"
           }
          ],
          "scatterternary": [
           {
            "marker": {
             "colorbar": {
              "outlinewidth": 0,
              "ticks": ""
             }
            },
            "type": "scatterternary"
           }
          ],
          "surface": [
           {
            "colorbar": {
             "outlinewidth": 0,
             "ticks": ""
            },
            "colorscale": [
             [
              0,
              "#0d0887"
             ],
             [
              0.1111111111111111,
              "#46039f"
             ],
             [
              0.2222222222222222,
              "#7201a8"
             ],
             [
              0.3333333333333333,
              "#9c179e"
             ],
             [
              0.4444444444444444,
              "#bd3786"
             ],
             [
              0.5555555555555556,
              "#d8576b"
             ],
             [
              0.6666666666666666,
              "#ed7953"
             ],
             [
              0.7777777777777778,
              "#fb9f3a"
             ],
             [
              0.8888888888888888,
              "#fdca26"
             ],
             [
              1,
              "#f0f921"
             ]
            ],
            "type": "surface"
           }
          ],
          "table": [
           {
            "cells": {
             "fill": {
              "color": "#EBF0F8"
             },
             "line": {
              "color": "white"
             }
            },
            "header": {
             "fill": {
              "color": "#C8D4E3"
             },
             "line": {
              "color": "white"
             }
            },
            "type": "table"
           }
          ]
         },
         "layout": {
          "annotationdefaults": {
           "arrowcolor": "#2a3f5f",
           "arrowhead": 0,
           "arrowwidth": 1
          },
          "autotypenumbers": "strict",
          "coloraxis": {
           "colorbar": {
            "outlinewidth": 0,
            "ticks": ""
           }
          },
          "colorscale": {
           "diverging": [
            [
             0,
             "#8e0152"
            ],
            [
             0.1,
             "#c51b7d"
            ],
            [
             0.2,
             "#de77ae"
            ],
            [
             0.3,
             "#f1b6da"
            ],
            [
             0.4,
             "#fde0ef"
            ],
            [
             0.5,
             "#f7f7f7"
            ],
            [
             0.6,
             "#e6f5d0"
            ],
            [
             0.7,
             "#b8e186"
            ],
            [
             0.8,
             "#7fbc41"
            ],
            [
             0.9,
             "#4d9221"
            ],
            [
             1,
             "#276419"
            ]
           ],
           "sequential": [
            [
             0,
             "#0d0887"
            ],
            [
             0.1111111111111111,
             "#46039f"
            ],
            [
             0.2222222222222222,
             "#7201a8"
            ],
            [
             0.3333333333333333,
             "#9c179e"
            ],
            [
             0.4444444444444444,
             "#bd3786"
            ],
            [
             0.5555555555555556,
             "#d8576b"
            ],
            [
             0.6666666666666666,
             "#ed7953"
            ],
            [
             0.7777777777777778,
             "#fb9f3a"
            ],
            [
             0.8888888888888888,
             "#fdca26"
            ],
            [
             1,
             "#f0f921"
            ]
           ],
           "sequentialminus": [
            [
             0,
             "#0d0887"
            ],
            [
             0.1111111111111111,
             "#46039f"
            ],
            [
             0.2222222222222222,
             "#7201a8"
            ],
            [
             0.3333333333333333,
             "#9c179e"
            ],
            [
             0.4444444444444444,
             "#bd3786"
            ],
            [
             0.5555555555555556,
             "#d8576b"
            ],
            [
             0.6666666666666666,
             "#ed7953"
            ],
            [
             0.7777777777777778,
             "#fb9f3a"
            ],
            [
             0.8888888888888888,
             "#fdca26"
            ],
            [
             1,
             "#f0f921"
            ]
           ]
          },
          "colorway": [
           "#636efa",
           "#EF553B",
           "#00cc96",
           "#ab63fa",
           "#FFA15A",
           "#19d3f3",
           "#FF6692",
           "#B6E880",
           "#FF97FF",
           "#FECB52"
          ],
          "font": {
           "color": "#2a3f5f"
          },
          "geo": {
           "bgcolor": "white",
           "lakecolor": "white",
           "landcolor": "#E5ECF6",
           "showlakes": true,
           "showland": true,
           "subunitcolor": "white"
          },
          "hoverlabel": {
           "align": "left"
          },
          "hovermode": "closest",
          "mapbox": {
           "style": "light"
          },
          "paper_bgcolor": "white",
          "plot_bgcolor": "#E5ECF6",
          "polar": {
           "angularaxis": {
            "gridcolor": "white",
            "linecolor": "white",
            "ticks": ""
           },
           "bgcolor": "#E5ECF6",
           "radialaxis": {
            "gridcolor": "white",
            "linecolor": "white",
            "ticks": ""
           }
          },
          "scene": {
           "xaxis": {
            "backgroundcolor": "#E5ECF6",
            "gridcolor": "white",
            "gridwidth": 2,
            "linecolor": "white",
            "showbackground": true,
            "ticks": "",
            "zerolinecolor": "white"
           },
           "yaxis": {
            "backgroundcolor": "#E5ECF6",
            "gridcolor": "white",
            "gridwidth": 2,
            "linecolor": "white",
            "showbackground": true,
            "ticks": "",
            "zerolinecolor": "white"
           },
           "zaxis": {
            "backgroundcolor": "#E5ECF6",
            "gridcolor": "white",
            "gridwidth": 2,
            "linecolor": "white",
            "showbackground": true,
            "ticks": "",
            "zerolinecolor": "white"
           }
          },
          "shapedefaults": {
           "line": {
            "color": "#2a3f5f"
           }
          },
          "ternary": {
           "aaxis": {
            "gridcolor": "white",
            "linecolor": "white",
            "ticks": ""
           },
           "baxis": {
            "gridcolor": "white",
            "linecolor": "white",
            "ticks": ""
           },
           "bgcolor": "#E5ECF6",
           "caxis": {
            "gridcolor": "white",
            "linecolor": "white",
            "ticks": ""
           }
          },
          "title": {
           "x": 0.05
          },
          "xaxis": {
           "automargin": true,
           "gridcolor": "white",
           "linecolor": "white",
           "ticks": "",
           "title": {
            "standoff": 15
           },
           "zerolinecolor": "white",
           "zerolinewidth": 2
          },
          "yaxis": {
           "automargin": true,
           "gridcolor": "white",
           "linecolor": "white",
           "ticks": "",
           "title": {
            "standoff": 15
           },
           "zerolinecolor": "white",
           "zerolinewidth": 2
          }
         }
        },
        "title": {
         "text": "Correlation matrix"
        },
        "width": 800,
        "xaxis": {
         "tickfont": {
          "size": 9
         }
        },
        "yaxis": {
         "tickfont": {
          "size": 9
         }
        }
       }
      },
      "text/html": [
       "<div>                            <div id=\"103c6085-27d4-4496-b759-0bc041ba2709\" class=\"plotly-graph-div\" style=\"height:720px; width:800px;\"></div>            <script type=\"text/javascript\">                require([\"plotly\"], function(Plotly) {                    window.PLOTLYENV=window.PLOTLYENV || {};                                    if (document.getElementById(\"103c6085-27d4-4496-b759-0bc041ba2709\")) {                    Plotly.newPlot(                        \"103c6085-27d4-4496-b759-0bc041ba2709\",                        [{\"colorbar\":{\"title\":{\"side\":\"right\",\"text\":\" Correlation coefficients\"}},\"colorscale\":[[0.0,\"#FFFFFF\"],[0.25,\"#FEE5D9\"],[0.5,\"#FCAE91\"],[0.75,\"#FB6A4A\"],[1.0,\"#DE2D26\"]],\"x\":[\"International plan\",\"Voice mail plan\",\"Churn\",\"Account length\",\"Number vmail messages\",\"Total day minutes\",\"Total day calls\",\"Total eve minutes\",\"Total eve calls\",\"Total night minutes\",\"Total night calls\",\"Total intl minutes\",\"Total intl calls\",\"Customer service calls\"],\"y\":[\"International plan\",\"Voice mail plan\",\"Churn\",\"Account length\",\"Number vmail messages\",\"Total day minutes\",\"Total day calls\",\"Total eve minutes\",\"Total eve calls\",\"Total night minutes\",\"Total night calls\",\"Total intl minutes\",\"Total intl calls\",\"Customer service calls\"],\"z\":[[1.0,0.0021307719164441814,0.27748878127401433,0.02450006112534799,0.005858140214762864,0.04954961443130176,-0.004277456800116026,0.02661579866268211,0.01027686732270199,-0.010309976344167235,0.018080582880105153,0.05316188847664221,0.011548797751388673,-0.03595533124446167],[0.0021307719164441814,1.0,-0.09929060228146377,0.0024475322996568155,0.957158905212815,0.01343805863886847,-0.007540688508872839,0.01913237479480389,0.0034040809912335994,0.0010650504153867384,0.013984854543873885,-0.01396348748991293,0.01519603575612028,-0.02205404019205958],[0.27748878127401433,-0.09929060228146377,1.0,0.01772803491759943,-0.08647414333110287,0.19568792621993572,0.018290322842047534,0.07290626808163171,-0.001539166249973634,0.03363909290341838,0.012261954319259787,0.08620377131557011,-0.06988170411329625,0.2025902507042385],[0.02450006112534799,0.0024475322996568155,0.01772803491759943,1.0,-0.002995979881368167,0.0028474602717563063,0.03886190871287123,-0.01592275114840964,0.01855171882598357,-0.008993603778133269,-0.024007295449478223,0.011369014443165192,0.01762700320676012,0.0024548453896569692],[0.005858140214762864,0.957158905212815,-0.08647414333110287,-0.002995979881368167,1.0,0.01902703564711538,-0.009622044311372806,0.011401065774615216,0.005130811123996679,-0.00022392319236611406,0.008123984820219771,-0.004155594529084797,0.027012570668817595,-0.018786699919002094],[0.04954961443130176,0.01343805863886847,0.19568792621993572,0.0028474602717563063,0.01902703564711538,1.0,0.01678030113192562,0.003998626727632572,0.009059029139331777,0.013490952953805768,0.01505377526284679,-0.011041972919924212,0.0056866643875381345,-0.024543145302899687],[-0.004277456800116026,-0.007540688508872839,0.018290322842047534,0.03886190871287123,-0.009622044311372806,0.01678030113192562,1.0,-0.026002555703066265,0.006472679746911699,0.008985908153417467,-0.016775845339004697,0.031035828250343758,0.006928336527061128,-0.011944648459920472],[0.02661579866268211,0.01913237479480389,0.07290626808163171,-0.01592275114840964,0.011401065774615216,0.003998626727632572,-0.026002555703066265,1.0,-0.007653798732660497,-0.013414074447421057,0.009017392908584741,-0.006914655799006241,0.002160451249662149,-0.013192225526350071],[0.01027686732270199,0.0034040809912335994,-0.001539166249973634,0.01855171882598357,0.005130811123996679,0.009059029139331777,0.006472679746911699,-0.007653798732660497,1.0,-0.00017517095584840617,0.0007967657602092824,0.011011762647215834,0.0037095444728628187,0.0010582034845461313],[-0.010309976344167235,0.0010650504153867384,0.03363909290341838,-0.008993603778133269,-0.00022392319236611406,0.013490952953805768,0.008985908153417467,-0.013414074447421057,-0.00017517095584840617,1.0,0.012736100224890677,-0.008607444297757567,-0.0011101284909693417,0.00523636003979804],[0.018080582880105153,0.013984854543873885,0.012261954319259787,-0.024007295449478223,0.008123984820219771,0.01505377526284679,-0.016775845339004697,0.009017392908584741,0.0007967657602092824,0.012736100224890677,1.0,-0.0234472212885338,0.019367186790327295,-0.005677070850265133],[0.05316188847664221,-0.01396348748991293,0.08620377131557011,0.011369014443165192,-0.004155594529084797,-0.011041972919924212,0.031035828250343758,-0.006914655799006241,0.011011762647215834,-0.008607444297757567,-0.0234472212885338,1.0,0.037315152084498704,-0.0028256780996680467],[0.011548797751388673,0.01519603575612028,-0.06988170411329625,0.01762700320676012,0.027012570668817595,0.0056866643875381345,0.006928336527061128,0.002160451249662149,0.0037095444728628187,-0.0011101284909693417,0.019367186790327295,0.037315152084498704,1.0,-0.02214255083035689],[-0.03595533124446167,-0.02205404019205958,0.2025902507042385,0.0024548453896569692,-0.018786699919002094,-0.024543145302899687,-0.011944648459920472,-0.013192225526350071,0.0010582034845461313,0.00523636003979804,-0.005677070850265133,-0.0028256780996680467,-0.02214255083035689,1.0]],\"type\":\"heatmap\"}],                        {\"autosize\":false,\"height\":720,\"margin\":{\"b\":210,\"l\":210,\"r\":0,\"t\":25},\"template\":{\"data\":{\"barpolar\":[{\"marker\":{\"line\":{\"color\":\"#E5ECF6\",\"width\":0.5},\"pattern\":{\"fillmode\":\"overlay\",\"size\":10,\"solidity\":0.2}},\"type\":\"barpolar\"}],\"bar\":[{\"error_x\":{\"color\":\"#2a3f5f\"},\"error_y\":{\"color\":\"#2a3f5f\"},\"marker\":{\"line\":{\"color\":\"#E5ECF6\",\"width\":0.5},\"pattern\":{\"fillmode\":\"overlay\",\"size\":10,\"solidity\":0.2}},\"type\":\"bar\"}],\"carpet\":[{\"aaxis\":{\"endlinecolor\":\"#2a3f5f\",\"gridcolor\":\"white\",\"linecolor\":\"white\",\"minorgridcolor\":\"white\",\"startlinecolor\":\"#2a3f5f\"},\"baxis\":{\"endlinecolor\":\"#2a3f5f\",\"gridcolor\":\"white\",\"linecolor\":\"white\",\"minorgridcolor\":\"white\",\"startlinecolor\":\"#2a3f5f\"},\"type\":\"carpet\"}],\"choropleth\":[{\"colorbar\":{\"outlinewidth\":0,\"ticks\":\"\"},\"type\":\"choropleth\"}],\"contourcarpet\":[{\"colorbar\":{\"outlinewidth\":0,\"ticks\":\"\"},\"type\":\"contourcarpet\"}],\"contour\":[{\"colorbar\":{\"outlinewidth\":0,\"ticks\":\"\"},\"colorscale\":[[0.0,\"#0d0887\"],[0.1111111111111111,\"#46039f\"],[0.2222222222222222,\"#7201a8\"],[0.3333333333333333,\"#9c179e\"],[0.4444444444444444,\"#bd3786\"],[0.5555555555555556,\"#d8576b\"],[0.6666666666666666,\"#ed7953\"],[0.7777777777777778,\"#fb9f3a\"],[0.8888888888888888,\"#fdca26\"],[1.0,\"#f0f921\"]],\"type\":\"contour\"}],\"heatmapgl\":[{\"colorbar\":{\"outlinewidth\":0,\"ticks\":\"\"},\"colorscale\":[[0.0,\"#0d0887\"],[0.1111111111111111,\"#46039f\"],[0.2222222222222222,\"#7201a8\"],[0.3333333333333333,\"#9c179e\"],[0.4444444444444444,\"#bd3786\"],[0.5555555555555556,\"#d8576b\"],[0.6666666666666666,\"#ed7953\"],[0.7777777777777778,\"#fb9f3a\"],[0.8888888888888888,\"#fdca26\"],[1.0,\"#f0f921\"]],\"type\":\"heatmapgl\"}],\"heatmap\":[{\"colorbar\":{\"outlinewidth\":0,\"ticks\":\"\"},\"colorscale\":[[0.0,\"#0d0887\"],[0.1111111111111111,\"#46039f\"],[0.2222222222222222,\"#7201a8\"],[0.3333333333333333,\"#9c179e\"],[0.4444444444444444,\"#bd3786\"],[0.5555555555555556,\"#d8576b\"],[0.6666666666666666,\"#ed7953\"],[0.7777777777777778,\"#fb9f3a\"],[0.8888888888888888,\"#fdca26\"],[1.0,\"#f0f921\"]],\"type\":\"heatmap\"}],\"histogram2dcontour\":[{\"colorbar\":{\"outlinewidth\":0,\"ticks\":\"\"},\"colorscale\":[[0.0,\"#0d0887\"],[0.1111111111111111,\"#46039f\"],[0.2222222222222222,\"#7201a8\"],[0.3333333333333333,\"#9c179e\"],[0.4444444444444444,\"#bd3786\"],[0.5555555555555556,\"#d8576b\"],[0.6666666666666666,\"#ed7953\"],[0.7777777777777778,\"#fb9f3a\"],[0.8888888888888888,\"#fdca26\"],[1.0,\"#f0f921\"]],\"type\":\"histogram2dcontour\"}],\"histogram2d\":[{\"colorbar\":{\"outlinewidth\":0,\"ticks\":\"\"},\"colorscale\":[[0.0,\"#0d0887\"],[0.1111111111111111,\"#46039f\"],[0.2222222222222222,\"#7201a8\"],[0.3333333333333333,\"#9c179e\"],[0.4444444444444444,\"#bd3786\"],[0.5555555555555556,\"#d8576b\"],[0.6666666666666666,\"#ed7953\"],[0.7777777777777778,\"#fb9f3a\"],[0.8888888888888888,\"#fdca26\"],[1.0,\"#f0f921\"]],\"type\":\"histogram2d\"}],\"histogram\":[{\"marker\":{\"pattern\":{\"fillmode\":\"overlay\",\"size\":10,\"solidity\":0.2}},\"type\":\"histogram\"}],\"mesh3d\":[{\"colorbar\":{\"outlinewidth\":0,\"ticks\":\"\"},\"type\":\"mesh3d\"}],\"parcoords\":[{\"line\":{\"colorbar\":{\"outlinewidth\":0,\"ticks\":\"\"}},\"type\":\"parcoords\"}],\"pie\":[{\"automargin\":true,\"type\":\"pie\"}],\"scatter3d\":[{\"line\":{\"colorbar\":{\"outlinewidth\":0,\"ticks\":\"\"}},\"marker\":{\"colorbar\":{\"outlinewidth\":0,\"ticks\":\"\"}},\"type\":\"scatter3d\"}],\"scattercarpet\":[{\"marker\":{\"colorbar\":{\"outlinewidth\":0,\"ticks\":\"\"}},\"type\":\"scattercarpet\"}],\"scattergeo\":[{\"marker\":{\"colorbar\":{\"outlinewidth\":0,\"ticks\":\"\"}},\"type\":\"scattergeo\"}],\"scattergl\":[{\"marker\":{\"colorbar\":{\"outlinewidth\":0,\"ticks\":\"\"}},\"type\":\"scattergl\"}],\"scattermapbox\":[{\"marker\":{\"colorbar\":{\"outlinewidth\":0,\"ticks\":\"\"}},\"type\":\"scattermapbox\"}],\"scatterpolargl\":[{\"marker\":{\"colorbar\":{\"outlinewidth\":0,\"ticks\":\"\"}},\"type\":\"scatterpolargl\"}],\"scatterpolar\":[{\"marker\":{\"colorbar\":{\"outlinewidth\":0,\"ticks\":\"\"}},\"type\":\"scatterpolar\"}],\"scatter\":[{\"fillpattern\":{\"fillmode\":\"overlay\",\"size\":10,\"solidity\":0.2},\"type\":\"scatter\"}],\"scatterternary\":[{\"marker\":{\"colorbar\":{\"outlinewidth\":0,\"ticks\":\"\"}},\"type\":\"scatterternary\"}],\"surface\":[{\"colorbar\":{\"outlinewidth\":0,\"ticks\":\"\"},\"colorscale\":[[0.0,\"#0d0887\"],[0.1111111111111111,\"#46039f\"],[0.2222222222222222,\"#7201a8\"],[0.3333333333333333,\"#9c179e\"],[0.4444444444444444,\"#bd3786\"],[0.5555555555555556,\"#d8576b\"],[0.6666666666666666,\"#ed7953\"],[0.7777777777777778,\"#fb9f3a\"],[0.8888888888888888,\"#fdca26\"],[1.0,\"#f0f921\"]],\"type\":\"surface\"}],\"table\":[{\"cells\":{\"fill\":{\"color\":\"#EBF0F8\"},\"line\":{\"color\":\"white\"}},\"header\":{\"fill\":{\"color\":\"#C8D4E3\"},\"line\":{\"color\":\"white\"}},\"type\":\"table\"}]},\"layout\":{\"annotationdefaults\":{\"arrowcolor\":\"#2a3f5f\",\"arrowhead\":0,\"arrowwidth\":1},\"autotypenumbers\":\"strict\",\"coloraxis\":{\"colorbar\":{\"outlinewidth\":0,\"ticks\":\"\"}},\"colorscale\":{\"diverging\":[[0,\"#8e0152\"],[0.1,\"#c51b7d\"],[0.2,\"#de77ae\"],[0.3,\"#f1b6da\"],[0.4,\"#fde0ef\"],[0.5,\"#f7f7f7\"],[0.6,\"#e6f5d0\"],[0.7,\"#b8e186\"],[0.8,\"#7fbc41\"],[0.9,\"#4d9221\"],[1,\"#276419\"]],\"sequential\":[[0.0,\"#0d0887\"],[0.1111111111111111,\"#46039f\"],[0.2222222222222222,\"#7201a8\"],[0.3333333333333333,\"#9c179e\"],[0.4444444444444444,\"#bd3786\"],[0.5555555555555556,\"#d8576b\"],[0.6666666666666666,\"#ed7953\"],[0.7777777777777778,\"#fb9f3a\"],[0.8888888888888888,\"#fdca26\"],[1.0,\"#f0f921\"]],\"sequentialminus\":[[0.0,\"#0d0887\"],[0.1111111111111111,\"#46039f\"],[0.2222222222222222,\"#7201a8\"],[0.3333333333333333,\"#9c179e\"],[0.4444444444444444,\"#bd3786\"],[0.5555555555555556,\"#d8576b\"],[0.6666666666666666,\"#ed7953\"],[0.7777777777777778,\"#fb9f3a\"],[0.8888888888888888,\"#fdca26\"],[1.0,\"#f0f921\"]]},\"colorway\":[\"#636efa\",\"#EF553B\",\"#00cc96\",\"#ab63fa\",\"#FFA15A\",\"#19d3f3\",\"#FF6692\",\"#B6E880\",\"#FF97FF\",\"#FECB52\"],\"font\":{\"color\":\"#2a3f5f\"},\"geo\":{\"bgcolor\":\"white\",\"lakecolor\":\"white\",\"landcolor\":\"#E5ECF6\",\"showlakes\":true,\"showland\":true,\"subunitcolor\":\"white\"},\"hoverlabel\":{\"align\":\"left\"},\"hovermode\":\"closest\",\"mapbox\":{\"style\":\"light\"},\"paper_bgcolor\":\"white\",\"plot_bgcolor\":\"#E5ECF6\",\"polar\":{\"angularaxis\":{\"gridcolor\":\"white\",\"linecolor\":\"white\",\"ticks\":\"\"},\"bgcolor\":\"#E5ECF6\",\"radialaxis\":{\"gridcolor\":\"white\",\"linecolor\":\"white\",\"ticks\":\"\"}},\"scene\":{\"xaxis\":{\"backgroundcolor\":\"#E5ECF6\",\"gridcolor\":\"white\",\"gridwidth\":2,\"linecolor\":\"white\",\"showbackground\":true,\"ticks\":\"\",\"zerolinecolor\":\"white\"},\"yaxis\":{\"backgroundcolor\":\"#E5ECF6\",\"gridcolor\":\"white\",\"gridwidth\":2,\"linecolor\":\"white\",\"showbackground\":true,\"ticks\":\"\",\"zerolinecolor\":\"white\"},\"zaxis\":{\"backgroundcolor\":\"#E5ECF6\",\"gridcolor\":\"white\",\"gridwidth\":2,\"linecolor\":\"white\",\"showbackground\":true,\"ticks\":\"\",\"zerolinecolor\":\"white\"}},\"shapedefaults\":{\"line\":{\"color\":\"#2a3f5f\"}},\"ternary\":{\"aaxis\":{\"gridcolor\":\"white\",\"linecolor\":\"white\",\"ticks\":\"\"},\"baxis\":{\"gridcolor\":\"white\",\"linecolor\":\"white\",\"ticks\":\"\"},\"bgcolor\":\"#E5ECF6\",\"caxis\":{\"gridcolor\":\"white\",\"linecolor\":\"white\",\"ticks\":\"\"}},\"title\":{\"x\":0.05},\"xaxis\":{\"automargin\":true,\"gridcolor\":\"white\",\"linecolor\":\"white\",\"ticks\":\"\",\"title\":{\"standoff\":15},\"zerolinecolor\":\"white\",\"zerolinewidth\":2},\"yaxis\":{\"automargin\":true,\"gridcolor\":\"white\",\"linecolor\":\"white\",\"ticks\":\"\",\"title\":{\"standoff\":15},\"zerolinecolor\":\"white\",\"zerolinewidth\":2}}},\"title\":{\"text\":\"Correlation matrix\"},\"width\":800,\"xaxis\":{\"tickfont\":{\"size\":9}},\"yaxis\":{\"tickfont\":{\"size\":9}}},                        {\"responsive\": true}                    ).then(function(){\n",
       "                            \n",
       "var gd = document.getElementById('103c6085-27d4-4496-b759-0bc041ba2709');\n",
       "var x = new MutationObserver(function (mutations, observer) {{\n",
       "        var display = window.getComputedStyle(gd).display;\n",
       "        if (!display || display === 'none') {{\n",
       "            console.log([gd, 'removed!']);\n",
       "            Plotly.purge(gd);\n",
       "            observer.disconnect();\n",
       "        }}\n",
       "}});\n",
       "\n",
       "// Listen for the removal of the full notebook cells\n",
       "var notebookContainer = gd.closest('#notebook-container');\n",
       "if (notebookContainer) {{\n",
       "    x.observe(notebookContainer, {childList: true});\n",
       "}}\n",
       "\n",
       "// Listen for the clearing of the current output cell\n",
       "var outputEl = gd.closest('.output');\n",
       "if (outputEl) {{\n",
       "    x.observe(outputEl, {childList: true});\n",
       "}}\n",
       "\n",
       "                        })                };                });            </script>        </div>"
      ]
     },
     "metadata": {},
     "output_type": "display_data"
    }
   ],
   "source": [
    "#correlation\n",
    "correlation = churn_train.corr()\n",
    "#tick labels\n",
    "matrix_cols = correlation.columns.tolist()\n",
    "#convert to array\n",
    "corr_array = np.array(correlation)\n",
    "\n",
    "#Plotting\n",
    "trace = go.Heatmap(z = corr_array,\n",
    "                   x = matrix_cols,\n",
    "                   y = matrix_cols,\n",
    "                   colorscale = [[0.0, '#FFFFFF'], [0.25, '#FEE5D9'], \n",
    "                                 [0.5, '#FCAE91'], [0.75, '#FB6A4A'], [1.0, '#DE2D26']],\n",
    "                   colorbar = dict(title = \" Correlation coefficients\", titleside = \"right\"),\n",
    "                  )\n",
    "layout = go.Layout(dict(title = \"Correlation matrix\",\n",
    "                        autosize = False,\n",
    "                        height = 720,\n",
    "                        width = 800,\n",
    "                        margin = dict(r = 0, l = 210, t = 25, b = 210),\n",
    "                        yaxis = dict(tickfont = dict(size = 9)),\n",
    "                        xaxis = dict(tickfont = dict(size = 9))\n",
    "                       )\n",
    "                  )\n",
    "data = [trace]\n",
    "fig = go.Figure(data=data, layout=layout)\n",
    "py.iplot(fig)"
   ]
  },
  {
   "cell_type": "markdown",
   "id": "239c5d36",
   "metadata": {},
   "source": [
    "3. MODEL BUILLDING"
   ]
  },
  {
   "cell_type": "markdown",
   "id": "3c1ed4f9",
   "metadata": {},
   "source": [
    "DEFINE VARIABLES"
   ]
  },
  {
   "cell_type": "code",
   "execution_count": 15,
   "id": "00771247",
   "metadata": {},
   "outputs": [],
   "source": [
    "from sklearn.model_selection import train_test_split\n",
    "from sklearn.metrics import confusion_matrix, accuracy_score, classification_report, cohen_kappa_score\n",
    "from sklearn.metrics import roc_auc_score, roc_curve, f1_score, precision_score, recall_score\n",
    "from sklearn.metrics import precision_recall_curve, average_precision_score\n",
    "\n",
    "import statsmodels.api as sm\n",
    "\n",
    "#defining the studied or used independent features (columns) as well the target  \n",
    "\n",
    "target_col = ['Churn']\n",
    "cols = [i for i in churn_train.columns if i not in target_col]\n",
    "\n",
    "#SPLIT the principal training dataset into sub_train and sub_test datasets\n",
    "x_train, x_test, y_train, y_test = train_test_split(churn_train[cols], churn_train[target_col], \n",
    "                                                    test_size = .20, random_state = 111)\n",
    "\n",
    "#splitting the no scaled principal training dataset to subtrain and subtest datasets\n",
    "#x_train_og, x_test_og, y_train_og, y_test_og = train_test_split(df_telcom_ogrin[cols], churn_train[target_col],\n",
    "                                                                #test_size = .20, random_state = 111)"
   ]
  },
  {
   "cell_type": "markdown",
   "id": "3c16705a",
   "metadata": {},
   "source": [
    "3.1. KNN"
   ]
  },
  {
   "cell_type": "code",
   "execution_count": 16,
   "id": "cd3ecf09",
   "metadata": {},
   "outputs": [
    {
     "name": "stdout",
     "output_type": "stream",
     "text": [
      "Algorithm: KNeighborsClassifier\n",
      "\n",
      "Classification report:\n",
      "               precision    recall  f1-score   support\n",
      "\n",
      "           0       0.85      0.98      0.91       433\n",
      "           1       0.73      0.24      0.36       101\n",
      "\n",
      "    accuracy                           0.84       534\n",
      "   macro avg       0.79      0.61      0.63       534\n",
      "weighted avg       0.82      0.84      0.80       534\n",
      "\n",
      "Accuracy Score: 0.8389513108614233\n"
     ]
    },
    {
     "name": "stderr",
     "output_type": "stream",
     "text": [
      "/Users/macos/opt/anaconda3/lib/python3.9/site-packages/sklearn/neighbors/_classification.py:198: DataConversionWarning:\n",
      "\n",
      "A column-vector y was passed when a 1d array was expected. Please change the shape of y to (n_samples,), for example using ravel().\n",
      "\n",
      "/Users/macos/opt/anaconda3/lib/python3.9/site-packages/sklearn/neighbors/_classification.py:228: FutureWarning:\n",
      "\n",
      "Unlike other reduction functions (e.g. `skew`, `kurtosis`), the default behavior of `mode` typically preserves the axis it acts along. In SciPy 1.11.0, this behavior will change: the default value of `keepdims` will become False, the `axis` over which the statistic is taken will be eliminated, and the value None will no longer be accepted. Set `keepdims` to True or False to avoid this warning.\n",
      "\n"
     ]
    }
   ],
   "source": [
    "from sklearn.metrics import classification_report, accuracy_score\n",
    "from sklearn.model_selection import train_test_split\n",
    "from sklearn.neighbors import KNeighborsClassifier\n",
    "import matplotlib.pyplot as plt\n",
    "\n",
    "def telecom_churn_prediction(algorithm, training_x, testing_x, training_y, testing_y, cf, threshold_plot):\n",
    "    #component naming\n",
    "    algorithm.fit(training_x, training_y)\n",
    "    predictions = algorithm.predict(testing_x)\n",
    "    probabilities = algorithm.predict_proba(testing_x)\n",
    "        \n",
    "    print('Algorithm:', type(algorithm).__name__)\n",
    "    print(\"\\nClassification report:\\n\", classification_report(testing_y, predictions))\n",
    "    print(\"Accuracy Score:\", accuracy_score(testing_y, predictions))\n",
    "\n",
    "# Name the features (columns) and target\n",
    "X = [i for i in churn_train.columns if i not in target_col]\n",
    "y = ['Churn']\n",
    "\n",
    "# splitting the principal training dataset to subtrain and subtest datasets\n",
    "x_train, x_test, y_train, y_test = train_test_split(churn_train[X], churn_train[y], \n",
    "                                                    test_size = .20, random_state = 111)\n",
    "\n",
    "# KNN MODELING\n",
    "knn = KNeighborsClassifier(algorithm='auto', leaf_size=30, metric='minkowski',\n",
    "                           metric_params=None, n_jobs=1, n_neighbors=5, p=2,\n",
    "                           weights='uniform')\n",
    "telecom_churn_prediction(knn, x_train, x_test, y_train, y_test, 'None', threshold_plot=True)\n",
    "\n"
   ]
  },
  {
   "cell_type": "markdown",
   "id": "4a69aedd",
   "metadata": {},
   "source": [
    "3.2 DECISION TREE"
   ]
  },
  {
   "cell_type": "code",
   "execution_count": 17,
   "id": "d7261508",
   "metadata": {},
   "outputs": [
    {
     "name": "stdout",
     "output_type": "stream",
     "text": [
      "Algorithm: DecisionTreeClassifier\n",
      "\n",
      "Classification report:\n",
      "               precision    recall  f1-score   support\n",
      "\n",
      "           0       0.93      0.97      0.95       433\n",
      "           1       0.85      0.70      0.77       101\n",
      "\n",
      "    accuracy                           0.92       534\n",
      "   macro avg       0.89      0.84      0.86       534\n",
      "weighted avg       0.92      0.92      0.92       534\n",
      "\n",
      "Accuracy Score: 0.9194756554307116\n"
     ]
    },
    {
     "data": {
      "image/svg+xml": [
       "<svg xmlns=\"http://www.w3.org/2000/svg\" xmlns:xlink=\"http://www.w3.org/1999/xlink\" width=\"734pt\" height=\"139pt\" viewBox=\"0.00 0.00 734.00 139.27\">\n",
       "<g id=\"graph0\" class=\"graph\" transform=\"scale(0.14 0.14) rotate(0) translate(4 1024)\">\n",
       "<title>Tree</title>\n",
       "<polygon fill=\"white\" stroke=\"transparent\" points=\"-4,4 -4,-1024 5414,-1024 5414,4 -4,4\"/>\n",
       "<!-- 0 -->\n",
       "<g id=\"node1\" class=\"node\">\n",
       "<title>0</title>\n",
       "<path fill=\"#e99558\" stroke=\"black\" d=\"M4231.5,-1020C4231.5,-1020 4084.5,-1020 4084.5,-1020 4078.5,-1020 4072.5,-1014 4072.5,-1008 4072.5,-1008 4072.5,-949 4072.5,-949 4072.5,-943 4078.5,-937 4084.5,-937 4084.5,-937 4231.5,-937 4231.5,-937 4237.5,-937 4243.5,-943 4243.5,-949 4243.5,-949 4243.5,-1008 4243.5,-1008 4243.5,-1014 4237.5,-1020 4231.5,-1020\"/>\n",
       "<text text-anchor=\"start\" x=\"4080.5\" y=\"-1004.8\" font-family=\"Helvetica,sans-Serif\" font-size=\"14.00\">Total day minutes ≤ 264.4</text>\n",
       "<text text-anchor=\"start\" x=\"4126\" y=\"-989.8\" font-family=\"Helvetica,sans-Serif\" font-size=\"14.00\">gini = 0.23</text>\n",
       "<text text-anchor=\"start\" x=\"4109.5\" y=\"-974.8\" font-family=\"Helvetica,sans-Serif\" font-size=\"14.00\">samples = 2132</text>\n",
       "<text text-anchor=\"start\" x=\"4100\" y=\"-959.8\" font-family=\"Helvetica,sans-Serif\" font-size=\"14.00\">value = [1845, 287]</text>\n",
       "<text text-anchor=\"start\" x=\"4105\" y=\"-944.8\" font-family=\"Helvetica,sans-Serif\" font-size=\"14.00\">class = Not churn</text>\n",
       "</g>\n",
       "<!-- 1 -->\n",
       "<g id=\"node2\" class=\"node\">\n",
       "<title>1</title>\n",
       "<path fill=\"#e89051\" stroke=\"black\" d=\"M3755,-901C3755,-901 3625,-901 3625,-901 3619,-901 3613,-895 3613,-889 3613,-889 3613,-830 3613,-830 3613,-824 3619,-818 3625,-818 3625,-818 3755,-818 3755,-818 3761,-818 3767,-824 3767,-830 3767,-830 3767,-889 3767,-889 3767,-895 3761,-901 3755,-901\"/>\n",
       "<text text-anchor=\"start\" x=\"3621\" y=\"-885.8\" font-family=\"Helvetica,sans-Serif\" font-size=\"14.00\">International plan ≤ 0.5</text>\n",
       "<text text-anchor=\"start\" x=\"3658\" y=\"-870.8\" font-family=\"Helvetica,sans-Serif\" font-size=\"14.00\">gini = 0.19</text>\n",
       "<text text-anchor=\"start\" x=\"3641.5\" y=\"-855.8\" font-family=\"Helvetica,sans-Serif\" font-size=\"14.00\">samples = 2002</text>\n",
       "<text text-anchor=\"start\" x=\"3632\" y=\"-840.8\" font-family=\"Helvetica,sans-Serif\" font-size=\"14.00\">value = [1789, 213]</text>\n",
       "<text text-anchor=\"start\" x=\"3637\" y=\"-825.8\" font-family=\"Helvetica,sans-Serif\" font-size=\"14.00\">class = Not churn</text>\n",
       "</g>\n",
       "<!-- 0&#45;&gt;1 -->\n",
       "<g id=\"edge1\" class=\"edge\">\n",
       "<title>0-&gt;1</title>\n",
       "<path fill=\"none\" stroke=\"black\" d=\"M4072.43,-956.11C3988.58,-935.14 3861.41,-903.35 3777.05,-882.26\"/>\n",
       "<polygon fill=\"black\" stroke=\"black\" points=\"3777.79,-878.84 3767.24,-879.81 3776.09,-885.63 3777.79,-878.84\"/>\n",
       "<text text-anchor=\"middle\" x=\"3780.1\" y=\"-897.55\" font-family=\"Helvetica,sans-Serif\" font-size=\"14.00\">True</text>\n",
       "</g>\n",
       "<!-- 90 -->\n",
       "<g id=\"node91\" class=\"node\">\n",
       "<title>90</title>\n",
       "<path fill=\"#cfe7f9\" stroke=\"black\" d=\"M4535.5,-901C4535.5,-901 4416.5,-901 4416.5,-901 4410.5,-901 4404.5,-895 4404.5,-889 4404.5,-889 4404.5,-830 4404.5,-830 4404.5,-824 4410.5,-818 4416.5,-818 4416.5,-818 4535.5,-818 4535.5,-818 4541.5,-818 4547.5,-824 4547.5,-830 4547.5,-830 4547.5,-889 4547.5,-889 4547.5,-895 4541.5,-901 4535.5,-901\"/>\n",
       "<text text-anchor=\"start\" x=\"4412.5\" y=\"-885.8\" font-family=\"Helvetica,sans-Serif\" font-size=\"14.00\">Voice mail plan ≤ 0.5</text>\n",
       "<text text-anchor=\"start\" x=\"4444\" y=\"-870.8\" font-family=\"Helvetica,sans-Serif\" font-size=\"14.00\">gini = 0.49</text>\n",
       "<text text-anchor=\"start\" x=\"4431\" y=\"-855.8\" font-family=\"Helvetica,sans-Serif\" font-size=\"14.00\">samples = 130</text>\n",
       "<text text-anchor=\"start\" x=\"4429\" y=\"-840.8\" font-family=\"Helvetica,sans-Serif\" font-size=\"14.00\">value = [56, 74]</text>\n",
       "<text text-anchor=\"start\" x=\"4434\" y=\"-825.8\" font-family=\"Helvetica,sans-Serif\" font-size=\"14.00\">class = Churn</text>\n",
       "</g>\n",
       "<!-- 0&#45;&gt;90 -->\n",
       "<g id=\"edge90\" class=\"edge\">\n",
       "<title>0-&gt;90</title>\n",
       "<path fill=\"none\" stroke=\"black\" d=\"M4243.59,-940.67C4246.76,-939.42 4249.9,-938.19 4253,-937 4299.52,-919.13 4352.24,-900.95 4394.74,-886.8\"/>\n",
       "<polygon fill=\"black\" stroke=\"black\" points=\"4396.08,-890.04 4404.47,-883.57 4393.88,-883.4 4396.08,-890.04\"/>\n",
       "<text text-anchor=\"middle\" x=\"4393.26\" y=\"-902.22\" font-family=\"Helvetica,sans-Serif\" font-size=\"14.00\">False</text>\n",
       "</g>\n",
       "<!-- 2 -->\n",
       "<g id=\"node3\" class=\"node\">\n",
       "<title>2</title>\n",
       "<path fill=\"#e78b48\" stroke=\"black\" d=\"M2580.5,-782C2580.5,-782 2417.5,-782 2417.5,-782 2411.5,-782 2405.5,-776 2405.5,-770 2405.5,-770 2405.5,-711 2405.5,-711 2405.5,-705 2411.5,-699 2417.5,-699 2417.5,-699 2580.5,-699 2580.5,-699 2586.5,-699 2592.5,-705 2592.5,-711 2592.5,-711 2592.5,-770 2592.5,-770 2592.5,-776 2586.5,-782 2580.5,-782\"/>\n",
       "<text text-anchor=\"start\" x=\"2413.5\" y=\"-766.8\" font-family=\"Helvetica,sans-Serif\" font-size=\"14.00\">Customer service calls ≤ 3.5</text>\n",
       "<text text-anchor=\"start\" x=\"2467\" y=\"-751.8\" font-family=\"Helvetica,sans-Serif\" font-size=\"14.00\">gini = 0.13</text>\n",
       "<text text-anchor=\"start\" x=\"2450.5\" y=\"-736.8\" font-family=\"Helvetica,sans-Serif\" font-size=\"14.00\">samples = 1806</text>\n",
       "<text text-anchor=\"start\" x=\"2441\" y=\"-721.8\" font-family=\"Helvetica,sans-Serif\" font-size=\"14.00\">value = [1677, 129]</text>\n",
       "<text text-anchor=\"start\" x=\"2446\" y=\"-706.8\" font-family=\"Helvetica,sans-Serif\" font-size=\"14.00\">class = Not churn</text>\n",
       "</g>\n",
       "<!-- 1&#45;&gt;2 -->\n",
       "<g id=\"edge2\" class=\"edge\">\n",
       "<title>1-&gt;2</title>\n",
       "<path fill=\"none\" stroke=\"black\" d=\"M3612.77,-850.91C3405.67,-830.57 2837.76,-774.78 2602.83,-751.7\"/>\n",
       "<polygon fill=\"black\" stroke=\"black\" points=\"2602.87,-748.19 2592.58,-750.69 2602.19,-755.15 2602.87,-748.19\"/>\n",
       "</g>\n",
       "<!-- 71 -->\n",
       "<g id=\"node72\" class=\"node\">\n",
       "<title>71</title>\n",
       "<path fill=\"#f8e0ce\" stroke=\"black\" d=\"M3743.5,-782C3743.5,-782 3636.5,-782 3636.5,-782 3630.5,-782 3624.5,-776 3624.5,-770 3624.5,-770 3624.5,-711 3624.5,-711 3624.5,-705 3630.5,-699 3636.5,-699 3636.5,-699 3743.5,-699 3743.5,-699 3749.5,-699 3755.5,-705 3755.5,-711 3755.5,-711 3755.5,-770 3755.5,-770 3755.5,-776 3749.5,-782 3743.5,-782\"/>\n",
       "<text text-anchor=\"start\" x=\"3632.5\" y=\"-766.8\" font-family=\"Helvetica,sans-Serif\" font-size=\"14.00\">Total intl calls ≤ 2.5</text>\n",
       "<text text-anchor=\"start\" x=\"3658\" y=\"-751.8\" font-family=\"Helvetica,sans-Serif\" font-size=\"14.00\">gini = 0.49</text>\n",
       "<text text-anchor=\"start\" x=\"3645\" y=\"-736.8\" font-family=\"Helvetica,sans-Serif\" font-size=\"14.00\">samples = 196</text>\n",
       "<text text-anchor=\"start\" x=\"3639.5\" y=\"-721.8\" font-family=\"Helvetica,sans-Serif\" font-size=\"14.00\">value = [112, 84]</text>\n",
       "<text text-anchor=\"start\" x=\"3637\" y=\"-706.8\" font-family=\"Helvetica,sans-Serif\" font-size=\"14.00\">class = Not churn</text>\n",
       "</g>\n",
       "<!-- 1&#45;&gt;71 -->\n",
       "<g id=\"edge71\" class=\"edge\">\n",
       "<title>1-&gt;71</title>\n",
       "<path fill=\"none\" stroke=\"black\" d=\"M3690,-817.91C3690,-809.65 3690,-800.86 3690,-792.3\"/>\n",
       "<polygon fill=\"black\" stroke=\"black\" points=\"3693.5,-792.02 3690,-782.02 3686.5,-792.02 3693.5,-792.02\"/>\n",
       "</g>\n",
       "<!-- 3 -->\n",
       "<g id=\"node4\" class=\"node\">\n",
       "<title>3</title>\n",
       "<path fill=\"#e68742\" stroke=\"black\" d=\"M1558.5,-663C1558.5,-663 1403.5,-663 1403.5,-663 1397.5,-663 1391.5,-657 1391.5,-651 1391.5,-651 1391.5,-592 1391.5,-592 1391.5,-586 1397.5,-580 1403.5,-580 1403.5,-580 1558.5,-580 1558.5,-580 1564.5,-580 1570.5,-586 1570.5,-592 1570.5,-592 1570.5,-651 1570.5,-651 1570.5,-657 1564.5,-663 1558.5,-663\"/>\n",
       "<text text-anchor=\"start\" x=\"1399.5\" y=\"-647.8\" font-family=\"Helvetica,sans-Serif\" font-size=\"14.00\">Total day minutes ≤ 223.25</text>\n",
       "<text text-anchor=\"start\" x=\"1449\" y=\"-632.8\" font-family=\"Helvetica,sans-Serif\" font-size=\"14.00\">gini = 0.08</text>\n",
       "<text text-anchor=\"start\" x=\"1432.5\" y=\"-617.8\" font-family=\"Helvetica,sans-Serif\" font-size=\"14.00\">samples = 1681</text>\n",
       "<text text-anchor=\"start\" x=\"1426.5\" y=\"-602.8\" font-family=\"Helvetica,sans-Serif\" font-size=\"14.00\">value = [1610, 71]</text>\n",
       "<text text-anchor=\"start\" x=\"1428\" y=\"-587.8\" font-family=\"Helvetica,sans-Serif\" font-size=\"14.00\">class = Not churn</text>\n",
       "</g>\n",
       "<!-- 2&#45;&gt;3 -->\n",
       "<g id=\"edge3\" class=\"edge\">\n",
       "<title>2-&gt;3</title>\n",
       "<path fill=\"none\" stroke=\"black\" d=\"M2405.05,-728.7C2213.1,-706.64 1777.49,-656.58 1580.74,-633.96\"/>\n",
       "<polygon fill=\"black\" stroke=\"black\" points=\"1581.03,-630.47 1570.7,-632.81 1580.23,-637.43 1581.03,-630.47\"/>\n",
       "</g>\n",
       "<!-- 42 -->\n",
       "<g id=\"node43\" class=\"node\">\n",
       "<title>42</title>\n",
       "<path fill=\"#fceee4\" stroke=\"black\" d=\"M2576.5,-663C2576.5,-663 2421.5,-663 2421.5,-663 2415.5,-663 2409.5,-657 2409.5,-651 2409.5,-651 2409.5,-592 2409.5,-592 2409.5,-586 2415.5,-580 2421.5,-580 2421.5,-580 2576.5,-580 2576.5,-580 2582.5,-580 2588.5,-586 2588.5,-592 2588.5,-592 2588.5,-651 2588.5,-651 2588.5,-657 2582.5,-663 2576.5,-663\"/>\n",
       "<text text-anchor=\"start\" x=\"2417.5\" y=\"-647.8\" font-family=\"Helvetica,sans-Serif\" font-size=\"14.00\">Total day minutes ≤ 159.45</text>\n",
       "<text text-anchor=\"start\" x=\"2471\" y=\"-632.8\" font-family=\"Helvetica,sans-Serif\" font-size=\"14.00\">gini = 0.5</text>\n",
       "<text text-anchor=\"start\" x=\"2454\" y=\"-617.8\" font-family=\"Helvetica,sans-Serif\" font-size=\"14.00\">samples = 125</text>\n",
       "<text text-anchor=\"start\" x=\"2452\" y=\"-602.8\" font-family=\"Helvetica,sans-Serif\" font-size=\"14.00\">value = [67, 58]</text>\n",
       "<text text-anchor=\"start\" x=\"2446\" y=\"-587.8\" font-family=\"Helvetica,sans-Serif\" font-size=\"14.00\">class = Not churn</text>\n",
       "</g>\n",
       "<!-- 2&#45;&gt;42 -->\n",
       "<g id=\"edge42\" class=\"edge\">\n",
       "<title>2-&gt;42</title>\n",
       "<path fill=\"none\" stroke=\"black\" d=\"M2499,-698.91C2499,-690.65 2499,-681.86 2499,-673.3\"/>\n",
       "<polygon fill=\"black\" stroke=\"black\" points=\"2502.5,-673.02 2499,-663.02 2495.5,-673.02 2502.5,-673.02\"/>\n",
       "</g>\n",
       "<!-- 4 -->\n",
       "<g id=\"node5\" class=\"node\">\n",
       "<title>4</title>\n",
       "<path fill=\"#e6843e\" stroke=\"black\" d=\"M1052,-544C1052,-544 890,-544 890,-544 884,-544 878,-538 878,-532 878,-532 878,-473 878,-473 878,-467 884,-461 890,-461 890,-461 1052,-461 1052,-461 1058,-461 1064,-467 1064,-473 1064,-473 1064,-532 1064,-532 1064,-538 1058,-544 1052,-544\"/>\n",
       "<text text-anchor=\"start\" x=\"886\" y=\"-528.8\" font-family=\"Helvetica,sans-Serif\" font-size=\"14.00\">Total night minutes ≤ 238.55</text>\n",
       "<text text-anchor=\"start\" x=\"939\" y=\"-513.8\" font-family=\"Helvetica,sans-Serif\" font-size=\"14.00\">gini = 0.05</text>\n",
       "<text text-anchor=\"start\" x=\"922.5\" y=\"-498.8\" font-family=\"Helvetica,sans-Serif\" font-size=\"14.00\">samples = 1443</text>\n",
       "<text text-anchor=\"start\" x=\"916.5\" y=\"-483.8\" font-family=\"Helvetica,sans-Serif\" font-size=\"14.00\">value = [1406, 37]</text>\n",
       "<text text-anchor=\"start\" x=\"918\" y=\"-468.8\" font-family=\"Helvetica,sans-Serif\" font-size=\"14.00\">class = Not churn</text>\n",
       "</g>\n",
       "<!-- 3&#45;&gt;4 -->\n",
       "<g id=\"edge4\" class=\"edge\">\n",
       "<title>3-&gt;4</title>\n",
       "<path fill=\"none\" stroke=\"black\" d=\"M1391.29,-599.92C1302.63,-579.58 1167.13,-548.49 1074.09,-527.15\"/>\n",
       "<polygon fill=\"black\" stroke=\"black\" points=\"1074.62,-523.68 1064.09,-524.86 1073.05,-530.5 1074.62,-523.68\"/>\n",
       "</g>\n",
       "<!-- 25 -->\n",
       "<g id=\"node26\" class=\"node\">\n",
       "<title>25</title>\n",
       "<path fill=\"#e9965a\" stroke=\"black\" d=\"M1554.5,-544C1554.5,-544 1407.5,-544 1407.5,-544 1401.5,-544 1395.5,-538 1395.5,-532 1395.5,-532 1395.5,-473 1395.5,-473 1395.5,-467 1401.5,-461 1407.5,-461 1407.5,-461 1554.5,-461 1554.5,-461 1560.5,-461 1566.5,-467 1566.5,-473 1566.5,-473 1566.5,-532 1566.5,-532 1566.5,-538 1560.5,-544 1554.5,-544\"/>\n",
       "<text text-anchor=\"start\" x=\"1403.5\" y=\"-528.8\" font-family=\"Helvetica,sans-Serif\" font-size=\"14.00\">Total eve minutes ≤ 244.9</text>\n",
       "<text text-anchor=\"start\" x=\"1449\" y=\"-513.8\" font-family=\"Helvetica,sans-Serif\" font-size=\"14.00\">gini = 0.24</text>\n",
       "<text text-anchor=\"start\" x=\"1436\" y=\"-498.8\" font-family=\"Helvetica,sans-Serif\" font-size=\"14.00\">samples = 238</text>\n",
       "<text text-anchor=\"start\" x=\"1430.5\" y=\"-483.8\" font-family=\"Helvetica,sans-Serif\" font-size=\"14.00\">value = [204, 34]</text>\n",
       "<text text-anchor=\"start\" x=\"1428\" y=\"-468.8\" font-family=\"Helvetica,sans-Serif\" font-size=\"14.00\">class = Not churn</text>\n",
       "</g>\n",
       "<!-- 3&#45;&gt;25 -->\n",
       "<g id=\"edge25\" class=\"edge\">\n",
       "<title>3-&gt;25</title>\n",
       "<path fill=\"none\" stroke=\"black\" d=\"M1481,-579.91C1481,-571.65 1481,-562.86 1481,-554.3\"/>\n",
       "<polygon fill=\"black\" stroke=\"black\" points=\"1484.5,-554.02 1481,-544.02 1477.5,-554.02 1484.5,-554.02\"/>\n",
       "</g>\n",
       "<!-- 5 -->\n",
       "<g id=\"node6\" class=\"node\">\n",
       "<title>5</title>\n",
       "<path fill=\"#e5833d\" stroke=\"black\" d=\"M664.5,-425C664.5,-425 533.5,-425 533.5,-425 527.5,-425 521.5,-419 521.5,-413 521.5,-413 521.5,-354 521.5,-354 521.5,-348 527.5,-342 533.5,-342 533.5,-342 664.5,-342 664.5,-342 670.5,-342 676.5,-348 676.5,-354 676.5,-354 676.5,-413 676.5,-413 676.5,-419 670.5,-425 664.5,-425\"/>\n",
       "<text text-anchor=\"start\" x=\"529.5\" y=\"-409.8\" font-family=\"Helvetica,sans-Serif\" font-size=\"14.00\">Account length ≤ 224.5</text>\n",
       "<text text-anchor=\"start\" x=\"567\" y=\"-394.8\" font-family=\"Helvetica,sans-Serif\" font-size=\"14.00\">gini = 0.03</text>\n",
       "<text text-anchor=\"start\" x=\"550.5\" y=\"-379.8\" font-family=\"Helvetica,sans-Serif\" font-size=\"14.00\">samples = 1091</text>\n",
       "<text text-anchor=\"start\" x=\"544.5\" y=\"-364.8\" font-family=\"Helvetica,sans-Serif\" font-size=\"14.00\">value = [1072, 19]</text>\n",
       "<text text-anchor=\"start\" x=\"546\" y=\"-349.8\" font-family=\"Helvetica,sans-Serif\" font-size=\"14.00\">class = Not churn</text>\n",
       "</g>\n",
       "<!-- 4&#45;&gt;5 -->\n",
       "<g id=\"edge5\" class=\"edge\">\n",
       "<title>4-&gt;5</title>\n",
       "<path fill=\"none\" stroke=\"black\" d=\"M877.61,-472.13C819.01,-453.7 743.96,-430.09 686.51,-412.02\"/>\n",
       "<polygon fill=\"black\" stroke=\"black\" points=\"687.32,-408.61 676.73,-408.95 685.22,-415.29 687.32,-408.61\"/>\n",
       "</g>\n",
       "<!-- 16 -->\n",
       "<g id=\"node17\" class=\"node\">\n",
       "<title>16</title>\n",
       "<path fill=\"#e68844\" stroke=\"black\" d=\"M1044.5,-425C1044.5,-425 897.5,-425 897.5,-425 891.5,-425 885.5,-419 885.5,-413 885.5,-413 885.5,-354 885.5,-354 885.5,-348 891.5,-342 897.5,-342 897.5,-342 1044.5,-342 1044.5,-342 1050.5,-342 1056.5,-348 1056.5,-354 1056.5,-354 1056.5,-413 1056.5,-413 1056.5,-419 1050.5,-425 1044.5,-425\"/>\n",
       "<text text-anchor=\"start\" x=\"893.5\" y=\"-409.8\" font-family=\"Helvetica,sans-Serif\" font-size=\"14.00\">Total eve minutes ≤ 339.7</text>\n",
       "<text text-anchor=\"start\" x=\"943\" y=\"-394.8\" font-family=\"Helvetica,sans-Serif\" font-size=\"14.00\">gini = 0.1</text>\n",
       "<text text-anchor=\"start\" x=\"926\" y=\"-379.8\" font-family=\"Helvetica,sans-Serif\" font-size=\"14.00\">samples = 352</text>\n",
       "<text text-anchor=\"start\" x=\"920.5\" y=\"-364.8\" font-family=\"Helvetica,sans-Serif\" font-size=\"14.00\">value = [334, 18]</text>\n",
       "<text text-anchor=\"start\" x=\"918\" y=\"-349.8\" font-family=\"Helvetica,sans-Serif\" font-size=\"14.00\">class = Not churn</text>\n",
       "</g>\n",
       "<!-- 4&#45;&gt;16 -->\n",
       "<g id=\"edge16\" class=\"edge\">\n",
       "<title>4-&gt;16</title>\n",
       "<path fill=\"none\" stroke=\"black\" d=\"M971,-460.91C971,-452.65 971,-443.86 971,-435.3\"/>\n",
       "<polygon fill=\"black\" stroke=\"black\" points=\"974.5,-435.02 971,-425.02 967.5,-435.02 974.5,-435.02\"/>\n",
       "</g>\n",
       "<!-- 6 -->\n",
       "<g id=\"node7\" class=\"node\">\n",
       "<title>6</title>\n",
       "<path fill=\"#e5833c\" stroke=\"black\" d=\"M434,-306C434,-306 308,-306 308,-306 302,-306 296,-300 296,-294 296,-294 296,-235 296,-235 296,-229 302,-223 308,-223 308,-223 434,-223 434,-223 440,-223 446,-229 446,-235 446,-235 446,-294 446,-294 446,-300 440,-306 434,-306\"/>\n",
       "<text text-anchor=\"start\" x=\"304\" y=\"-290.8\" font-family=\"Helvetica,sans-Serif\" font-size=\"14.00\">Total day calls ≤ 128.5</text>\n",
       "<text text-anchor=\"start\" x=\"339\" y=\"-275.8\" font-family=\"Helvetica,sans-Serif\" font-size=\"14.00\">gini = 0.03</text>\n",
       "<text text-anchor=\"start\" x=\"322.5\" y=\"-260.8\" font-family=\"Helvetica,sans-Serif\" font-size=\"14.00\">samples = 1089</text>\n",
       "<text text-anchor=\"start\" x=\"316.5\" y=\"-245.8\" font-family=\"Helvetica,sans-Serif\" font-size=\"14.00\">value = [1071, 18]</text>\n",
       "<text text-anchor=\"start\" x=\"318\" y=\"-230.8\" font-family=\"Helvetica,sans-Serif\" font-size=\"14.00\">class = Not churn</text>\n",
       "</g>\n",
       "<!-- 5&#45;&gt;6 -->\n",
       "<g id=\"edge6\" class=\"edge\">\n",
       "<title>5-&gt;6</title>\n",
       "<path fill=\"none\" stroke=\"black\" d=\"M521.49,-342.73C500.26,-331.83 477.13,-319.96 455.52,-308.87\"/>\n",
       "<polygon fill=\"black\" stroke=\"black\" points=\"456.86,-305.63 446.36,-304.17 453.66,-311.85 456.86,-305.63\"/>\n",
       "</g>\n",
       "<!-- 13 -->\n",
       "<g id=\"node14\" class=\"node\">\n",
       "<title>13</title>\n",
       "<path fill=\"#ffffff\" stroke=\"black\" d=\"M676.5,-306C676.5,-306 521.5,-306 521.5,-306 515.5,-306 509.5,-300 509.5,-294 509.5,-294 509.5,-235 509.5,-235 509.5,-229 515.5,-223 521.5,-223 521.5,-223 676.5,-223 676.5,-223 682.5,-223 688.5,-229 688.5,-235 688.5,-235 688.5,-294 688.5,-294 688.5,-300 682.5,-306 676.5,-306\"/>\n",
       "<text text-anchor=\"start\" x=\"517.5\" y=\"-290.8\" font-family=\"Helvetica,sans-Serif\" font-size=\"14.00\">Total night minutes ≤ 214.0</text>\n",
       "<text text-anchor=\"start\" x=\"571\" y=\"-275.8\" font-family=\"Helvetica,sans-Serif\" font-size=\"14.00\">gini = 0.5</text>\n",
       "<text text-anchor=\"start\" x=\"561.5\" y=\"-260.8\" font-family=\"Helvetica,sans-Serif\" font-size=\"14.00\">samples = 2</text>\n",
       "<text text-anchor=\"start\" x=\"559.5\" y=\"-245.8\" font-family=\"Helvetica,sans-Serif\" font-size=\"14.00\">value = [1, 1]</text>\n",
       "<text text-anchor=\"start\" x=\"546\" y=\"-230.8\" font-family=\"Helvetica,sans-Serif\" font-size=\"14.00\">class = Not churn</text>\n",
       "</g>\n",
       "<!-- 5&#45;&gt;13 -->\n",
       "<g id=\"edge13\" class=\"edge\">\n",
       "<title>5-&gt;13</title>\n",
       "<path fill=\"none\" stroke=\"black\" d=\"M599,-341.91C599,-333.65 599,-324.86 599,-316.3\"/>\n",
       "<polygon fill=\"black\" stroke=\"black\" points=\"602.5,-316.02 599,-306.02 595.5,-316.02 602.5,-316.02\"/>\n",
       "</g>\n",
       "<!-- 7 -->\n",
       "<g id=\"node8\" class=\"node\">\n",
       "<title>7</title>\n",
       "<path fill=\"#e5833c\" stroke=\"black\" d=\"M264.5,-187C264.5,-187 117.5,-187 117.5,-187 111.5,-187 105.5,-181 105.5,-175 105.5,-175 105.5,-116 105.5,-116 105.5,-110 111.5,-104 117.5,-104 117.5,-104 264.5,-104 264.5,-104 270.5,-104 276.5,-110 276.5,-116 276.5,-116 276.5,-175 276.5,-175 276.5,-181 270.5,-187 264.5,-187\"/>\n",
       "<text text-anchor=\"start\" x=\"113.5\" y=\"-171.8\" font-family=\"Helvetica,sans-Serif\" font-size=\"14.00\">Total eve minutes ≤ 170.8</text>\n",
       "<text text-anchor=\"start\" x=\"159\" y=\"-156.8\" font-family=\"Helvetica,sans-Serif\" font-size=\"14.00\">gini = 0.03</text>\n",
       "<text text-anchor=\"start\" x=\"142.5\" y=\"-141.8\" font-family=\"Helvetica,sans-Serif\" font-size=\"14.00\">samples = 1011</text>\n",
       "<text text-anchor=\"start\" x=\"140.5\" y=\"-126.8\" font-family=\"Helvetica,sans-Serif\" font-size=\"14.00\">value = [998, 13]</text>\n",
       "<text text-anchor=\"start\" x=\"138\" y=\"-111.8\" font-family=\"Helvetica,sans-Serif\" font-size=\"14.00\">class = Not churn</text>\n",
       "</g>\n",
       "<!-- 6&#45;&gt;7 -->\n",
       "<g id=\"edge7\" class=\"edge\">\n",
       "<title>6-&gt;7</title>\n",
       "<path fill=\"none\" stroke=\"black\" d=\"M308.55,-222.91C293.47,-213.11 277.25,-202.56 261.82,-192.53\"/>\n",
       "<polygon fill=\"black\" stroke=\"black\" points=\"263.63,-189.54 253.34,-187.02 259.82,-195.41 263.63,-189.54\"/>\n",
       "</g>\n",
       "<!-- 10 -->\n",
       "<g id=\"node11\" class=\"node\">\n",
       "<title>10</title>\n",
       "<path fill=\"#e78a47\" stroke=\"black\" d=\"M435,-187C435,-187 307,-187 307,-187 301,-187 295,-181 295,-175 295,-175 295,-116 295,-116 295,-110 301,-104 307,-104 307,-104 435,-104 435,-104 441,-104 447,-110 447,-116 447,-116 447,-175 447,-175 447,-181 441,-187 435,-187\"/>\n",
       "<text text-anchor=\"start\" x=\"303\" y=\"-171.8\" font-family=\"Helvetica,sans-Serif\" font-size=\"14.00\">Total intl minutes ≤ 5.9</text>\n",
       "<text text-anchor=\"start\" x=\"339\" y=\"-156.8\" font-family=\"Helvetica,sans-Serif\" font-size=\"14.00\">gini = 0.12</text>\n",
       "<text text-anchor=\"start\" x=\"330\" y=\"-141.8\" font-family=\"Helvetica,sans-Serif\" font-size=\"14.00\">samples = 78</text>\n",
       "<text text-anchor=\"start\" x=\"328\" y=\"-126.8\" font-family=\"Helvetica,sans-Serif\" font-size=\"14.00\">value = [73, 5]</text>\n",
       "<text text-anchor=\"start\" x=\"318\" y=\"-111.8\" font-family=\"Helvetica,sans-Serif\" font-size=\"14.00\">class = Not churn</text>\n",
       "</g>\n",
       "<!-- 6&#45;&gt;10 -->\n",
       "<g id=\"edge10\" class=\"edge\">\n",
       "<title>6-&gt;10</title>\n",
       "<path fill=\"none\" stroke=\"black\" d=\"M371,-222.91C371,-214.65 371,-205.86 371,-197.3\"/>\n",
       "<polygon fill=\"black\" stroke=\"black\" points=\"374.5,-197.02 371,-187.02 367.5,-197.02 374.5,-197.02\"/>\n",
       "</g>\n",
       "<!-- 8 -->\n",
       "<g id=\"node9\" class=\"node\">\n",
       "<title>8</title>\n",
       "<path fill=\"#e58139\" stroke=\"black\" d=\"M110,-68C110,-68 12,-68 12,-68 6,-68 0,-62 0,-56 0,-56 0,-12 0,-12 0,-6 6,0 12,0 12,0 110,0 110,0 116,0 122,-6 122,-12 122,-12 122,-56 122,-56 122,-62 116,-68 110,-68\"/>\n",
       "<text text-anchor=\"start\" x=\"33\" y=\"-52.8\" font-family=\"Helvetica,sans-Serif\" font-size=\"14.00\">gini = 0.0</text>\n",
       "<text text-anchor=\"start\" x=\"16\" y=\"-37.8\" font-family=\"Helvetica,sans-Serif\" font-size=\"14.00\">samples = 316</text>\n",
       "<text text-anchor=\"start\" x=\"14\" y=\"-22.8\" font-family=\"Helvetica,sans-Serif\" font-size=\"14.00\">value = [316, 0]</text>\n",
       "<text text-anchor=\"start\" x=\"8\" y=\"-7.8\" font-family=\"Helvetica,sans-Serif\" font-size=\"14.00\">class = Not churn</text>\n",
       "</g>\n",
       "<!-- 7&#45;&gt;8 -->\n",
       "<g id=\"edge8\" class=\"edge\">\n",
       "<title>7-&gt;8</title>\n",
       "<path fill=\"none\" stroke=\"black\" d=\"M142.59,-103.73C131.44,-94.33 119.59,-84.35 108.47,-74.99\"/>\n",
       "<polygon fill=\"black\" stroke=\"black\" points=\"110.44,-72.06 100.53,-68.3 105.93,-77.42 110.44,-72.06\"/>\n",
       "</g>\n",
       "<!-- 9 -->\n",
       "<g id=\"node10\" class=\"node\">\n",
       "<title>9</title>\n",
       "<path fill=\"#e5833d\" stroke=\"black\" d=\"M250,-68C250,-68 152,-68 152,-68 146,-68 140,-62 140,-56 140,-56 140,-12 140,-12 140,-6 146,0 152,0 152,0 250,0 250,0 256,0 262,-6 262,-12 262,-12 262,-56 262,-56 262,-62 256,-68 250,-68\"/>\n",
       "<text text-anchor=\"start\" x=\"169\" y=\"-52.8\" font-family=\"Helvetica,sans-Serif\" font-size=\"14.00\">gini = 0.04</text>\n",
       "<text text-anchor=\"start\" x=\"156\" y=\"-37.8\" font-family=\"Helvetica,sans-Serif\" font-size=\"14.00\">samples = 695</text>\n",
       "<text text-anchor=\"start\" x=\"150.5\" y=\"-22.8\" font-family=\"Helvetica,sans-Serif\" font-size=\"14.00\">value = [682, 13]</text>\n",
       "<text text-anchor=\"start\" x=\"148\" y=\"-7.8\" font-family=\"Helvetica,sans-Serif\" font-size=\"14.00\">class = Not churn</text>\n",
       "</g>\n",
       "<!-- 7&#45;&gt;9 -->\n",
       "<g id=\"edge9\" class=\"edge\">\n",
       "<title>7-&gt;9</title>\n",
       "<path fill=\"none\" stroke=\"black\" d=\"M194.72,-103.73C195.48,-95.43 196.28,-86.67 197.05,-78.28\"/>\n",
       "<polygon fill=\"black\" stroke=\"black\" points=\"200.53,-78.58 197.96,-68.3 193.56,-77.94 200.53,-78.58\"/>\n",
       "</g>\n",
       "<!-- 11 -->\n",
       "<g id=\"node12\" class=\"node\">\n",
       "<title>11</title>\n",
       "<path fill=\"#f6d5bd\" stroke=\"black\" d=\"M410,-68C410,-68 312,-68 312,-68 306,-68 300,-62 300,-56 300,-56 300,-12 300,-12 300,-6 306,0 312,0 312,0 410,0 410,0 416,0 422,-6 422,-12 422,-12 422,-56 422,-56 422,-62 416,-68 410,-68\"/>\n",
       "<text text-anchor=\"start\" x=\"329\" y=\"-52.8\" font-family=\"Helvetica,sans-Serif\" font-size=\"14.00\">gini = 0.48</text>\n",
       "<text text-anchor=\"start\" x=\"323.5\" y=\"-37.8\" font-family=\"Helvetica,sans-Serif\" font-size=\"14.00\">samples = 5</text>\n",
       "<text text-anchor=\"start\" x=\"321.5\" y=\"-22.8\" font-family=\"Helvetica,sans-Serif\" font-size=\"14.00\">value = [3, 2]</text>\n",
       "<text text-anchor=\"start\" x=\"308\" y=\"-7.8\" font-family=\"Helvetica,sans-Serif\" font-size=\"14.00\">class = Not churn</text>\n",
       "</g>\n",
       "<!-- 10&#45;&gt;11 -->\n",
       "<g id=\"edge11\" class=\"edge\">\n",
       "<title>10-&gt;11</title>\n",
       "<path fill=\"none\" stroke=\"black\" d=\"M367.28,-103.73C366.52,-95.43 365.72,-86.67 364.95,-78.28\"/>\n",
       "<polygon fill=\"black\" stroke=\"black\" points=\"368.44,-77.94 364.04,-68.3 361.47,-78.58 368.44,-77.94\"/>\n",
       "</g>\n",
       "<!-- 12 -->\n",
       "<g id=\"node13\" class=\"node\">\n",
       "<title>12</title>\n",
       "<path fill=\"#e68641\" stroke=\"black\" d=\"M550,-68C550,-68 452,-68 452,-68 446,-68 440,-62 440,-56 440,-56 440,-12 440,-12 440,-6 446,0 452,0 452,0 550,0 550,0 556,0 562,-6 562,-12 562,-12 562,-56 562,-56 562,-62 556,-68 550,-68\"/>\n",
       "<text text-anchor=\"start\" x=\"469\" y=\"-52.8\" font-family=\"Helvetica,sans-Serif\" font-size=\"14.00\">gini = 0.08</text>\n",
       "<text text-anchor=\"start\" x=\"460\" y=\"-37.8\" font-family=\"Helvetica,sans-Serif\" font-size=\"14.00\">samples = 73</text>\n",
       "<text text-anchor=\"start\" x=\"458\" y=\"-22.8\" font-family=\"Helvetica,sans-Serif\" font-size=\"14.00\">value = [70, 3]</text>\n",
       "<text text-anchor=\"start\" x=\"448\" y=\"-7.8\" font-family=\"Helvetica,sans-Serif\" font-size=\"14.00\">class = Not churn</text>\n",
       "</g>\n",
       "<!-- 10&#45;&gt;12 -->\n",
       "<g id=\"edge12\" class=\"edge\">\n",
       "<title>10-&gt;12</title>\n",
       "<path fill=\"none\" stroke=\"black\" d=\"M419.41,-103.73C430.56,-94.33 442.41,-84.35 453.53,-74.99\"/>\n",
       "<polygon fill=\"black\" stroke=\"black\" points=\"456.07,-77.42 461.47,-68.3 451.56,-72.06 456.07,-77.42\"/>\n",
       "</g>\n",
       "<!-- 14 -->\n",
       "<g id=\"node15\" class=\"node\">\n",
       "<title>14</title>\n",
       "<path fill=\"#399de5\" stroke=\"black\" d=\"M553,-179.5C553,-179.5 477,-179.5 477,-179.5 471,-179.5 465,-173.5 465,-167.5 465,-167.5 465,-123.5 465,-123.5 465,-117.5 471,-111.5 477,-111.5 477,-111.5 553,-111.5 553,-111.5 559,-111.5 565,-117.5 565,-123.5 565,-123.5 565,-167.5 565,-167.5 565,-173.5 559,-179.5 553,-179.5\"/>\n",
       "<text text-anchor=\"start\" x=\"487\" y=\"-164.3\" font-family=\"Helvetica,sans-Serif\" font-size=\"14.00\">gini = 0.0</text>\n",
       "<text text-anchor=\"start\" x=\"477.5\" y=\"-149.3\" font-family=\"Helvetica,sans-Serif\" font-size=\"14.00\">samples = 1</text>\n",
       "<text text-anchor=\"start\" x=\"475.5\" y=\"-134.3\" font-family=\"Helvetica,sans-Serif\" font-size=\"14.00\">value = [0, 1]</text>\n",
       "<text text-anchor=\"start\" x=\"473\" y=\"-119.3\" font-family=\"Helvetica,sans-Serif\" font-size=\"14.00\">class = Churn</text>\n",
       "</g>\n",
       "<!-- 13&#45;&gt;14 -->\n",
       "<g id=\"edge14\" class=\"edge\">\n",
       "<title>13-&gt;14</title>\n",
       "<path fill=\"none\" stroke=\"black\" d=\"M569.86,-222.91C561.78,-211.65 552.99,-199.42 544.87,-188.11\"/>\n",
       "<polygon fill=\"black\" stroke=\"black\" points=\"547.49,-185.75 538.81,-179.67 541.8,-189.83 547.49,-185.75\"/>\n",
       "</g>\n",
       "<!-- 15 -->\n",
       "<g id=\"node16\" class=\"node\">\n",
       "<title>15</title>\n",
       "<path fill=\"#e58139\" stroke=\"black\" d=\"M693,-179.5C693,-179.5 595,-179.5 595,-179.5 589,-179.5 583,-173.5 583,-167.5 583,-167.5 583,-123.5 583,-123.5 583,-117.5 589,-111.5 595,-111.5 595,-111.5 693,-111.5 693,-111.5 699,-111.5 705,-117.5 705,-123.5 705,-123.5 705,-167.5 705,-167.5 705,-173.5 699,-179.5 693,-179.5\"/>\n",
       "<text text-anchor=\"start\" x=\"616\" y=\"-164.3\" font-family=\"Helvetica,sans-Serif\" font-size=\"14.00\">gini = 0.0</text>\n",
       "<text text-anchor=\"start\" x=\"606.5\" y=\"-149.3\" font-family=\"Helvetica,sans-Serif\" font-size=\"14.00\">samples = 1</text>\n",
       "<text text-anchor=\"start\" x=\"604.5\" y=\"-134.3\" font-family=\"Helvetica,sans-Serif\" font-size=\"14.00\">value = [1, 0]</text>\n",
       "<text text-anchor=\"start\" x=\"591\" y=\"-119.3\" font-family=\"Helvetica,sans-Serif\" font-size=\"14.00\">class = Not churn</text>\n",
       "</g>\n",
       "<!-- 13&#45;&gt;15 -->\n",
       "<g id=\"edge15\" class=\"edge\">\n",
       "<title>13-&gt;15</title>\n",
       "<path fill=\"none\" stroke=\"black\" d=\"M614.61,-222.91C618.81,-211.98 623.37,-200.14 627.61,-189.11\"/>\n",
       "<polygon fill=\"black\" stroke=\"black\" points=\"630.92,-190.26 631.24,-179.67 624.39,-187.74 630.92,-190.26\"/>\n",
       "</g>\n",
       "<!-- 17 -->\n",
       "<g id=\"node18\" class=\"node\">\n",
       "<title>17</title>\n",
       "<path fill=\"#e68743\" stroke=\"black\" d=\"M969.5,-306C969.5,-306 814.5,-306 814.5,-306 808.5,-306 802.5,-300 802.5,-294 802.5,-294 802.5,-235 802.5,-235 802.5,-229 808.5,-223 814.5,-223 814.5,-223 969.5,-223 969.5,-223 975.5,-223 981.5,-229 981.5,-235 981.5,-235 981.5,-294 981.5,-294 981.5,-300 975.5,-306 969.5,-306\"/>\n",
       "<text text-anchor=\"start\" x=\"810.5\" y=\"-290.8\" font-family=\"Helvetica,sans-Serif\" font-size=\"14.00\">Total night minutes ≤ 238.7</text>\n",
       "<text text-anchor=\"start\" x=\"860\" y=\"-275.8\" font-family=\"Helvetica,sans-Serif\" font-size=\"14.00\">gini = 0.09</text>\n",
       "<text text-anchor=\"start\" x=\"847\" y=\"-260.8\" font-family=\"Helvetica,sans-Serif\" font-size=\"14.00\">samples = 351</text>\n",
       "<text text-anchor=\"start\" x=\"841.5\" y=\"-245.8\" font-family=\"Helvetica,sans-Serif\" font-size=\"14.00\">value = [334, 17]</text>\n",
       "<text text-anchor=\"start\" x=\"839\" y=\"-230.8\" font-family=\"Helvetica,sans-Serif\" font-size=\"14.00\">class = Not churn</text>\n",
       "</g>\n",
       "<!-- 16&#45;&gt;17 -->\n",
       "<g id=\"edge17\" class=\"edge\">\n",
       "<title>16-&gt;17</title>\n",
       "<path fill=\"none\" stroke=\"black\" d=\"M943.59,-341.91C937.59,-333.01 931.17,-323.51 924.97,-314.33\"/>\n",
       "<polygon fill=\"black\" stroke=\"black\" points=\"927.86,-312.35 919.36,-306.02 922.06,-316.27 927.86,-312.35\"/>\n",
       "</g>\n",
       "<!-- 24 -->\n",
       "<g id=\"node25\" class=\"node\">\n",
       "<title>24</title>\n",
       "<path fill=\"#399de5\" stroke=\"black\" d=\"M1088,-298.5C1088,-298.5 1012,-298.5 1012,-298.5 1006,-298.5 1000,-292.5 1000,-286.5 1000,-286.5 1000,-242.5 1000,-242.5 1000,-236.5 1006,-230.5 1012,-230.5 1012,-230.5 1088,-230.5 1088,-230.5 1094,-230.5 1100,-236.5 1100,-242.5 1100,-242.5 1100,-286.5 1100,-286.5 1100,-292.5 1094,-298.5 1088,-298.5\"/>\n",
       "<text text-anchor=\"start\" x=\"1022\" y=\"-283.3\" font-family=\"Helvetica,sans-Serif\" font-size=\"14.00\">gini = 0.0</text>\n",
       "<text text-anchor=\"start\" x=\"1012.5\" y=\"-268.3\" font-family=\"Helvetica,sans-Serif\" font-size=\"14.00\">samples = 1</text>\n",
       "<text text-anchor=\"start\" x=\"1010.5\" y=\"-253.3\" font-family=\"Helvetica,sans-Serif\" font-size=\"14.00\">value = [0, 1]</text>\n",
       "<text text-anchor=\"start\" x=\"1008\" y=\"-238.3\" font-family=\"Helvetica,sans-Serif\" font-size=\"14.00\">class = Churn</text>\n",
       "</g>\n",
       "<!-- 16&#45;&gt;24 -->\n",
       "<g id=\"edge24\" class=\"edge\">\n",
       "<title>16-&gt;24</title>\n",
       "<path fill=\"none\" stroke=\"black\" d=\"M998.41,-341.91C1006.01,-330.65 1014.27,-318.42 1021.91,-307.11\"/>\n",
       "<polygon fill=\"black\" stroke=\"black\" points=\"1024.91,-308.91 1027.61,-298.67 1019.11,-305 1024.91,-308.91\"/>\n",
       "</g>\n",
       "<!-- 18 -->\n",
       "<g id=\"node19\" class=\"node\">\n",
       "<title>18</title>\n",
       "<path fill=\"#ffffff\" stroke=\"black\" d=\"M890.5,-187C890.5,-187 735.5,-187 735.5,-187 729.5,-187 723.5,-181 723.5,-175 723.5,-175 723.5,-116 723.5,-116 723.5,-110 729.5,-104 735.5,-104 735.5,-104 890.5,-104 890.5,-104 896.5,-104 902.5,-110 902.5,-116 902.5,-116 902.5,-175 902.5,-175 902.5,-181 896.5,-187 890.5,-187\"/>\n",
       "<text text-anchor=\"start\" x=\"731.5\" y=\"-171.8\" font-family=\"Helvetica,sans-Serif\" font-size=\"14.00\">Total eve minutes ≤ 200.05</text>\n",
       "<text text-anchor=\"start\" x=\"785\" y=\"-156.8\" font-family=\"Helvetica,sans-Serif\" font-size=\"14.00\">gini = 0.5</text>\n",
       "<text text-anchor=\"start\" x=\"775.5\" y=\"-141.8\" font-family=\"Helvetica,sans-Serif\" font-size=\"14.00\">samples = 2</text>\n",
       "<text text-anchor=\"start\" x=\"773.5\" y=\"-126.8\" font-family=\"Helvetica,sans-Serif\" font-size=\"14.00\">value = [1, 1]</text>\n",
       "<text text-anchor=\"start\" x=\"760\" y=\"-111.8\" font-family=\"Helvetica,sans-Serif\" font-size=\"14.00\">class = Not churn</text>\n",
       "</g>\n",
       "<!-- 17&#45;&gt;18 -->\n",
       "<g id=\"edge18\" class=\"edge\">\n",
       "<title>17-&gt;18</title>\n",
       "<path fill=\"none\" stroke=\"black\" d=\"M864.59,-222.91C858.59,-214.01 852.17,-204.51 845.97,-195.33\"/>\n",
       "<polygon fill=\"black\" stroke=\"black\" points=\"848.86,-193.35 840.36,-187.02 843.06,-197.27 848.86,-193.35\"/>\n",
       "</g>\n",
       "<!-- 21 -->\n",
       "<g id=\"node22\" class=\"node\">\n",
       "<title>21</title>\n",
       "<path fill=\"#e68743\" stroke=\"black\" d=\"M1067,-187C1067,-187 933,-187 933,-187 927,-187 921,-181 921,-175 921,-175 921,-116 921,-116 921,-110 927,-104 933,-104 933,-104 1067,-104 1067,-104 1073,-104 1079,-110 1079,-116 1079,-116 1079,-175 1079,-175 1079,-181 1073,-187 1067,-187\"/>\n",
       "<text text-anchor=\"start\" x=\"929\" y=\"-171.8\" font-family=\"Helvetica,sans-Serif\" font-size=\"14.00\">Total night calls ≤ 116.5</text>\n",
       "<text text-anchor=\"start\" x=\"968\" y=\"-156.8\" font-family=\"Helvetica,sans-Serif\" font-size=\"14.00\">gini = 0.09</text>\n",
       "<text text-anchor=\"start\" x=\"955\" y=\"-141.8\" font-family=\"Helvetica,sans-Serif\" font-size=\"14.00\">samples = 349</text>\n",
       "<text text-anchor=\"start\" x=\"949.5\" y=\"-126.8\" font-family=\"Helvetica,sans-Serif\" font-size=\"14.00\">value = [333, 16]</text>\n",
       "<text text-anchor=\"start\" x=\"947\" y=\"-111.8\" font-family=\"Helvetica,sans-Serif\" font-size=\"14.00\">class = Not churn</text>\n",
       "</g>\n",
       "<!-- 17&#45;&gt;21 -->\n",
       "<g id=\"edge21\" class=\"edge\">\n",
       "<title>17-&gt;21</title>\n",
       "<path fill=\"none\" stroke=\"black\" d=\"M929.47,-222.91C937.93,-213.74 946.99,-203.93 955.7,-194.49\"/>\n",
       "<polygon fill=\"black\" stroke=\"black\" points=\"958.39,-196.74 962.6,-187.02 953.24,-191.99 958.39,-196.74\"/>\n",
       "</g>\n",
       "<!-- 19 -->\n",
       "<g id=\"node20\" class=\"node\">\n",
       "<title>19</title>\n",
       "<path fill=\"#399de5\" stroke=\"black\" d=\"M722,-68C722,-68 646,-68 646,-68 640,-68 634,-62 634,-56 634,-56 634,-12 634,-12 634,-6 640,0 646,0 646,0 722,0 722,0 728,0 734,-6 734,-12 734,-12 734,-56 734,-56 734,-62 728,-68 722,-68\"/>\n",
       "<text text-anchor=\"start\" x=\"656\" y=\"-52.8\" font-family=\"Helvetica,sans-Serif\" font-size=\"14.00\">gini = 0.0</text>\n",
       "<text text-anchor=\"start\" x=\"646.5\" y=\"-37.8\" font-family=\"Helvetica,sans-Serif\" font-size=\"14.00\">samples = 1</text>\n",
       "<text text-anchor=\"start\" x=\"644.5\" y=\"-22.8\" font-family=\"Helvetica,sans-Serif\" font-size=\"14.00\">value = [0, 1]</text>\n",
       "<text text-anchor=\"start\" x=\"642\" y=\"-7.8\" font-family=\"Helvetica,sans-Serif\" font-size=\"14.00\">class = Churn</text>\n",
       "</g>\n",
       "<!-- 18&#45;&gt;19 -->\n",
       "<g id=\"edge19\" class=\"edge\">\n",
       "<title>18-&gt;19</title>\n",
       "<path fill=\"none\" stroke=\"black\" d=\"M764.97,-103.73C753.9,-94.33 742.14,-84.35 731.11,-74.99\"/>\n",
       "<polygon fill=\"black\" stroke=\"black\" points=\"733.12,-72.1 723.23,-68.3 728.59,-77.44 733.12,-72.1\"/>\n",
       "</g>\n",
       "<!-- 20 -->\n",
       "<g id=\"node21\" class=\"node\">\n",
       "<title>20</title>\n",
       "<path fill=\"#e58139\" stroke=\"black\" d=\"M862,-68C862,-68 764,-68 764,-68 758,-68 752,-62 752,-56 752,-56 752,-12 752,-12 752,-6 758,0 764,0 764,0 862,0 862,0 868,0 874,-6 874,-12 874,-12 874,-56 874,-56 874,-62 868,-68 862,-68\"/>\n",
       "<text text-anchor=\"start\" x=\"785\" y=\"-52.8\" font-family=\"Helvetica,sans-Serif\" font-size=\"14.00\">gini = 0.0</text>\n",
       "<text text-anchor=\"start\" x=\"775.5\" y=\"-37.8\" font-family=\"Helvetica,sans-Serif\" font-size=\"14.00\">samples = 1</text>\n",
       "<text text-anchor=\"start\" x=\"773.5\" y=\"-22.8\" font-family=\"Helvetica,sans-Serif\" font-size=\"14.00\">value = [1, 0]</text>\n",
       "<text text-anchor=\"start\" x=\"760\" y=\"-7.8\" font-family=\"Helvetica,sans-Serif\" font-size=\"14.00\">class = Not churn</text>\n",
       "</g>\n",
       "<!-- 18&#45;&gt;20 -->\n",
       "<g id=\"edge20\" class=\"edge\">\n",
       "<title>18-&gt;20</title>\n",
       "<path fill=\"none\" stroke=\"black\" d=\"M813,-103.73C813,-95.52 813,-86.86 813,-78.56\"/>\n",
       "<polygon fill=\"black\" stroke=\"black\" points=\"816.5,-78.3 813,-68.3 809.5,-78.3 816.5,-78.3\"/>\n",
       "</g>\n",
       "<!-- 22 -->\n",
       "<g id=\"node23\" class=\"node\">\n",
       "<title>22</title>\n",
       "<path fill=\"#e6853f\" stroke=\"black\" d=\"M1002,-68C1002,-68 904,-68 904,-68 898,-68 892,-62 892,-56 892,-56 892,-12 892,-12 892,-6 898,0 904,0 904,0 1002,0 1002,0 1008,0 1014,-6 1014,-12 1014,-12 1014,-56 1014,-56 1014,-62 1008,-68 1002,-68\"/>\n",
       "<text text-anchor=\"start\" x=\"921\" y=\"-52.8\" font-family=\"Helvetica,sans-Serif\" font-size=\"14.00\">gini = 0.06</text>\n",
       "<text text-anchor=\"start\" x=\"908\" y=\"-37.8\" font-family=\"Helvetica,sans-Serif\" font-size=\"14.00\">samples = 278</text>\n",
       "<text text-anchor=\"start\" x=\"906\" y=\"-22.8\" font-family=\"Helvetica,sans-Serif\" font-size=\"14.00\">value = [270, 8]</text>\n",
       "<text text-anchor=\"start\" x=\"900\" y=\"-7.8\" font-family=\"Helvetica,sans-Serif\" font-size=\"14.00\">class = Not churn</text>\n",
       "</g>\n",
       "<!-- 21&#45;&gt;22 -->\n",
       "<g id=\"edge22\" class=\"edge\">\n",
       "<title>21-&gt;22</title>\n",
       "<path fill=\"none\" stroke=\"black\" d=\"M982.5,-103.73C978.86,-95.24 975.01,-86.28 971.34,-77.73\"/>\n",
       "<polygon fill=\"black\" stroke=\"black\" points=\"974.45,-76.11 967.29,-68.3 968.02,-78.87 974.45,-76.11\"/>\n",
       "</g>\n",
       "<!-- 23 -->\n",
       "<g id=\"node24\" class=\"node\">\n",
       "<title>23</title>\n",
       "<path fill=\"#e89152\" stroke=\"black\" d=\"M1142,-68C1142,-68 1044,-68 1044,-68 1038,-68 1032,-62 1032,-56 1032,-56 1032,-12 1032,-12 1032,-6 1038,0 1044,0 1044,0 1142,0 1142,0 1148,0 1154,-6 1154,-12 1154,-12 1154,-56 1154,-56 1154,-62 1148,-68 1142,-68\"/>\n",
       "<text text-anchor=\"start\" x=\"1065\" y=\"-52.8\" font-family=\"Helvetica,sans-Serif\" font-size=\"14.00\">gini = 0.2</text>\n",
       "<text text-anchor=\"start\" x=\"1052\" y=\"-37.8\" font-family=\"Helvetica,sans-Serif\" font-size=\"14.00\">samples = 71</text>\n",
       "<text text-anchor=\"start\" x=\"1050\" y=\"-22.8\" font-family=\"Helvetica,sans-Serif\" font-size=\"14.00\">value = [63, 8]</text>\n",
       "<text text-anchor=\"start\" x=\"1040\" y=\"-7.8\" font-family=\"Helvetica,sans-Serif\" font-size=\"14.00\">class = Not churn</text>\n",
       "</g>\n",
       "<!-- 21&#45;&gt;23 -->\n",
       "<g id=\"edge23\" class=\"edge\">\n",
       "<title>21-&gt;23</title>\n",
       "<path fill=\"none\" stroke=\"black\" d=\"M1034.63,-103.73C1042.3,-94.7 1050.43,-85.12 1058.11,-76.08\"/>\n",
       "<polygon fill=\"black\" stroke=\"black\" points=\"1060.91,-78.19 1064.72,-68.3 1055.58,-73.66 1060.91,-78.19\"/>\n",
       "</g>\n",
       "<!-- 26 -->\n",
       "<g id=\"node27\" class=\"node\">\n",
       "<title>26</title>\n",
       "<path fill=\"#e78945\" stroke=\"black\" d=\"M1432.5,-425C1432.5,-425 1313.5,-425 1313.5,-425 1307.5,-425 1301.5,-419 1301.5,-413 1301.5,-413 1301.5,-354 1301.5,-354 1301.5,-348 1307.5,-342 1313.5,-342 1313.5,-342 1432.5,-342 1432.5,-342 1438.5,-342 1444.5,-348 1444.5,-354 1444.5,-354 1444.5,-413 1444.5,-413 1444.5,-419 1438.5,-425 1432.5,-425\"/>\n",
       "<text text-anchor=\"start\" x=\"1309.5\" y=\"-409.8\" font-family=\"Helvetica,sans-Serif\" font-size=\"14.00\">Total eve calls ≤ 49.5</text>\n",
       "<text text-anchor=\"start\" x=\"1341\" y=\"-394.8\" font-family=\"Helvetica,sans-Serif\" font-size=\"14.00\">gini = 0.11</text>\n",
       "<text text-anchor=\"start\" x=\"1328\" y=\"-379.8\" font-family=\"Helvetica,sans-Serif\" font-size=\"14.00\">samples = 190</text>\n",
       "<text text-anchor=\"start\" x=\"1322.5\" y=\"-364.8\" font-family=\"Helvetica,sans-Serif\" font-size=\"14.00\">value = [179, 11]</text>\n",
       "<text text-anchor=\"start\" x=\"1320\" y=\"-349.8\" font-family=\"Helvetica,sans-Serif\" font-size=\"14.00\">class = Not churn</text>\n",
       "</g>\n",
       "<!-- 25&#45;&gt;26 -->\n",
       "<g id=\"edge26\" class=\"edge\">\n",
       "<title>25-&gt;26</title>\n",
       "<path fill=\"none\" stroke=\"black\" d=\"M1443.53,-460.91C1435.07,-451.74 1426.01,-441.93 1417.3,-432.49\"/>\n",
       "<polygon fill=\"black\" stroke=\"black\" points=\"1419.76,-429.99 1410.4,-425.02 1414.61,-434.74 1419.76,-429.99\"/>\n",
       "</g>\n",
       "<!-- 33 -->\n",
       "<g id=\"node34\" class=\"node\">\n",
       "<title>33</title>\n",
       "<path fill=\"#fdf5ef\" stroke=\"black\" d=\"M1638.5,-425C1638.5,-425 1519.5,-425 1519.5,-425 1513.5,-425 1507.5,-419 1507.5,-413 1507.5,-413 1507.5,-354 1507.5,-354 1507.5,-348 1513.5,-342 1519.5,-342 1519.5,-342 1638.5,-342 1638.5,-342 1644.5,-342 1650.5,-348 1650.5,-354 1650.5,-354 1650.5,-413 1650.5,-413 1650.5,-419 1644.5,-425 1638.5,-425\"/>\n",
       "<text text-anchor=\"start\" x=\"1515.5\" y=\"-409.8\" font-family=\"Helvetica,sans-Serif\" font-size=\"14.00\">Voice mail plan ≤ 0.5</text>\n",
       "<text text-anchor=\"start\" x=\"1551\" y=\"-394.8\" font-family=\"Helvetica,sans-Serif\" font-size=\"14.00\">gini = 0.5</text>\n",
       "<text text-anchor=\"start\" x=\"1538\" y=\"-379.8\" font-family=\"Helvetica,sans-Serif\" font-size=\"14.00\">samples = 48</text>\n",
       "<text text-anchor=\"start\" x=\"1532\" y=\"-364.8\" font-family=\"Helvetica,sans-Serif\" font-size=\"14.00\">value = [25, 23]</text>\n",
       "<text text-anchor=\"start\" x=\"1526\" y=\"-349.8\" font-family=\"Helvetica,sans-Serif\" font-size=\"14.00\">class = Not churn</text>\n",
       "</g>\n",
       "<!-- 25&#45;&gt;33 -->\n",
       "<g id=\"edge33\" class=\"edge\">\n",
       "<title>25-&gt;33</title>\n",
       "<path fill=\"none\" stroke=\"black\" d=\"M1515,-460.91C1522.6,-451.83 1530.74,-442.12 1538.57,-432.77\"/>\n",
       "<polygon fill=\"black\" stroke=\"black\" points=\"1541.32,-434.93 1545.06,-425.02 1535.96,-430.44 1541.32,-434.93\"/>\n",
       "</g>\n",
       "<!-- 27 -->\n",
       "<g id=\"node28\" class=\"node\">\n",
       "<title>27</title>\n",
       "<path fill=\"#399de5\" stroke=\"black\" d=\"M1257,-298.5C1257,-298.5 1181,-298.5 1181,-298.5 1175,-298.5 1169,-292.5 1169,-286.5 1169,-286.5 1169,-242.5 1169,-242.5 1169,-236.5 1175,-230.5 1181,-230.5 1181,-230.5 1257,-230.5 1257,-230.5 1263,-230.5 1269,-236.5 1269,-242.5 1269,-242.5 1269,-286.5 1269,-286.5 1269,-292.5 1263,-298.5 1257,-298.5\"/>\n",
       "<text text-anchor=\"start\" x=\"1191\" y=\"-283.3\" font-family=\"Helvetica,sans-Serif\" font-size=\"14.00\">gini = 0.0</text>\n",
       "<text text-anchor=\"start\" x=\"1181.5\" y=\"-268.3\" font-family=\"Helvetica,sans-Serif\" font-size=\"14.00\">samples = 1</text>\n",
       "<text text-anchor=\"start\" x=\"1179.5\" y=\"-253.3\" font-family=\"Helvetica,sans-Serif\" font-size=\"14.00\">value = [0, 1]</text>\n",
       "<text text-anchor=\"start\" x=\"1177\" y=\"-238.3\" font-family=\"Helvetica,sans-Serif\" font-size=\"14.00\">class = Churn</text>\n",
       "</g>\n",
       "<!-- 26&#45;&gt;27 -->\n",
       "<g id=\"edge27\" class=\"edge\">\n",
       "<title>26-&gt;27</title>\n",
       "<path fill=\"none\" stroke=\"black\" d=\"M1319.57,-341.91C1303.74,-329.88 1286.44,-316.73 1270.72,-304.79\"/>\n",
       "<polygon fill=\"black\" stroke=\"black\" points=\"1272.74,-301.93 1262.66,-298.67 1268.5,-307.5 1272.74,-301.93\"/>\n",
       "</g>\n",
       "<!-- 28 -->\n",
       "<g id=\"node29\" class=\"node\">\n",
       "<title>28</title>\n",
       "<path fill=\"#e68844\" stroke=\"black\" d=\"M1446.5,-306C1446.5,-306 1299.5,-306 1299.5,-306 1293.5,-306 1287.5,-300 1287.5,-294 1287.5,-294 1287.5,-235 1287.5,-235 1287.5,-229 1293.5,-223 1299.5,-223 1299.5,-223 1446.5,-223 1446.5,-223 1452.5,-223 1458.5,-229 1458.5,-235 1458.5,-235 1458.5,-294 1458.5,-294 1458.5,-300 1452.5,-306 1446.5,-306\"/>\n",
       "<text text-anchor=\"start\" x=\"1295.5\" y=\"-290.8\" font-family=\"Helvetica,sans-Serif\" font-size=\"14.00\">Total day minutes ≤ 223.4</text>\n",
       "<text text-anchor=\"start\" x=\"1345\" y=\"-275.8\" font-family=\"Helvetica,sans-Serif\" font-size=\"14.00\">gini = 0.1</text>\n",
       "<text text-anchor=\"start\" x=\"1328\" y=\"-260.8\" font-family=\"Helvetica,sans-Serif\" font-size=\"14.00\">samples = 189</text>\n",
       "<text text-anchor=\"start\" x=\"1322.5\" y=\"-245.8\" font-family=\"Helvetica,sans-Serif\" font-size=\"14.00\">value = [179, 10]</text>\n",
       "<text text-anchor=\"start\" x=\"1320\" y=\"-230.8\" font-family=\"Helvetica,sans-Serif\" font-size=\"14.00\">class = Not churn</text>\n",
       "</g>\n",
       "<!-- 26&#45;&gt;28 -->\n",
       "<g id=\"edge28\" class=\"edge\">\n",
       "<title>26-&gt;28</title>\n",
       "<path fill=\"none\" stroke=\"black\" d=\"M1373,-341.91C1373,-333.65 1373,-324.86 1373,-316.3\"/>\n",
       "<polygon fill=\"black\" stroke=\"black\" points=\"1376.5,-316.02 1373,-306.02 1369.5,-316.02 1376.5,-316.02\"/>\n",
       "</g>\n",
       "<!-- 29 -->\n",
       "<g id=\"node30\" class=\"node\">\n",
       "<title>29</title>\n",
       "<path fill=\"#399de5\" stroke=\"black\" d=\"M1271,-179.5C1271,-179.5 1195,-179.5 1195,-179.5 1189,-179.5 1183,-173.5 1183,-167.5 1183,-167.5 1183,-123.5 1183,-123.5 1183,-117.5 1189,-111.5 1195,-111.5 1195,-111.5 1271,-111.5 1271,-111.5 1277,-111.5 1283,-117.5 1283,-123.5 1283,-123.5 1283,-167.5 1283,-167.5 1283,-173.5 1277,-179.5 1271,-179.5\"/>\n",
       "<text text-anchor=\"start\" x=\"1205\" y=\"-164.3\" font-family=\"Helvetica,sans-Serif\" font-size=\"14.00\">gini = 0.0</text>\n",
       "<text text-anchor=\"start\" x=\"1195.5\" y=\"-149.3\" font-family=\"Helvetica,sans-Serif\" font-size=\"14.00\">samples = 1</text>\n",
       "<text text-anchor=\"start\" x=\"1193.5\" y=\"-134.3\" font-family=\"Helvetica,sans-Serif\" font-size=\"14.00\">value = [0, 1]</text>\n",
       "<text text-anchor=\"start\" x=\"1191\" y=\"-119.3\" font-family=\"Helvetica,sans-Serif\" font-size=\"14.00\">class = Churn</text>\n",
       "</g>\n",
       "<!-- 28&#45;&gt;29 -->\n",
       "<g id=\"edge29\" class=\"edge\">\n",
       "<title>28-&gt;29</title>\n",
       "<path fill=\"none\" stroke=\"black\" d=\"M1324.43,-222.91C1310.17,-210.99 1294.59,-197.98 1280.41,-186.12\"/>\n",
       "<polygon fill=\"black\" stroke=\"black\" points=\"1282.6,-183.39 1272.69,-179.67 1278.12,-188.77 1282.6,-183.39\"/>\n",
       "</g>\n",
       "<!-- 30 -->\n",
       "<g id=\"node31\" class=\"node\">\n",
       "<title>30</title>\n",
       "<path fill=\"#e68743\" stroke=\"black\" d=\"M1432.5,-187C1432.5,-187 1313.5,-187 1313.5,-187 1307.5,-187 1301.5,-181 1301.5,-175 1301.5,-175 1301.5,-116 1301.5,-116 1301.5,-110 1307.5,-104 1313.5,-104 1313.5,-104 1432.5,-104 1432.5,-104 1438.5,-104 1444.5,-110 1444.5,-116 1444.5,-116 1444.5,-175 1444.5,-175 1444.5,-181 1438.5,-187 1432.5,-187\"/>\n",
       "<text text-anchor=\"start\" x=\"1309.5\" y=\"-171.8\" font-family=\"Helvetica,sans-Serif\" font-size=\"14.00\">Total day calls ≤ 50.5</text>\n",
       "<text text-anchor=\"start\" x=\"1341\" y=\"-156.8\" font-family=\"Helvetica,sans-Serif\" font-size=\"14.00\">gini = 0.09</text>\n",
       "<text text-anchor=\"start\" x=\"1328\" y=\"-141.8\" font-family=\"Helvetica,sans-Serif\" font-size=\"14.00\">samples = 188</text>\n",
       "<text text-anchor=\"start\" x=\"1326\" y=\"-126.8\" font-family=\"Helvetica,sans-Serif\" font-size=\"14.00\">value = [179, 9]</text>\n",
       "<text text-anchor=\"start\" x=\"1320\" y=\"-111.8\" font-family=\"Helvetica,sans-Serif\" font-size=\"14.00\">class = Not churn</text>\n",
       "</g>\n",
       "<!-- 28&#45;&gt;30 -->\n",
       "<g id=\"edge30\" class=\"edge\">\n",
       "<title>28-&gt;30</title>\n",
       "<path fill=\"none\" stroke=\"black\" d=\"M1373,-222.91C1373,-214.65 1373,-205.86 1373,-197.3\"/>\n",
       "<polygon fill=\"black\" stroke=\"black\" points=\"1376.5,-197.02 1373,-187.02 1369.5,-197.02 1376.5,-197.02\"/>\n",
       "</g>\n",
       "<!-- 31 -->\n",
       "<g id=\"node32\" class=\"node\">\n",
       "<title>31</title>\n",
       "<path fill=\"#ffffff\" stroke=\"black\" d=\"M1282,-68C1282,-68 1184,-68 1184,-68 1178,-68 1172,-62 1172,-56 1172,-56 1172,-12 1172,-12 1172,-6 1178,0 1184,0 1184,0 1282,0 1282,0 1288,0 1294,-6 1294,-12 1294,-12 1294,-56 1294,-56 1294,-62 1288,-68 1282,-68\"/>\n",
       "<text text-anchor=\"start\" x=\"1205\" y=\"-52.8\" font-family=\"Helvetica,sans-Serif\" font-size=\"14.00\">gini = 0.5</text>\n",
       "<text text-anchor=\"start\" x=\"1195.5\" y=\"-37.8\" font-family=\"Helvetica,sans-Serif\" font-size=\"14.00\">samples = 2</text>\n",
       "<text text-anchor=\"start\" x=\"1193.5\" y=\"-22.8\" font-family=\"Helvetica,sans-Serif\" font-size=\"14.00\">value = [1, 1]</text>\n",
       "<text text-anchor=\"start\" x=\"1180\" y=\"-7.8\" font-family=\"Helvetica,sans-Serif\" font-size=\"14.00\">class = Not churn</text>\n",
       "</g>\n",
       "<!-- 30&#45;&gt;31 -->\n",
       "<g id=\"edge31\" class=\"edge\">\n",
       "<title>30-&gt;31</title>\n",
       "<path fill=\"none\" stroke=\"black\" d=\"M1320.87,-103.73C1308.74,-94.24 1295.85,-84.16 1283.78,-74.72\"/>\n",
       "<polygon fill=\"black\" stroke=\"black\" points=\"1285.61,-71.7 1275.57,-68.3 1281.3,-77.22 1285.61,-71.7\"/>\n",
       "</g>\n",
       "<!-- 32 -->\n",
       "<g id=\"node33\" class=\"node\">\n",
       "<title>32</title>\n",
       "<path fill=\"#e68742\" stroke=\"black\" d=\"M1422,-68C1422,-68 1324,-68 1324,-68 1318,-68 1312,-62 1312,-56 1312,-56 1312,-12 1312,-12 1312,-6 1318,0 1324,0 1324,0 1422,0 1422,0 1428,0 1434,-6 1434,-12 1434,-12 1434,-56 1434,-56 1434,-62 1428,-68 1422,-68\"/>\n",
       "<text text-anchor=\"start\" x=\"1341\" y=\"-52.8\" font-family=\"Helvetica,sans-Serif\" font-size=\"14.00\">gini = 0.08</text>\n",
       "<text text-anchor=\"start\" x=\"1328\" y=\"-37.8\" font-family=\"Helvetica,sans-Serif\" font-size=\"14.00\">samples = 186</text>\n",
       "<text text-anchor=\"start\" x=\"1326\" y=\"-22.8\" font-family=\"Helvetica,sans-Serif\" font-size=\"14.00\">value = [178, 8]</text>\n",
       "<text text-anchor=\"start\" x=\"1320\" y=\"-7.8\" font-family=\"Helvetica,sans-Serif\" font-size=\"14.00\">class = Not churn</text>\n",
       "</g>\n",
       "<!-- 30&#45;&gt;32 -->\n",
       "<g id=\"edge32\" class=\"edge\">\n",
       "<title>30-&gt;32</title>\n",
       "<path fill=\"none\" stroke=\"black\" d=\"M1373,-103.73C1373,-95.52 1373,-86.86 1373,-78.56\"/>\n",
       "<polygon fill=\"black\" stroke=\"black\" points=\"1376.5,-78.3 1373,-68.3 1369.5,-78.3 1376.5,-78.3\"/>\n",
       "</g>\n",
       "<!-- 34 -->\n",
       "<g id=\"node35\" class=\"node\">\n",
       "<title>34</title>\n",
       "<path fill=\"#a9d4f4\" stroke=\"black\" d=\"M1660,-306C1660,-306 1498,-306 1498,-306 1492,-306 1486,-300 1486,-294 1486,-294 1486,-235 1486,-235 1486,-229 1492,-223 1498,-223 1498,-223 1660,-223 1660,-223 1666,-223 1672,-229 1672,-235 1672,-235 1672,-294 1672,-294 1672,-300 1666,-306 1660,-306\"/>\n",
       "<text text-anchor=\"start\" x=\"1494\" y=\"-290.8\" font-family=\"Helvetica,sans-Serif\" font-size=\"14.00\">Total night minutes ≤ 174.55</text>\n",
       "<text text-anchor=\"start\" x=\"1547\" y=\"-275.8\" font-family=\"Helvetica,sans-Serif\" font-size=\"14.00\">gini = 0.46</text>\n",
       "<text text-anchor=\"start\" x=\"1538\" y=\"-260.8\" font-family=\"Helvetica,sans-Serif\" font-size=\"14.00\">samples = 36</text>\n",
       "<text text-anchor=\"start\" x=\"1532\" y=\"-245.8\" font-family=\"Helvetica,sans-Serif\" font-size=\"14.00\">value = [13, 23]</text>\n",
       "<text text-anchor=\"start\" x=\"1537\" y=\"-230.8\" font-family=\"Helvetica,sans-Serif\" font-size=\"14.00\">class = Churn</text>\n",
       "</g>\n",
       "<!-- 33&#45;&gt;34 -->\n",
       "<g id=\"edge34\" class=\"edge\">\n",
       "<title>33-&gt;34</title>\n",
       "<path fill=\"none\" stroke=\"black\" d=\"M1579,-341.91C1579,-333.65 1579,-324.86 1579,-316.3\"/>\n",
       "<polygon fill=\"black\" stroke=\"black\" points=\"1582.5,-316.02 1579,-306.02 1575.5,-316.02 1582.5,-316.02\"/>\n",
       "</g>\n",
       "<!-- 41 -->\n",
       "<g id=\"node42\" class=\"node\">\n",
       "<title>41</title>\n",
       "<path fill=\"#e58139\" stroke=\"black\" d=\"M1800,-298.5C1800,-298.5 1702,-298.5 1702,-298.5 1696,-298.5 1690,-292.5 1690,-286.5 1690,-286.5 1690,-242.5 1690,-242.5 1690,-236.5 1696,-230.5 1702,-230.5 1702,-230.5 1800,-230.5 1800,-230.5 1806,-230.5 1812,-236.5 1812,-242.5 1812,-242.5 1812,-286.5 1812,-286.5 1812,-292.5 1806,-298.5 1800,-298.5\"/>\n",
       "<text text-anchor=\"start\" x=\"1723\" y=\"-283.3\" font-family=\"Helvetica,sans-Serif\" font-size=\"14.00\">gini = 0.0</text>\n",
       "<text text-anchor=\"start\" x=\"1710\" y=\"-268.3\" font-family=\"Helvetica,sans-Serif\" font-size=\"14.00\">samples = 12</text>\n",
       "<text text-anchor=\"start\" x=\"1708\" y=\"-253.3\" font-family=\"Helvetica,sans-Serif\" font-size=\"14.00\">value = [12, 0]</text>\n",
       "<text text-anchor=\"start\" x=\"1698\" y=\"-238.3\" font-family=\"Helvetica,sans-Serif\" font-size=\"14.00\">class = Not churn</text>\n",
       "</g>\n",
       "<!-- 33&#45;&gt;41 -->\n",
       "<g id=\"edge41\" class=\"edge\">\n",
       "<title>33-&gt;41</title>\n",
       "<path fill=\"none\" stroke=\"black\" d=\"M1638.67,-341.91C1656.52,-329.77 1676.04,-316.49 1693.72,-304.46\"/>\n",
       "<polygon fill=\"black\" stroke=\"black\" points=\"1695.94,-307.19 1702.24,-298.67 1692,-301.4 1695.94,-307.19\"/>\n",
       "</g>\n",
       "<!-- 35 -->\n",
       "<g id=\"node36\" class=\"node\">\n",
       "<title>35</title>\n",
       "<path fill=\"#eb9d65\" stroke=\"black\" d=\"M1652.5,-187C1652.5,-187 1505.5,-187 1505.5,-187 1499.5,-187 1493.5,-181 1493.5,-175 1493.5,-175 1493.5,-116 1493.5,-116 1493.5,-110 1499.5,-104 1505.5,-104 1505.5,-104 1652.5,-104 1652.5,-104 1658.5,-104 1664.5,-110 1664.5,-116 1664.5,-116 1664.5,-175 1664.5,-175 1664.5,-181 1658.5,-187 1652.5,-187\"/>\n",
       "<text text-anchor=\"start\" x=\"1501.5\" y=\"-171.8\" font-family=\"Helvetica,sans-Serif\" font-size=\"14.00\">Total eve minutes ≤ 265.9</text>\n",
       "<text text-anchor=\"start\" x=\"1551\" y=\"-156.8\" font-family=\"Helvetica,sans-Serif\" font-size=\"14.00\">gini = 0.3</text>\n",
       "<text text-anchor=\"start\" x=\"1538\" y=\"-141.8\" font-family=\"Helvetica,sans-Serif\" font-size=\"14.00\">samples = 11</text>\n",
       "<text text-anchor=\"start\" x=\"1539.5\" y=\"-126.8\" font-family=\"Helvetica,sans-Serif\" font-size=\"14.00\">value = [9, 2]</text>\n",
       "<text text-anchor=\"start\" x=\"1526\" y=\"-111.8\" font-family=\"Helvetica,sans-Serif\" font-size=\"14.00\">class = Not churn</text>\n",
       "</g>\n",
       "<!-- 34&#45;&gt;35 -->\n",
       "<g id=\"edge35\" class=\"edge\">\n",
       "<title>34-&gt;35</title>\n",
       "<path fill=\"none\" stroke=\"black\" d=\"M1579,-222.91C1579,-214.65 1579,-205.86 1579,-197.3\"/>\n",
       "<polygon fill=\"black\" stroke=\"black\" points=\"1582.5,-197.02 1579,-187.02 1575.5,-197.02 1582.5,-197.02\"/>\n",
       "</g>\n",
       "<!-- 38 -->\n",
       "<g id=\"node39\" class=\"node\">\n",
       "<title>38</title>\n",
       "<path fill=\"#5fb0ea\" stroke=\"black\" d=\"M1838.5,-187C1838.5,-187 1703.5,-187 1703.5,-187 1697.5,-187 1691.5,-181 1691.5,-175 1691.5,-175 1691.5,-116 1691.5,-116 1691.5,-110 1697.5,-104 1703.5,-104 1703.5,-104 1838.5,-104 1838.5,-104 1844.5,-104 1850.5,-110 1850.5,-116 1850.5,-116 1850.5,-175 1850.5,-175 1850.5,-181 1844.5,-187 1838.5,-187\"/>\n",
       "<text text-anchor=\"start\" x=\"1699.5\" y=\"-171.8\" font-family=\"Helvetica,sans-Serif\" font-size=\"14.00\">Total intl minutes ≤ 8.05</text>\n",
       "<text text-anchor=\"start\" x=\"1739\" y=\"-156.8\" font-family=\"Helvetica,sans-Serif\" font-size=\"14.00\">gini = 0.27</text>\n",
       "<text text-anchor=\"start\" x=\"1730\" y=\"-141.8\" font-family=\"Helvetica,sans-Serif\" font-size=\"14.00\">samples = 25</text>\n",
       "<text text-anchor=\"start\" x=\"1728\" y=\"-126.8\" font-family=\"Helvetica,sans-Serif\" font-size=\"14.00\">value = [4, 21]</text>\n",
       "<text text-anchor=\"start\" x=\"1729\" y=\"-111.8\" font-family=\"Helvetica,sans-Serif\" font-size=\"14.00\">class = Churn</text>\n",
       "</g>\n",
       "<!-- 34&#45;&gt;38 -->\n",
       "<g id=\"edge38\" class=\"edge\">\n",
       "<title>34-&gt;38</title>\n",
       "<path fill=\"none\" stroke=\"black\" d=\"M1645.61,-222.91C1661.85,-213.02 1679.32,-202.37 1695.92,-192.25\"/>\n",
       "<polygon fill=\"black\" stroke=\"black\" points=\"1697.79,-195.21 1704.5,-187.02 1694.14,-189.24 1697.79,-195.21\"/>\n",
       "</g>\n",
       "<!-- 36 -->\n",
       "<g id=\"node37\" class=\"node\">\n",
       "<title>36</title>\n",
       "<path fill=\"#e58139\" stroke=\"black\" d=\"M1562,-68C1562,-68 1464,-68 1464,-68 1458,-68 1452,-62 1452,-56 1452,-56 1452,-12 1452,-12 1452,-6 1458,0 1464,0 1464,0 1562,0 1562,0 1568,0 1574,-6 1574,-12 1574,-12 1574,-56 1574,-56 1574,-62 1568,-68 1562,-68\"/>\n",
       "<text text-anchor=\"start\" x=\"1485\" y=\"-52.8\" font-family=\"Helvetica,sans-Serif\" font-size=\"14.00\">gini = 0.0</text>\n",
       "<text text-anchor=\"start\" x=\"1475.5\" y=\"-37.8\" font-family=\"Helvetica,sans-Serif\" font-size=\"14.00\">samples = 8</text>\n",
       "<text text-anchor=\"start\" x=\"1473.5\" y=\"-22.8\" font-family=\"Helvetica,sans-Serif\" font-size=\"14.00\">value = [8, 0]</text>\n",
       "<text text-anchor=\"start\" x=\"1460\" y=\"-7.8\" font-family=\"Helvetica,sans-Serif\" font-size=\"14.00\">class = Not churn</text>\n",
       "</g>\n",
       "<!-- 35&#45;&gt;36 -->\n",
       "<g id=\"edge36\" class=\"edge\">\n",
       "<title>35-&gt;36</title>\n",
       "<path fill=\"none\" stroke=\"black\" d=\"M1554.42,-103.73C1549.15,-94.97 1543.56,-85.7 1538.26,-76.91\"/>\n",
       "<polygon fill=\"black\" stroke=\"black\" points=\"1541.23,-75.06 1533.07,-68.3 1535.24,-78.67 1541.23,-75.06\"/>\n",
       "</g>\n",
       "<!-- 37 -->\n",
       "<g id=\"node38\" class=\"node\">\n",
       "<title>37</title>\n",
       "<path fill=\"#9ccef2\" stroke=\"black\" d=\"M1680,-68C1680,-68 1604,-68 1604,-68 1598,-68 1592,-62 1592,-56 1592,-56 1592,-12 1592,-12 1592,-6 1598,0 1604,0 1604,0 1680,0 1680,0 1686,0 1692,-6 1692,-12 1692,-12 1692,-56 1692,-56 1692,-62 1686,-68 1680,-68\"/>\n",
       "<text text-anchor=\"start\" x=\"1610\" y=\"-52.8\" font-family=\"Helvetica,sans-Serif\" font-size=\"14.00\">gini = 0.44</text>\n",
       "<text text-anchor=\"start\" x=\"1604.5\" y=\"-37.8\" font-family=\"Helvetica,sans-Serif\" font-size=\"14.00\">samples = 3</text>\n",
       "<text text-anchor=\"start\" x=\"1602.5\" y=\"-22.8\" font-family=\"Helvetica,sans-Serif\" font-size=\"14.00\">value = [1, 2]</text>\n",
       "<text text-anchor=\"start\" x=\"1600\" y=\"-7.8\" font-family=\"Helvetica,sans-Serif\" font-size=\"14.00\">class = Churn</text>\n",
       "</g>\n",
       "<!-- 35&#45;&gt;37 -->\n",
       "<g id=\"edge37\" class=\"edge\">\n",
       "<title>35-&gt;37</title>\n",
       "<path fill=\"none\" stroke=\"black\" d=\"M1602.46,-103.73C1607.44,-95.06 1612.72,-85.9 1617.73,-77.18\"/>\n",
       "<polygon fill=\"black\" stroke=\"black\" points=\"1620.89,-78.71 1622.84,-68.3 1614.82,-75.22 1620.89,-78.71\"/>\n",
       "</g>\n",
       "<!-- 39 -->\n",
       "<g id=\"node40\" class=\"node\">\n",
       "<title>39</title>\n",
       "<path fill=\"#eeab7b\" stroke=\"black\" d=\"M1820,-68C1820,-68 1722,-68 1722,-68 1716,-68 1710,-62 1710,-56 1710,-56 1710,-12 1710,-12 1710,-6 1716,0 1722,0 1722,0 1820,0 1820,0 1826,0 1832,-6 1832,-12 1832,-12 1832,-56 1832,-56 1832,-62 1826,-68 1820,-68\"/>\n",
       "<text text-anchor=\"start\" x=\"1739\" y=\"-52.8\" font-family=\"Helvetica,sans-Serif\" font-size=\"14.00\">gini = 0.38</text>\n",
       "<text text-anchor=\"start\" x=\"1733.5\" y=\"-37.8\" font-family=\"Helvetica,sans-Serif\" font-size=\"14.00\">samples = 4</text>\n",
       "<text text-anchor=\"start\" x=\"1731.5\" y=\"-22.8\" font-family=\"Helvetica,sans-Serif\" font-size=\"14.00\">value = [3, 1]</text>\n",
       "<text text-anchor=\"start\" x=\"1718\" y=\"-7.8\" font-family=\"Helvetica,sans-Serif\" font-size=\"14.00\">class = Not churn</text>\n",
       "</g>\n",
       "<!-- 38&#45;&gt;39 -->\n",
       "<g id=\"edge39\" class=\"edge\">\n",
       "<title>38-&gt;39</title>\n",
       "<path fill=\"none\" stroke=\"black\" d=\"M1771,-103.73C1771,-95.52 1771,-86.86 1771,-78.56\"/>\n",
       "<polygon fill=\"black\" stroke=\"black\" points=\"1774.5,-78.3 1771,-68.3 1767.5,-78.3 1774.5,-78.3\"/>\n",
       "</g>\n",
       "<!-- 40 -->\n",
       "<g id=\"node41\" class=\"node\">\n",
       "<title>40</title>\n",
       "<path fill=\"#43a2e6\" stroke=\"black\" d=\"M1940,-68C1940,-68 1862,-68 1862,-68 1856,-68 1850,-62 1850,-56 1850,-56 1850,-12 1850,-12 1850,-6 1856,0 1862,0 1862,0 1940,0 1940,0 1946,0 1952,-6 1952,-12 1952,-12 1952,-56 1952,-56 1952,-62 1946,-68 1940,-68\"/>\n",
       "<text text-anchor=\"start\" x=\"1869\" y=\"-52.8\" font-family=\"Helvetica,sans-Serif\" font-size=\"14.00\">gini = 0.09</text>\n",
       "<text text-anchor=\"start\" x=\"1860\" y=\"-37.8\" font-family=\"Helvetica,sans-Serif\" font-size=\"14.00\">samples = 21</text>\n",
       "<text text-anchor=\"start\" x=\"1858\" y=\"-22.8\" font-family=\"Helvetica,sans-Serif\" font-size=\"14.00\">value = [1, 20]</text>\n",
       "<text text-anchor=\"start\" x=\"1859\" y=\"-7.8\" font-family=\"Helvetica,sans-Serif\" font-size=\"14.00\">class = Churn</text>\n",
       "</g>\n",
       "<!-- 38&#45;&gt;40 -->\n",
       "<g id=\"edge40\" class=\"edge\">\n",
       "<title>38-&gt;40</title>\n",
       "<path fill=\"none\" stroke=\"black\" d=\"M1819.41,-103.73C1830.56,-94.33 1842.41,-84.35 1853.53,-74.99\"/>\n",
       "<polygon fill=\"black\" stroke=\"black\" points=\"1856.07,-77.42 1861.47,-68.3 1851.56,-72.06 1856.07,-77.42\"/>\n",
       "</g>\n",
       "<!-- 43 -->\n",
       "<g id=\"node44\" class=\"node\">\n",
       "<title>43</title>\n",
       "<path fill=\"#63b2ea\" stroke=\"black\" d=\"M2462.5,-544C2462.5,-544 2307.5,-544 2307.5,-544 2301.5,-544 2295.5,-538 2295.5,-532 2295.5,-532 2295.5,-473 2295.5,-473 2295.5,-467 2301.5,-461 2307.5,-461 2307.5,-461 2462.5,-461 2462.5,-461 2468.5,-461 2474.5,-467 2474.5,-473 2474.5,-473 2474.5,-532 2474.5,-532 2474.5,-538 2468.5,-544 2462.5,-544\"/>\n",
       "<text text-anchor=\"start\" x=\"2303.5\" y=\"-528.8\" font-family=\"Helvetica,sans-Serif\" font-size=\"14.00\">Total day minutes ≤ 135.05</text>\n",
       "<text text-anchor=\"start\" x=\"2353\" y=\"-513.8\" font-family=\"Helvetica,sans-Serif\" font-size=\"14.00\">gini = 0.29</text>\n",
       "<text text-anchor=\"start\" x=\"2344\" y=\"-498.8\" font-family=\"Helvetica,sans-Serif\" font-size=\"14.00\">samples = 46</text>\n",
       "<text text-anchor=\"start\" x=\"2342\" y=\"-483.8\" font-family=\"Helvetica,sans-Serif\" font-size=\"14.00\">value = [8, 38]</text>\n",
       "<text text-anchor=\"start\" x=\"2343\" y=\"-468.8\" font-family=\"Helvetica,sans-Serif\" font-size=\"14.00\">class = Churn</text>\n",
       "</g>\n",
       "<!-- 42&#45;&gt;43 -->\n",
       "<g id=\"edge43\" class=\"edge\">\n",
       "<title>42-&gt;43</title>\n",
       "<path fill=\"none\" stroke=\"black\" d=\"M2459.45,-579.91C2450.43,-570.65 2440.76,-560.73 2431.49,-551.21\"/>\n",
       "<polygon fill=\"black\" stroke=\"black\" points=\"2433.97,-548.74 2424.48,-544.02 2428.95,-553.63 2433.97,-548.74\"/>\n",
       "</g>\n",
       "<!-- 54 -->\n",
       "<g id=\"node55\" class=\"node\">\n",
       "<title>54</title>\n",
       "<path fill=\"#eeac7c\" stroke=\"black\" d=\"M2674.5,-544C2674.5,-544 2519.5,-544 2519.5,-544 2513.5,-544 2507.5,-538 2507.5,-532 2507.5,-532 2507.5,-473 2507.5,-473 2507.5,-467 2513.5,-461 2519.5,-461 2519.5,-461 2674.5,-461 2674.5,-461 2680.5,-461 2686.5,-467 2686.5,-473 2686.5,-473 2686.5,-532 2686.5,-532 2686.5,-538 2680.5,-544 2674.5,-544\"/>\n",
       "<text text-anchor=\"start\" x=\"2515.5\" y=\"-528.8\" font-family=\"Helvetica,sans-Serif\" font-size=\"14.00\">Total eve minutes ≤ 155.55</text>\n",
       "<text text-anchor=\"start\" x=\"2565\" y=\"-513.8\" font-family=\"Helvetica,sans-Serif\" font-size=\"14.00\">gini = 0.38</text>\n",
       "<text text-anchor=\"start\" x=\"2556\" y=\"-498.8\" font-family=\"Helvetica,sans-Serif\" font-size=\"14.00\">samples = 79</text>\n",
       "<text text-anchor=\"start\" x=\"2550\" y=\"-483.8\" font-family=\"Helvetica,sans-Serif\" font-size=\"14.00\">value = [59, 20]</text>\n",
       "<text text-anchor=\"start\" x=\"2544\" y=\"-468.8\" font-family=\"Helvetica,sans-Serif\" font-size=\"14.00\">class = Not churn</text>\n",
       "</g>\n",
       "<!-- 42&#45;&gt;54 -->\n",
       "<g id=\"edge54\" class=\"edge\">\n",
       "<title>42-&gt;54</title>\n",
       "<path fill=\"none\" stroke=\"black\" d=\"M2533,-579.91C2540.6,-570.83 2548.74,-561.12 2556.57,-551.77\"/>\n",
       "<polygon fill=\"black\" stroke=\"black\" points=\"2559.32,-553.93 2563.06,-544.02 2553.96,-549.44 2559.32,-553.93\"/>\n",
       "</g>\n",
       "<!-- 44 -->\n",
       "<g id=\"node45\" class=\"node\">\n",
       "<title>44</title>\n",
       "<path fill=\"#399de5\" stroke=\"black\" d=\"M2265,-417.5C2265,-417.5 2187,-417.5 2187,-417.5 2181,-417.5 2175,-411.5 2175,-405.5 2175,-405.5 2175,-361.5 2175,-361.5 2175,-355.5 2181,-349.5 2187,-349.5 2187,-349.5 2265,-349.5 2265,-349.5 2271,-349.5 2277,-355.5 2277,-361.5 2277,-361.5 2277,-405.5 2277,-405.5 2277,-411.5 2271,-417.5 2265,-417.5\"/>\n",
       "<text text-anchor=\"start\" x=\"2198\" y=\"-402.3\" font-family=\"Helvetica,sans-Serif\" font-size=\"14.00\">gini = 0.0</text>\n",
       "<text text-anchor=\"start\" x=\"2185\" y=\"-387.3\" font-family=\"Helvetica,sans-Serif\" font-size=\"14.00\">samples = 25</text>\n",
       "<text text-anchor=\"start\" x=\"2183\" y=\"-372.3\" font-family=\"Helvetica,sans-Serif\" font-size=\"14.00\">value = [0, 25]</text>\n",
       "<text text-anchor=\"start\" x=\"2184\" y=\"-357.3\" font-family=\"Helvetica,sans-Serif\" font-size=\"14.00\">class = Churn</text>\n",
       "</g>\n",
       "<!-- 43&#45;&gt;44 -->\n",
       "<g id=\"edge44\" class=\"edge\">\n",
       "<title>43-&gt;44</title>\n",
       "<path fill=\"none\" stroke=\"black\" d=\"M2329.84,-460.91C2313.49,-448.88 2295.63,-435.73 2279.4,-423.79\"/>\n",
       "<polygon fill=\"black\" stroke=\"black\" points=\"2281.2,-420.77 2271.07,-417.67 2277.05,-426.41 2281.2,-420.77\"/>\n",
       "</g>\n",
       "<!-- 45 -->\n",
       "<g id=\"node46\" class=\"node\">\n",
       "<title>45</title>\n",
       "<path fill=\"#b3d9f5\" stroke=\"black\" d=\"M2462.5,-425C2462.5,-425 2307.5,-425 2307.5,-425 2301.5,-425 2295.5,-419 2295.5,-413 2295.5,-413 2295.5,-354 2295.5,-354 2295.5,-348 2301.5,-342 2307.5,-342 2307.5,-342 2462.5,-342 2462.5,-342 2468.5,-342 2474.5,-348 2474.5,-354 2474.5,-354 2474.5,-413 2474.5,-413 2474.5,-419 2468.5,-425 2462.5,-425\"/>\n",
       "<text text-anchor=\"start\" x=\"2303.5\" y=\"-409.8\" font-family=\"Helvetica,sans-Serif\" font-size=\"14.00\">Total eve minutes ≤ 226.55</text>\n",
       "<text text-anchor=\"start\" x=\"2353\" y=\"-394.8\" font-family=\"Helvetica,sans-Serif\" font-size=\"14.00\">gini = 0.47</text>\n",
       "<text text-anchor=\"start\" x=\"2344\" y=\"-379.8\" font-family=\"Helvetica,sans-Serif\" font-size=\"14.00\">samples = 21</text>\n",
       "<text text-anchor=\"start\" x=\"2342\" y=\"-364.8\" font-family=\"Helvetica,sans-Serif\" font-size=\"14.00\">value = [8, 13]</text>\n",
       "<text text-anchor=\"start\" x=\"2343\" y=\"-349.8\" font-family=\"Helvetica,sans-Serif\" font-size=\"14.00\">class = Churn</text>\n",
       "</g>\n",
       "<!-- 43&#45;&gt;45 -->\n",
       "<g id=\"edge45\" class=\"edge\">\n",
       "<title>43-&gt;45</title>\n",
       "<path fill=\"none\" stroke=\"black\" d=\"M2385,-460.91C2385,-452.65 2385,-443.86 2385,-435.3\"/>\n",
       "<polygon fill=\"black\" stroke=\"black\" points=\"2388.5,-435.02 2385,-425.02 2381.5,-435.02 2388.5,-435.02\"/>\n",
       "</g>\n",
       "<!-- 46 -->\n",
       "<g id=\"node47\" class=\"node\">\n",
       "<title>46</title>\n",
       "<path fill=\"#5aade9\" stroke=\"black\" d=\"M2264,-306C2264,-306 2138,-306 2138,-306 2132,-306 2126,-300 2126,-294 2126,-294 2126,-235 2126,-235 2126,-229 2132,-223 2138,-223 2138,-223 2264,-223 2264,-223 2270,-223 2276,-229 2276,-235 2276,-235 2276,-294 2276,-294 2276,-300 2270,-306 2264,-306\"/>\n",
       "<text text-anchor=\"start\" x=\"2134\" y=\"-290.8\" font-family=\"Helvetica,sans-Serif\" font-size=\"14.00\">Total eve calls ≤ 138.0</text>\n",
       "<text text-anchor=\"start\" x=\"2169\" y=\"-275.8\" font-family=\"Helvetica,sans-Serif\" font-size=\"14.00\">gini = 0.24</text>\n",
       "<text text-anchor=\"start\" x=\"2160\" y=\"-260.8\" font-family=\"Helvetica,sans-Serif\" font-size=\"14.00\">samples = 14</text>\n",
       "<text text-anchor=\"start\" x=\"2158\" y=\"-245.8\" font-family=\"Helvetica,sans-Serif\" font-size=\"14.00\">value = [2, 12]</text>\n",
       "<text text-anchor=\"start\" x=\"2159\" y=\"-230.8\" font-family=\"Helvetica,sans-Serif\" font-size=\"14.00\">class = Churn</text>\n",
       "</g>\n",
       "<!-- 45&#45;&gt;46 -->\n",
       "<g id=\"edge46\" class=\"edge\">\n",
       "<title>45-&gt;46</title>\n",
       "<path fill=\"none\" stroke=\"black\" d=\"M2321.16,-341.91C2305.75,-332.11 2289.17,-321.56 2273.39,-311.53\"/>\n",
       "<polygon fill=\"black\" stroke=\"black\" points=\"2275.04,-308.43 2264.73,-306.02 2271.29,-314.34 2275.04,-308.43\"/>\n",
       "</g>\n",
       "<!-- 51 -->\n",
       "<g id=\"node52\" class=\"node\">\n",
       "<title>51</title>\n",
       "<path fill=\"#e9965a\" stroke=\"black\" d=\"M2448,-306C2448,-306 2322,-306 2322,-306 2316,-306 2310,-300 2310,-294 2310,-294 2310,-235 2310,-235 2310,-229 2316,-223 2322,-223 2322,-223 2448,-223 2448,-223 2454,-223 2460,-229 2460,-235 2460,-235 2460,-294 2460,-294 2460,-300 2454,-306 2448,-306\"/>\n",
       "<text text-anchor=\"start\" x=\"2318\" y=\"-290.8\" font-family=\"Helvetica,sans-Serif\" font-size=\"14.00\">Total day calls ≤ 115.5</text>\n",
       "<text text-anchor=\"start\" x=\"2353\" y=\"-275.8\" font-family=\"Helvetica,sans-Serif\" font-size=\"14.00\">gini = 0.24</text>\n",
       "<text text-anchor=\"start\" x=\"2347.5\" y=\"-260.8\" font-family=\"Helvetica,sans-Serif\" font-size=\"14.00\">samples = 7</text>\n",
       "<text text-anchor=\"start\" x=\"2345.5\" y=\"-245.8\" font-family=\"Helvetica,sans-Serif\" font-size=\"14.00\">value = [6, 1]</text>\n",
       "<text text-anchor=\"start\" x=\"2332\" y=\"-230.8\" font-family=\"Helvetica,sans-Serif\" font-size=\"14.00\">class = Not churn</text>\n",
       "</g>\n",
       "<!-- 45&#45;&gt;51 -->\n",
       "<g id=\"edge51\" class=\"edge\">\n",
       "<title>45-&gt;51</title>\n",
       "<path fill=\"none\" stroke=\"black\" d=\"M2385,-341.91C2385,-333.65 2385,-324.86 2385,-316.3\"/>\n",
       "<polygon fill=\"black\" stroke=\"black\" points=\"2388.5,-316.02 2385,-306.02 2381.5,-316.02 2388.5,-316.02\"/>\n",
       "</g>\n",
       "<!-- 47 -->\n",
       "<g id=\"node48\" class=\"node\">\n",
       "<title>47</title>\n",
       "<path fill=\"#49a5e7\" stroke=\"black\" d=\"M2109.5,-187C2109.5,-187 1932.5,-187 1932.5,-187 1926.5,-187 1920.5,-181 1920.5,-175 1920.5,-175 1920.5,-116 1920.5,-116 1920.5,-110 1926.5,-104 1932.5,-104 1932.5,-104 2109.5,-104 2109.5,-104 2115.5,-104 2121.5,-110 2121.5,-116 2121.5,-116 2121.5,-175 2121.5,-175 2121.5,-181 2115.5,-187 2109.5,-187\"/>\n",
       "<text text-anchor=\"start\" x=\"1928.5\" y=\"-171.8\" font-family=\"Helvetica,sans-Serif\" font-size=\"14.00\">Number vmail messages ≤ 8.0</text>\n",
       "<text text-anchor=\"start\" x=\"1989\" y=\"-156.8\" font-family=\"Helvetica,sans-Serif\" font-size=\"14.00\">gini = 0.14</text>\n",
       "<text text-anchor=\"start\" x=\"1980\" y=\"-141.8\" font-family=\"Helvetica,sans-Serif\" font-size=\"14.00\">samples = 13</text>\n",
       "<text text-anchor=\"start\" x=\"1978\" y=\"-126.8\" font-family=\"Helvetica,sans-Serif\" font-size=\"14.00\">value = [1, 12]</text>\n",
       "<text text-anchor=\"start\" x=\"1979\" y=\"-111.8\" font-family=\"Helvetica,sans-Serif\" font-size=\"14.00\">class = Churn</text>\n",
       "</g>\n",
       "<!-- 46&#45;&gt;47 -->\n",
       "<g id=\"edge47\" class=\"edge\">\n",
       "<title>46-&gt;47</title>\n",
       "<path fill=\"none\" stroke=\"black\" d=\"M2138.55,-222.91C2123.47,-213.11 2107.25,-202.56 2091.82,-192.53\"/>\n",
       "<polygon fill=\"black\" stroke=\"black\" points=\"2093.63,-189.54 2083.34,-187.02 2089.82,-195.41 2093.63,-189.54\"/>\n",
       "</g>\n",
       "<!-- 50 -->\n",
       "<g id=\"node51\" class=\"node\">\n",
       "<title>50</title>\n",
       "<path fill=\"#e58139\" stroke=\"black\" d=\"M2250,-179.5C2250,-179.5 2152,-179.5 2152,-179.5 2146,-179.5 2140,-173.5 2140,-167.5 2140,-167.5 2140,-123.5 2140,-123.5 2140,-117.5 2146,-111.5 2152,-111.5 2152,-111.5 2250,-111.5 2250,-111.5 2256,-111.5 2262,-117.5 2262,-123.5 2262,-123.5 2262,-167.5 2262,-167.5 2262,-173.5 2256,-179.5 2250,-179.5\"/>\n",
       "<text text-anchor=\"start\" x=\"2173\" y=\"-164.3\" font-family=\"Helvetica,sans-Serif\" font-size=\"14.00\">gini = 0.0</text>\n",
       "<text text-anchor=\"start\" x=\"2163.5\" y=\"-149.3\" font-family=\"Helvetica,sans-Serif\" font-size=\"14.00\">samples = 1</text>\n",
       "<text text-anchor=\"start\" x=\"2161.5\" y=\"-134.3\" font-family=\"Helvetica,sans-Serif\" font-size=\"14.00\">value = [1, 0]</text>\n",
       "<text text-anchor=\"start\" x=\"2148\" y=\"-119.3\" font-family=\"Helvetica,sans-Serif\" font-size=\"14.00\">class = Not churn</text>\n",
       "</g>\n",
       "<!-- 46&#45;&gt;50 -->\n",
       "<g id=\"edge50\" class=\"edge\">\n",
       "<title>46-&gt;50</title>\n",
       "<path fill=\"none\" stroke=\"black\" d=\"M2201,-222.91C2201,-212.2 2201,-200.62 2201,-189.78\"/>\n",
       "<polygon fill=\"black\" stroke=\"black\" points=\"2204.5,-189.67 2201,-179.67 2197.5,-189.67 2204.5,-189.67\"/>\n",
       "</g>\n",
       "<!-- 48 -->\n",
       "<g id=\"node49\" class=\"node\">\n",
       "<title>48</title>\n",
       "<path fill=\"#399de5\" stroke=\"black\" d=\"M2060,-68C2060,-68 1982,-68 1982,-68 1976,-68 1970,-62 1970,-56 1970,-56 1970,-12 1970,-12 1970,-6 1976,0 1982,0 1982,0 2060,0 2060,0 2066,0 2072,-6 2072,-12 2072,-12 2072,-56 2072,-56 2072,-62 2066,-68 2060,-68\"/>\n",
       "<text text-anchor=\"start\" x=\"1993\" y=\"-52.8\" font-family=\"Helvetica,sans-Serif\" font-size=\"14.00\">gini = 0.0</text>\n",
       "<text text-anchor=\"start\" x=\"1980\" y=\"-37.8\" font-family=\"Helvetica,sans-Serif\" font-size=\"14.00\">samples = 10</text>\n",
       "<text text-anchor=\"start\" x=\"1978\" y=\"-22.8\" font-family=\"Helvetica,sans-Serif\" font-size=\"14.00\">value = [0, 10]</text>\n",
       "<text text-anchor=\"start\" x=\"1979\" y=\"-7.8\" font-family=\"Helvetica,sans-Serif\" font-size=\"14.00\">class = Churn</text>\n",
       "</g>\n",
       "<!-- 47&#45;&gt;48 -->\n",
       "<g id=\"edge48\" class=\"edge\">\n",
       "<title>47-&gt;48</title>\n",
       "<path fill=\"none\" stroke=\"black\" d=\"M2021,-103.73C2021,-95.52 2021,-86.86 2021,-78.56\"/>\n",
       "<polygon fill=\"black\" stroke=\"black\" points=\"2024.5,-78.3 2021,-68.3 2017.5,-78.3 2024.5,-78.3\"/>\n",
       "</g>\n",
       "<!-- 49 -->\n",
       "<g id=\"node50\" class=\"node\">\n",
       "<title>49</title>\n",
       "<path fill=\"#9ccef2\" stroke=\"black\" d=\"M2178,-68C2178,-68 2102,-68 2102,-68 2096,-68 2090,-62 2090,-56 2090,-56 2090,-12 2090,-12 2090,-6 2096,0 2102,0 2102,0 2178,0 2178,0 2184,0 2190,-6 2190,-12 2190,-12 2190,-56 2190,-56 2190,-62 2184,-68 2178,-68\"/>\n",
       "<text text-anchor=\"start\" x=\"2108\" y=\"-52.8\" font-family=\"Helvetica,sans-Serif\" font-size=\"14.00\">gini = 0.44</text>\n",
       "<text text-anchor=\"start\" x=\"2102.5\" y=\"-37.8\" font-family=\"Helvetica,sans-Serif\" font-size=\"14.00\">samples = 3</text>\n",
       "<text text-anchor=\"start\" x=\"2100.5\" y=\"-22.8\" font-family=\"Helvetica,sans-Serif\" font-size=\"14.00\">value = [1, 2]</text>\n",
       "<text text-anchor=\"start\" x=\"2098\" y=\"-7.8\" font-family=\"Helvetica,sans-Serif\" font-size=\"14.00\">class = Churn</text>\n",
       "</g>\n",
       "<!-- 47&#45;&gt;49 -->\n",
       "<g id=\"edge49\" class=\"edge\">\n",
       "<title>47-&gt;49</title>\n",
       "<path fill=\"none\" stroke=\"black\" d=\"M2065.31,-103.73C2075.42,-94.42 2086.16,-84.54 2096.25,-75.26\"/>\n",
       "<polygon fill=\"black\" stroke=\"black\" points=\"2098.82,-77.65 2103.81,-68.3 2094.08,-72.5 2098.82,-77.65\"/>\n",
       "</g>\n",
       "<!-- 52 -->\n",
       "<g id=\"node53\" class=\"node\">\n",
       "<title>52</title>\n",
       "<path fill=\"#e58139\" stroke=\"black\" d=\"M2390,-179.5C2390,-179.5 2292,-179.5 2292,-179.5 2286,-179.5 2280,-173.5 2280,-167.5 2280,-167.5 2280,-123.5 2280,-123.5 2280,-117.5 2286,-111.5 2292,-111.5 2292,-111.5 2390,-111.5 2390,-111.5 2396,-111.5 2402,-117.5 2402,-123.5 2402,-123.5 2402,-167.5 2402,-167.5 2402,-173.5 2396,-179.5 2390,-179.5\"/>\n",
       "<text text-anchor=\"start\" x=\"2313\" y=\"-164.3\" font-family=\"Helvetica,sans-Serif\" font-size=\"14.00\">gini = 0.0</text>\n",
       "<text text-anchor=\"start\" x=\"2303.5\" y=\"-149.3\" font-family=\"Helvetica,sans-Serif\" font-size=\"14.00\">samples = 6</text>\n",
       "<text text-anchor=\"start\" x=\"2301.5\" y=\"-134.3\" font-family=\"Helvetica,sans-Serif\" font-size=\"14.00\">value = [6, 0]</text>\n",
       "<text text-anchor=\"start\" x=\"2288\" y=\"-119.3\" font-family=\"Helvetica,sans-Serif\" font-size=\"14.00\">class = Not churn</text>\n",
       "</g>\n",
       "<!-- 51&#45;&gt;52 -->\n",
       "<g id=\"edge52\" class=\"edge\">\n",
       "<title>51-&gt;52</title>\n",
       "<path fill=\"none\" stroke=\"black\" d=\"M2369.73,-222.91C2365.63,-211.98 2361.17,-200.14 2357.02,-189.11\"/>\n",
       "<polygon fill=\"black\" stroke=\"black\" points=\"2360.27,-187.79 2353.47,-179.67 2353.72,-190.26 2360.27,-187.79\"/>\n",
       "</g>\n",
       "<!-- 53 -->\n",
       "<g id=\"node54\" class=\"node\">\n",
       "<title>53</title>\n",
       "<path fill=\"#399de5\" stroke=\"black\" d=\"M2508,-179.5C2508,-179.5 2432,-179.5 2432,-179.5 2426,-179.5 2420,-173.5 2420,-167.5 2420,-167.5 2420,-123.5 2420,-123.5 2420,-117.5 2426,-111.5 2432,-111.5 2432,-111.5 2508,-111.5 2508,-111.5 2514,-111.5 2520,-117.5 2520,-123.5 2520,-123.5 2520,-167.5 2520,-167.5 2520,-173.5 2514,-179.5 2508,-179.5\"/>\n",
       "<text text-anchor=\"start\" x=\"2442\" y=\"-164.3\" font-family=\"Helvetica,sans-Serif\" font-size=\"14.00\">gini = 0.0</text>\n",
       "<text text-anchor=\"start\" x=\"2432.5\" y=\"-149.3\" font-family=\"Helvetica,sans-Serif\" font-size=\"14.00\">samples = 1</text>\n",
       "<text text-anchor=\"start\" x=\"2430.5\" y=\"-134.3\" font-family=\"Helvetica,sans-Serif\" font-size=\"14.00\">value = [0, 1]</text>\n",
       "<text text-anchor=\"start\" x=\"2428\" y=\"-119.3\" font-family=\"Helvetica,sans-Serif\" font-size=\"14.00\">class = Churn</text>\n",
       "</g>\n",
       "<!-- 51&#45;&gt;53 -->\n",
       "<g id=\"edge53\" class=\"edge\">\n",
       "<title>51-&gt;53</title>\n",
       "<path fill=\"none\" stroke=\"black\" d=\"M2414.49,-222.91C2422.75,-211.54 2431.73,-199.18 2440.01,-187.77\"/>\n",
       "<polygon fill=\"black\" stroke=\"black\" points=\"2442.86,-189.81 2445.9,-179.67 2437.2,-185.7 2442.86,-189.81\"/>\n",
       "</g>\n",
       "<!-- 55 -->\n",
       "<g id=\"node56\" class=\"node\">\n",
       "<title>55</title>\n",
       "<path fill=\"#85c3ef\" stroke=\"black\" d=\"M2674.5,-425C2674.5,-425 2519.5,-425 2519.5,-425 2513.5,-425 2507.5,-419 2507.5,-413 2507.5,-413 2507.5,-354 2507.5,-354 2507.5,-348 2513.5,-342 2519.5,-342 2519.5,-342 2674.5,-342 2674.5,-342 2680.5,-342 2686.5,-348 2686.5,-354 2686.5,-354 2686.5,-413 2686.5,-413 2686.5,-419 2680.5,-425 2674.5,-425\"/>\n",
       "<text text-anchor=\"start\" x=\"2515.5\" y=\"-409.8\" font-family=\"Helvetica,sans-Serif\" font-size=\"14.00\">Total night minutes ≤ 262.5</text>\n",
       "<text text-anchor=\"start\" x=\"2569\" y=\"-394.8\" font-family=\"Helvetica,sans-Serif\" font-size=\"14.00\">gini = 0.4</text>\n",
       "<text text-anchor=\"start\" x=\"2556\" y=\"-379.8\" font-family=\"Helvetica,sans-Serif\" font-size=\"14.00\">samples = 18</text>\n",
       "<text text-anchor=\"start\" x=\"2554\" y=\"-364.8\" font-family=\"Helvetica,sans-Serif\" font-size=\"14.00\">value = [5, 13]</text>\n",
       "<text text-anchor=\"start\" x=\"2555\" y=\"-349.8\" font-family=\"Helvetica,sans-Serif\" font-size=\"14.00\">class = Churn</text>\n",
       "</g>\n",
       "<!-- 54&#45;&gt;55 -->\n",
       "<g id=\"edge55\" class=\"edge\">\n",
       "<title>54-&gt;55</title>\n",
       "<path fill=\"none\" stroke=\"black\" d=\"M2597,-460.91C2597,-452.65 2597,-443.86 2597,-435.3\"/>\n",
       "<polygon fill=\"black\" stroke=\"black\" points=\"2600.5,-435.02 2597,-425.02 2593.5,-435.02 2600.5,-435.02\"/>\n",
       "</g>\n",
       "<!-- 62 -->\n",
       "<g id=\"node63\" class=\"node\">\n",
       "<title>62</title>\n",
       "<path fill=\"#e89153\" stroke=\"black\" d=\"M2960,-425C2960,-425 2826,-425 2826,-425 2820,-425 2814,-419 2814,-413 2814,-413 2814,-354 2814,-354 2814,-348 2820,-342 2826,-342 2826,-342 2960,-342 2960,-342 2966,-342 2972,-348 2972,-354 2972,-354 2972,-413 2972,-413 2972,-419 2966,-425 2960,-425\"/>\n",
       "<text text-anchor=\"start\" x=\"2822\" y=\"-409.8\" font-family=\"Helvetica,sans-Serif\" font-size=\"14.00\">Total night calls ≤ 103.5</text>\n",
       "<text text-anchor=\"start\" x=\"2865\" y=\"-394.8\" font-family=\"Helvetica,sans-Serif\" font-size=\"14.00\">gini = 0.2</text>\n",
       "<text text-anchor=\"start\" x=\"2852\" y=\"-379.8\" font-family=\"Helvetica,sans-Serif\" font-size=\"14.00\">samples = 61</text>\n",
       "<text text-anchor=\"start\" x=\"2850\" y=\"-364.8\" font-family=\"Helvetica,sans-Serif\" font-size=\"14.00\">value = [54, 7]</text>\n",
       "<text text-anchor=\"start\" x=\"2840\" y=\"-349.8\" font-family=\"Helvetica,sans-Serif\" font-size=\"14.00\">class = Not churn</text>\n",
       "</g>\n",
       "<!-- 54&#45;&gt;62 -->\n",
       "<g id=\"edge62\" class=\"edge\">\n",
       "<title>54-&gt;62</title>\n",
       "<path fill=\"none\" stroke=\"black\" d=\"M2686.61,-466.08C2723.95,-451.32 2767.18,-434.23 2804.41,-419.52\"/>\n",
       "<polygon fill=\"black\" stroke=\"black\" points=\"2805.72,-422.76 2813.74,-415.83 2803.15,-416.25 2805.72,-422.76\"/>\n",
       "</g>\n",
       "<!-- 56 -->\n",
       "<g id=\"node57\" class=\"node\">\n",
       "<title>56</title>\n",
       "<path fill=\"#67b4eb\" stroke=\"black\" d=\"M2661.5,-306C2661.5,-306 2514.5,-306 2514.5,-306 2508.5,-306 2502.5,-300 2502.5,-294 2502.5,-294 2502.5,-235 2502.5,-235 2502.5,-229 2508.5,-223 2514.5,-223 2514.5,-223 2661.5,-223 2661.5,-223 2667.5,-223 2673.5,-229 2673.5,-235 2673.5,-235 2673.5,-294 2673.5,-294 2673.5,-300 2667.5,-306 2661.5,-306\"/>\n",
       "<text text-anchor=\"start\" x=\"2510.5\" y=\"-290.8\" font-family=\"Helvetica,sans-Serif\" font-size=\"14.00\">Total day minutes ≤ 194.8</text>\n",
       "<text text-anchor=\"start\" x=\"2560\" y=\"-275.8\" font-family=\"Helvetica,sans-Serif\" font-size=\"14.00\">gini = 0.3</text>\n",
       "<text text-anchor=\"start\" x=\"2547\" y=\"-260.8\" font-family=\"Helvetica,sans-Serif\" font-size=\"14.00\">samples = 16</text>\n",
       "<text text-anchor=\"start\" x=\"2545\" y=\"-245.8\" font-family=\"Helvetica,sans-Serif\" font-size=\"14.00\">value = [3, 13]</text>\n",
       "<text text-anchor=\"start\" x=\"2546\" y=\"-230.8\" font-family=\"Helvetica,sans-Serif\" font-size=\"14.00\">class = Churn</text>\n",
       "</g>\n",
       "<!-- 55&#45;&gt;56 -->\n",
       "<g id=\"edge56\" class=\"edge\">\n",
       "<title>55-&gt;56</title>\n",
       "<path fill=\"none\" stroke=\"black\" d=\"M2593.88,-341.91C2593.24,-333.56 2592.55,-324.67 2591.89,-316.02\"/>\n",
       "<polygon fill=\"black\" stroke=\"black\" points=\"2595.37,-315.72 2591.12,-306.02 2588.39,-316.26 2595.37,-315.72\"/>\n",
       "</g>\n",
       "<!-- 61 -->\n",
       "<g id=\"node62\" class=\"node\">\n",
       "<title>61</title>\n",
       "<path fill=\"#e58139\" stroke=\"black\" d=\"M2802,-298.5C2802,-298.5 2704,-298.5 2704,-298.5 2698,-298.5 2692,-292.5 2692,-286.5 2692,-286.5 2692,-242.5 2692,-242.5 2692,-236.5 2698,-230.5 2704,-230.5 2704,-230.5 2802,-230.5 2802,-230.5 2808,-230.5 2814,-236.5 2814,-242.5 2814,-242.5 2814,-286.5 2814,-286.5 2814,-292.5 2808,-298.5 2802,-298.5\"/>\n",
       "<text text-anchor=\"start\" x=\"2725\" y=\"-283.3\" font-family=\"Helvetica,sans-Serif\" font-size=\"14.00\">gini = 0.0</text>\n",
       "<text text-anchor=\"start\" x=\"2715.5\" y=\"-268.3\" font-family=\"Helvetica,sans-Serif\" font-size=\"14.00\">samples = 2</text>\n",
       "<text text-anchor=\"start\" x=\"2713.5\" y=\"-253.3\" font-family=\"Helvetica,sans-Serif\" font-size=\"14.00\">value = [2, 0]</text>\n",
       "<text text-anchor=\"start\" x=\"2700\" y=\"-238.3\" font-family=\"Helvetica,sans-Serif\" font-size=\"14.00\">class = Not churn</text>\n",
       "</g>\n",
       "<!-- 55&#45;&gt;61 -->\n",
       "<g id=\"edge61\" class=\"edge\">\n",
       "<title>55-&gt;61</title>\n",
       "<path fill=\"none\" stroke=\"black\" d=\"M2651.12,-341.91C2667.16,-329.88 2684.69,-316.73 2700.61,-304.79\"/>\n",
       "<polygon fill=\"black\" stroke=\"black\" points=\"2702.88,-307.47 2708.78,-298.67 2698.68,-301.87 2702.88,-307.47\"/>\n",
       "</g>\n",
       "<!-- 57 -->\n",
       "<g id=\"node58\" class=\"node\">\n",
       "<title>57</title>\n",
       "<path fill=\"#399de5\" stroke=\"black\" d=\"M2626,-179.5C2626,-179.5 2550,-179.5 2550,-179.5 2544,-179.5 2538,-173.5 2538,-167.5 2538,-167.5 2538,-123.5 2538,-123.5 2538,-117.5 2544,-111.5 2550,-111.5 2550,-111.5 2626,-111.5 2626,-111.5 2632,-111.5 2638,-117.5 2638,-123.5 2638,-123.5 2638,-167.5 2638,-167.5 2638,-173.5 2632,-179.5 2626,-179.5\"/>\n",
       "<text text-anchor=\"start\" x=\"2560\" y=\"-164.3\" font-family=\"Helvetica,sans-Serif\" font-size=\"14.00\">gini = 0.0</text>\n",
       "<text text-anchor=\"start\" x=\"2550.5\" y=\"-149.3\" font-family=\"Helvetica,sans-Serif\" font-size=\"14.00\">samples = 9</text>\n",
       "<text text-anchor=\"start\" x=\"2548.5\" y=\"-134.3\" font-family=\"Helvetica,sans-Serif\" font-size=\"14.00\">value = [0, 9]</text>\n",
       "<text text-anchor=\"start\" x=\"2546\" y=\"-119.3\" font-family=\"Helvetica,sans-Serif\" font-size=\"14.00\">class = Churn</text>\n",
       "</g>\n",
       "<!-- 56&#45;&gt;57 -->\n",
       "<g id=\"edge57\" class=\"edge\">\n",
       "<title>56-&gt;57</title>\n",
       "<path fill=\"none\" stroke=\"black\" d=\"M2588,-222.91C2588,-212.2 2588,-200.62 2588,-189.78\"/>\n",
       "<polygon fill=\"black\" stroke=\"black\" points=\"2591.5,-189.67 2588,-179.67 2584.5,-189.67 2591.5,-189.67\"/>\n",
       "</g>\n",
       "<!-- 58 -->\n",
       "<g id=\"node59\" class=\"node\">\n",
       "<title>58</title>\n",
       "<path fill=\"#cee6f8\" stroke=\"black\" d=\"M2794,-187C2794,-187 2668,-187 2668,-187 2662,-187 2656,-181 2656,-175 2656,-175 2656,-116 2656,-116 2656,-110 2662,-104 2668,-104 2668,-104 2794,-104 2794,-104 2800,-104 2806,-110 2806,-116 2806,-116 2806,-175 2806,-175 2806,-181 2800,-187 2794,-187\"/>\n",
       "<text text-anchor=\"start\" x=\"2664\" y=\"-171.8\" font-family=\"Helvetica,sans-Serif\" font-size=\"14.00\">Total day calls ≤ 107.5</text>\n",
       "<text text-anchor=\"start\" x=\"2699\" y=\"-156.8\" font-family=\"Helvetica,sans-Serif\" font-size=\"14.00\">gini = 0.49</text>\n",
       "<text text-anchor=\"start\" x=\"2693.5\" y=\"-141.8\" font-family=\"Helvetica,sans-Serif\" font-size=\"14.00\">samples = 7</text>\n",
       "<text text-anchor=\"start\" x=\"2691.5\" y=\"-126.8\" font-family=\"Helvetica,sans-Serif\" font-size=\"14.00\">value = [3, 4]</text>\n",
       "<text text-anchor=\"start\" x=\"2689\" y=\"-111.8\" font-family=\"Helvetica,sans-Serif\" font-size=\"14.00\">class = Churn</text>\n",
       "</g>\n",
       "<!-- 56&#45;&gt;58 -->\n",
       "<g id=\"edge58\" class=\"edge\">\n",
       "<title>56-&gt;58</title>\n",
       "<path fill=\"none\" stroke=\"black\" d=\"M2637.61,-222.91C2649.26,-213.38 2661.76,-203.15 2673.71,-193.37\"/>\n",
       "<polygon fill=\"black\" stroke=\"black\" points=\"2675.95,-196.06 2681.47,-187.02 2671.52,-190.64 2675.95,-196.06\"/>\n",
       "</g>\n",
       "<!-- 59 -->\n",
       "<g id=\"node60\" class=\"node\">\n",
       "<title>59</title>\n",
       "<path fill=\"#e58139\" stroke=\"black\" d=\"M2651,-68C2651,-68 2553,-68 2553,-68 2547,-68 2541,-62 2541,-56 2541,-56 2541,-12 2541,-12 2541,-6 2547,0 2553,0 2553,0 2651,0 2651,0 2657,0 2663,-6 2663,-12 2663,-12 2663,-56 2663,-56 2663,-62 2657,-68 2651,-68\"/>\n",
       "<text text-anchor=\"start\" x=\"2574\" y=\"-52.8\" font-family=\"Helvetica,sans-Serif\" font-size=\"14.00\">gini = 0.0</text>\n",
       "<text text-anchor=\"start\" x=\"2564.5\" y=\"-37.8\" font-family=\"Helvetica,sans-Serif\" font-size=\"14.00\">samples = 2</text>\n",
       "<text text-anchor=\"start\" x=\"2562.5\" y=\"-22.8\" font-family=\"Helvetica,sans-Serif\" font-size=\"14.00\">value = [2, 0]</text>\n",
       "<text text-anchor=\"start\" x=\"2549\" y=\"-7.8\" font-family=\"Helvetica,sans-Serif\" font-size=\"14.00\">class = Not churn</text>\n",
       "</g>\n",
       "<!-- 58&#45;&gt;59 -->\n",
       "<g id=\"edge59\" class=\"edge\">\n",
       "<title>58-&gt;59</title>\n",
       "<path fill=\"none\" stroke=\"black\" d=\"M2682.97,-103.73C2671.9,-94.33 2660.14,-84.35 2649.11,-74.99\"/>\n",
       "<polygon fill=\"black\" stroke=\"black\" points=\"2651.12,-72.1 2641.23,-68.3 2646.59,-77.44 2651.12,-72.1\"/>\n",
       "</g>\n",
       "<!-- 60 -->\n",
       "<g id=\"node61\" class=\"node\">\n",
       "<title>60</title>\n",
       "<path fill=\"#6ab6ec\" stroke=\"black\" d=\"M2769,-68C2769,-68 2693,-68 2693,-68 2687,-68 2681,-62 2681,-56 2681,-56 2681,-12 2681,-12 2681,-6 2687,0 2693,0 2693,0 2769,0 2769,0 2775,0 2781,-6 2781,-12 2781,-12 2781,-56 2781,-56 2781,-62 2775,-68 2769,-68\"/>\n",
       "<text text-anchor=\"start\" x=\"2699\" y=\"-52.8\" font-family=\"Helvetica,sans-Serif\" font-size=\"14.00\">gini = 0.32</text>\n",
       "<text text-anchor=\"start\" x=\"2693.5\" y=\"-37.8\" font-family=\"Helvetica,sans-Serif\" font-size=\"14.00\">samples = 5</text>\n",
       "<text text-anchor=\"start\" x=\"2691.5\" y=\"-22.8\" font-family=\"Helvetica,sans-Serif\" font-size=\"14.00\">value = [1, 4]</text>\n",
       "<text text-anchor=\"start\" x=\"2689\" y=\"-7.8\" font-family=\"Helvetica,sans-Serif\" font-size=\"14.00\">class = Churn</text>\n",
       "</g>\n",
       "<!-- 58&#45;&gt;60 -->\n",
       "<g id=\"edge60\" class=\"edge\">\n",
       "<title>58-&gt;60</title>\n",
       "<path fill=\"none\" stroke=\"black\" d=\"M2731,-103.73C2731,-95.52 2731,-86.86 2731,-78.56\"/>\n",
       "<polygon fill=\"black\" stroke=\"black\" points=\"2734.5,-78.3 2731,-68.3 2727.5,-78.3 2734.5,-78.3\"/>\n",
       "</g>\n",
       "<!-- 63 -->\n",
       "<g id=\"node64\" class=\"node\">\n",
       "<title>63</title>\n",
       "<path fill=\"#e58139\" stroke=\"black\" d=\"M2942,-298.5C2942,-298.5 2844,-298.5 2844,-298.5 2838,-298.5 2832,-292.5 2832,-286.5 2832,-286.5 2832,-242.5 2832,-242.5 2832,-236.5 2838,-230.5 2844,-230.5 2844,-230.5 2942,-230.5 2942,-230.5 2948,-230.5 2954,-236.5 2954,-242.5 2954,-242.5 2954,-286.5 2954,-286.5 2954,-292.5 2948,-298.5 2942,-298.5\"/>\n",
       "<text text-anchor=\"start\" x=\"2865\" y=\"-283.3\" font-family=\"Helvetica,sans-Serif\" font-size=\"14.00\">gini = 0.0</text>\n",
       "<text text-anchor=\"start\" x=\"2852\" y=\"-268.3\" font-family=\"Helvetica,sans-Serif\" font-size=\"14.00\">samples = 35</text>\n",
       "<text text-anchor=\"start\" x=\"2850\" y=\"-253.3\" font-family=\"Helvetica,sans-Serif\" font-size=\"14.00\">value = [35, 0]</text>\n",
       "<text text-anchor=\"start\" x=\"2840\" y=\"-238.3\" font-family=\"Helvetica,sans-Serif\" font-size=\"14.00\">class = Not churn</text>\n",
       "</g>\n",
       "<!-- 62&#45;&gt;63 -->\n",
       "<g id=\"edge63\" class=\"edge\">\n",
       "<title>62-&gt;63</title>\n",
       "<path fill=\"none\" stroke=\"black\" d=\"M2893,-341.91C2893,-331.2 2893,-319.62 2893,-308.78\"/>\n",
       "<polygon fill=\"black\" stroke=\"black\" points=\"2896.5,-308.67 2893,-298.67 2889.5,-308.67 2896.5,-308.67\"/>\n",
       "</g>\n",
       "<!-- 64 -->\n",
       "<g id=\"node65\" class=\"node\">\n",
       "<title>64</title>\n",
       "<path fill=\"#efaf82\" stroke=\"black\" d=\"M3119.5,-306C3119.5,-306 2984.5,-306 2984.5,-306 2978.5,-306 2972.5,-300 2972.5,-294 2972.5,-294 2972.5,-235 2972.5,-235 2972.5,-229 2978.5,-223 2984.5,-223 2984.5,-223 3119.5,-223 3119.5,-223 3125.5,-223 3131.5,-229 3131.5,-235 3131.5,-235 3131.5,-294 3131.5,-294 3131.5,-300 3125.5,-306 3119.5,-306\"/>\n",
       "<text text-anchor=\"start\" x=\"2980.5\" y=\"-290.8\" font-family=\"Helvetica,sans-Serif\" font-size=\"14.00\">Total intl minutes ≤ 8.75</text>\n",
       "<text text-anchor=\"start\" x=\"3020\" y=\"-275.8\" font-family=\"Helvetica,sans-Serif\" font-size=\"14.00\">gini = 0.39</text>\n",
       "<text text-anchor=\"start\" x=\"3011\" y=\"-260.8\" font-family=\"Helvetica,sans-Serif\" font-size=\"14.00\">samples = 26</text>\n",
       "<text text-anchor=\"start\" x=\"3009\" y=\"-245.8\" font-family=\"Helvetica,sans-Serif\" font-size=\"14.00\">value = [19, 7]</text>\n",
       "<text text-anchor=\"start\" x=\"2999\" y=\"-230.8\" font-family=\"Helvetica,sans-Serif\" font-size=\"14.00\">class = Not churn</text>\n",
       "</g>\n",
       "<!-- 62&#45;&gt;64 -->\n",
       "<g id=\"edge64\" class=\"edge\">\n",
       "<title>62-&gt;64</title>\n",
       "<path fill=\"none\" stroke=\"black\" d=\"M2948.16,-341.91C2961.24,-332.29 2975.28,-321.95 2988.68,-312.09\"/>\n",
       "<polygon fill=\"black\" stroke=\"black\" points=\"2990.95,-314.77 2996.93,-306.02 2986.8,-309.13 2990.95,-314.77\"/>\n",
       "</g>\n",
       "<!-- 65 -->\n",
       "<g id=\"node66\" class=\"node\">\n",
       "<title>65</title>\n",
       "<path fill=\"#88c4ef\" stroke=\"black\" d=\"M3021.5,-187C3021.5,-187 2914.5,-187 2914.5,-187 2908.5,-187 2902.5,-181 2902.5,-175 2902.5,-175 2902.5,-116 2902.5,-116 2902.5,-110 2908.5,-104 2914.5,-104 2914.5,-104 3021.5,-104 3021.5,-104 3027.5,-104 3033.5,-110 3033.5,-116 3033.5,-116 3033.5,-175 3033.5,-175 3033.5,-181 3027.5,-187 3021.5,-187\"/>\n",
       "<text text-anchor=\"start\" x=\"2910.5\" y=\"-171.8\" font-family=\"Helvetica,sans-Serif\" font-size=\"14.00\">Total intl calls ≤ 5.5</text>\n",
       "<text text-anchor=\"start\" x=\"2936\" y=\"-156.8\" font-family=\"Helvetica,sans-Serif\" font-size=\"14.00\">gini = 0.41</text>\n",
       "<text text-anchor=\"start\" x=\"2930.5\" y=\"-141.8\" font-family=\"Helvetica,sans-Serif\" font-size=\"14.00\">samples = 7</text>\n",
       "<text text-anchor=\"start\" x=\"2928.5\" y=\"-126.8\" font-family=\"Helvetica,sans-Serif\" font-size=\"14.00\">value = [2, 5]</text>\n",
       "<text text-anchor=\"start\" x=\"2926\" y=\"-111.8\" font-family=\"Helvetica,sans-Serif\" font-size=\"14.00\">class = Churn</text>\n",
       "</g>\n",
       "<!-- 64&#45;&gt;65 -->\n",
       "<g id=\"edge65\" class=\"edge\">\n",
       "<title>64-&gt;65</title>\n",
       "<path fill=\"none\" stroke=\"black\" d=\"M3022.86,-222.91C3016.47,-214.01 3009.65,-204.51 3003.06,-195.33\"/>\n",
       "<polygon fill=\"black\" stroke=\"black\" points=\"3005.77,-193.1 2997.09,-187.02 3000.08,-197.19 3005.77,-193.1\"/>\n",
       "</g>\n",
       "<!-- 68 -->\n",
       "<g id=\"node69\" class=\"node\">\n",
       "<title>68</title>\n",
       "<path fill=\"#e89050\" stroke=\"black\" d=\"M3194.5,-187C3194.5,-187 3063.5,-187 3063.5,-187 3057.5,-187 3051.5,-181 3051.5,-175 3051.5,-175 3051.5,-116 3051.5,-116 3051.5,-110 3057.5,-104 3063.5,-104 3063.5,-104 3194.5,-104 3194.5,-104 3200.5,-104 3206.5,-110 3206.5,-116 3206.5,-116 3206.5,-175 3206.5,-175 3206.5,-181 3200.5,-187 3194.5,-187\"/>\n",
       "<text text-anchor=\"start\" x=\"3059.5\" y=\"-171.8\" font-family=\"Helvetica,sans-Serif\" font-size=\"14.00\">Account length ≤ 166.5</text>\n",
       "<text text-anchor=\"start\" x=\"3097\" y=\"-156.8\" font-family=\"Helvetica,sans-Serif\" font-size=\"14.00\">gini = 0.19</text>\n",
       "<text text-anchor=\"start\" x=\"3088\" y=\"-141.8\" font-family=\"Helvetica,sans-Serif\" font-size=\"14.00\">samples = 19</text>\n",
       "<text text-anchor=\"start\" x=\"3086\" y=\"-126.8\" font-family=\"Helvetica,sans-Serif\" font-size=\"14.00\">value = [17, 2]</text>\n",
       "<text text-anchor=\"start\" x=\"3076\" y=\"-111.8\" font-family=\"Helvetica,sans-Serif\" font-size=\"14.00\">class = Not churn</text>\n",
       "</g>\n",
       "<!-- 64&#45;&gt;68 -->\n",
       "<g id=\"edge68\" class=\"edge\">\n",
       "<title>64-&gt;68</title>\n",
       "<path fill=\"none\" stroke=\"black\" d=\"M3078.71,-222.91C3084.51,-214.1 3090.7,-204.7 3096.68,-195.61\"/>\n",
       "<polygon fill=\"black\" stroke=\"black\" points=\"3099.76,-197.3 3102.33,-187.02 3093.91,-193.45 3099.76,-197.3\"/>\n",
       "</g>\n",
       "<!-- 66 -->\n",
       "<g id=\"node67\" class=\"node\">\n",
       "<title>66</title>\n",
       "<path fill=\"#399de5\" stroke=\"black\" d=\"M2887,-68C2887,-68 2811,-68 2811,-68 2805,-68 2799,-62 2799,-56 2799,-56 2799,-12 2799,-12 2799,-6 2805,0 2811,0 2811,0 2887,0 2887,0 2893,0 2899,-6 2899,-12 2899,-12 2899,-56 2899,-56 2899,-62 2893,-68 2887,-68\"/>\n",
       "<text text-anchor=\"start\" x=\"2821\" y=\"-52.8\" font-family=\"Helvetica,sans-Serif\" font-size=\"14.00\">gini = 0.0</text>\n",
       "<text text-anchor=\"start\" x=\"2811.5\" y=\"-37.8\" font-family=\"Helvetica,sans-Serif\" font-size=\"14.00\">samples = 5</text>\n",
       "<text text-anchor=\"start\" x=\"2809.5\" y=\"-22.8\" font-family=\"Helvetica,sans-Serif\" font-size=\"14.00\">value = [0, 5]</text>\n",
       "<text text-anchor=\"start\" x=\"2807\" y=\"-7.8\" font-family=\"Helvetica,sans-Serif\" font-size=\"14.00\">class = Churn</text>\n",
       "</g>\n",
       "<!-- 65&#45;&gt;66 -->\n",
       "<g id=\"edge66\" class=\"edge\">\n",
       "<title>65-&gt;66</title>\n",
       "<path fill=\"none\" stroke=\"black\" d=\"M2923.69,-103.73C2913.58,-94.42 2902.84,-84.54 2892.75,-75.26\"/>\n",
       "<polygon fill=\"black\" stroke=\"black\" points=\"2894.92,-72.5 2885.19,-68.3 2890.18,-77.65 2894.92,-72.5\"/>\n",
       "</g>\n",
       "<!-- 67 -->\n",
       "<g id=\"node68\" class=\"node\">\n",
       "<title>67</title>\n",
       "<path fill=\"#e58139\" stroke=\"black\" d=\"M3027,-68C3027,-68 2929,-68 2929,-68 2923,-68 2917,-62 2917,-56 2917,-56 2917,-12 2917,-12 2917,-6 2923,0 2929,0 2929,0 3027,0 3027,0 3033,0 3039,-6 3039,-12 3039,-12 3039,-56 3039,-56 3039,-62 3033,-68 3027,-68\"/>\n",
       "<text text-anchor=\"start\" x=\"2950\" y=\"-52.8\" font-family=\"Helvetica,sans-Serif\" font-size=\"14.00\">gini = 0.0</text>\n",
       "<text text-anchor=\"start\" x=\"2940.5\" y=\"-37.8\" font-family=\"Helvetica,sans-Serif\" font-size=\"14.00\">samples = 2</text>\n",
       "<text text-anchor=\"start\" x=\"2938.5\" y=\"-22.8\" font-family=\"Helvetica,sans-Serif\" font-size=\"14.00\">value = [2, 0]</text>\n",
       "<text text-anchor=\"start\" x=\"2925\" y=\"-7.8\" font-family=\"Helvetica,sans-Serif\" font-size=\"14.00\">class = Not churn</text>\n",
       "</g>\n",
       "<!-- 65&#45;&gt;67 -->\n",
       "<g id=\"edge67\" class=\"edge\">\n",
       "<title>65-&gt;67</title>\n",
       "<path fill=\"none\" stroke=\"black\" d=\"M2971.72,-103.73C2972.48,-95.43 2973.28,-86.67 2974.05,-78.28\"/>\n",
       "<polygon fill=\"black\" stroke=\"black\" points=\"2977.53,-78.58 2974.96,-68.3 2970.56,-77.94 2977.53,-78.58\"/>\n",
       "</g>\n",
       "<!-- 69 -->\n",
       "<g id=\"node70\" class=\"node\">\n",
       "<title>69</title>\n",
       "<path fill=\"#e78845\" stroke=\"black\" d=\"M3167,-68C3167,-68 3069,-68 3069,-68 3063,-68 3057,-62 3057,-56 3057,-56 3057,-12 3057,-12 3057,-6 3063,0 3069,0 3069,0 3167,0 3167,0 3173,0 3179,-6 3179,-12 3179,-12 3179,-56 3179,-56 3179,-62 3173,-68 3167,-68\"/>\n",
       "<text text-anchor=\"start\" x=\"3090\" y=\"-52.8\" font-family=\"Helvetica,sans-Serif\" font-size=\"14.00\">gini = 0.1</text>\n",
       "<text text-anchor=\"start\" x=\"3077\" y=\"-37.8\" font-family=\"Helvetica,sans-Serif\" font-size=\"14.00\">samples = 18</text>\n",
       "<text text-anchor=\"start\" x=\"3075\" y=\"-22.8\" font-family=\"Helvetica,sans-Serif\" font-size=\"14.00\">value = [17, 1]</text>\n",
       "<text text-anchor=\"start\" x=\"3065\" y=\"-7.8\" font-family=\"Helvetica,sans-Serif\" font-size=\"14.00\">class = Not churn</text>\n",
       "</g>\n",
       "<!-- 68&#45;&gt;69 -->\n",
       "<g id=\"edge69\" class=\"edge\">\n",
       "<title>68-&gt;69</title>\n",
       "<path fill=\"none\" stroke=\"black\" d=\"M3124.9,-103.73C3124.07,-95.43 3123.19,-86.67 3122.35,-78.28\"/>\n",
       "<polygon fill=\"black\" stroke=\"black\" points=\"3125.83,-77.9 3121.35,-68.3 3118.86,-78.6 3125.83,-77.9\"/>\n",
       "</g>\n",
       "<!-- 70 -->\n",
       "<g id=\"node71\" class=\"node\">\n",
       "<title>70</title>\n",
       "<path fill=\"#399de5\" stroke=\"black\" d=\"M3285,-68C3285,-68 3209,-68 3209,-68 3203,-68 3197,-62 3197,-56 3197,-56 3197,-12 3197,-12 3197,-6 3203,0 3209,0 3209,0 3285,0 3285,0 3291,0 3297,-6 3297,-12 3297,-12 3297,-56 3297,-56 3297,-62 3291,-68 3285,-68\"/>\n",
       "<text text-anchor=\"start\" x=\"3219\" y=\"-52.8\" font-family=\"Helvetica,sans-Serif\" font-size=\"14.00\">gini = 0.0</text>\n",
       "<text text-anchor=\"start\" x=\"3209.5\" y=\"-37.8\" font-family=\"Helvetica,sans-Serif\" font-size=\"14.00\">samples = 1</text>\n",
       "<text text-anchor=\"start\" x=\"3207.5\" y=\"-22.8\" font-family=\"Helvetica,sans-Serif\" font-size=\"14.00\">value = [0, 1]</text>\n",
       "<text text-anchor=\"start\" x=\"3205\" y=\"-7.8\" font-family=\"Helvetica,sans-Serif\" font-size=\"14.00\">class = Churn</text>\n",
       "</g>\n",
       "<!-- 68&#45;&gt;70 -->\n",
       "<g id=\"edge70\" class=\"edge\">\n",
       "<title>68-&gt;70</title>\n",
       "<path fill=\"none\" stroke=\"black\" d=\"M3172.94,-103.73C3182.96,-94.42 3193.61,-84.54 3203.61,-75.26\"/>\n",
       "<polygon fill=\"black\" stroke=\"black\" points=\"3206.17,-77.67 3211.12,-68.3 3201.4,-72.54 3206.17,-77.67\"/>\n",
       "</g>\n",
       "<!-- 72 -->\n",
       "<g id=\"node73\" class=\"node\">\n",
       "<title>72</title>\n",
       "<path fill=\"#399de5\" stroke=\"black\" d=\"M3655,-655.5C3655,-655.5 3577,-655.5 3577,-655.5 3571,-655.5 3565,-649.5 3565,-643.5 3565,-643.5 3565,-599.5 3565,-599.5 3565,-593.5 3571,-587.5 3577,-587.5 3577,-587.5 3655,-587.5 3655,-587.5 3661,-587.5 3667,-593.5 3667,-599.5 3667,-599.5 3667,-643.5 3667,-643.5 3667,-649.5 3661,-655.5 3655,-655.5\"/>\n",
       "<text text-anchor=\"start\" x=\"3588\" y=\"-640.3\" font-family=\"Helvetica,sans-Serif\" font-size=\"14.00\">gini = 0.0</text>\n",
       "<text text-anchor=\"start\" x=\"3575\" y=\"-625.3\" font-family=\"Helvetica,sans-Serif\" font-size=\"14.00\">samples = 41</text>\n",
       "<text text-anchor=\"start\" x=\"3573\" y=\"-610.3\" font-family=\"Helvetica,sans-Serif\" font-size=\"14.00\">value = [0, 41]</text>\n",
       "<text text-anchor=\"start\" x=\"3574\" y=\"-595.3\" font-family=\"Helvetica,sans-Serif\" font-size=\"14.00\">class = Churn</text>\n",
       "</g>\n",
       "<!-- 71&#45;&gt;72 -->\n",
       "<g id=\"edge72\" class=\"edge\">\n",
       "<title>71-&gt;72</title>\n",
       "<path fill=\"none\" stroke=\"black\" d=\"M3664.33,-698.91C3657.28,-687.76 3649.62,-675.66 3642.53,-664.44\"/>\n",
       "<polygon fill=\"black\" stroke=\"black\" points=\"3645.28,-662.25 3636.98,-655.67 3639.36,-665.99 3645.28,-662.25\"/>\n",
       "</g>\n",
       "<!-- 73 -->\n",
       "<g id=\"node74\" class=\"node\">\n",
       "<title>73</title>\n",
       "<path fill=\"#efb185\" stroke=\"black\" d=\"M3832.5,-663C3832.5,-663 3697.5,-663 3697.5,-663 3691.5,-663 3685.5,-657 3685.5,-651 3685.5,-651 3685.5,-592 3685.5,-592 3685.5,-586 3691.5,-580 3697.5,-580 3697.5,-580 3832.5,-580 3832.5,-580 3838.5,-580 3844.5,-586 3844.5,-592 3844.5,-592 3844.5,-651 3844.5,-651 3844.5,-657 3838.5,-663 3832.5,-663\"/>\n",
       "<text text-anchor=\"start\" x=\"3693.5\" y=\"-647.8\" font-family=\"Helvetica,sans-Serif\" font-size=\"14.00\">Total intl minutes ≤ 13.1</text>\n",
       "<text text-anchor=\"start\" x=\"3737\" y=\"-632.8\" font-family=\"Helvetica,sans-Serif\" font-size=\"14.00\">gini = 0.4</text>\n",
       "<text text-anchor=\"start\" x=\"3720\" y=\"-617.8\" font-family=\"Helvetica,sans-Serif\" font-size=\"14.00\">samples = 155</text>\n",
       "<text text-anchor=\"start\" x=\"3714.5\" y=\"-602.8\" font-family=\"Helvetica,sans-Serif\" font-size=\"14.00\">value = [112, 43]</text>\n",
       "<text text-anchor=\"start\" x=\"3712\" y=\"-587.8\" font-family=\"Helvetica,sans-Serif\" font-size=\"14.00\">class = Not churn</text>\n",
       "</g>\n",
       "<!-- 71&#45;&gt;73 -->\n",
       "<g id=\"edge73\" class=\"edge\">\n",
       "<title>71-&gt;73</title>\n",
       "<path fill=\"none\" stroke=\"black\" d=\"M3716.02,-698.91C3721.66,-690.1 3727.69,-680.7 3733.52,-671.61\"/>\n",
       "<polygon fill=\"black\" stroke=\"black\" points=\"3736.57,-673.33 3739.03,-663.02 3730.68,-669.55 3736.57,-673.33\"/>\n",
       "</g>\n",
       "<!-- 74 -->\n",
       "<g id=\"node75\" class=\"node\">\n",
       "<title>74</title>\n",
       "<path fill=\"#e88d4c\" stroke=\"black\" d=\"M3765.5,-544C3765.5,-544 3602.5,-544 3602.5,-544 3596.5,-544 3590.5,-538 3590.5,-532 3590.5,-532 3590.5,-473 3590.5,-473 3590.5,-467 3596.5,-461 3602.5,-461 3602.5,-461 3765.5,-461 3765.5,-461 3771.5,-461 3777.5,-467 3777.5,-473 3777.5,-473 3777.5,-532 3777.5,-532 3777.5,-538 3771.5,-544 3765.5,-544\"/>\n",
       "<text text-anchor=\"start\" x=\"3598.5\" y=\"-528.8\" font-family=\"Helvetica,sans-Serif\" font-size=\"14.00\">Customer service calls ≤ 3.5</text>\n",
       "<text text-anchor=\"start\" x=\"3652\" y=\"-513.8\" font-family=\"Helvetica,sans-Serif\" font-size=\"14.00\">gini = 0.16</text>\n",
       "<text text-anchor=\"start\" x=\"3639\" y=\"-498.8\" font-family=\"Helvetica,sans-Serif\" font-size=\"14.00\">samples = 123</text>\n",
       "<text text-anchor=\"start\" x=\"3633.5\" y=\"-483.8\" font-family=\"Helvetica,sans-Serif\" font-size=\"14.00\">value = [112, 11]</text>\n",
       "<text text-anchor=\"start\" x=\"3631\" y=\"-468.8\" font-family=\"Helvetica,sans-Serif\" font-size=\"14.00\">class = Not churn</text>\n",
       "</g>\n",
       "<!-- 73&#45;&gt;74 -->\n",
       "<g id=\"edge74\" class=\"edge\">\n",
       "<title>73-&gt;74</title>\n",
       "<path fill=\"none\" stroke=\"black\" d=\"M3736.9,-579.91C3730.74,-571.01 3724.16,-561.51 3717.81,-552.33\"/>\n",
       "<polygon fill=\"black\" stroke=\"black\" points=\"3720.62,-550.25 3712.05,-544.02 3714.87,-554.24 3720.62,-550.25\"/>\n",
       "</g>\n",
       "<!-- 89 -->\n",
       "<g id=\"node90\" class=\"node\">\n",
       "<title>89</title>\n",
       "<path fill=\"#399de5\" stroke=\"black\" d=\"M3886,-536.5C3886,-536.5 3808,-536.5 3808,-536.5 3802,-536.5 3796,-530.5 3796,-524.5 3796,-524.5 3796,-480.5 3796,-480.5 3796,-474.5 3802,-468.5 3808,-468.5 3808,-468.5 3886,-468.5 3886,-468.5 3892,-468.5 3898,-474.5 3898,-480.5 3898,-480.5 3898,-524.5 3898,-524.5 3898,-530.5 3892,-536.5 3886,-536.5\"/>\n",
       "<text text-anchor=\"start\" x=\"3819\" y=\"-521.3\" font-family=\"Helvetica,sans-Serif\" font-size=\"14.00\">gini = 0.0</text>\n",
       "<text text-anchor=\"start\" x=\"3806\" y=\"-506.3\" font-family=\"Helvetica,sans-Serif\" font-size=\"14.00\">samples = 32</text>\n",
       "<text text-anchor=\"start\" x=\"3804\" y=\"-491.3\" font-family=\"Helvetica,sans-Serif\" font-size=\"14.00\">value = [0, 32]</text>\n",
       "<text text-anchor=\"start\" x=\"3805\" y=\"-476.3\" font-family=\"Helvetica,sans-Serif\" font-size=\"14.00\">class = Churn</text>\n",
       "</g>\n",
       "<!-- 73&#45;&gt;89 -->\n",
       "<g id=\"edge89\" class=\"edge\">\n",
       "<title>73-&gt;89</title>\n",
       "<path fill=\"none\" stroke=\"black\" d=\"M3793.45,-579.91C3801.34,-568.65 3809.91,-556.42 3817.84,-545.11\"/>\n",
       "<polygon fill=\"black\" stroke=\"black\" points=\"3820.88,-546.86 3823.75,-536.67 3815.15,-542.85 3820.88,-546.86\"/>\n",
       "</g>\n",
       "<!-- 75 -->\n",
       "<g id=\"node76\" class=\"node\">\n",
       "<title>75</title>\n",
       "<path fill=\"#e68844\" stroke=\"black\" d=\"M3661.5,-425C3661.5,-425 3514.5,-425 3514.5,-425 3508.5,-425 3502.5,-419 3502.5,-413 3502.5,-413 3502.5,-354 3502.5,-354 3502.5,-348 3508.5,-342 3514.5,-342 3514.5,-342 3661.5,-342 3661.5,-342 3667.5,-342 3673.5,-348 3673.5,-354 3673.5,-354 3673.5,-413 3673.5,-413 3673.5,-419 3667.5,-425 3661.5,-425\"/>\n",
       "<text text-anchor=\"start\" x=\"3510.5\" y=\"-409.8\" font-family=\"Helvetica,sans-Serif\" font-size=\"14.00\">Total day minutes ≤ 240.0</text>\n",
       "<text text-anchor=\"start\" x=\"3560\" y=\"-394.8\" font-family=\"Helvetica,sans-Serif\" font-size=\"14.00\">gini = 0.1</text>\n",
       "<text text-anchor=\"start\" x=\"3543\" y=\"-379.8\" font-family=\"Helvetica,sans-Serif\" font-size=\"14.00\">samples = 113</text>\n",
       "<text text-anchor=\"start\" x=\"3541\" y=\"-364.8\" font-family=\"Helvetica,sans-Serif\" font-size=\"14.00\">value = [107, 6]</text>\n",
       "<text text-anchor=\"start\" x=\"3535\" y=\"-349.8\" font-family=\"Helvetica,sans-Serif\" font-size=\"14.00\">class = Not churn</text>\n",
       "</g>\n",
       "<!-- 74&#45;&gt;75 -->\n",
       "<g id=\"edge75\" class=\"edge\">\n",
       "<title>74-&gt;75</title>\n",
       "<path fill=\"none\" stroke=\"black\" d=\"M3650.69,-460.91C3643.25,-451.83 3635.28,-442.12 3627.61,-432.77\"/>\n",
       "<polygon fill=\"black\" stroke=\"black\" points=\"3630.3,-430.53 3621.25,-425.02 3624.89,-434.97 3630.3,-430.53\"/>\n",
       "</g>\n",
       "<!-- 86 -->\n",
       "<g id=\"node87\" class=\"node\">\n",
       "<title>86</title>\n",
       "<path fill=\"#ffffff\" stroke=\"black\" d=\"M3858.5,-425C3858.5,-425 3703.5,-425 3703.5,-425 3697.5,-425 3691.5,-419 3691.5,-413 3691.5,-413 3691.5,-354 3691.5,-354 3691.5,-348 3697.5,-342 3703.5,-342 3703.5,-342 3858.5,-342 3858.5,-342 3864.5,-342 3870.5,-348 3870.5,-354 3870.5,-354 3870.5,-413 3870.5,-413 3870.5,-419 3864.5,-425 3858.5,-425\"/>\n",
       "<text text-anchor=\"start\" x=\"3699.5\" y=\"-409.8\" font-family=\"Helvetica,sans-Serif\" font-size=\"14.00\">Total day minutes ≤ 158.45</text>\n",
       "<text text-anchor=\"start\" x=\"3753\" y=\"-394.8\" font-family=\"Helvetica,sans-Serif\" font-size=\"14.00\">gini = 0.5</text>\n",
       "<text text-anchor=\"start\" x=\"3740\" y=\"-379.8\" font-family=\"Helvetica,sans-Serif\" font-size=\"14.00\">samples = 10</text>\n",
       "<text text-anchor=\"start\" x=\"3741.5\" y=\"-364.8\" font-family=\"Helvetica,sans-Serif\" font-size=\"14.00\">value = [5, 5]</text>\n",
       "<text text-anchor=\"start\" x=\"3728\" y=\"-349.8\" font-family=\"Helvetica,sans-Serif\" font-size=\"14.00\">class = Not churn</text>\n",
       "</g>\n",
       "<!-- 74&#45;&gt;86 -->\n",
       "<g id=\"edge86\" class=\"edge\">\n",
       "<title>74-&gt;86</title>\n",
       "<path fill=\"none\" stroke=\"black\" d=\"M3717.65,-460.91C3725.18,-451.83 3733.23,-442.12 3740.98,-432.77\"/>\n",
       "<polygon fill=\"black\" stroke=\"black\" points=\"3743.72,-434.95 3747.41,-425.02 3738.33,-430.49 3743.72,-434.95\"/>\n",
       "</g>\n",
       "<!-- 76 -->\n",
       "<g id=\"node77\" class=\"node\">\n",
       "<title>76</title>\n",
       "<path fill=\"#e5823b\" stroke=\"black\" d=\"M3503.5,-306C3503.5,-306 3348.5,-306 3348.5,-306 3342.5,-306 3336.5,-300 3336.5,-294 3336.5,-294 3336.5,-235 3336.5,-235 3336.5,-229 3342.5,-223 3348.5,-223 3348.5,-223 3503.5,-223 3503.5,-223 3509.5,-223 3515.5,-229 3515.5,-235 3515.5,-235 3515.5,-294 3515.5,-294 3515.5,-300 3509.5,-306 3503.5,-306\"/>\n",
       "<text text-anchor=\"start\" x=\"3344.5\" y=\"-290.8\" font-family=\"Helvetica,sans-Serif\" font-size=\"14.00\">Total eve minutes ≤ 323.15</text>\n",
       "<text text-anchor=\"start\" x=\"3394\" y=\"-275.8\" font-family=\"Helvetica,sans-Serif\" font-size=\"14.00\">gini = 0.02</text>\n",
       "<text text-anchor=\"start\" x=\"3381\" y=\"-260.8\" font-family=\"Helvetica,sans-Serif\" font-size=\"14.00\">samples = 104</text>\n",
       "<text text-anchor=\"start\" x=\"3379\" y=\"-245.8\" font-family=\"Helvetica,sans-Serif\" font-size=\"14.00\">value = [103, 1]</text>\n",
       "<text text-anchor=\"start\" x=\"3373\" y=\"-230.8\" font-family=\"Helvetica,sans-Serif\" font-size=\"14.00\">class = Not churn</text>\n",
       "</g>\n",
       "<!-- 75&#45;&gt;76 -->\n",
       "<g id=\"edge76\" class=\"edge\">\n",
       "<title>75-&gt;76</title>\n",
       "<path fill=\"none\" stroke=\"black\" d=\"M3531.79,-341.91C3518.48,-332.29 3504.17,-321.95 3490.51,-312.09\"/>\n",
       "<polygon fill=\"black\" stroke=\"black\" points=\"3492.26,-309.04 3482.11,-306.02 3488.16,-314.71 3492.26,-309.04\"/>\n",
       "</g>\n",
       "<!-- 81 -->\n",
       "<g id=\"node82\" class=\"node\">\n",
       "<title>81</title>\n",
       "<path fill=\"#d7ebfa\" stroke=\"black\" d=\"M3700.5,-306C3700.5,-306 3545.5,-306 3545.5,-306 3539.5,-306 3533.5,-300 3533.5,-294 3533.5,-294 3533.5,-235 3533.5,-235 3533.5,-229 3539.5,-223 3545.5,-223 3545.5,-223 3700.5,-223 3700.5,-223 3706.5,-223 3712.5,-229 3712.5,-235 3712.5,-235 3712.5,-294 3712.5,-294 3712.5,-300 3706.5,-306 3700.5,-306\"/>\n",
       "<text text-anchor=\"start\" x=\"3541.5\" y=\"-290.8\" font-family=\"Helvetica,sans-Serif\" font-size=\"14.00\">Total eve minutes ≤ 245.75</text>\n",
       "<text text-anchor=\"start\" x=\"3591\" y=\"-275.8\" font-family=\"Helvetica,sans-Serif\" font-size=\"14.00\">gini = 0.49</text>\n",
       "<text text-anchor=\"start\" x=\"3585.5\" y=\"-260.8\" font-family=\"Helvetica,sans-Serif\" font-size=\"14.00\">samples = 9</text>\n",
       "<text text-anchor=\"start\" x=\"3583.5\" y=\"-245.8\" font-family=\"Helvetica,sans-Serif\" font-size=\"14.00\">value = [4, 5]</text>\n",
       "<text text-anchor=\"start\" x=\"3581\" y=\"-230.8\" font-family=\"Helvetica,sans-Serif\" font-size=\"14.00\">class = Churn</text>\n",
       "</g>\n",
       "<!-- 75&#45;&gt;81 -->\n",
       "<g id=\"edge81\" class=\"edge\">\n",
       "<title>75-&gt;81</title>\n",
       "<path fill=\"none\" stroke=\"black\" d=\"M3600.14,-341.91C3602.67,-333.47 3605.36,-324.48 3607.97,-315.74\"/>\n",
       "<polygon fill=\"black\" stroke=\"black\" points=\"3611.37,-316.6 3610.88,-306.02 3604.66,-314.6 3611.37,-316.6\"/>\n",
       "</g>\n",
       "<!-- 77 -->\n",
       "<g id=\"node78\" class=\"node\">\n",
       "<title>77</title>\n",
       "<path fill=\"#e58139\" stroke=\"black\" d=\"M3346,-179.5C3346,-179.5 3248,-179.5 3248,-179.5 3242,-179.5 3236,-173.5 3236,-167.5 3236,-167.5 3236,-123.5 3236,-123.5 3236,-117.5 3242,-111.5 3248,-111.5 3248,-111.5 3346,-111.5 3346,-111.5 3352,-111.5 3358,-117.5 3358,-123.5 3358,-123.5 3358,-167.5 3358,-167.5 3358,-173.5 3352,-179.5 3346,-179.5\"/>\n",
       "<text text-anchor=\"start\" x=\"3269\" y=\"-164.3\" font-family=\"Helvetica,sans-Serif\" font-size=\"14.00\">gini = 0.0</text>\n",
       "<text text-anchor=\"start\" x=\"3252\" y=\"-149.3\" font-family=\"Helvetica,sans-Serif\" font-size=\"14.00\">samples = 102</text>\n",
       "<text text-anchor=\"start\" x=\"3250\" y=\"-134.3\" font-family=\"Helvetica,sans-Serif\" font-size=\"14.00\">value = [102, 0]</text>\n",
       "<text text-anchor=\"start\" x=\"3244\" y=\"-119.3\" font-family=\"Helvetica,sans-Serif\" font-size=\"14.00\">class = Not churn</text>\n",
       "</g>\n",
       "<!-- 76&#45;&gt;77 -->\n",
       "<g id=\"edge77\" class=\"edge\">\n",
       "<title>76-&gt;77</title>\n",
       "<path fill=\"none\" stroke=\"black\" d=\"M3381.24,-222.91C3368.23,-211.1 3354.02,-198.22 3341.05,-186.45\"/>\n",
       "<polygon fill=\"black\" stroke=\"black\" points=\"3343.33,-183.79 3333.57,-179.67 3338.62,-188.98 3343.33,-183.79\"/>\n",
       "</g>\n",
       "<!-- 78 -->\n",
       "<g id=\"node79\" class=\"node\">\n",
       "<title>78</title>\n",
       "<path fill=\"#ffffff\" stroke=\"black\" d=\"M3507.5,-187C3507.5,-187 3388.5,-187 3388.5,-187 3382.5,-187 3376.5,-181 3376.5,-175 3376.5,-175 3376.5,-116 3376.5,-116 3376.5,-110 3382.5,-104 3388.5,-104 3388.5,-104 3507.5,-104 3507.5,-104 3513.5,-104 3519.5,-110 3519.5,-116 3519.5,-116 3519.5,-175 3519.5,-175 3519.5,-181 3513.5,-187 3507.5,-187\"/>\n",
       "<text text-anchor=\"start\" x=\"3384.5\" y=\"-171.8\" font-family=\"Helvetica,sans-Serif\" font-size=\"14.00\">Total day calls ≤ 94.0</text>\n",
       "<text text-anchor=\"start\" x=\"3420\" y=\"-156.8\" font-family=\"Helvetica,sans-Serif\" font-size=\"14.00\">gini = 0.5</text>\n",
       "<text text-anchor=\"start\" x=\"3410.5\" y=\"-141.8\" font-family=\"Helvetica,sans-Serif\" font-size=\"14.00\">samples = 2</text>\n",
       "<text text-anchor=\"start\" x=\"3408.5\" y=\"-126.8\" font-family=\"Helvetica,sans-Serif\" font-size=\"14.00\">value = [1, 1]</text>\n",
       "<text text-anchor=\"start\" x=\"3395\" y=\"-111.8\" font-family=\"Helvetica,sans-Serif\" font-size=\"14.00\">class = Not churn</text>\n",
       "</g>\n",
       "<!-- 76&#45;&gt;78 -->\n",
       "<g id=\"edge78\" class=\"edge\">\n",
       "<title>76-&gt;78</title>\n",
       "<path fill=\"none\" stroke=\"black\" d=\"M3433.63,-222.91C3435.2,-214.56 3436.87,-205.67 3438.5,-197.02\"/>\n",
       "<polygon fill=\"black\" stroke=\"black\" points=\"3441.97,-197.5 3440.38,-187.02 3435.09,-196.2 3441.97,-197.5\"/>\n",
       "</g>\n",
       "<!-- 79 -->\n",
       "<g id=\"node80\" class=\"node\">\n",
       "<title>79</title>\n",
       "<path fill=\"#399de5\" stroke=\"black\" d=\"M3403,-68C3403,-68 3327,-68 3327,-68 3321,-68 3315,-62 3315,-56 3315,-56 3315,-12 3315,-12 3315,-6 3321,0 3327,0 3327,0 3403,0 3403,0 3409,0 3415,-6 3415,-12 3415,-12 3415,-56 3415,-56 3415,-62 3409,-68 3403,-68\"/>\n",
       "<text text-anchor=\"start\" x=\"3337\" y=\"-52.8\" font-family=\"Helvetica,sans-Serif\" font-size=\"14.00\">gini = 0.0</text>\n",
       "<text text-anchor=\"start\" x=\"3327.5\" y=\"-37.8\" font-family=\"Helvetica,sans-Serif\" font-size=\"14.00\">samples = 1</text>\n",
       "<text text-anchor=\"start\" x=\"3325.5\" y=\"-22.8\" font-family=\"Helvetica,sans-Serif\" font-size=\"14.00\">value = [0, 1]</text>\n",
       "<text text-anchor=\"start\" x=\"3323\" y=\"-7.8\" font-family=\"Helvetica,sans-Serif\" font-size=\"14.00\">class = Churn</text>\n",
       "</g>\n",
       "<!-- 78&#45;&gt;79 -->\n",
       "<g id=\"edge79\" class=\"edge\">\n",
       "<title>78-&gt;79</title>\n",
       "<path fill=\"none\" stroke=\"black\" d=\"M3417.09,-103.73C3410.32,-94.79 3403.14,-85.32 3396.35,-76.36\"/>\n",
       "<polygon fill=\"black\" stroke=\"black\" points=\"3399.07,-74.15 3390.24,-68.3 3393.49,-78.38 3399.07,-74.15\"/>\n",
       "</g>\n",
       "<!-- 80 -->\n",
       "<g id=\"node81\" class=\"node\">\n",
       "<title>80</title>\n",
       "<path fill=\"#e58139\" stroke=\"black\" d=\"M3543,-68C3543,-68 3445,-68 3445,-68 3439,-68 3433,-62 3433,-56 3433,-56 3433,-12 3433,-12 3433,-6 3439,0 3445,0 3445,0 3543,0 3543,0 3549,0 3555,-6 3555,-12 3555,-12 3555,-56 3555,-56 3555,-62 3549,-68 3543,-68\"/>\n",
       "<text text-anchor=\"start\" x=\"3466\" y=\"-52.8\" font-family=\"Helvetica,sans-Serif\" font-size=\"14.00\">gini = 0.0</text>\n",
       "<text text-anchor=\"start\" x=\"3456.5\" y=\"-37.8\" font-family=\"Helvetica,sans-Serif\" font-size=\"14.00\">samples = 1</text>\n",
       "<text text-anchor=\"start\" x=\"3454.5\" y=\"-22.8\" font-family=\"Helvetica,sans-Serif\" font-size=\"14.00\">value = [1, 0]</text>\n",
       "<text text-anchor=\"start\" x=\"3441\" y=\"-7.8\" font-family=\"Helvetica,sans-Serif\" font-size=\"14.00\">class = Not churn</text>\n",
       "</g>\n",
       "<!-- 78&#45;&gt;80 -->\n",
       "<g id=\"edge80\" class=\"edge\">\n",
       "<title>78-&gt;80</title>\n",
       "<path fill=\"none\" stroke=\"black\" d=\"M3465.13,-103.73C3468.69,-95.24 3472.46,-86.28 3476.05,-77.73\"/>\n",
       "<polygon fill=\"black\" stroke=\"black\" points=\"3479.36,-78.87 3480.01,-68.3 3472.91,-76.16 3479.36,-78.87\"/>\n",
       "</g>\n",
       "<!-- 82 -->\n",
       "<g id=\"node83\" class=\"node\">\n",
       "<title>82</title>\n",
       "<path fill=\"#eca06a\" stroke=\"black\" d=\"M3696.5,-187C3696.5,-187 3549.5,-187 3549.5,-187 3543.5,-187 3537.5,-181 3537.5,-175 3537.5,-175 3537.5,-116 3537.5,-116 3537.5,-110 3543.5,-104 3549.5,-104 3549.5,-104 3696.5,-104 3696.5,-104 3702.5,-104 3708.5,-110 3708.5,-116 3708.5,-116 3708.5,-175 3708.5,-175 3708.5,-181 3702.5,-187 3696.5,-187\"/>\n",
       "<text text-anchor=\"start\" x=\"3545.5\" y=\"-171.8\" font-family=\"Helvetica,sans-Serif\" font-size=\"14.00\">Total day minutes ≤ 253.2</text>\n",
       "<text text-anchor=\"start\" x=\"3591\" y=\"-156.8\" font-family=\"Helvetica,sans-Serif\" font-size=\"14.00\">gini = 0.32</text>\n",
       "<text text-anchor=\"start\" x=\"3585.5\" y=\"-141.8\" font-family=\"Helvetica,sans-Serif\" font-size=\"14.00\">samples = 5</text>\n",
       "<text text-anchor=\"start\" x=\"3583.5\" y=\"-126.8\" font-family=\"Helvetica,sans-Serif\" font-size=\"14.00\">value = [4, 1]</text>\n",
       "<text text-anchor=\"start\" x=\"3570\" y=\"-111.8\" font-family=\"Helvetica,sans-Serif\" font-size=\"14.00\">class = Not churn</text>\n",
       "</g>\n",
       "<!-- 81&#45;&gt;82 -->\n",
       "<g id=\"edge82\" class=\"edge\">\n",
       "<title>81-&gt;82</title>\n",
       "<path fill=\"none\" stroke=\"black\" d=\"M3623,-222.91C3623,-214.65 3623,-205.86 3623,-197.3\"/>\n",
       "<polygon fill=\"black\" stroke=\"black\" points=\"3626.5,-197.02 3623,-187.02 3619.5,-197.02 3626.5,-197.02\"/>\n",
       "</g>\n",
       "<!-- 85 -->\n",
       "<g id=\"node86\" class=\"node\">\n",
       "<title>85</title>\n",
       "<path fill=\"#399de5\" stroke=\"black\" d=\"M3815,-179.5C3815,-179.5 3739,-179.5 3739,-179.5 3733,-179.5 3727,-173.5 3727,-167.5 3727,-167.5 3727,-123.5 3727,-123.5 3727,-117.5 3733,-111.5 3739,-111.5 3739,-111.5 3815,-111.5 3815,-111.5 3821,-111.5 3827,-117.5 3827,-123.5 3827,-123.5 3827,-167.5 3827,-167.5 3827,-173.5 3821,-179.5 3815,-179.5\"/>\n",
       "<text text-anchor=\"start\" x=\"3749\" y=\"-164.3\" font-family=\"Helvetica,sans-Serif\" font-size=\"14.00\">gini = 0.0</text>\n",
       "<text text-anchor=\"start\" x=\"3739.5\" y=\"-149.3\" font-family=\"Helvetica,sans-Serif\" font-size=\"14.00\">samples = 4</text>\n",
       "<text text-anchor=\"start\" x=\"3737.5\" y=\"-134.3\" font-family=\"Helvetica,sans-Serif\" font-size=\"14.00\">value = [0, 4]</text>\n",
       "<text text-anchor=\"start\" x=\"3735\" y=\"-119.3\" font-family=\"Helvetica,sans-Serif\" font-size=\"14.00\">class = Churn</text>\n",
       "</g>\n",
       "<!-- 81&#45;&gt;85 -->\n",
       "<g id=\"edge85\" class=\"edge\">\n",
       "<title>81-&gt;85</title>\n",
       "<path fill=\"none\" stroke=\"black\" d=\"M3676.43,-222.91C3692.26,-210.88 3709.56,-197.73 3725.28,-185.79\"/>\n",
       "<polygon fill=\"black\" stroke=\"black\" points=\"3727.5,-188.5 3733.34,-179.67 3723.26,-182.93 3727.5,-188.5\"/>\n",
       "</g>\n",
       "<!-- 83 -->\n",
       "<g id=\"node84\" class=\"node\">\n",
       "<title>83</title>\n",
       "<path fill=\"#399de5\" stroke=\"black\" d=\"M3661,-68C3661,-68 3585,-68 3585,-68 3579,-68 3573,-62 3573,-56 3573,-56 3573,-12 3573,-12 3573,-6 3579,0 3585,0 3585,0 3661,0 3661,0 3667,0 3673,-6 3673,-12 3673,-12 3673,-56 3673,-56 3673,-62 3667,-68 3661,-68\"/>\n",
       "<text text-anchor=\"start\" x=\"3595\" y=\"-52.8\" font-family=\"Helvetica,sans-Serif\" font-size=\"14.00\">gini = 0.0</text>\n",
       "<text text-anchor=\"start\" x=\"3585.5\" y=\"-37.8\" font-family=\"Helvetica,sans-Serif\" font-size=\"14.00\">samples = 1</text>\n",
       "<text text-anchor=\"start\" x=\"3583.5\" y=\"-22.8\" font-family=\"Helvetica,sans-Serif\" font-size=\"14.00\">value = [0, 1]</text>\n",
       "<text text-anchor=\"start\" x=\"3581\" y=\"-7.8\" font-family=\"Helvetica,sans-Serif\" font-size=\"14.00\">class = Churn</text>\n",
       "</g>\n",
       "<!-- 82&#45;&gt;83 -->\n",
       "<g id=\"edge83\" class=\"edge\">\n",
       "<title>82-&gt;83</title>\n",
       "<path fill=\"none\" stroke=\"black\" d=\"M3623,-103.73C3623,-95.52 3623,-86.86 3623,-78.56\"/>\n",
       "<polygon fill=\"black\" stroke=\"black\" points=\"3626.5,-78.3 3623,-68.3 3619.5,-78.3 3626.5,-78.3\"/>\n",
       "</g>\n",
       "<!-- 84 -->\n",
       "<g id=\"node85\" class=\"node\">\n",
       "<title>84</title>\n",
       "<path fill=\"#e58139\" stroke=\"black\" d=\"M3801,-68C3801,-68 3703,-68 3703,-68 3697,-68 3691,-62 3691,-56 3691,-56 3691,-12 3691,-12 3691,-6 3697,0 3703,0 3703,0 3801,0 3801,0 3807,0 3813,-6 3813,-12 3813,-12 3813,-56 3813,-56 3813,-62 3807,-68 3801,-68\"/>\n",
       "<text text-anchor=\"start\" x=\"3724\" y=\"-52.8\" font-family=\"Helvetica,sans-Serif\" font-size=\"14.00\">gini = 0.0</text>\n",
       "<text text-anchor=\"start\" x=\"3714.5\" y=\"-37.8\" font-family=\"Helvetica,sans-Serif\" font-size=\"14.00\">samples = 4</text>\n",
       "<text text-anchor=\"start\" x=\"3712.5\" y=\"-22.8\" font-family=\"Helvetica,sans-Serif\" font-size=\"14.00\">value = [4, 0]</text>\n",
       "<text text-anchor=\"start\" x=\"3699\" y=\"-7.8\" font-family=\"Helvetica,sans-Serif\" font-size=\"14.00\">class = Not churn</text>\n",
       "</g>\n",
       "<!-- 82&#45;&gt;84 -->\n",
       "<g id=\"edge84\" class=\"edge\">\n",
       "<title>82-&gt;84</title>\n",
       "<path fill=\"none\" stroke=\"black\" d=\"M3671.03,-103.73C3682.1,-94.33 3693.86,-84.35 3704.89,-74.99\"/>\n",
       "<polygon fill=\"black\" stroke=\"black\" points=\"3707.41,-77.44 3712.77,-68.3 3702.88,-72.1 3707.41,-77.44\"/>\n",
       "</g>\n",
       "<!-- 87 -->\n",
       "<g id=\"node88\" class=\"node\">\n",
       "<title>87</title>\n",
       "<path fill=\"#399de5\" stroke=\"black\" d=\"M3819,-298.5C3819,-298.5 3743,-298.5 3743,-298.5 3737,-298.5 3731,-292.5 3731,-286.5 3731,-286.5 3731,-242.5 3731,-242.5 3731,-236.5 3737,-230.5 3743,-230.5 3743,-230.5 3819,-230.5 3819,-230.5 3825,-230.5 3831,-236.5 3831,-242.5 3831,-242.5 3831,-286.5 3831,-286.5 3831,-292.5 3825,-298.5 3819,-298.5\"/>\n",
       "<text text-anchor=\"start\" x=\"3753\" y=\"-283.3\" font-family=\"Helvetica,sans-Serif\" font-size=\"14.00\">gini = 0.0</text>\n",
       "<text text-anchor=\"start\" x=\"3743.5\" y=\"-268.3\" font-family=\"Helvetica,sans-Serif\" font-size=\"14.00\">samples = 5</text>\n",
       "<text text-anchor=\"start\" x=\"3741.5\" y=\"-253.3\" font-family=\"Helvetica,sans-Serif\" font-size=\"14.00\">value = [0, 5]</text>\n",
       "<text text-anchor=\"start\" x=\"3739\" y=\"-238.3\" font-family=\"Helvetica,sans-Serif\" font-size=\"14.00\">class = Churn</text>\n",
       "</g>\n",
       "<!-- 86&#45;&gt;87 -->\n",
       "<g id=\"edge87\" class=\"edge\">\n",
       "<title>86-&gt;87</title>\n",
       "<path fill=\"none\" stroke=\"black\" d=\"M3781,-341.91C3781,-331.2 3781,-319.62 3781,-308.78\"/>\n",
       "<polygon fill=\"black\" stroke=\"black\" points=\"3784.5,-308.67 3781,-298.67 3777.5,-308.67 3784.5,-308.67\"/>\n",
       "</g>\n",
       "<!-- 88 -->\n",
       "<g id=\"node89\" class=\"node\">\n",
       "<title>88</title>\n",
       "<path fill=\"#e58139\" stroke=\"black\" d=\"M3959,-298.5C3959,-298.5 3861,-298.5 3861,-298.5 3855,-298.5 3849,-292.5 3849,-286.5 3849,-286.5 3849,-242.5 3849,-242.5 3849,-236.5 3855,-230.5 3861,-230.5 3861,-230.5 3959,-230.5 3959,-230.5 3965,-230.5 3971,-236.5 3971,-242.5 3971,-242.5 3971,-286.5 3971,-286.5 3971,-292.5 3965,-298.5 3959,-298.5\"/>\n",
       "<text text-anchor=\"start\" x=\"3882\" y=\"-283.3\" font-family=\"Helvetica,sans-Serif\" font-size=\"14.00\">gini = 0.0</text>\n",
       "<text text-anchor=\"start\" x=\"3872.5\" y=\"-268.3\" font-family=\"Helvetica,sans-Serif\" font-size=\"14.00\">samples = 5</text>\n",
       "<text text-anchor=\"start\" x=\"3870.5\" y=\"-253.3\" font-family=\"Helvetica,sans-Serif\" font-size=\"14.00\">value = [5, 0]</text>\n",
       "<text text-anchor=\"start\" x=\"3857\" y=\"-238.3\" font-family=\"Helvetica,sans-Serif\" font-size=\"14.00\">class = Not churn</text>\n",
       "</g>\n",
       "<!-- 86&#45;&gt;88 -->\n",
       "<g id=\"edge88\" class=\"edge\">\n",
       "<title>86-&gt;88</title>\n",
       "<path fill=\"none\" stroke=\"black\" d=\"M3825.76,-341.91C3838.77,-330.1 3852.98,-317.22 3865.95,-305.45\"/>\n",
       "<polygon fill=\"black\" stroke=\"black\" points=\"3868.38,-307.98 3873.43,-298.67 3863.67,-302.79 3868.38,-307.98\"/>\n",
       "</g>\n",
       "<!-- 91 -->\n",
       "<g id=\"node92\" class=\"node\">\n",
       "<title>91</title>\n",
       "<path fill=\"#85c2ef\" stroke=\"black\" d=\"M4553.5,-782C4553.5,-782 4398.5,-782 4398.5,-782 4392.5,-782 4386.5,-776 4386.5,-770 4386.5,-770 4386.5,-711 4386.5,-711 4386.5,-705 4392.5,-699 4398.5,-699 4398.5,-699 4553.5,-699 4553.5,-699 4559.5,-699 4565.5,-705 4565.5,-711 4565.5,-711 4565.5,-770 4565.5,-770 4565.5,-776 4559.5,-782 4553.5,-782\"/>\n",
       "<text text-anchor=\"start\" x=\"4394.5\" y=\"-766.8\" font-family=\"Helvetica,sans-Serif\" font-size=\"14.00\">Total eve minutes ≤ 184.65</text>\n",
       "<text text-anchor=\"start\" x=\"4448\" y=\"-751.8\" font-family=\"Helvetica,sans-Serif\" font-size=\"14.00\">gini = 0.4</text>\n",
       "<text text-anchor=\"start\" x=\"4435\" y=\"-736.8\" font-family=\"Helvetica,sans-Serif\" font-size=\"14.00\">samples = 94</text>\n",
       "<text text-anchor=\"start\" x=\"4429\" y=\"-721.8\" font-family=\"Helvetica,sans-Serif\" font-size=\"14.00\">value = [26, 68]</text>\n",
       "<text text-anchor=\"start\" x=\"4434\" y=\"-706.8\" font-family=\"Helvetica,sans-Serif\" font-size=\"14.00\">class = Churn</text>\n",
       "</g>\n",
       "<!-- 90&#45;&gt;91 -->\n",
       "<g id=\"edge91\" class=\"edge\">\n",
       "<title>90-&gt;91</title>\n",
       "<path fill=\"none\" stroke=\"black\" d=\"M4476,-817.91C4476,-809.65 4476,-800.86 4476,-792.3\"/>\n",
       "<polygon fill=\"black\" stroke=\"black\" points=\"4479.5,-792.02 4476,-782.02 4472.5,-792.02 4479.5,-792.02\"/>\n",
       "</g>\n",
       "<!-- 110 -->\n",
       "<g id=\"node111\" class=\"node\">\n",
       "<title>110</title>\n",
       "<path fill=\"#ea9a61\" stroke=\"black\" d=\"M5053,-782C5053,-782 4923,-782 4923,-782 4917,-782 4911,-776 4911,-770 4911,-770 4911,-711 4911,-711 4911,-705 4917,-699 4923,-699 4923,-699 5053,-699 5053,-699 5059,-699 5065,-705 5065,-711 5065,-711 5065,-770 5065,-770 5065,-776 5059,-782 5053,-782\"/>\n",
       "<text text-anchor=\"start\" x=\"4919\" y=\"-766.8\" font-family=\"Helvetica,sans-Serif\" font-size=\"14.00\">International plan ≤ 0.5</text>\n",
       "<text text-anchor=\"start\" x=\"4956\" y=\"-751.8\" font-family=\"Helvetica,sans-Serif\" font-size=\"14.00\">gini = 0.28</text>\n",
       "<text text-anchor=\"start\" x=\"4947\" y=\"-736.8\" font-family=\"Helvetica,sans-Serif\" font-size=\"14.00\">samples = 36</text>\n",
       "<text text-anchor=\"start\" x=\"4945\" y=\"-721.8\" font-family=\"Helvetica,sans-Serif\" font-size=\"14.00\">value = [30, 6]</text>\n",
       "<text text-anchor=\"start\" x=\"4935\" y=\"-706.8\" font-family=\"Helvetica,sans-Serif\" font-size=\"14.00\">class = Not churn</text>\n",
       "</g>\n",
       "<!-- 90&#45;&gt;110 -->\n",
       "<g id=\"edge110\" class=\"edge\">\n",
       "<title>90-&gt;110</title>\n",
       "<path fill=\"none\" stroke=\"black\" d=\"M4547.73,-842.11C4640.33,-820.95 4801.34,-784.15 4900.87,-761.41\"/>\n",
       "<polygon fill=\"black\" stroke=\"black\" points=\"4901.93,-764.76 4910.9,-759.12 4900.37,-757.93 4901.93,-764.76\"/>\n",
       "</g>\n",
       "<!-- 92 -->\n",
       "<g id=\"node93\" class=\"node\">\n",
       "<title>92</title>\n",
       "<path fill=\"#f4c8a9\" stroke=\"black\" d=\"M4402.5,-663C4402.5,-663 4247.5,-663 4247.5,-663 4241.5,-663 4235.5,-657 4235.5,-651 4235.5,-651 4235.5,-592 4235.5,-592 4235.5,-586 4241.5,-580 4247.5,-580 4247.5,-580 4402.5,-580 4402.5,-580 4408.5,-580 4414.5,-586 4414.5,-592 4414.5,-592 4414.5,-651 4414.5,-651 4414.5,-657 4408.5,-663 4402.5,-663\"/>\n",
       "<text text-anchor=\"start\" x=\"4243.5\" y=\"-647.8\" font-family=\"Helvetica,sans-Serif\" font-size=\"14.00\">Total day minutes ≤ 283.35</text>\n",
       "<text text-anchor=\"start\" x=\"4293\" y=\"-632.8\" font-family=\"Helvetica,sans-Serif\" font-size=\"14.00\">gini = 0.46</text>\n",
       "<text text-anchor=\"start\" x=\"4284\" y=\"-617.8\" font-family=\"Helvetica,sans-Serif\" font-size=\"14.00\">samples = 36</text>\n",
       "<text text-anchor=\"start\" x=\"4278\" y=\"-602.8\" font-family=\"Helvetica,sans-Serif\" font-size=\"14.00\">value = [23, 13]</text>\n",
       "<text text-anchor=\"start\" x=\"4272\" y=\"-587.8\" font-family=\"Helvetica,sans-Serif\" font-size=\"14.00\">class = Not churn</text>\n",
       "</g>\n",
       "<!-- 91&#45;&gt;92 -->\n",
       "<g id=\"edge92\" class=\"edge\">\n",
       "<title>91-&gt;92</title>\n",
       "<path fill=\"none\" stroke=\"black\" d=\"M4423.61,-698.91C4411.31,-689.38 4398.11,-679.15 4385.49,-669.37\"/>\n",
       "<polygon fill=\"black\" stroke=\"black\" points=\"4387.34,-666.38 4377.3,-663.02 4383.06,-671.91 4387.34,-666.38\"/>\n",
       "</g>\n",
       "<!-- 103 -->\n",
       "<g id=\"node104\" class=\"node\">\n",
       "<title>103</title>\n",
       "<path fill=\"#44a2e6\" stroke=\"black\" d=\"M4673.5,-663C4673.5,-663 4518.5,-663 4518.5,-663 4512.5,-663 4506.5,-657 4506.5,-651 4506.5,-651 4506.5,-592 4506.5,-592 4506.5,-586 4512.5,-580 4518.5,-580 4518.5,-580 4673.5,-580 4673.5,-580 4679.5,-580 4685.5,-586 4685.5,-592 4685.5,-592 4685.5,-651 4685.5,-651 4685.5,-657 4679.5,-663 4673.5,-663\"/>\n",
       "<text text-anchor=\"start\" x=\"4514.5\" y=\"-647.8\" font-family=\"Helvetica,sans-Serif\" font-size=\"14.00\">Total night minutes ≤ 114.5</text>\n",
       "<text text-anchor=\"start\" x=\"4568\" y=\"-632.8\" font-family=\"Helvetica,sans-Serif\" font-size=\"14.00\">gini = 0.1</text>\n",
       "<text text-anchor=\"start\" x=\"4555\" y=\"-617.8\" font-family=\"Helvetica,sans-Serif\" font-size=\"14.00\">samples = 58</text>\n",
       "<text text-anchor=\"start\" x=\"4553\" y=\"-602.8\" font-family=\"Helvetica,sans-Serif\" font-size=\"14.00\">value = [3, 55]</text>\n",
       "<text text-anchor=\"start\" x=\"4554\" y=\"-587.8\" font-family=\"Helvetica,sans-Serif\" font-size=\"14.00\">class = Churn</text>\n",
       "</g>\n",
       "<!-- 91&#45;&gt;103 -->\n",
       "<g id=\"edge103\" class=\"edge\">\n",
       "<title>91-&gt;103</title>\n",
       "<path fill=\"none\" stroke=\"black\" d=\"M4517.63,-698.91C4527.13,-689.65 4537.3,-679.73 4547.07,-670.21\"/>\n",
       "<polygon fill=\"black\" stroke=\"black\" points=\"4549.72,-672.51 4554.44,-663.02 4544.84,-667.5 4549.72,-672.51\"/>\n",
       "</g>\n",
       "<!-- 93 -->\n",
       "<g id=\"node94\" class=\"node\">\n",
       "<title>93</title>\n",
       "<path fill=\"#e99558\" stroke=\"black\" d=\"M4185,-544C4185,-544 4023,-544 4023,-544 4017,-544 4011,-538 4011,-532 4011,-532 4011,-473 4011,-473 4011,-467 4017,-461 4023,-461 4023,-461 4185,-461 4185,-461 4191,-461 4197,-467 4197,-473 4197,-473 4197,-532 4197,-532 4197,-538 4191,-544 4185,-544\"/>\n",
       "<text text-anchor=\"start\" x=\"4019\" y=\"-528.8\" font-family=\"Helvetica,sans-Serif\" font-size=\"14.00\">Total night minutes ≤ 253.75</text>\n",
       "<text text-anchor=\"start\" x=\"4072\" y=\"-513.8\" font-family=\"Helvetica,sans-Serif\" font-size=\"14.00\">gini = 0.24</text>\n",
       "<text text-anchor=\"start\" x=\"4063\" y=\"-498.8\" font-family=\"Helvetica,sans-Serif\" font-size=\"14.00\">samples = 22</text>\n",
       "<text text-anchor=\"start\" x=\"4061\" y=\"-483.8\" font-family=\"Helvetica,sans-Serif\" font-size=\"14.00\">value = [19, 3]</text>\n",
       "<text text-anchor=\"start\" x=\"4051\" y=\"-468.8\" font-family=\"Helvetica,sans-Serif\" font-size=\"14.00\">class = Not churn</text>\n",
       "</g>\n",
       "<!-- 92&#45;&gt;93 -->\n",
       "<g id=\"edge93\" class=\"edge\">\n",
       "<title>92-&gt;93</title>\n",
       "<path fill=\"none\" stroke=\"black\" d=\"M4248.33,-579.91C4229.38,-569.88 4208.97,-559.07 4189.64,-548.84\"/>\n",
       "<polygon fill=\"black\" stroke=\"black\" points=\"4191.01,-545.61 4180.54,-544.02 4187.74,-551.79 4191.01,-545.61\"/>\n",
       "</g>\n",
       "<!-- 98 -->\n",
       "<g id=\"node99\" class=\"node\">\n",
       "<title>98</title>\n",
       "<path fill=\"#88c4ef\" stroke=\"black\" d=\"M4378.5,-544C4378.5,-544 4271.5,-544 4271.5,-544 4265.5,-544 4259.5,-538 4259.5,-532 4259.5,-532 4259.5,-473 4259.5,-473 4259.5,-467 4265.5,-461 4271.5,-461 4271.5,-461 4378.5,-461 4378.5,-461 4384.5,-461 4390.5,-467 4390.5,-473 4390.5,-473 4390.5,-532 4390.5,-532 4390.5,-538 4384.5,-544 4378.5,-544\"/>\n",
       "<text text-anchor=\"start\" x=\"4267.5\" y=\"-528.8\" font-family=\"Helvetica,sans-Serif\" font-size=\"14.00\">Total intl calls ≤ 4.5</text>\n",
       "<text text-anchor=\"start\" x=\"4293\" y=\"-513.8\" font-family=\"Helvetica,sans-Serif\" font-size=\"14.00\">gini = 0.41</text>\n",
       "<text text-anchor=\"start\" x=\"4284\" y=\"-498.8\" font-family=\"Helvetica,sans-Serif\" font-size=\"14.00\">samples = 14</text>\n",
       "<text text-anchor=\"start\" x=\"4282\" y=\"-483.8\" font-family=\"Helvetica,sans-Serif\" font-size=\"14.00\">value = [4, 10]</text>\n",
       "<text text-anchor=\"start\" x=\"4283\" y=\"-468.8\" font-family=\"Helvetica,sans-Serif\" font-size=\"14.00\">class = Churn</text>\n",
       "</g>\n",
       "<!-- 92&#45;&gt;98 -->\n",
       "<g id=\"edge98\" class=\"edge\">\n",
       "<title>92-&gt;98</title>\n",
       "<path fill=\"none\" stroke=\"black\" d=\"M4325,-579.91C4325,-571.65 4325,-562.86 4325,-554.3\"/>\n",
       "<polygon fill=\"black\" stroke=\"black\" points=\"4328.5,-554.02 4325,-544.02 4321.5,-554.02 4328.5,-554.02\"/>\n",
       "</g>\n",
       "<!-- 94 -->\n",
       "<g id=\"node95\" class=\"node\">\n",
       "<title>94</title>\n",
       "<path fill=\"#e58139\" stroke=\"black\" d=\"M3999,-417.5C3999,-417.5 3901,-417.5 3901,-417.5 3895,-417.5 3889,-411.5 3889,-405.5 3889,-405.5 3889,-361.5 3889,-361.5 3889,-355.5 3895,-349.5 3901,-349.5 3901,-349.5 3999,-349.5 3999,-349.5 4005,-349.5 4011,-355.5 4011,-361.5 4011,-361.5 4011,-405.5 4011,-405.5 4011,-411.5 4005,-417.5 3999,-417.5\"/>\n",
       "<text text-anchor=\"start\" x=\"3922\" y=\"-402.3\" font-family=\"Helvetica,sans-Serif\" font-size=\"14.00\">gini = 0.0</text>\n",
       "<text text-anchor=\"start\" x=\"3909\" y=\"-387.3\" font-family=\"Helvetica,sans-Serif\" font-size=\"14.00\">samples = 18</text>\n",
       "<text text-anchor=\"start\" x=\"3907\" y=\"-372.3\" font-family=\"Helvetica,sans-Serif\" font-size=\"14.00\">value = [18, 0]</text>\n",
       "<text text-anchor=\"start\" x=\"3897\" y=\"-357.3\" font-family=\"Helvetica,sans-Serif\" font-size=\"14.00\">class = Not churn</text>\n",
       "</g>\n",
       "<!-- 93&#45;&gt;94 -->\n",
       "<g id=\"edge94\" class=\"edge\">\n",
       "<title>93-&gt;94</title>\n",
       "<path fill=\"none\" stroke=\"black\" d=\"M4050.57,-460.91C4034.74,-448.88 4017.44,-435.73 4001.72,-423.79\"/>\n",
       "<polygon fill=\"black\" stroke=\"black\" points=\"4003.74,-420.93 3993.66,-417.67 3999.5,-426.5 4003.74,-420.93\"/>\n",
       "</g>\n",
       "<!-- 95 -->\n",
       "<g id=\"node96\" class=\"node\">\n",
       "<title>95</title>\n",
       "<path fill=\"#7bbeee\" stroke=\"black\" d=\"M4167,-425C4167,-425 4041,-425 4041,-425 4035,-425 4029,-419 4029,-413 4029,-413 4029,-354 4029,-354 4029,-348 4035,-342 4041,-342 4041,-342 4167,-342 4167,-342 4173,-342 4179,-348 4179,-354 4179,-354 4179,-413 4179,-413 4179,-419 4173,-425 4167,-425\"/>\n",
       "<text text-anchor=\"start\" x=\"4037\" y=\"-409.8\" font-family=\"Helvetica,sans-Serif\" font-size=\"14.00\">Total eve calls ≤ 143.5</text>\n",
       "<text text-anchor=\"start\" x=\"4072\" y=\"-394.8\" font-family=\"Helvetica,sans-Serif\" font-size=\"14.00\">gini = 0.38</text>\n",
       "<text text-anchor=\"start\" x=\"4066.5\" y=\"-379.8\" font-family=\"Helvetica,sans-Serif\" font-size=\"14.00\">samples = 4</text>\n",
       "<text text-anchor=\"start\" x=\"4064.5\" y=\"-364.8\" font-family=\"Helvetica,sans-Serif\" font-size=\"14.00\">value = [1, 3]</text>\n",
       "<text text-anchor=\"start\" x=\"4062\" y=\"-349.8\" font-family=\"Helvetica,sans-Serif\" font-size=\"14.00\">class = Churn</text>\n",
       "</g>\n",
       "<!-- 93&#45;&gt;95 -->\n",
       "<g id=\"edge95\" class=\"edge\">\n",
       "<title>93-&gt;95</title>\n",
       "<path fill=\"none\" stroke=\"black\" d=\"M4104,-460.91C4104,-452.65 4104,-443.86 4104,-435.3\"/>\n",
       "<polygon fill=\"black\" stroke=\"black\" points=\"4107.5,-435.02 4104,-425.02 4100.5,-435.02 4107.5,-435.02\"/>\n",
       "</g>\n",
       "<!-- 96 -->\n",
       "<g id=\"node97\" class=\"node\">\n",
       "<title>96</title>\n",
       "<path fill=\"#399de5\" stroke=\"black\" d=\"M4109,-298.5C4109,-298.5 4033,-298.5 4033,-298.5 4027,-298.5 4021,-292.5 4021,-286.5 4021,-286.5 4021,-242.5 4021,-242.5 4021,-236.5 4027,-230.5 4033,-230.5 4033,-230.5 4109,-230.5 4109,-230.5 4115,-230.5 4121,-236.5 4121,-242.5 4121,-242.5 4121,-286.5 4121,-286.5 4121,-292.5 4115,-298.5 4109,-298.5\"/>\n",
       "<text text-anchor=\"start\" x=\"4043\" y=\"-283.3\" font-family=\"Helvetica,sans-Serif\" font-size=\"14.00\">gini = 0.0</text>\n",
       "<text text-anchor=\"start\" x=\"4033.5\" y=\"-268.3\" font-family=\"Helvetica,sans-Serif\" font-size=\"14.00\">samples = 3</text>\n",
       "<text text-anchor=\"start\" x=\"4031.5\" y=\"-253.3\" font-family=\"Helvetica,sans-Serif\" font-size=\"14.00\">value = [0, 3]</text>\n",
       "<text text-anchor=\"start\" x=\"4029\" y=\"-238.3\" font-family=\"Helvetica,sans-Serif\" font-size=\"14.00\">class = Churn</text>\n",
       "</g>\n",
       "<!-- 95&#45;&gt;96 -->\n",
       "<g id=\"edge96\" class=\"edge\">\n",
       "<title>95-&gt;96</title>\n",
       "<path fill=\"none\" stroke=\"black\" d=\"M4092.55,-341.91C4089.5,-331.09 4086.2,-319.38 4083.11,-308.44\"/>\n",
       "<polygon fill=\"black\" stroke=\"black\" points=\"4086.44,-307.34 4080.35,-298.67 4079.7,-309.24 4086.44,-307.34\"/>\n",
       "</g>\n",
       "<!-- 97 -->\n",
       "<g id=\"node98\" class=\"node\">\n",
       "<title>97</title>\n",
       "<path fill=\"#e58139\" stroke=\"black\" d=\"M4249,-298.5C4249,-298.5 4151,-298.5 4151,-298.5 4145,-298.5 4139,-292.5 4139,-286.5 4139,-286.5 4139,-242.5 4139,-242.5 4139,-236.5 4145,-230.5 4151,-230.5 4151,-230.5 4249,-230.5 4249,-230.5 4255,-230.5 4261,-236.5 4261,-242.5 4261,-242.5 4261,-286.5 4261,-286.5 4261,-292.5 4255,-298.5 4249,-298.5\"/>\n",
       "<text text-anchor=\"start\" x=\"4172\" y=\"-283.3\" font-family=\"Helvetica,sans-Serif\" font-size=\"14.00\">gini = 0.0</text>\n",
       "<text text-anchor=\"start\" x=\"4162.5\" y=\"-268.3\" font-family=\"Helvetica,sans-Serif\" font-size=\"14.00\">samples = 1</text>\n",
       "<text text-anchor=\"start\" x=\"4160.5\" y=\"-253.3\" font-family=\"Helvetica,sans-Serif\" font-size=\"14.00\">value = [1, 0]</text>\n",
       "<text text-anchor=\"start\" x=\"4147\" y=\"-238.3\" font-family=\"Helvetica,sans-Serif\" font-size=\"14.00\">class = Not churn</text>\n",
       "</g>\n",
       "<!-- 95&#45;&gt;97 -->\n",
       "<g id=\"edge97\" class=\"edge\">\n",
       "<title>95-&gt;97</title>\n",
       "<path fill=\"none\" stroke=\"black\" d=\"M4137.31,-341.91C4146.72,-330.43 4156.97,-317.94 4166.41,-306.44\"/>\n",
       "<polygon fill=\"black\" stroke=\"black\" points=\"4169.15,-308.62 4172.79,-298.67 4163.74,-304.18 4169.15,-308.62\"/>\n",
       "</g>\n",
       "<!-- 99 -->\n",
       "<g id=\"node100\" class=\"node\">\n",
       "<title>99</title>\n",
       "<path fill=\"#399de5\" stroke=\"black\" d=\"M4285,-417.5C4285,-417.5 4209,-417.5 4209,-417.5 4203,-417.5 4197,-411.5 4197,-405.5 4197,-405.5 4197,-361.5 4197,-361.5 4197,-355.5 4203,-349.5 4209,-349.5 4209,-349.5 4285,-349.5 4285,-349.5 4291,-349.5 4297,-355.5 4297,-361.5 4297,-361.5 4297,-405.5 4297,-405.5 4297,-411.5 4291,-417.5 4285,-417.5\"/>\n",
       "<text text-anchor=\"start\" x=\"4219\" y=\"-402.3\" font-family=\"Helvetica,sans-Serif\" font-size=\"14.00\">gini = 0.0</text>\n",
       "<text text-anchor=\"start\" x=\"4209.5\" y=\"-387.3\" font-family=\"Helvetica,sans-Serif\" font-size=\"14.00\">samples = 9</text>\n",
       "<text text-anchor=\"start\" x=\"4207.5\" y=\"-372.3\" font-family=\"Helvetica,sans-Serif\" font-size=\"14.00\">value = [0, 9]</text>\n",
       "<text text-anchor=\"start\" x=\"4205\" y=\"-357.3\" font-family=\"Helvetica,sans-Serif\" font-size=\"14.00\">class = Churn</text>\n",
       "</g>\n",
       "<!-- 98&#45;&gt;99 -->\n",
       "<g id=\"edge99\" class=\"edge\">\n",
       "<title>98-&gt;99</title>\n",
       "<path fill=\"none\" stroke=\"black\" d=\"M4297.94,-460.91C4290.43,-449.65 4282.28,-437.42 4274.74,-426.11\"/>\n",
       "<polygon fill=\"black\" stroke=\"black\" points=\"4277.57,-424.05 4269.11,-417.67 4271.75,-427.93 4277.57,-424.05\"/>\n",
       "</g>\n",
       "<!-- 100 -->\n",
       "<g id=\"node101\" class=\"node\">\n",
       "<title>100</title>\n",
       "<path fill=\"#eca06a\" stroke=\"black\" d=\"M4474.5,-425C4474.5,-425 4327.5,-425 4327.5,-425 4321.5,-425 4315.5,-419 4315.5,-413 4315.5,-413 4315.5,-354 4315.5,-354 4315.5,-348 4321.5,-342 4327.5,-342 4327.5,-342 4474.5,-342 4474.5,-342 4480.5,-342 4486.5,-348 4486.5,-354 4486.5,-354 4486.5,-413 4486.5,-413 4486.5,-419 4480.5,-425 4474.5,-425\"/>\n",
       "<text text-anchor=\"start\" x=\"4323.5\" y=\"-409.8\" font-family=\"Helvetica,sans-Serif\" font-size=\"14.00\">Total day minutes ≤ 289.7</text>\n",
       "<text text-anchor=\"start\" x=\"4369\" y=\"-394.8\" font-family=\"Helvetica,sans-Serif\" font-size=\"14.00\">gini = 0.32</text>\n",
       "<text text-anchor=\"start\" x=\"4363.5\" y=\"-379.8\" font-family=\"Helvetica,sans-Serif\" font-size=\"14.00\">samples = 5</text>\n",
       "<text text-anchor=\"start\" x=\"4361.5\" y=\"-364.8\" font-family=\"Helvetica,sans-Serif\" font-size=\"14.00\">value = [4, 1]</text>\n",
       "<text text-anchor=\"start\" x=\"4348\" y=\"-349.8\" font-family=\"Helvetica,sans-Serif\" font-size=\"14.00\">class = Not churn</text>\n",
       "</g>\n",
       "<!-- 98&#45;&gt;100 -->\n",
       "<g id=\"edge100\" class=\"edge\">\n",
       "<title>98-&gt;100</title>\n",
       "<path fill=\"none\" stroke=\"black\" d=\"M4351.37,-460.91C4357.09,-452.1 4363.19,-442.7 4369.1,-433.61\"/>\n",
       "<polygon fill=\"black\" stroke=\"black\" points=\"4372.17,-435.31 4374.68,-425.02 4366.3,-431.5 4372.17,-435.31\"/>\n",
       "</g>\n",
       "<!-- 101 -->\n",
       "<g id=\"node102\" class=\"node\">\n",
       "<title>101</title>\n",
       "<path fill=\"#399de5\" stroke=\"black\" d=\"M4403,-298.5C4403,-298.5 4327,-298.5 4327,-298.5 4321,-298.5 4315,-292.5 4315,-286.5 4315,-286.5 4315,-242.5 4315,-242.5 4315,-236.5 4321,-230.5 4327,-230.5 4327,-230.5 4403,-230.5 4403,-230.5 4409,-230.5 4415,-236.5 4415,-242.5 4415,-242.5 4415,-286.5 4415,-286.5 4415,-292.5 4409,-298.5 4403,-298.5\"/>\n",
       "<text text-anchor=\"start\" x=\"4337\" y=\"-283.3\" font-family=\"Helvetica,sans-Serif\" font-size=\"14.00\">gini = 0.0</text>\n",
       "<text text-anchor=\"start\" x=\"4327.5\" y=\"-268.3\" font-family=\"Helvetica,sans-Serif\" font-size=\"14.00\">samples = 1</text>\n",
       "<text text-anchor=\"start\" x=\"4325.5\" y=\"-253.3\" font-family=\"Helvetica,sans-Serif\" font-size=\"14.00\">value = [0, 1]</text>\n",
       "<text text-anchor=\"start\" x=\"4323\" y=\"-238.3\" font-family=\"Helvetica,sans-Serif\" font-size=\"14.00\">class = Churn</text>\n",
       "</g>\n",
       "<!-- 100&#45;&gt;101 -->\n",
       "<g id=\"edge101\" class=\"edge\">\n",
       "<title>100-&gt;101</title>\n",
       "<path fill=\"none\" stroke=\"black\" d=\"M4388.51,-341.91C4385.18,-331.09 4381.58,-319.38 4378.21,-308.44\"/>\n",
       "<polygon fill=\"black\" stroke=\"black\" points=\"4381.49,-307.2 4375.21,-298.67 4374.8,-309.25 4381.49,-307.2\"/>\n",
       "</g>\n",
       "<!-- 102 -->\n",
       "<g id=\"node103\" class=\"node\">\n",
       "<title>102</title>\n",
       "<path fill=\"#e58139\" stroke=\"black\" d=\"M4543,-298.5C4543,-298.5 4445,-298.5 4445,-298.5 4439,-298.5 4433,-292.5 4433,-286.5 4433,-286.5 4433,-242.5 4433,-242.5 4433,-236.5 4439,-230.5 4445,-230.5 4445,-230.5 4543,-230.5 4543,-230.5 4549,-230.5 4555,-236.5 4555,-242.5 4555,-242.5 4555,-286.5 4555,-286.5 4555,-292.5 4549,-298.5 4543,-298.5\"/>\n",
       "<text text-anchor=\"start\" x=\"4466\" y=\"-283.3\" font-family=\"Helvetica,sans-Serif\" font-size=\"14.00\">gini = 0.0</text>\n",
       "<text text-anchor=\"start\" x=\"4456.5\" y=\"-268.3\" font-family=\"Helvetica,sans-Serif\" font-size=\"14.00\">samples = 4</text>\n",
       "<text text-anchor=\"start\" x=\"4454.5\" y=\"-253.3\" font-family=\"Helvetica,sans-Serif\" font-size=\"14.00\">value = [4, 0]</text>\n",
       "<text text-anchor=\"start\" x=\"4441\" y=\"-238.3\" font-family=\"Helvetica,sans-Serif\" font-size=\"14.00\">class = Not churn</text>\n",
       "</g>\n",
       "<!-- 100&#45;&gt;102 -->\n",
       "<g id=\"edge102\" class=\"edge\">\n",
       "<title>100-&gt;102</title>\n",
       "<path fill=\"none\" stroke=\"black\" d=\"M4433.27,-341.91C4442.3,-330.54 4452.13,-318.18 4461.19,-306.77\"/>\n",
       "<polygon fill=\"black\" stroke=\"black\" points=\"4464.15,-308.67 4467.64,-298.67 4458.67,-304.32 4464.15,-308.67\"/>\n",
       "</g>\n",
       "<!-- 104 -->\n",
       "<g id=\"node105\" class=\"node\">\n",
       "<title>104</title>\n",
       "<path fill=\"#f2c09c\" stroke=\"black\" d=\"M4659,-544C4659,-544 4533,-544 4533,-544 4527,-544 4521,-538 4521,-532 4521,-532 4521,-473 4521,-473 4521,-467 4527,-461 4533,-461 4533,-461 4659,-461 4659,-461 4665,-461 4671,-467 4671,-473 4671,-473 4671,-532 4671,-532 4671,-538 4665,-544 4659,-544\"/>\n",
       "<text text-anchor=\"start\" x=\"4529\" y=\"-528.8\" font-family=\"Helvetica,sans-Serif\" font-size=\"14.00\">Total eve calls ≤ 124.0</text>\n",
       "<text text-anchor=\"start\" x=\"4564\" y=\"-513.8\" font-family=\"Helvetica,sans-Serif\" font-size=\"14.00\">gini = 0.44</text>\n",
       "<text text-anchor=\"start\" x=\"4558.5\" y=\"-498.8\" font-family=\"Helvetica,sans-Serif\" font-size=\"14.00\">samples = 3</text>\n",
       "<text text-anchor=\"start\" x=\"4556.5\" y=\"-483.8\" font-family=\"Helvetica,sans-Serif\" font-size=\"14.00\">value = [2, 1]</text>\n",
       "<text text-anchor=\"start\" x=\"4543\" y=\"-468.8\" font-family=\"Helvetica,sans-Serif\" font-size=\"14.00\">class = Not churn</text>\n",
       "</g>\n",
       "<!-- 103&#45;&gt;104 -->\n",
       "<g id=\"edge104\" class=\"edge\">\n",
       "<title>103-&gt;104</title>\n",
       "<path fill=\"none\" stroke=\"black\" d=\"M4596,-579.91C4596,-571.65 4596,-562.86 4596,-554.3\"/>\n",
       "<polygon fill=\"black\" stroke=\"black\" points=\"4599.5,-554.02 4596,-544.02 4592.5,-554.02 4599.5,-554.02\"/>\n",
       "</g>\n",
       "<!-- 107 -->\n",
       "<g id=\"node108\" class=\"node\">\n",
       "<title>107</title>\n",
       "<path fill=\"#3d9fe5\" stroke=\"black\" d=\"M4846,-544C4846,-544 4720,-544 4720,-544 4714,-544 4708,-538 4708,-532 4708,-532 4708,-473 4708,-473 4708,-467 4714,-461 4720,-461 4720,-461 4846,-461 4846,-461 4852,-461 4858,-467 4858,-473 4858,-473 4858,-532 4858,-532 4858,-538 4852,-544 4846,-544\"/>\n",
       "<text text-anchor=\"start\" x=\"4716\" y=\"-528.8\" font-family=\"Helvetica,sans-Serif\" font-size=\"14.00\">Total day calls ≤ 147.5</text>\n",
       "<text text-anchor=\"start\" x=\"4751\" y=\"-513.8\" font-family=\"Helvetica,sans-Serif\" font-size=\"14.00\">gini = 0.04</text>\n",
       "<text text-anchor=\"start\" x=\"4742\" y=\"-498.8\" font-family=\"Helvetica,sans-Serif\" font-size=\"14.00\">samples = 55</text>\n",
       "<text text-anchor=\"start\" x=\"4740\" y=\"-483.8\" font-family=\"Helvetica,sans-Serif\" font-size=\"14.00\">value = [1, 54]</text>\n",
       "<text text-anchor=\"start\" x=\"4741\" y=\"-468.8\" font-family=\"Helvetica,sans-Serif\" font-size=\"14.00\">class = Churn</text>\n",
       "</g>\n",
       "<!-- 103&#45;&gt;107 -->\n",
       "<g id=\"edge107\" class=\"edge\">\n",
       "<title>103-&gt;107</title>\n",
       "<path fill=\"none\" stroke=\"black\" d=\"M4660.88,-579.91C4676.54,-570.11 4693.4,-559.56 4709.43,-549.53\"/>\n",
       "<polygon fill=\"black\" stroke=\"black\" points=\"4711.61,-552.29 4718.24,-544.02 4707.9,-546.36 4711.61,-552.29\"/>\n",
       "</g>\n",
       "<!-- 105 -->\n",
       "<g id=\"node106\" class=\"node\">\n",
       "<title>105</title>\n",
       "<path fill=\"#e58139\" stroke=\"black\" d=\"M4615,-417.5C4615,-417.5 4517,-417.5 4517,-417.5 4511,-417.5 4505,-411.5 4505,-405.5 4505,-405.5 4505,-361.5 4505,-361.5 4505,-355.5 4511,-349.5 4517,-349.5 4517,-349.5 4615,-349.5 4615,-349.5 4621,-349.5 4627,-355.5 4627,-361.5 4627,-361.5 4627,-405.5 4627,-405.5 4627,-411.5 4621,-417.5 4615,-417.5\"/>\n",
       "<text text-anchor=\"start\" x=\"4538\" y=\"-402.3\" font-family=\"Helvetica,sans-Serif\" font-size=\"14.00\">gini = 0.0</text>\n",
       "<text text-anchor=\"start\" x=\"4528.5\" y=\"-387.3\" font-family=\"Helvetica,sans-Serif\" font-size=\"14.00\">samples = 2</text>\n",
       "<text text-anchor=\"start\" x=\"4526.5\" y=\"-372.3\" font-family=\"Helvetica,sans-Serif\" font-size=\"14.00\">value = [2, 0]</text>\n",
       "<text text-anchor=\"start\" x=\"4513\" y=\"-357.3\" font-family=\"Helvetica,sans-Serif\" font-size=\"14.00\">class = Not churn</text>\n",
       "</g>\n",
       "<!-- 104&#45;&gt;105 -->\n",
       "<g id=\"edge105\" class=\"edge\">\n",
       "<title>104-&gt;105</title>\n",
       "<path fill=\"none\" stroke=\"black\" d=\"M4585.59,-460.91C4582.82,-450.09 4579.81,-438.38 4577.01,-427.44\"/>\n",
       "<polygon fill=\"black\" stroke=\"black\" points=\"4580.38,-426.48 4574.5,-417.67 4573.6,-428.22 4580.38,-426.48\"/>\n",
       "</g>\n",
       "<!-- 106 -->\n",
       "<g id=\"node107\" class=\"node\">\n",
       "<title>106</title>\n",
       "<path fill=\"#399de5\" stroke=\"black\" d=\"M4733,-417.5C4733,-417.5 4657,-417.5 4657,-417.5 4651,-417.5 4645,-411.5 4645,-405.5 4645,-405.5 4645,-361.5 4645,-361.5 4645,-355.5 4651,-349.5 4657,-349.5 4657,-349.5 4733,-349.5 4733,-349.5 4739,-349.5 4745,-355.5 4745,-361.5 4745,-361.5 4745,-405.5 4745,-405.5 4745,-411.5 4739,-417.5 4733,-417.5\"/>\n",
       "<text text-anchor=\"start\" x=\"4667\" y=\"-402.3\" font-family=\"Helvetica,sans-Serif\" font-size=\"14.00\">gini = 0.0</text>\n",
       "<text text-anchor=\"start\" x=\"4657.5\" y=\"-387.3\" font-family=\"Helvetica,sans-Serif\" font-size=\"14.00\">samples = 1</text>\n",
       "<text text-anchor=\"start\" x=\"4655.5\" y=\"-372.3\" font-family=\"Helvetica,sans-Serif\" font-size=\"14.00\">value = [0, 1]</text>\n",
       "<text text-anchor=\"start\" x=\"4653\" y=\"-357.3\" font-family=\"Helvetica,sans-Serif\" font-size=\"14.00\">class = Churn</text>\n",
       "</g>\n",
       "<!-- 104&#45;&gt;106 -->\n",
       "<g id=\"edge106\" class=\"edge\">\n",
       "<title>104-&gt;106</title>\n",
       "<path fill=\"none\" stroke=\"black\" d=\"M4630.35,-460.91C4640.06,-449.43 4650.63,-436.94 4660.36,-425.44\"/>\n",
       "<polygon fill=\"black\" stroke=\"black\" points=\"4663.15,-427.56 4666.94,-417.67 4657.8,-423.04 4663.15,-427.56\"/>\n",
       "</g>\n",
       "<!-- 108 -->\n",
       "<g id=\"node109\" class=\"node\">\n",
       "<title>108</title>\n",
       "<path fill=\"#399de5\" stroke=\"black\" d=\"M4853,-417.5C4853,-417.5 4775,-417.5 4775,-417.5 4769,-417.5 4763,-411.5 4763,-405.5 4763,-405.5 4763,-361.5 4763,-361.5 4763,-355.5 4769,-349.5 4775,-349.5 4775,-349.5 4853,-349.5 4853,-349.5 4859,-349.5 4865,-355.5 4865,-361.5 4865,-361.5 4865,-405.5 4865,-405.5 4865,-411.5 4859,-417.5 4853,-417.5\"/>\n",
       "<text text-anchor=\"start\" x=\"4786\" y=\"-402.3\" font-family=\"Helvetica,sans-Serif\" font-size=\"14.00\">gini = 0.0</text>\n",
       "<text text-anchor=\"start\" x=\"4773\" y=\"-387.3\" font-family=\"Helvetica,sans-Serif\" font-size=\"14.00\">samples = 54</text>\n",
       "<text text-anchor=\"start\" x=\"4771\" y=\"-372.3\" font-family=\"Helvetica,sans-Serif\" font-size=\"14.00\">value = [0, 54]</text>\n",
       "<text text-anchor=\"start\" x=\"4772\" y=\"-357.3\" font-family=\"Helvetica,sans-Serif\" font-size=\"14.00\">class = Churn</text>\n",
       "</g>\n",
       "<!-- 107&#45;&gt;108 -->\n",
       "<g id=\"edge108\" class=\"edge\">\n",
       "<title>107-&gt;108</title>\n",
       "<path fill=\"none\" stroke=\"black\" d=\"M4793.76,-460.91C4796.62,-450.09 4799.73,-438.38 4802.62,-427.44\"/>\n",
       "<polygon fill=\"black\" stroke=\"black\" points=\"4806.03,-428.23 4805.21,-417.67 4799.27,-426.44 4806.03,-428.23\"/>\n",
       "</g>\n",
       "<!-- 109 -->\n",
       "<g id=\"node110\" class=\"node\">\n",
       "<title>109</title>\n",
       "<path fill=\"#e58139\" stroke=\"black\" d=\"M4993,-417.5C4993,-417.5 4895,-417.5 4895,-417.5 4889,-417.5 4883,-411.5 4883,-405.5 4883,-405.5 4883,-361.5 4883,-361.5 4883,-355.5 4889,-349.5 4895,-349.5 4895,-349.5 4993,-349.5 4993,-349.5 4999,-349.5 5005,-355.5 5005,-361.5 5005,-361.5 5005,-405.5 5005,-405.5 5005,-411.5 4999,-417.5 4993,-417.5\"/>\n",
       "<text text-anchor=\"start\" x=\"4916\" y=\"-402.3\" font-family=\"Helvetica,sans-Serif\" font-size=\"14.00\">gini = 0.0</text>\n",
       "<text text-anchor=\"start\" x=\"4906.5\" y=\"-387.3\" font-family=\"Helvetica,sans-Serif\" font-size=\"14.00\">samples = 1</text>\n",
       "<text text-anchor=\"start\" x=\"4904.5\" y=\"-372.3\" font-family=\"Helvetica,sans-Serif\" font-size=\"14.00\">value = [1, 0]</text>\n",
       "<text text-anchor=\"start\" x=\"4891\" y=\"-357.3\" font-family=\"Helvetica,sans-Serif\" font-size=\"14.00\">class = Not churn</text>\n",
       "</g>\n",
       "<!-- 107&#45;&gt;109 -->\n",
       "<g id=\"edge109\" class=\"edge\">\n",
       "<title>107-&gt;109</title>\n",
       "<path fill=\"none\" stroke=\"black\" d=\"M4838.86,-460.91C4855.41,-448.88 4873.5,-435.73 4889.93,-423.79\"/>\n",
       "<polygon fill=\"black\" stroke=\"black\" points=\"4892.33,-426.38 4898.36,-417.67 4888.21,-420.71 4892.33,-426.38\"/>\n",
       "</g>\n",
       "<!-- 111 -->\n",
       "<g id=\"node112\" class=\"node\">\n",
       "<title>111</title>\n",
       "<path fill=\"#e68640\" stroke=\"black\" d=\"M5061.5,-663C5061.5,-663 4914.5,-663 4914.5,-663 4908.5,-663 4902.5,-657 4902.5,-651 4902.5,-651 4902.5,-592 4902.5,-592 4902.5,-586 4908.5,-580 4914.5,-580 4914.5,-580 5061.5,-580 5061.5,-580 5067.5,-580 5073.5,-586 5073.5,-592 5073.5,-592 5073.5,-651 5073.5,-651 5073.5,-657 5067.5,-663 5061.5,-663\"/>\n",
       "<text text-anchor=\"start\" x=\"4910.5\" y=\"-647.8\" font-family=\"Helvetica,sans-Serif\" font-size=\"14.00\">Total day minutes ≤ 318.1</text>\n",
       "<text text-anchor=\"start\" x=\"4956\" y=\"-632.8\" font-family=\"Helvetica,sans-Serif\" font-size=\"14.00\">gini = 0.07</text>\n",
       "<text text-anchor=\"start\" x=\"4947\" y=\"-617.8\" font-family=\"Helvetica,sans-Serif\" font-size=\"14.00\">samples = 29</text>\n",
       "<text text-anchor=\"start\" x=\"4945\" y=\"-602.8\" font-family=\"Helvetica,sans-Serif\" font-size=\"14.00\">value = [28, 1]</text>\n",
       "<text text-anchor=\"start\" x=\"4935\" y=\"-587.8\" font-family=\"Helvetica,sans-Serif\" font-size=\"14.00\">class = Not churn</text>\n",
       "</g>\n",
       "<!-- 110&#45;&gt;111 -->\n",
       "<g id=\"edge111\" class=\"edge\">\n",
       "<title>110-&gt;111</title>\n",
       "<path fill=\"none\" stroke=\"black\" d=\"M4988,-698.91C4988,-690.65 4988,-681.86 4988,-673.3\"/>\n",
       "<polygon fill=\"black\" stroke=\"black\" points=\"4991.5,-673.02 4988,-663.02 4984.5,-673.02 4991.5,-673.02\"/>\n",
       "</g>\n",
       "<!-- 114 -->\n",
       "<g id=\"node115\" class=\"node\">\n",
       "<title>114</title>\n",
       "<path fill=\"#88c4ef\" stroke=\"black\" d=\"M5272.5,-663C5272.5,-663 5153.5,-663 5153.5,-663 5147.5,-663 5141.5,-657 5141.5,-651 5141.5,-651 5141.5,-592 5141.5,-592 5141.5,-586 5147.5,-580 5153.5,-580 5153.5,-580 5272.5,-580 5272.5,-580 5278.5,-580 5284.5,-586 5284.5,-592 5284.5,-592 5284.5,-651 5284.5,-651 5284.5,-657 5278.5,-663 5272.5,-663\"/>\n",
       "<text text-anchor=\"start\" x=\"5149.5\" y=\"-647.8\" font-family=\"Helvetica,sans-Serif\" font-size=\"14.00\">Total eve calls ≤ 84.0</text>\n",
       "<text text-anchor=\"start\" x=\"5181\" y=\"-632.8\" font-family=\"Helvetica,sans-Serif\" font-size=\"14.00\">gini = 0.41</text>\n",
       "<text text-anchor=\"start\" x=\"5175.5\" y=\"-617.8\" font-family=\"Helvetica,sans-Serif\" font-size=\"14.00\">samples = 7</text>\n",
       "<text text-anchor=\"start\" x=\"5173.5\" y=\"-602.8\" font-family=\"Helvetica,sans-Serif\" font-size=\"14.00\">value = [2, 5]</text>\n",
       "<text text-anchor=\"start\" x=\"5171\" y=\"-587.8\" font-family=\"Helvetica,sans-Serif\" font-size=\"14.00\">class = Churn</text>\n",
       "</g>\n",
       "<!-- 110&#45;&gt;114 -->\n",
       "<g id=\"edge114\" class=\"edge\">\n",
       "<title>110-&gt;114</title>\n",
       "<path fill=\"none\" stroke=\"black\" d=\"M5065.12,-699.4C5086.81,-688.12 5110.45,-675.82 5132.34,-664.44\"/>\n",
       "<polygon fill=\"black\" stroke=\"black\" points=\"5134.03,-667.51 5141.28,-659.79 5130.8,-661.3 5134.03,-667.51\"/>\n",
       "</g>\n",
       "<!-- 112 -->\n",
       "<g id=\"node113\" class=\"node\">\n",
       "<title>112</title>\n",
       "<path fill=\"#e58139\" stroke=\"black\" d=\"M4986,-536.5C4986,-536.5 4888,-536.5 4888,-536.5 4882,-536.5 4876,-530.5 4876,-524.5 4876,-524.5 4876,-480.5 4876,-480.5 4876,-474.5 4882,-468.5 4888,-468.5 4888,-468.5 4986,-468.5 4986,-468.5 4992,-468.5 4998,-474.5 4998,-480.5 4998,-480.5 4998,-524.5 4998,-524.5 4998,-530.5 4992,-536.5 4986,-536.5\"/>\n",
       "<text text-anchor=\"start\" x=\"4909\" y=\"-521.3\" font-family=\"Helvetica,sans-Serif\" font-size=\"14.00\">gini = 0.0</text>\n",
       "<text text-anchor=\"start\" x=\"4896\" y=\"-506.3\" font-family=\"Helvetica,sans-Serif\" font-size=\"14.00\">samples = 28</text>\n",
       "<text text-anchor=\"start\" x=\"4894\" y=\"-491.3\" font-family=\"Helvetica,sans-Serif\" font-size=\"14.00\">value = [28, 0]</text>\n",
       "<text text-anchor=\"start\" x=\"4884\" y=\"-476.3\" font-family=\"Helvetica,sans-Serif\" font-size=\"14.00\">class = Not churn</text>\n",
       "</g>\n",
       "<!-- 111&#45;&gt;112 -->\n",
       "<g id=\"edge112\" class=\"edge\">\n",
       "<title>111-&gt;112</title>\n",
       "<path fill=\"none\" stroke=\"black\" d=\"M4970.31,-579.91C4965.54,-568.98 4960.38,-557.14 4955.57,-546.11\"/>\n",
       "<polygon fill=\"black\" stroke=\"black\" points=\"4958.66,-544.44 4951.46,-536.67 4952.24,-547.23 4958.66,-544.44\"/>\n",
       "</g>\n",
       "<!-- 113 -->\n",
       "<g id=\"node114\" class=\"node\">\n",
       "<title>113</title>\n",
       "<path fill=\"#399de5\" stroke=\"black\" d=\"M5104,-536.5C5104,-536.5 5028,-536.5 5028,-536.5 5022,-536.5 5016,-530.5 5016,-524.5 5016,-524.5 5016,-480.5 5016,-480.5 5016,-474.5 5022,-468.5 5028,-468.5 5028,-468.5 5104,-468.5 5104,-468.5 5110,-468.5 5116,-474.5 5116,-480.5 5116,-480.5 5116,-524.5 5116,-524.5 5116,-530.5 5110,-536.5 5104,-536.5\"/>\n",
       "<text text-anchor=\"start\" x=\"5038\" y=\"-521.3\" font-family=\"Helvetica,sans-Serif\" font-size=\"14.00\">gini = 0.0</text>\n",
       "<text text-anchor=\"start\" x=\"5028.5\" y=\"-506.3\" font-family=\"Helvetica,sans-Serif\" font-size=\"14.00\">samples = 1</text>\n",
       "<text text-anchor=\"start\" x=\"5026.5\" y=\"-491.3\" font-family=\"Helvetica,sans-Serif\" font-size=\"14.00\">value = [0, 1]</text>\n",
       "<text text-anchor=\"start\" x=\"5024\" y=\"-476.3\" font-family=\"Helvetica,sans-Serif\" font-size=\"14.00\">class = Churn</text>\n",
       "</g>\n",
       "<!-- 111&#45;&gt;113 -->\n",
       "<g id=\"edge113\" class=\"edge\">\n",
       "<title>111-&gt;113</title>\n",
       "<path fill=\"none\" stroke=\"black\" d=\"M5015.06,-579.91C5022.57,-568.65 5030.72,-556.42 5038.26,-545.11\"/>\n",
       "<polygon fill=\"black\" stroke=\"black\" points=\"5041.25,-546.93 5043.89,-536.67 5035.43,-543.05 5041.25,-546.93\"/>\n",
       "</g>\n",
       "<!-- 115 -->\n",
       "<g id=\"node116\" class=\"node\">\n",
       "<title>115</title>\n",
       "<path fill=\"#f2c09c\" stroke=\"black\" d=\"M5280,-544C5280,-544 5146,-544 5146,-544 5140,-544 5134,-538 5134,-532 5134,-532 5134,-473 5134,-473 5134,-467 5140,-461 5146,-461 5146,-461 5280,-461 5280,-461 5286,-461 5292,-467 5292,-473 5292,-473 5292,-532 5292,-532 5292,-538 5286,-544 5280,-544\"/>\n",
       "<text text-anchor=\"start\" x=\"5142\" y=\"-528.8\" font-family=\"Helvetica,sans-Serif\" font-size=\"14.00\">Total night calls ≤ 107.5</text>\n",
       "<text text-anchor=\"start\" x=\"5181\" y=\"-513.8\" font-family=\"Helvetica,sans-Serif\" font-size=\"14.00\">gini = 0.44</text>\n",
       "<text text-anchor=\"start\" x=\"5175.5\" y=\"-498.8\" font-family=\"Helvetica,sans-Serif\" font-size=\"14.00\">samples = 3</text>\n",
       "<text text-anchor=\"start\" x=\"5173.5\" y=\"-483.8\" font-family=\"Helvetica,sans-Serif\" font-size=\"14.00\">value = [2, 1]</text>\n",
       "<text text-anchor=\"start\" x=\"5160\" y=\"-468.8\" font-family=\"Helvetica,sans-Serif\" font-size=\"14.00\">class = Not churn</text>\n",
       "</g>\n",
       "<!-- 114&#45;&gt;115 -->\n",
       "<g id=\"edge115\" class=\"edge\">\n",
       "<title>114-&gt;115</title>\n",
       "<path fill=\"none\" stroke=\"black\" d=\"M5213,-579.91C5213,-571.65 5213,-562.86 5213,-554.3\"/>\n",
       "<polygon fill=\"black\" stroke=\"black\" points=\"5216.5,-554.02 5213,-544.02 5209.5,-554.02 5216.5,-554.02\"/>\n",
       "</g>\n",
       "<!-- 118 -->\n",
       "<g id=\"node119\" class=\"node\">\n",
       "<title>118</title>\n",
       "<path fill=\"#399de5\" stroke=\"black\" d=\"M5398,-536.5C5398,-536.5 5322,-536.5 5322,-536.5 5316,-536.5 5310,-530.5 5310,-524.5 5310,-524.5 5310,-480.5 5310,-480.5 5310,-474.5 5316,-468.5 5322,-468.5 5322,-468.5 5398,-468.5 5398,-468.5 5404,-468.5 5410,-474.5 5410,-480.5 5410,-480.5 5410,-524.5 5410,-524.5 5410,-530.5 5404,-536.5 5398,-536.5\"/>\n",
       "<text text-anchor=\"start\" x=\"5332\" y=\"-521.3\" font-family=\"Helvetica,sans-Serif\" font-size=\"14.00\">gini = 0.0</text>\n",
       "<text text-anchor=\"start\" x=\"5322.5\" y=\"-506.3\" font-family=\"Helvetica,sans-Serif\" font-size=\"14.00\">samples = 4</text>\n",
       "<text text-anchor=\"start\" x=\"5320.5\" y=\"-491.3\" font-family=\"Helvetica,sans-Serif\" font-size=\"14.00\">value = [0, 4]</text>\n",
       "<text text-anchor=\"start\" x=\"5318\" y=\"-476.3\" font-family=\"Helvetica,sans-Serif\" font-size=\"14.00\">class = Churn</text>\n",
       "</g>\n",
       "<!-- 114&#45;&gt;118 -->\n",
       "<g id=\"edge118\" class=\"edge\">\n",
       "<title>114-&gt;118</title>\n",
       "<path fill=\"none\" stroke=\"black\" d=\"M5264,-579.91C5278.97,-567.99 5295.33,-554.98 5310.22,-543.12\"/>\n",
       "<polygon fill=\"black\" stroke=\"black\" points=\"5312.68,-545.63 5318.33,-536.67 5308.32,-540.16 5312.68,-545.63\"/>\n",
       "</g>\n",
       "<!-- 116 -->\n",
       "<g id=\"node117\" class=\"node\">\n",
       "<title>116</title>\n",
       "<path fill=\"#399de5\" stroke=\"black\" d=\"M5166,-417.5C5166,-417.5 5090,-417.5 5090,-417.5 5084,-417.5 5078,-411.5 5078,-405.5 5078,-405.5 5078,-361.5 5078,-361.5 5078,-355.5 5084,-349.5 5090,-349.5 5090,-349.5 5166,-349.5 5166,-349.5 5172,-349.5 5178,-355.5 5178,-361.5 5178,-361.5 5178,-405.5 5178,-405.5 5178,-411.5 5172,-417.5 5166,-417.5\"/>\n",
       "<text text-anchor=\"start\" x=\"5100\" y=\"-402.3\" font-family=\"Helvetica,sans-Serif\" font-size=\"14.00\">gini = 0.0</text>\n",
       "<text text-anchor=\"start\" x=\"5090.5\" y=\"-387.3\" font-family=\"Helvetica,sans-Serif\" font-size=\"14.00\">samples = 1</text>\n",
       "<text text-anchor=\"start\" x=\"5088.5\" y=\"-372.3\" font-family=\"Helvetica,sans-Serif\" font-size=\"14.00\">value = [0, 1]</text>\n",
       "<text text-anchor=\"start\" x=\"5086\" y=\"-357.3\" font-family=\"Helvetica,sans-Serif\" font-size=\"14.00\">class = Churn</text>\n",
       "</g>\n",
       "<!-- 115&#45;&gt;116 -->\n",
       "<g id=\"edge116\" class=\"edge\">\n",
       "<title>115-&gt;116</title>\n",
       "<path fill=\"none\" stroke=\"black\" d=\"M5183.51,-460.91C5175.25,-449.54 5166.27,-437.18 5157.99,-425.77\"/>\n",
       "<polygon fill=\"black\" stroke=\"black\" points=\"5160.8,-423.7 5152.1,-417.67 5155.14,-427.81 5160.8,-423.7\"/>\n",
       "</g>\n",
       "<!-- 117 -->\n",
       "<g id=\"node118\" class=\"node\">\n",
       "<title>117</title>\n",
       "<path fill=\"#e58139\" stroke=\"black\" d=\"M5306,-417.5C5306,-417.5 5208,-417.5 5208,-417.5 5202,-417.5 5196,-411.5 5196,-405.5 5196,-405.5 5196,-361.5 5196,-361.5 5196,-355.5 5202,-349.5 5208,-349.5 5208,-349.5 5306,-349.5 5306,-349.5 5312,-349.5 5318,-355.5 5318,-361.5 5318,-361.5 5318,-405.5 5318,-405.5 5318,-411.5 5312,-417.5 5306,-417.5\"/>\n",
       "<text text-anchor=\"start\" x=\"5229\" y=\"-402.3\" font-family=\"Helvetica,sans-Serif\" font-size=\"14.00\">gini = 0.0</text>\n",
       "<text text-anchor=\"start\" x=\"5219.5\" y=\"-387.3\" font-family=\"Helvetica,sans-Serif\" font-size=\"14.00\">samples = 2</text>\n",
       "<text text-anchor=\"start\" x=\"5217.5\" y=\"-372.3\" font-family=\"Helvetica,sans-Serif\" font-size=\"14.00\">value = [2, 0]</text>\n",
       "<text text-anchor=\"start\" x=\"5204\" y=\"-357.3\" font-family=\"Helvetica,sans-Serif\" font-size=\"14.00\">class = Not churn</text>\n",
       "</g>\n",
       "<!-- 115&#45;&gt;117 -->\n",
       "<g id=\"edge117\" class=\"edge\">\n",
       "<title>115-&gt;117</title>\n",
       "<path fill=\"none\" stroke=\"black\" d=\"M5228.27,-460.91C5232.37,-449.98 5236.83,-438.14 5240.98,-427.11\"/>\n",
       "<polygon fill=\"black\" stroke=\"black\" points=\"5244.28,-428.26 5244.53,-417.67 5237.73,-425.79 5244.28,-428.26\"/>\n",
       "</g>\n",
       "<!-- \\n -->\n",
       "<g id=\"node120\" class=\"node\">\n",
       "<title>\\n</title>\n",
       "<path fill=\"black\" stroke=\"black\" d=\"M4304,-996.5C4304,-996.5 4274,-996.5 4274,-996.5 4268,-996.5 4262,-990.5 4262,-984.5 4262,-984.5 4262,-972.5 4262,-972.5 4262,-966.5 4268,-960.5 4274,-960.5 4274,-960.5 4304,-960.5 4304,-960.5 4310,-960.5 4316,-966.5 4316,-972.5 4316,-972.5 4316,-984.5 4316,-984.5 4316,-990.5 4310,-996.5 4304,-996.5\"/>\n",
       "</g>\n",
       "</g>\n",
       "</svg>"
      ],
      "text/plain": [
       "<IPython.core.display.SVG object>"
      ]
     },
     "metadata": {},
     "output_type": "display_data"
    }
   ],
   "source": [
    "from sklearn.tree import DecisionTreeClassifier\n",
    "from sklearn.tree import export_graphviz\n",
    "from sklearn import tree\n",
    "from graphviz import Source\n",
    "from IPython.display import SVG, display\n",
    "import pydotplus\n",
    "\n",
    "def treeplot(classifier, cols, classnames, output_path):\n",
    "    #plot decision tree\n",
    "    dot_data = tree.export_graphviz(classifier, out_file=None, \n",
    "                                    rounded=True, proportion=False,\n",
    "                                    feature_names = cols, \n",
    "                                    precision = 2,\n",
    "                                    class_names = classnames,\n",
    "                                    filled = True,\n",
    "                                    special_characters=True)\n",
    "    graph = pydotplus.graph_from_dot_data(dot_data)\n",
    "    graph.set_size('\"10.2,7.7!\"')\n",
    "    return graph.create_svg()\n",
    "\n",
    "decision_tree = DecisionTreeClassifier(max_depth = 8, random_state = 123,\n",
    "                                       splitter = \"best\", criterion = \"gini\")\n",
    "\n",
    "telecom_churn_prediction(decision_tree, x_train, x_test, y_train, y_test, \"features\", threshold_plot=True)\n",
    "\n",
    "#plot decision tree and save it to a PNG file\n",
    "tree_svg = treeplot(decision_tree, cols, [\"Not churn\", \"Churn\"], \"tree.svg\")\n",
    "\n",
    "# Display the decision tree plot in the notebook\n",
    "display(SVG(tree_svg))\n"
   ]
  },
  {
   "cell_type": "code",
   "execution_count": null,
   "id": "ccbecfd7",
   "metadata": {},
   "outputs": [],
   "source": []
  },
  {
   "cell_type": "markdown",
   "id": "8a46e2f9",
   "metadata": {},
   "source": [
    "3.3 Logistic Regression"
   ]
  },
  {
   "cell_type": "code",
   "execution_count": 18,
   "id": "a07493b7",
   "metadata": {},
   "outputs": [
    {
     "name": "stdout",
     "output_type": "stream",
     "text": [
      "\n",
      "Logistic Regression Model Evaluation:\n",
      "\n",
      "Accuracy Score: 0.8146067415730337\n",
      "\n",
      "Classification Report:\n",
      "               precision    recall  f1-score   support\n",
      "\n",
      "           0       0.82      0.99      0.90       433\n",
      "           1       0.58      0.07      0.12       101\n",
      "\n",
      "    accuracy                           0.81       534\n",
      "   macro avg       0.70      0.53      0.51       534\n",
      "weighted avg       0.78      0.81      0.75       534\n",
      "\n"
     ]
    },
    {
     "name": "stderr",
     "output_type": "stream",
     "text": [
      "/Users/macos/opt/anaconda3/lib/python3.9/site-packages/sklearn/utils/validation.py:993: DataConversionWarning:\n",
      "\n",
      "A column-vector y was passed when a 1d array was expected. Please change the shape of y to (n_samples, ), for example using ravel().\n",
      "\n",
      "/Users/macos/opt/anaconda3/lib/python3.9/site-packages/sklearn/linear_model/_logistic.py:814: ConvergenceWarning:\n",
      "\n",
      "lbfgs failed to converge (status=1):\n",
      "STOP: TOTAL NO. of ITERATIONS REACHED LIMIT.\n",
      "\n",
      "Increase the number of iterations (max_iter) or scale the data as shown in:\n",
      "    https://scikit-learn.org/stable/modules/preprocessing.html\n",
      "Please also refer to the documentation for alternative solver options:\n",
      "    https://scikit-learn.org/stable/modules/linear_model.html#logistic-regression\n",
      "\n"
     ]
    }
   ],
   "source": [
    "from sklearn.linear_model import LogisticRegression\n",
    "\n",
    "# Create a Logistic Regression object\n",
    "logreg = LogisticRegression()\n",
    "\n",
    "# Train the model on the training data\n",
    "logreg.fit(x_train, y_train)\n",
    "\n",
    "# Predict the target variable on the test data\n",
    "y_pred = logreg.predict(x_test)\n",
    "\n",
    "# Evaluate the model performance on the test data\n",
    "print(\"\\nLogistic Regression Model Evaluation:\\n\")\n",
    "print(\"Accuracy Score:\", accuracy_score(y_test, y_pred))\n",
    "print(\"\\nClassification Report:\\n\", classification_report(y_test, y_pred))\n"
   ]
  },
  {
   "cell_type": "markdown",
   "id": "e0651c8c",
   "metadata": {},
   "source": [
    "4. EVALUATION MODELS\n",
    "\n",
    "We use confusion matrice and ROC tools to evaluate three models. they are both performing on training and test set"
   ]
  },
  {
   "cell_type": "markdown",
   "id": "edb3de74",
   "metadata": {},
   "source": [
    "4.1 Confusion Matrice & ROC On the Training Set"
   ]
  },
  {
   "cell_type": "markdown",
   "id": "3b34eb52",
   "metadata": {},
   "source": [
    "Defintion"
   ]
  },
  {
   "cell_type": "code",
   "execution_count": 27,
   "id": "7f64878e",
   "metadata": {},
   "outputs": [],
   "source": [
    "#putting all the model names, model classes and the used columns in a dictionary\n",
    "models = {'Decision Tree': [decision_tree, cols], \n",
    "          'KNN Classifier': [knn, cols], \n",
    "          'Logistic Regression': [logreg, cols], \n",
    "         }\n",
    "\n",
    "#Define\n",
    "def model_report(model, training_x, testing_x, training_y, testing_y, name):\n",
    "    model = model.fit(training_x, training_y)\n",
    "    predictions = model.predict(testing_x)\n",
    "    accuracy = accuracy_score(testing_y, predictions)\n",
    "    recallscore = recall_score(testing_y, predictions)\n",
    "    precision = precision_score(testing_y, predictions)\n",
    "    roc_auc = roc_auc_score(testing_y, predictions)\n",
    "    f1score = f1_score(testing_y, predictions) \n",
    "    kappa_metric = cohen_kappa_score(testing_y, predictions)\n",
    "    \n",
    "    df = pd.DataFrame({\"Model\"           : [name],\n",
    "                       \"Accuracy\"        : [accuracy],\n",
    "                       \"Recall\"          : [recallscore],\n",
    "                       \"Precision\"       : [precision],\n",
    "                       \"f1-score\"        : [f1score],\n",
    "                       \"Roc_auc\"         : [roc_auc],\n",
    "                       \"Kappa_metric\"    : [kappa_metric],\n",
    "                      })\n",
    "    return df"
   ]
  },
  {
   "cell_type": "markdown",
   "id": "38ec033e",
   "metadata": {},
   "source": [
    "Confusion Matrix Over Training Set"
   ]
  },
  {
   "cell_type": "code",
   "execution_count": 28,
   "id": "95c6858e",
   "metadata": {},
   "outputs": [
    {
     "name": "stderr",
     "output_type": "stream",
     "text": [
      "/Users/macos/opt/anaconda3/lib/python3.9/site-packages/sklearn/neighbors/_classification.py:228: FutureWarning:\n",
      "\n",
      "Unlike other reduction functions (e.g. `skew`, `kurtosis`), the default behavior of `mode` typically preserves the axis it acts along. In SciPy 1.11.0, this behavior will change: the default value of `keepdims` will become False, the `axis` over which the statistic is taken will be eliminated, and the value None will no longer be accepted. Set `keepdims` to True or False to avoid this warning.\n",
      "\n"
     ]
    },
    {
     "data": {
      "image/png": "[encoded data removed]",
      "text/plain": [
       "<Figure size 1500x500 with 3 Axes>"
      ]
     },
     "metadata": {},
     "output_type": "display_data"
    }
   ],
   "source": [
    "from sklearn.metrics import confusion_matrix\n",
    "\n",
    "# Decision Tree Confusion Matrix\n",
    "dt_y_pred = decision_tree.predict(x_train)\n",
    "dt_cm = confusion_matrix(y_train, dt_y_pred)\n",
    "\n",
    "# KNN Classifier Confusion Matrix\n",
    "knn_y_pred = knn.predict(x_train)\n",
    "knn_cm = confusion_matrix(y_train, knn_y_pred)\n",
    "\n",
    "# Logistic Regression Confusion Matrix\n",
    "nb_y_pred = logreg.predict(x_train)\n",
    "nb_cm = confusion_matrix(y_train, nb_y_pred)\n",
    "\n",
    "# Plot Confusion Matrices\n",
    "plt.figure(figsize=(15, 5))\n",
    "\n",
    "# Decision Tree\n",
    "plt.subplot(1, 3, 1)\n",
    "sns.heatmap(dt_cm, annot=True, cmap='Blues', fmt='g', cbar=False, annot_kws={\"size\": 20})\n",
    "plt.title('Decision Tree Confusion Matrix', fontsize=14)\n",
    "plt.xlabel('Predicted Labels', fontsize=12)\n",
    "plt.ylabel('True Labels', fontsize=12)\n",
    "\n",
    "# KNN Classifier\n",
    "plt.subplot(1, 3, 2)\n",
    "sns.heatmap(knn_cm, annot=True, cmap='Blues', fmt='g', cbar=False, annot_kws={\"size\": 20})\n",
    "plt.title('KNN Classifier Confusion Matrix', fontsize=14)\n",
    "plt.xlabel('Predicted Labels', fontsize=12)\n",
    "plt.ylabel('True Labels', fontsize=12)\n",
    "\n",
    "# Logistic Regression\n",
    "plt.subplot(1, 3, 3)\n",
    "sns.heatmap(nb_cm, annot=True, cmap='Blues', fmt='g', cbar=False, annot_kws={\"size\": 20})\n",
    "plt.title('Logistic Regression Confusion Matrix', fontsize=14)\n",
    "plt.xlabel('Predicted Labels', fontsize=12)\n",
    "plt.ylabel('True Labels', fontsize=12)\n",
    "\n",
    "plt.tight_layout()\n",
    "plt.show()"
   ]
  },
  {
   "cell_type": "code",
   "execution_count": null,
   "id": "5d71456c",
   "metadata": {},
   "outputs": [],
   "source": [
    "ROC on Training Set"
   ]
  },
  {
   "cell_type": "code",
   "execution_count": 29,
   "id": "a5185445",
   "metadata": {},
   "outputs": [
    {
     "data": {
      "image/png": "[encoded data removed]",
      "text/plain": [
       "<Figure size 800x600 with 1 Axes>"
      ]
     },
     "metadata": {},
     "output_type": "display_data"
    }
   ],
   "source": [
    "from sklearn.metrics import roc_curve, auc\n",
    "import matplotlib.pyplot as plt\n",
    "\n",
    "from sklearn.metrics import roc_curve, auc\n",
    "import matplotlib.pyplot as plt\n",
    "\n",
    "# Decision Tree ROC Curve\n",
    "dt_fpr, dt_tpr, _ = roc_curve(y_train, decision_tree.predict_proba(x_train)[:,1])\n",
    "dt_roc_auc = auc(dt_fpr, dt_tpr)\n",
    "\n",
    "# KNN Classifier ROC Curve\n",
    "knn_fpr, knn_tpr, _ = roc_curve(y_train, knn.predict_proba(x_train)[:,1])\n",
    "knn_roc_auc = auc(knn_fpr, knn_tpr)\n",
    "\n",
    "# Logistic Regression ROC Curve\n",
    "nb_fpr, nb_tpr, _ = roc_curve(y_train, logreg.predict_proba(x_train)[:,1])\n",
    "nb_roc_auc = auc(nb_fpr, nb_tpr)\n",
    "\n",
    "# Plot ROC Curves\n",
    "plt.figure(figsize=(8, 6))\n",
    "plt.axhspan(0, 1, facecolor='lightgray', alpha=0.5) # add gray background\n",
    "plt.axvspan(0, 1, facecolor='lightgray', alpha=0.5) # add gray background\n",
    "plt.plot(dt_fpr, dt_tpr, color='darkorange', lw=2, label='Decision Tree (AUC = %0.2f)' % dt_roc_auc)\n",
    "plt.plot(knn_fpr, knn_tpr, color='green', lw=2, label='KNN Classifier (AUC = %0.2f)' % knn_roc_auc)\n",
    "plt.plot(nb_fpr, nb_tpr, color='blue', lw=2, label='Logistic Regression (AUC = %0.2f)' % nb_roc_auc)\n",
    "plt.plot([0, 1], [0, 1], color='navy', lw=2, linestyle='--')\n",
    "plt.xlim([0.0, 1.0])\n",
    "plt.ylim([0.0, 1.05])\n",
    "plt.xlabel('False Positive Rate', fontsize=14)\n",
    "plt.ylabel('True Positive Rate', fontsize=14)\n",
    "plt.title('Receiver Operating Characteristic (ROC) Curves \\n Training Set', fontsize=16)\n",
    "plt.legend(loc=\"lower right\", fontsize=12)\n",
    "plt.show()\n",
    "\n"
   ]
  },
  {
   "cell_type": "markdown",
   "id": "810a18db",
   "metadata": {},
   "source": [
    "4.2. Confusion Matrix and ROC On Test Set"
   ]
  },
  {
   "cell_type": "markdown",
   "id": "75295d05",
   "metadata": {},
   "source": [
    "Confusion Matrice over Test Set\n"
   ]
  },
  {
   "cell_type": "code",
   "execution_count": 22,
   "id": "ee75dedc",
   "metadata": {},
   "outputs": [
    {
     "name": "stderr",
     "output_type": "stream",
     "text": [
      "/Users/macos/opt/anaconda3/lib/python3.9/site-packages/sklearn/neighbors/_classification.py:228: FutureWarning:\n",
      "\n",
      "Unlike other reduction functions (e.g. `skew`, `kurtosis`), the default behavior of `mode` typically preserves the axis it acts along. In SciPy 1.11.0, this behavior will change: the default value of `keepdims` will become False, the `axis` over which the statistic is taken will be eliminated, and the value None will no longer be accepted. Set `keepdims` to True or False to avoid this warning.\n",
      "\n"
     ]
    },
    {
     "data": {
      "image/png": "[encoded data removed]",
      "text/plain": [
       "<Figure size 1500x500 with 6 Axes>"
      ]
     },
     "metadata": {},
     "output_type": "display_data"
    }
   ],
   "source": [
    "from sklearn.metrics import confusion_matrix\n",
    "\n",
    "# Decision Tree Confusion Matrix\n",
    "y_pred_dt = decision_tree.predict(x_test)\n",
    "cm_dt = confusion_matrix(y_test, y_pred_dt)\n",
    "\n",
    "# KNN Classifier Confusion Matrix\n",
    "y_pred_knn = knn.predict(x_test)\n",
    "cm_knn = confusion_matrix(y_test, y_pred_knn)\n",
    "\n",
    "# Logistic Regression Confusion Matrix\n",
    "y_pred_nb = logreg.predict(x_test)\n",
    "cm_nb = confusion_matrix(y_test, y_pred_nb)\n",
    "\n",
    "# Plot the confusion matrices\n",
    "fig, axs = plt.subplots(1, 3, figsize=(15,5))\n",
    "axs[0].set_title('Decision Tree Confusion Matrix')\n",
    "sns.heatmap(cm_dt, annot=True, cmap='Reds', fmt='g', ax=axs[0])\n",
    "axs[0].set_xlabel('Predicted labels')\n",
    "axs[0].set_ylabel('True labels')\n",
    "axs[1].set_title('KNN Classifier Confusion Matrix')\n",
    "sns.heatmap(cm_knn, annot=True, cmap='Reds', fmt='g', ax=axs[1])\n",
    "axs[1].set_xlabel('Predicted labels')\n",
    "axs[1].set_ylabel('True labels')\n",
    "axs[2].set_title('Logistic Regression Confusion Matrix')\n",
    "sns.heatmap(cm_nb, annot=True, cmap='Reds', fmt='g', ax=axs[2])\n",
    "axs[2].set_xlabel('Predicted labels')\n",
    "axs[2].set_ylabel('True labels')\n",
    "\n",
    "plt.show()"
   ]
  },
  {
   "cell_type": "markdown",
   "id": "d6e14916",
   "metadata": {},
   "source": [
    "ROC over Test Set"
   ]
  },
  {
   "cell_type": "code",
   "execution_count": 23,
   "id": "573a449f",
   "metadata": {},
   "outputs": [
    {
     "data": {
      "image/png": "[encoded data removed]",
      "text/plain": [
       "<Figure size 800x600 with 1 Axes>"
      ]
     },
     "metadata": {},
     "output_type": "display_data"
    }
   ],
   "source": [
    "from sklearn.metrics import roc_curve, auc\n",
    "import matplotlib.pyplot as plt\n",
    "\n",
    "# Decision Tree ROC Curve\n",
    "dt_fpr, dt_tpr, _ = roc_curve(y_test, decision_tree.predict_proba(x_test)[:,1])\n",
    "dt_roc_auc = auc(dt_fpr, dt_tpr)\n",
    "\n",
    "# KNN Classifier ROC Curve\n",
    "knn_fpr, knn_tpr, _ = roc_curve(y_test, knn.predict_proba(x_test)[:,1])\n",
    "knn_roc_auc = auc(knn_fpr, knn_tpr)\n",
    "\n",
    "# Logistic Regression ROC Curve\n",
    "nb_fpr, nb_tpr, _ = roc_curve(y_test, logreg.predict_proba(x_test)[:,1])\n",
    "nb_roc_auc = auc(nb_fpr, nb_tpr)\n",
    "\n",
    "# Plot ROC Curves\n",
    "plt.figure(figsize=(8, 6))\n",
    "plt.plot(dt_fpr, dt_tpr, color='darkorange', lw=2, label='Decision Tree (AUC = %0.2f)' % dt_roc_auc)\n",
    "plt.plot(knn_fpr, knn_tpr, color='green', lw=2, label='KNN Classifier (AUC = %0.2f)' % knn_roc_auc)\n",
    "plt.plot(nb_fpr, nb_tpr, color='blue', lw=2, label='Logistic Regression (AUC = %0.2f)' % nb_roc_auc)\n",
    "plt.plot([0, 1], [0, 1], color='navy', lw=2, linestyle='--')\n",
    "plt.xlim([0.0, 1.0])\n",
    "plt.ylim([0.0, 1.05])\n",
    "plt.xlabel('False Positive Rate', fontsize=14)\n",
    "plt.ylabel('True Positive Rate', fontsize=14)\n",
    "plt.title('Receiver Operating Characteristic (ROC) Curves \\n Test Set', fontsize=16)\n",
    "plt.legend(loc=\"lower right\", fontsize=12)\n",
    "plt.fill_between([0,1], [0,1], color='gray', alpha=0.2) # Add gray background\n",
    "plt.show()"
   ]
  },
  {
   "cell_type": "markdown",
   "id": "849c50da",
   "metadata": {},
   "source": [
    "5. COMPARISION on Both Training and Test Set"
   ]
  },
  {
   "cell_type": "code",
   "execution_count": 30,
   "id": "6ab5ac6f",
   "metadata": {
    "scrolled": true
   },
   "outputs": [
    {
     "name": "stderr",
     "output_type": "stream",
     "text": [
      "/var/folders/q4/599_9y312tq2r68dy826djjr0000gn/T/ipykernel_55546/919247374.py:8: FutureWarning:\n",
      "\n",
      "The frame.append method is deprecated and will be removed from pandas in a future version. Use pandas.concat instead.\n",
      "\n",
      "/Users/macos/opt/anaconda3/lib/python3.9/site-packages/sklearn/neighbors/_classification.py:198: DataConversionWarning:\n",
      "\n",
      "A column-vector y was passed when a 1d array was expected. Please change the shape of y to (n_samples,), for example using ravel().\n",
      "\n",
      "/Users/macos/opt/anaconda3/lib/python3.9/site-packages/sklearn/neighbors/_classification.py:228: FutureWarning:\n",
      "\n",
      "Unlike other reduction functions (e.g. `skew`, `kurtosis`), the default behavior of `mode` typically preserves the axis it acts along. In SciPy 1.11.0, this behavior will change: the default value of `keepdims` will become False, the `axis` over which the statistic is taken will be eliminated, and the value None will no longer be accepted. Set `keepdims` to True or False to avoid this warning.\n",
      "\n",
      "/var/folders/q4/599_9y312tq2r68dy826djjr0000gn/T/ipykernel_55546/919247374.py:8: FutureWarning:\n",
      "\n",
      "The frame.append method is deprecated and will be removed from pandas in a future version. Use pandas.concat instead.\n",
      "\n",
      "/Users/macos/opt/anaconda3/lib/python3.9/site-packages/sklearn/utils/validation.py:993: DataConversionWarning:\n",
      "\n",
      "A column-vector y was passed when a 1d array was expected. Please change the shape of y to (n_samples, ), for example using ravel().\n",
      "\n",
      "/Users/macos/opt/anaconda3/lib/python3.9/site-packages/sklearn/linear_model/_logistic.py:814: ConvergenceWarning:\n",
      "\n",
      "lbfgs failed to converge (status=1):\n",
      "STOP: TOTAL NO. of ITERATIONS REACHED LIMIT.\n",
      "\n",
      "Increase the number of iterations (max_iter) or scale the data as shown in:\n",
      "    https://scikit-learn.org/stable/modules/preprocessing.html\n",
      "Please also refer to the documentation for alternative solver options:\n",
      "    https://scikit-learn.org/stable/modules/linear_model.html#logistic-regression\n",
      "\n",
      "/var/folders/q4/599_9y312tq2r68dy826djjr0000gn/T/ipykernel_55546/919247374.py:8: FutureWarning:\n",
      "\n",
      "The frame.append method is deprecated and will be removed from pandas in a future version. Use pandas.concat instead.\n",
      "\n"
     ]
    },
    {
     "data": {
      "application/vnd.plotly.v1+json": {
       "config": {
        "linkText": "Export to plot.ly",
        "plotlyServerURL": "https://plot.ly",
        "showLink": false
       },
       "data": [
        {
         "colorscale": [
          [
           0,
           "#1a2a0d"
          ],
          [
           1,
           "#d5d7ce"
          ]
         ],
         "hoverinfo": "none",
         "opacity": 0.75,
         "showscale": false,
         "type": "heatmap",
         "z": [
          [
           0,
           0,
           0,
           0,
           0,
           0,
           0
          ],
          [
           0.5,
           0.5,
           0.5,
           0.5,
           0.5,
           0.5,
           0.5
          ],
          [
           1,
           1,
           1,
           1,
           1,
           1,
           1
          ],
          [
           0.5,
           0.5,
           0.5,
           0.5,
           0.5,
           0.5,
           0.5
          ]
         ]
        }
       ],
       "layout": {
        "annotations": [
         {
          "align": "left",
          "font": {
           "color": "#ffffff"
          },
          "showarrow": false,
          "text": "<b>Model</b>",
          "x": -0.45,
          "xanchor": "left",
          "xref": "x",
          "y": 0,
          "yref": "y"
         },
         {
          "align": "left",
          "font": {
           "color": "#ffffff"
          },
          "showarrow": false,
          "text": "<b>Accuracy</b>",
          "x": 0.55,
          "xanchor": "left",
          "xref": "x",
          "y": 0,
          "yref": "y"
         },
         {
          "align": "left",
          "font": {
           "color": "#ffffff"
          },
          "showarrow": false,
          "text": "<b>Recall</b>",
          "x": 1.55,
          "xanchor": "left",
          "xref": "x",
          "y": 0,
          "yref": "y"
         },
         {
          "align": "left",
          "font": {
           "color": "#ffffff"
          },
          "showarrow": false,
          "text": "<b>Precision</b>",
          "x": 2.55,
          "xanchor": "left",
          "xref": "x",
          "y": 0,
          "yref": "y"
         },
         {
          "align": "left",
          "font": {
           "color": "#ffffff"
          },
          "showarrow": false,
          "text": "<b>f1-score</b>",
          "x": 3.55,
          "xanchor": "left",
          "xref": "x",
          "y": 0,
          "yref": "y"
         },
         {
          "align": "left",
          "font": {
           "color": "#ffffff"
          },
          "showarrow": false,
          "text": "<b>Roc_auc</b>",
          "x": 4.55,
          "xanchor": "left",
          "xref": "x",
          "y": 0,
          "yref": "y"
         },
         {
          "align": "left",
          "font": {
           "color": "#ffffff"
          },
          "showarrow": false,
          "text": "<b>Kappa_metric</b>",
          "x": 5.55,
          "xanchor": "left",
          "xref": "x",
          "y": 0,
          "yref": "y"
         },
         {
          "align": "left",
          "font": {
           "color": "#000000"
          },
          "showarrow": false,
          "text": "Decision Tree",
          "x": -0.45,
          "xanchor": "left",
          "xref": "x",
          "y": 1,
          "yref": "y"
         },
         {
          "align": "left",
          "font": {
           "color": "#000000"
          },
          "showarrow": false,
          "text": "0.9195",
          "x": 0.55,
          "xanchor": "left",
          "xref": "x",
          "y": 1,
          "yref": "y"
         },
         {
          "align": "left",
          "font": {
           "color": "#000000"
          },
          "showarrow": false,
          "text": "0.703",
          "x": 1.55,
          "xanchor": "left",
          "xref": "x",
          "y": 1,
          "yref": "y"
         },
         {
          "align": "left",
          "font": {
           "color": "#000000"
          },
          "showarrow": false,
          "text": "0.8452",
          "x": 2.55,
          "xanchor": "left",
          "xref": "x",
          "y": 1,
          "yref": "y"
         },
         {
          "align": "left",
          "font": {
           "color": "#000000"
          },
          "showarrow": false,
          "text": "0.7676",
          "x": 3.55,
          "xanchor": "left",
          "xref": "x",
          "y": 1,
          "yref": "y"
         },
         {
          "align": "left",
          "font": {
           "color": "#000000"
          },
          "showarrow": false,
          "text": "0.8365",
          "x": 4.55,
          "xanchor": "left",
          "xref": "x",
          "y": 1,
          "yref": "y"
         },
         {
          "align": "left",
          "font": {
           "color": "#000000"
          },
          "showarrow": false,
          "text": "0.7194",
          "x": 5.55,
          "xanchor": "left",
          "xref": "x",
          "y": 1,
          "yref": "y"
         },
         {
          "align": "left",
          "font": {
           "color": "#000000"
          },
          "showarrow": false,
          "text": "KNN Classifier",
          "x": -0.45,
          "xanchor": "left",
          "xref": "x",
          "y": 2,
          "yref": "y"
         },
         {
          "align": "left",
          "font": {
           "color": "#000000"
          },
          "showarrow": false,
          "text": "0.839",
          "x": 0.55,
          "xanchor": "left",
          "xref": "x",
          "y": 2,
          "yref": "y"
         },
         {
          "align": "left",
          "font": {
           "color": "#000000"
          },
          "showarrow": false,
          "text": "0.2376",
          "x": 1.55,
          "xanchor": "left",
          "xref": "x",
          "y": 2,
          "yref": "y"
         },
         {
          "align": "left",
          "font": {
           "color": "#000000"
          },
          "showarrow": false,
          "text": "0.7273",
          "x": 2.55,
          "xanchor": "left",
          "xref": "x",
          "y": 2,
          "yref": "y"
         },
         {
          "align": "left",
          "font": {
           "color": "#000000"
          },
          "showarrow": false,
          "text": "0.3582",
          "x": 3.55,
          "xanchor": "left",
          "xref": "x",
          "y": 2,
          "yref": "y"
         },
         {
          "align": "left",
          "font": {
           "color": "#000000"
          },
          "showarrow": false,
          "text": "0.6084",
          "x": 4.55,
          "xanchor": "left",
          "xref": "x",
          "y": 2,
          "yref": "y"
         },
         {
          "align": "left",
          "font": {
           "color": "#000000"
          },
          "showarrow": false,
          "text": "0.2923",
          "x": 5.55,
          "xanchor": "left",
          "xref": "x",
          "y": 2,
          "yref": "y"
         },
         {
          "align": "left",
          "font": {
           "color": "#000000"
          },
          "showarrow": false,
          "text": "Logistic Regression",
          "x": -0.45,
          "xanchor": "left",
          "xref": "x",
          "y": 3,
          "yref": "y"
         },
         {
          "align": "left",
          "font": {
           "color": "#000000"
          },
          "showarrow": false,
          "text": "0.8146",
          "x": 0.55,
          "xanchor": "left",
          "xref": "x",
          "y": 3,
          "yref": "y"
         },
         {
          "align": "left",
          "font": {
           "color": "#000000"
          },
          "showarrow": false,
          "text": "0.0693",
          "x": 1.55,
          "xanchor": "left",
          "xref": "x",
          "y": 3,
          "yref": "y"
         },
         {
          "align": "left",
          "font": {
           "color": "#000000"
          },
          "showarrow": false,
          "text": "0.5833",
          "x": 2.55,
          "xanchor": "left",
          "xref": "x",
          "y": 3,
          "yref": "y"
         },
         {
          "align": "left",
          "font": {
           "color": "#000000"
          },
          "showarrow": false,
          "text": "0.1239",
          "x": 3.55,
          "xanchor": "left",
          "xref": "x",
          "y": 3,
          "yref": "y"
         },
         {
          "align": "left",
          "font": {
           "color": "#000000"
          },
          "showarrow": false,
          "text": "0.5289",
          "x": 4.55,
          "xanchor": "left",
          "xref": "x",
          "y": 3,
          "yref": "y"
         },
         {
          "align": "left",
          "font": {
           "color": "#000000"
          },
          "showarrow": false,
          "text": "0.0872",
          "x": 5.55,
          "xanchor": "left",
          "xref": "x",
          "y": 3,
          "yref": "y"
         }
        ],
        "height": 170,
        "margin": {
         "b": 0,
         "l": 0,
         "r": 0,
         "t": 0
        },
        "template": {
         "data": {
          "bar": [
           {
            "error_x": {
             "color": "#2a3f5f"
            },
            "error_y": {
             "color": "#2a3f5f"
            },
            "marker": {
             "line": {
              "color": "#E5ECF6",
              "width": 0.5
             },
             "pattern": {
              "fillmode": "overlay",
              "size": 10,
              "solidity": 0.2
             }
            },
            "type": "bar"
           }
          ],
          "barpolar": [
           {
            "marker": {
             "line": {
              "color": "#E5ECF6",
              "width": 0.5
             },
             "pattern": {
              "fillmode": "overlay",
              "size": 10,
              "solidity": 0.2
             }
            },
            "type": "barpolar"
           }
          ],
          "carpet": [
           {
            "aaxis": {
             "endlinecolor": "#2a3f5f",
             "gridcolor": "white",
             "linecolor": "white",
             "minorgridcolor": "white",
             "startlinecolor": "#2a3f5f"
            },
            "baxis": {
             "endlinecolor": "#2a3f5f",
             "gridcolor": "white",
             "linecolor": "white",
             "minorgridcolor": "white",
             "startlinecolor": "#2a3f5f"
            },
            "type": "carpet"
           }
          ],
          "choropleth": [
           {
            "colorbar": {
             "outlinewidth": 0,
             "ticks": ""
            },
            "type": "choropleth"
           }
          ],
          "contour": [
           {
            "colorbar": {
             "outlinewidth": 0,
             "ticks": ""
            },
            "colorscale": [
             [
              0,
              "#0d0887"
             ],
             [
              0.1111111111111111,
              "#46039f"
             ],
             [
              0.2222222222222222,
              "#7201a8"
             ],
             [
              0.3333333333333333,
              "#9c179e"
             ],
             [
              0.4444444444444444,
              "#bd3786"
             ],
             [
              0.5555555555555556,
              "#d8576b"
             ],
             [
              0.6666666666666666,
              "#ed7953"
             ],
             [
              0.7777777777777778,
              "#fb9f3a"
             ],
             [
              0.8888888888888888,
              "#fdca26"
             ],
             [
              1,
              "#f0f921"
             ]
            ],
            "type": "contour"
           }
          ],
          "contourcarpet": [
           {
            "colorbar": {
             "outlinewidth": 0,
             "ticks": ""
            },
            "type": "contourcarpet"
           }
          ],
          "heatmap": [
           {
            "colorbar": {
             "outlinewidth": 0,
             "ticks": ""
            },
            "colorscale": [
             [
              0,
              "#0d0887"
             ],
             [
              0.1111111111111111,
              "#46039f"
             ],
             [
              0.2222222222222222,
              "#7201a8"
             ],
             [
              0.3333333333333333,
              "#9c179e"
             ],
             [
              0.4444444444444444,
              "#bd3786"
             ],
             [
              0.5555555555555556,
              "#d8576b"
             ],
             [
              0.6666666666666666,
              "#ed7953"
             ],
             [
              0.7777777777777778,
              "#fb9f3a"
             ],
             [
              0.8888888888888888,
              "#fdca26"
             ],
             [
              1,
              "#f0f921"
             ]
            ],
            "type": "heatmap"
           }
          ],
          "heatmapgl": [
           {
            "colorbar": {
             "outlinewidth": 0,
             "ticks": ""
            },
            "colorscale": [
             [
              0,
              "#0d0887"
             ],
             [
              0.1111111111111111,
              "#46039f"
             ],
             [
              0.2222222222222222,
              "#7201a8"
             ],
             [
              0.3333333333333333,
              "#9c179e"
             ],
             [
              0.4444444444444444,
              "#bd3786"
             ],
             [
              0.5555555555555556,
              "#d8576b"
             ],
             [
              0.6666666666666666,
              "#ed7953"
             ],
             [
              0.7777777777777778,
              "#fb9f3a"
             ],
             [
              0.8888888888888888,
              "#fdca26"
             ],
             [
              1,
              "#f0f921"
             ]
            ],
            "type": "heatmapgl"
           }
          ],
          "histogram": [
           {
            "marker": {
             "pattern": {
              "fillmode": "overlay",
              "size": 10,
              "solidity": 0.2
             }
            },
            "type": "histogram"
           }
          ],
          "histogram2d": [
           {
            "colorbar": {
             "outlinewidth": 0,
             "ticks": ""
            },
            "colorscale": [
             [
              0,
              "#0d0887"
             ],
             [
              0.1111111111111111,
              "#46039f"
             ],
             [
              0.2222222222222222,
              "#7201a8"
             ],
             [
              0.3333333333333333,
              "#9c179e"
             ],
             [
              0.4444444444444444,
              "#bd3786"
             ],
             [
              0.5555555555555556,
              "#d8576b"
             ],
             [
              0.6666666666666666,
              "#ed7953"
             ],
             [
              0.7777777777777778,
              "#fb9f3a"
             ],
             [
              0.8888888888888888,
              "#fdca26"
             ],
             [
              1,
              "#f0f921"
             ]
            ],
            "type": "histogram2d"
           }
          ],
          "histogram2dcontour": [
           {
            "colorbar": {
             "outlinewidth": 0,
             "ticks": ""
            },
            "colorscale": [
             [
              0,
              "#0d0887"
             ],
             [
              0.1111111111111111,
              "#46039f"
             ],
             [
              0.2222222222222222,
              "#7201a8"
             ],
             [
              0.3333333333333333,
              "#9c179e"
             ],
             [
              0.4444444444444444,
              "#bd3786"
             ],
             [
              0.5555555555555556,
              "#d8576b"
             ],
             [
              0.6666666666666666,
              "#ed7953"
             ],
             [
              0.7777777777777778,
              "#fb9f3a"
             ],
             [
              0.8888888888888888,
              "#fdca26"
             ],
             [
              1,
              "#f0f921"
             ]
            ],
            "type": "histogram2dcontour"
           }
          ],
          "mesh3d": [
           {
            "colorbar": {
             "outlinewidth": 0,
             "ticks": ""
            },
            "type": "mesh3d"
           }
          ],
          "parcoords": [
           {
            "line": {
             "colorbar": {
              "outlinewidth": 0,
              "ticks": ""
             }
            },
            "type": "parcoords"
           }
          ],
          "pie": [
           {
            "automargin": true,
            "type": "pie"
           }
          ],
          "scatter": [
           {
            "fillpattern": {
             "fillmode": "overlay",
             "size": 10,
             "solidity": 0.2
            },
            "type": "scatter"
           }
          ],
          "scatter3d": [
           {
            "line": {
             "colorbar": {
              "outlinewidth": 0,
              "ticks": ""
             }
            },
            "marker": {
             "colorbar": {
              "outlinewidth": 0,
              "ticks": ""
             }
            },
            "type": "scatter3d"
           }
          ],
          "scattercarpet": [
           {
            "marker": {
             "colorbar": {
              "outlinewidth": 0,
              "ticks": ""
             }
            },
            "type": "scattercarpet"
           }
          ],
          "scattergeo": [
           {
            "marker": {
             "colorbar": {
              "outlinewidth": 0,
              "ticks": ""
             }
            },
            "type": "scattergeo"
           }
          ],
          "scattergl": [
           {
            "marker": {
             "colorbar": {
              "outlinewidth": 0,
              "ticks": ""
             }
            },
            "type": "scattergl"
           }
          ],
          "scattermapbox": [
           {
            "marker": {
             "colorbar": {
              "outlinewidth": 0,
              "ticks": ""
             }
            },
            "type": "scattermapbox"
           }
          ],
          "scatterpolar": [
           {
            "marker": {
             "colorbar": {
              "outlinewidth": 0,
              "ticks": ""
             }
            },
            "type": "scatterpolar"
           }
          ],
          "scatterpolargl": [
           {
            "marker": {
             "colorbar": {
              "outlinewidth": 0,
              "ticks": ""
             }
            },
            "type": "scatterpolargl"
           }
          ],
          "scatterternary": [
           {
            "marker": {
             "colorbar": {
              "outlinewidth": 0,
              "ticks": ""
             }
            },
            "type": "scatterternary"
           }
          ],
          "surface": [
           {
            "colorbar": {
             "outlinewidth": 0,
             "ticks": ""
            },
            "colorscale": [
             [
              0,
              "#0d0887"
             ],
             [
              0.1111111111111111,
              "#46039f"
             ],
             [
              0.2222222222222222,
              "#7201a8"
             ],
             [
              0.3333333333333333,
              "#9c179e"
             ],
             [
              0.4444444444444444,
              "#bd3786"
             ],
             [
              0.5555555555555556,
              "#d8576b"
             ],
             [
              0.6666666666666666,
              "#ed7953"
             ],
             [
              0.7777777777777778,
              "#fb9f3a"
             ],
             [
              0.8888888888888888,
              "#fdca26"
             ],
             [
              1,
              "#f0f921"
             ]
            ],
            "type": "surface"
           }
          ],
          "table": [
           {
            "cells": {
             "fill": {
              "color": "#EBF0F8"
             },
             "line": {
              "color": "white"
             }
            },
            "header": {
             "fill": {
              "color": "#C8D4E3"
             },
             "line": {
              "color": "white"
             }
            },
            "type": "table"
           }
          ]
         },
         "layout": {
          "annotationdefaults": {
           "arrowcolor": "#2a3f5f",
           "arrowhead": 0,
           "arrowwidth": 1
          },
          "autotypenumbers": "strict",
          "coloraxis": {
           "colorbar": {
            "outlinewidth": 0,
            "ticks": ""
           }
          },
          "colorscale": {
           "diverging": [
            [
             0,
             "#8e0152"
            ],
            [
             0.1,
             "#c51b7d"
            ],
            [
             0.2,
             "#de77ae"
            ],
            [
             0.3,
             "#f1b6da"
            ],
            [
             0.4,
             "#fde0ef"
            ],
            [
             0.5,
             "#f7f7f7"
            ],
            [
             0.6,
             "#e6f5d0"
            ],
            [
             0.7,
             "#b8e186"
            ],
            [
             0.8,
             "#7fbc41"
            ],
            [
             0.9,
             "#4d9221"
            ],
            [
             1,
             "#276419"
            ]
           ],
           "sequential": [
            [
             0,
             "#0d0887"
            ],
            [
             0.1111111111111111,
             "#46039f"
            ],
            [
             0.2222222222222222,
             "#7201a8"
            ],
            [
             0.3333333333333333,
             "#9c179e"
            ],
            [
             0.4444444444444444,
             "#bd3786"
            ],
            [
             0.5555555555555556,
             "#d8576b"
            ],
            [
             0.6666666666666666,
             "#ed7953"
            ],
            [
             0.7777777777777778,
             "#fb9f3a"
            ],
            [
             0.8888888888888888,
             "#fdca26"
            ],
            [
             1,
             "#f0f921"
            ]
           ],
           "sequentialminus": [
            [
             0,
             "#0d0887"
            ],
            [
             0.1111111111111111,
             "#46039f"
            ],
            [
             0.2222222222222222,
             "#7201a8"
            ],
            [
             0.3333333333333333,
             "#9c179e"
            ],
            [
             0.4444444444444444,
             "#bd3786"
            ],
            [
             0.5555555555555556,
             "#d8576b"
            ],
            [
             0.6666666666666666,
             "#ed7953"
            ],
            [
             0.7777777777777778,
             "#fb9f3a"
            ],
            [
             0.8888888888888888,
             "#fdca26"
            ],
            [
             1,
             "#f0f921"
            ]
           ]
          },
          "colorway": [
           "#636efa",
           "#EF553B",
           "#00cc96",
           "#ab63fa",
           "#FFA15A",
           "#19d3f3",
           "#FF6692",
           "#B6E880",
           "#FF97FF",
           "#FECB52"
          ],
          "font": {
           "color": "#2a3f5f"
          },
          "geo": {
           "bgcolor": "white",
           "lakecolor": "white",
           "landcolor": "#E5ECF6",
           "showlakes": true,
           "showland": true,
           "subunitcolor": "white"
          },
          "hoverlabel": {
           "align": "left"
          },
          "hovermode": "closest",
          "mapbox": {
           "style": "light"
          },
          "paper_bgcolor": "white",
          "plot_bgcolor": "#E5ECF6",
          "polar": {
           "angularaxis": {
            "gridcolor": "white",
            "linecolor": "white",
            "ticks": ""
           },
           "bgcolor": "#E5ECF6",
           "radialaxis": {
            "gridcolor": "white",
            "linecolor": "white",
            "ticks": ""
           }
          },
          "scene": {
           "xaxis": {
            "backgroundcolor": "#E5ECF6",
            "gridcolor": "white",
            "gridwidth": 2,
            "linecolor": "white",
            "showbackground": true,
            "ticks": "",
            "zerolinecolor": "white"
           },
           "yaxis": {
            "backgroundcolor": "#E5ECF6",
            "gridcolor": "white",
            "gridwidth": 2,
            "linecolor": "white",
            "showbackground": true,
            "ticks": "",
            "zerolinecolor": "white"
           },
           "zaxis": {
            "backgroundcolor": "#E5ECF6",
            "gridcolor": "white",
            "gridwidth": 2,
            "linecolor": "white",
            "showbackground": true,
            "ticks": "",
            "zerolinecolor": "white"
           }
          },
          "shapedefaults": {
           "line": {
            "color": "#2a3f5f"
           }
          },
          "ternary": {
           "aaxis": {
            "gridcolor": "white",
            "linecolor": "white",
            "ticks": ""
           },
           "baxis": {
            "gridcolor": "white",
            "linecolor": "white",
            "ticks": ""
           },
           "bgcolor": "#E5ECF6",
           "caxis": {
            "gridcolor": "white",
            "linecolor": "white",
            "ticks": ""
           }
          },
          "title": {
           "x": 0.05
          },
          "xaxis": {
           "automargin": true,
           "gridcolor": "white",
           "linecolor": "white",
           "ticks": "",
           "title": {
            "standoff": 15
           },
           "zerolinecolor": "white",
           "zerolinewidth": 2
          },
          "yaxis": {
           "automargin": true,
           "gridcolor": "white",
           "linecolor": "white",
           "ticks": "",
           "title": {
            "standoff": 15
           },
           "zerolinecolor": "white",
           "zerolinewidth": 2
          }
         }
        },
        "xaxis": {
         "dtick": 1,
         "gridwidth": 2,
         "showticklabels": false,
         "tick0": -0.5,
         "ticks": "",
         "zeroline": false
        },
        "yaxis": {
         "autorange": "reversed",
         "dtick": 1,
         "gridwidth": 2,
         "showticklabels": false,
         "tick0": 0.5,
         "ticks": "",
         "zeroline": false
        }
       }
      },
      "text/html": [
       "<div>                            <div id=\"2b8f303f-abc1-4c24-a660-b6f97abd5fe0\" class=\"plotly-graph-div\" style=\"height:170px; width:100%;\"></div>            <script type=\"text/javascript\">                require([\"plotly\"], function(Plotly) {                    window.PLOTLYENV=window.PLOTLYENV || {};                                    if (document.getElementById(\"2b8f303f-abc1-4c24-a660-b6f97abd5fe0\")) {                    Plotly.newPlot(                        \"2b8f303f-abc1-4c24-a660-b6f97abd5fe0\",                        [{\"colorscale\":[[0,\"#1a2a0d\"],[1,\"#d5d7ce\"]],\"hoverinfo\":\"none\",\"opacity\":0.75,\"showscale\":false,\"z\":[[0,0,0,0,0,0,0],[0.5,0.5,0.5,0.5,0.5,0.5,0.5],[1,1,1,1,1,1,1],[0.5,0.5,0.5,0.5,0.5,0.5,0.5]],\"type\":\"heatmap\"}],                        {\"annotations\":[{\"align\":\"left\",\"font\":{\"color\":\"#ffffff\"},\"showarrow\":false,\"text\":\"<b>Model</b>\",\"x\":-0.45,\"xanchor\":\"left\",\"xref\":\"x\",\"y\":0,\"yref\":\"y\"},{\"align\":\"left\",\"font\":{\"color\":\"#ffffff\"},\"showarrow\":false,\"text\":\"<b>Accuracy</b>\",\"x\":0.55,\"xanchor\":\"left\",\"xref\":\"x\",\"y\":0,\"yref\":\"y\"},{\"align\":\"left\",\"font\":{\"color\":\"#ffffff\"},\"showarrow\":false,\"text\":\"<b>Recall</b>\",\"x\":1.55,\"xanchor\":\"left\",\"xref\":\"x\",\"y\":0,\"yref\":\"y\"},{\"align\":\"left\",\"font\":{\"color\":\"#ffffff\"},\"showarrow\":false,\"text\":\"<b>Precision</b>\",\"x\":2.55,\"xanchor\":\"left\",\"xref\":\"x\",\"y\":0,\"yref\":\"y\"},{\"align\":\"left\",\"font\":{\"color\":\"#ffffff\"},\"showarrow\":false,\"text\":\"<b>f1-score</b>\",\"x\":3.55,\"xanchor\":\"left\",\"xref\":\"x\",\"y\":0,\"yref\":\"y\"},{\"align\":\"left\",\"font\":{\"color\":\"#ffffff\"},\"showarrow\":false,\"text\":\"<b>Roc_auc</b>\",\"x\":4.55,\"xanchor\":\"left\",\"xref\":\"x\",\"y\":0,\"yref\":\"y\"},{\"align\":\"left\",\"font\":{\"color\":\"#ffffff\"},\"showarrow\":false,\"text\":\"<b>Kappa_metric</b>\",\"x\":5.55,\"xanchor\":\"left\",\"xref\":\"x\",\"y\":0,\"yref\":\"y\"},{\"align\":\"left\",\"font\":{\"color\":\"#000000\"},\"showarrow\":false,\"text\":\"Decision Tree\",\"x\":-0.45,\"xanchor\":\"left\",\"xref\":\"x\",\"y\":1,\"yref\":\"y\"},{\"align\":\"left\",\"font\":{\"color\":\"#000000\"},\"showarrow\":false,\"text\":\"0.9195\",\"x\":0.55,\"xanchor\":\"left\",\"xref\":\"x\",\"y\":1,\"yref\":\"y\"},{\"align\":\"left\",\"font\":{\"color\":\"#000000\"},\"showarrow\":false,\"text\":\"0.703\",\"x\":1.55,\"xanchor\":\"left\",\"xref\":\"x\",\"y\":1,\"yref\":\"y\"},{\"align\":\"left\",\"font\":{\"color\":\"#000000\"},\"showarrow\":false,\"text\":\"0.8452\",\"x\":2.55,\"xanchor\":\"left\",\"xref\":\"x\",\"y\":1,\"yref\":\"y\"},{\"align\":\"left\",\"font\":{\"color\":\"#000000\"},\"showarrow\":false,\"text\":\"0.7676\",\"x\":3.55,\"xanchor\":\"left\",\"xref\":\"x\",\"y\":1,\"yref\":\"y\"},{\"align\":\"left\",\"font\":{\"color\":\"#000000\"},\"showarrow\":false,\"text\":\"0.8365\",\"x\":4.55,\"xanchor\":\"left\",\"xref\":\"x\",\"y\":1,\"yref\":\"y\"},{\"align\":\"left\",\"font\":{\"color\":\"#000000\"},\"showarrow\":false,\"text\":\"0.7194\",\"x\":5.55,\"xanchor\":\"left\",\"xref\":\"x\",\"y\":1,\"yref\":\"y\"},{\"align\":\"left\",\"font\":{\"color\":\"#000000\"},\"showarrow\":false,\"text\":\"KNN Classifier\",\"x\":-0.45,\"xanchor\":\"left\",\"xref\":\"x\",\"y\":2,\"yref\":\"y\"},{\"align\":\"left\",\"font\":{\"color\":\"#000000\"},\"showarrow\":false,\"text\":\"0.839\",\"x\":0.55,\"xanchor\":\"left\",\"xref\":\"x\",\"y\":2,\"yref\":\"y\"},{\"align\":\"left\",\"font\":{\"color\":\"#000000\"},\"showarrow\":false,\"text\":\"0.2376\",\"x\":1.55,\"xanchor\":\"left\",\"xref\":\"x\",\"y\":2,\"yref\":\"y\"},{\"align\":\"left\",\"font\":{\"color\":\"#000000\"},\"showarrow\":false,\"text\":\"0.7273\",\"x\":2.55,\"xanchor\":\"left\",\"xref\":\"x\",\"y\":2,\"yref\":\"y\"},{\"align\":\"left\",\"font\":{\"color\":\"#000000\"},\"showarrow\":false,\"text\":\"0.3582\",\"x\":3.55,\"xanchor\":\"left\",\"xref\":\"x\",\"y\":2,\"yref\":\"y\"},{\"align\":\"left\",\"font\":{\"color\":\"#000000\"},\"showarrow\":false,\"text\":\"0.6084\",\"x\":4.55,\"xanchor\":\"left\",\"xref\":\"x\",\"y\":2,\"yref\":\"y\"},{\"align\":\"left\",\"font\":{\"color\":\"#000000\"},\"showarrow\":false,\"text\":\"0.2923\",\"x\":5.55,\"xanchor\":\"left\",\"xref\":\"x\",\"y\":2,\"yref\":\"y\"},{\"align\":\"left\",\"font\":{\"color\":\"#000000\"},\"showarrow\":false,\"text\":\"Logistic Regression\",\"x\":-0.45,\"xanchor\":\"left\",\"xref\":\"x\",\"y\":3,\"yref\":\"y\"},{\"align\":\"left\",\"font\":{\"color\":\"#000000\"},\"showarrow\":false,\"text\":\"0.8146\",\"x\":0.55,\"xanchor\":\"left\",\"xref\":\"x\",\"y\":3,\"yref\":\"y\"},{\"align\":\"left\",\"font\":{\"color\":\"#000000\"},\"showarrow\":false,\"text\":\"0.0693\",\"x\":1.55,\"xanchor\":\"left\",\"xref\":\"x\",\"y\":3,\"yref\":\"y\"},{\"align\":\"left\",\"font\":{\"color\":\"#000000\"},\"showarrow\":false,\"text\":\"0.5833\",\"x\":2.55,\"xanchor\":\"left\",\"xref\":\"x\",\"y\":3,\"yref\":\"y\"},{\"align\":\"left\",\"font\":{\"color\":\"#000000\"},\"showarrow\":false,\"text\":\"0.1239\",\"x\":3.55,\"xanchor\":\"left\",\"xref\":\"x\",\"y\":3,\"yref\":\"y\"},{\"align\":\"left\",\"font\":{\"color\":\"#000000\"},\"showarrow\":false,\"text\":\"0.5289\",\"x\":4.55,\"xanchor\":\"left\",\"xref\":\"x\",\"y\":3,\"yref\":\"y\"},{\"align\":\"left\",\"font\":{\"color\":\"#000000\"},\"showarrow\":false,\"text\":\"0.0872\",\"x\":5.55,\"xanchor\":\"left\",\"xref\":\"x\",\"y\":3,\"yref\":\"y\"}],\"height\":170,\"margin\":{\"b\":0,\"l\":0,\"r\":0,\"t\":0},\"template\":{\"data\":{\"barpolar\":[{\"marker\":{\"line\":{\"color\":\"#E5ECF6\",\"width\":0.5},\"pattern\":{\"fillmode\":\"overlay\",\"size\":10,\"solidity\":0.2}},\"type\":\"barpolar\"}],\"bar\":[{\"error_x\":{\"color\":\"#2a3f5f\"},\"error_y\":{\"color\":\"#2a3f5f\"},\"marker\":{\"line\":{\"color\":\"#E5ECF6\",\"width\":0.5},\"pattern\":{\"fillmode\":\"overlay\",\"size\":10,\"solidity\":0.2}},\"type\":\"bar\"}],\"carpet\":[{\"aaxis\":{\"endlinecolor\":\"#2a3f5f\",\"gridcolor\":\"white\",\"linecolor\":\"white\",\"minorgridcolor\":\"white\",\"startlinecolor\":\"#2a3f5f\"},\"baxis\":{\"endlinecolor\":\"#2a3f5f\",\"gridcolor\":\"white\",\"linecolor\":\"white\",\"minorgridcolor\":\"white\",\"startlinecolor\":\"#2a3f5f\"},\"type\":\"carpet\"}],\"choropleth\":[{\"colorbar\":{\"outlinewidth\":0,\"ticks\":\"\"},\"type\":\"choropleth\"}],\"contourcarpet\":[{\"colorbar\":{\"outlinewidth\":0,\"ticks\":\"\"},\"type\":\"contourcarpet\"}],\"contour\":[{\"colorbar\":{\"outlinewidth\":0,\"ticks\":\"\"},\"colorscale\":[[0.0,\"#0d0887\"],[0.1111111111111111,\"#46039f\"],[0.2222222222222222,\"#7201a8\"],[0.3333333333333333,\"#9c179e\"],[0.4444444444444444,\"#bd3786\"],[0.5555555555555556,\"#d8576b\"],[0.6666666666666666,\"#ed7953\"],[0.7777777777777778,\"#fb9f3a\"],[0.8888888888888888,\"#fdca26\"],[1.0,\"#f0f921\"]],\"type\":\"contour\"}],\"heatmapgl\":[{\"colorbar\":{\"outlinewidth\":0,\"ticks\":\"\"},\"colorscale\":[[0.0,\"#0d0887\"],[0.1111111111111111,\"#46039f\"],[0.2222222222222222,\"#7201a8\"],[0.3333333333333333,\"#9c179e\"],[0.4444444444444444,\"#bd3786\"],[0.5555555555555556,\"#d8576b\"],[0.6666666666666666,\"#ed7953\"],[0.7777777777777778,\"#fb9f3a\"],[0.8888888888888888,\"#fdca26\"],[1.0,\"#f0f921\"]],\"type\":\"heatmapgl\"}],\"heatmap\":[{\"colorbar\":{\"outlinewidth\":0,\"ticks\":\"\"},\"colorscale\":[[0.0,\"#0d0887\"],[0.1111111111111111,\"#46039f\"],[0.2222222222222222,\"#7201a8\"],[0.3333333333333333,\"#9c179e\"],[0.4444444444444444,\"#bd3786\"],[0.5555555555555556,\"#d8576b\"],[0.6666666666666666,\"#ed7953\"],[0.7777777777777778,\"#fb9f3a\"],[0.8888888888888888,\"#fdca26\"],[1.0,\"#f0f921\"]],\"type\":\"heatmap\"}],\"histogram2dcontour\":[{\"colorbar\":{\"outlinewidth\":0,\"ticks\":\"\"},\"colorscale\":[[0.0,\"#0d0887\"],[0.1111111111111111,\"#46039f\"],[0.2222222222222222,\"#7201a8\"],[0.3333333333333333,\"#9c179e\"],[0.4444444444444444,\"#bd3786\"],[0.5555555555555556,\"#d8576b\"],[0.6666666666666666,\"#ed7953\"],[0.7777777777777778,\"#fb9f3a\"],[0.8888888888888888,\"#fdca26\"],[1.0,\"#f0f921\"]],\"type\":\"histogram2dcontour\"}],\"histogram2d\":[{\"colorbar\":{\"outlinewidth\":0,\"ticks\":\"\"},\"colorscale\":[[0.0,\"#0d0887\"],[0.1111111111111111,\"#46039f\"],[0.2222222222222222,\"#7201a8\"],[0.3333333333333333,\"#9c179e\"],[0.4444444444444444,\"#bd3786\"],[0.5555555555555556,\"#d8576b\"],[0.6666666666666666,\"#ed7953\"],[0.7777777777777778,\"#fb9f3a\"],[0.8888888888888888,\"#fdca26\"],[1.0,\"#f0f921\"]],\"type\":\"histogram2d\"}],\"histogram\":[{\"marker\":{\"pattern\":{\"fillmode\":\"overlay\",\"size\":10,\"solidity\":0.2}},\"type\":\"histogram\"}],\"mesh3d\":[{\"colorbar\":{\"outlinewidth\":0,\"ticks\":\"\"},\"type\":\"mesh3d\"}],\"parcoords\":[{\"line\":{\"colorbar\":{\"outlinewidth\":0,\"ticks\":\"\"}},\"type\":\"parcoords\"}],\"pie\":[{\"automargin\":true,\"type\":\"pie\"}],\"scatter3d\":[{\"line\":{\"colorbar\":{\"outlinewidth\":0,\"ticks\":\"\"}},\"marker\":{\"colorbar\":{\"outlinewidth\":0,\"ticks\":\"\"}},\"type\":\"scatter3d\"}],\"scattercarpet\":[{\"marker\":{\"colorbar\":{\"outlinewidth\":0,\"ticks\":\"\"}},\"type\":\"scattercarpet\"}],\"scattergeo\":[{\"marker\":{\"colorbar\":{\"outlinewidth\":0,\"ticks\":\"\"}},\"type\":\"scattergeo\"}],\"scattergl\":[{\"marker\":{\"colorbar\":{\"outlinewidth\":0,\"ticks\":\"\"}},\"type\":\"scattergl\"}],\"scattermapbox\":[{\"marker\":{\"colorbar\":{\"outlinewidth\":0,\"ticks\":\"\"}},\"type\":\"scattermapbox\"}],\"scatterpolargl\":[{\"marker\":{\"colorbar\":{\"outlinewidth\":0,\"ticks\":\"\"}},\"type\":\"scatterpolargl\"}],\"scatterpolar\":[{\"marker\":{\"colorbar\":{\"outlinewidth\":0,\"ticks\":\"\"}},\"type\":\"scatterpolar\"}],\"scatter\":[{\"fillpattern\":{\"fillmode\":\"overlay\",\"size\":10,\"solidity\":0.2},\"type\":\"scatter\"}],\"scatterternary\":[{\"marker\":{\"colorbar\":{\"outlinewidth\":0,\"ticks\":\"\"}},\"type\":\"scatterternary\"}],\"surface\":[{\"colorbar\":{\"outlinewidth\":0,\"ticks\":\"\"},\"colorscale\":[[0.0,\"#0d0887\"],[0.1111111111111111,\"#46039f\"],[0.2222222222222222,\"#7201a8\"],[0.3333333333333333,\"#9c179e\"],[0.4444444444444444,\"#bd3786\"],[0.5555555555555556,\"#d8576b\"],[0.6666666666666666,\"#ed7953\"],[0.7777777777777778,\"#fb9f3a\"],[0.8888888888888888,\"#fdca26\"],[1.0,\"#f0f921\"]],\"type\":\"surface\"}],\"table\":[{\"cells\":{\"fill\":{\"color\":\"#EBF0F8\"},\"line\":{\"color\":\"white\"}},\"header\":{\"fill\":{\"color\":\"#C8D4E3\"},\"line\":{\"color\":\"white\"}},\"type\":\"table\"}]},\"layout\":{\"annotationdefaults\":{\"arrowcolor\":\"#2a3f5f\",\"arrowhead\":0,\"arrowwidth\":1},\"autotypenumbers\":\"strict\",\"coloraxis\":{\"colorbar\":{\"outlinewidth\":0,\"ticks\":\"\"}},\"colorscale\":{\"diverging\":[[0,\"#8e0152\"],[0.1,\"#c51b7d\"],[0.2,\"#de77ae\"],[0.3,\"#f1b6da\"],[0.4,\"#fde0ef\"],[0.5,\"#f7f7f7\"],[0.6,\"#e6f5d0\"],[0.7,\"#b8e186\"],[0.8,\"#7fbc41\"],[0.9,\"#4d9221\"],[1,\"#276419\"]],\"sequential\":[[0.0,\"#0d0887\"],[0.1111111111111111,\"#46039f\"],[0.2222222222222222,\"#7201a8\"],[0.3333333333333333,\"#9c179e\"],[0.4444444444444444,\"#bd3786\"],[0.5555555555555556,\"#d8576b\"],[0.6666666666666666,\"#ed7953\"],[0.7777777777777778,\"#fb9f3a\"],[0.8888888888888888,\"#fdca26\"],[1.0,\"#f0f921\"]],\"sequentialminus\":[[0.0,\"#0d0887\"],[0.1111111111111111,\"#46039f\"],[0.2222222222222222,\"#7201a8\"],[0.3333333333333333,\"#9c179e\"],[0.4444444444444444,\"#bd3786\"],[0.5555555555555556,\"#d8576b\"],[0.6666666666666666,\"#ed7953\"],[0.7777777777777778,\"#fb9f3a\"],[0.8888888888888888,\"#fdca26\"],[1.0,\"#f0f921\"]]},\"colorway\":[\"#636efa\",\"#EF553B\",\"#00cc96\",\"#ab63fa\",\"#FFA15A\",\"#19d3f3\",\"#FF6692\",\"#B6E880\",\"#FF97FF\",\"#FECB52\"],\"font\":{\"color\":\"#2a3f5f\"},\"geo\":{\"bgcolor\":\"white\",\"lakecolor\":\"white\",\"landcolor\":\"#E5ECF6\",\"showlakes\":true,\"showland\":true,\"subunitcolor\":\"white\"},\"hoverlabel\":{\"align\":\"left\"},\"hovermode\":\"closest\",\"mapbox\":{\"style\":\"light\"},\"paper_bgcolor\":\"white\",\"plot_bgcolor\":\"#E5ECF6\",\"polar\":{\"angularaxis\":{\"gridcolor\":\"white\",\"linecolor\":\"white\",\"ticks\":\"\"},\"bgcolor\":\"#E5ECF6\",\"radialaxis\":{\"gridcolor\":\"white\",\"linecolor\":\"white\",\"ticks\":\"\"}},\"scene\":{\"xaxis\":{\"backgroundcolor\":\"#E5ECF6\",\"gridcolor\":\"white\",\"gridwidth\":2,\"linecolor\":\"white\",\"showbackground\":true,\"ticks\":\"\",\"zerolinecolor\":\"white\"},\"yaxis\":{\"backgroundcolor\":\"#E5ECF6\",\"gridcolor\":\"white\",\"gridwidth\":2,\"linecolor\":\"white\",\"showbackground\":true,\"ticks\":\"\",\"zerolinecolor\":\"white\"},\"zaxis\":{\"backgroundcolor\":\"#E5ECF6\",\"gridcolor\":\"white\",\"gridwidth\":2,\"linecolor\":\"white\",\"showbackground\":true,\"ticks\":\"\",\"zerolinecolor\":\"white\"}},\"shapedefaults\":{\"line\":{\"color\":\"#2a3f5f\"}},\"ternary\":{\"aaxis\":{\"gridcolor\":\"white\",\"linecolor\":\"white\",\"ticks\":\"\"},\"baxis\":{\"gridcolor\":\"white\",\"linecolor\":\"white\",\"ticks\":\"\"},\"bgcolor\":\"#E5ECF6\",\"caxis\":{\"gridcolor\":\"white\",\"linecolor\":\"white\",\"ticks\":\"\"}},\"title\":{\"x\":0.05},\"xaxis\":{\"automargin\":true,\"gridcolor\":\"white\",\"linecolor\":\"white\",\"ticks\":\"\",\"title\":{\"standoff\":15},\"zerolinecolor\":\"white\",\"zerolinewidth\":2},\"yaxis\":{\"automargin\":true,\"gridcolor\":\"white\",\"linecolor\":\"white\",\"ticks\":\"\",\"title\":{\"standoff\":15},\"zerolinecolor\":\"white\",\"zerolinewidth\":2}}},\"xaxis\":{\"dtick\":1,\"gridwidth\":2,\"showticklabels\":false,\"tick0\":-0.5,\"ticks\":\"\",\"zeroline\":false},\"yaxis\":{\"autorange\":\"reversed\",\"dtick\":1,\"gridwidth\":2,\"showticklabels\":false,\"tick0\":0.5,\"ticks\":\"\",\"zeroline\":false}},                        {\"responsive\": true}                    ).then(function(){\n",
       "                            \n",
       "var gd = document.getElementById('2b8f303f-abc1-4c24-a660-b6f97abd5fe0');\n",
       "var x = new MutationObserver(function (mutations, observer) {{\n",
       "        var display = window.getComputedStyle(gd).display;\n",
       "        if (!display || display === 'none') {{\n",
       "            console.log([gd, 'removed!']);\n",
       "            Plotly.purge(gd);\n",
       "            observer.disconnect();\n",
       "        }}\n",
       "}});\n",
       "\n",
       "// Listen for the removal of the full notebook cells\n",
       "var notebookContainer = gd.closest('#notebook-container');\n",
       "if (notebookContainer) {{\n",
       "    x.observe(notebookContainer, {childList: true});\n",
       "}}\n",
       "\n",
       "// Listen for the clearing of the current output cell\n",
       "var outputEl = gd.closest('.output');\n",
       "if (outputEl) {{\n",
       "    x.observe(outputEl, {childList: true});\n",
       "}}\n",
       "\n",
       "                        })                };                });            </script>        </div>"
      ]
     },
     "metadata": {},
     "output_type": "display_data"
    }
   ],
   "source": [
    "model_performances_train = pd.DataFrame() \n",
    "for name in models:\n",
    "    if name == 'Logistic (SMOTE)':\n",
    "        model_performances_train = model_performances_train.append(model_report(models[name][0], x_smote[models[name][1]], \n",
    "                                                     x_test[models[name][1]], \n",
    "                                                     y_smote, y_test, name), ignore_index=True)\n",
    "    else:\n",
    "        model_performances_train = model_performances_train.append(model_report(models[name][0], \n",
    "                                                     x_train[models[name][1]], \n",
    "                                                     x_test[models[name][1]], \n",
    "                                                     y_train, y_test, name), ignore_index=True)\n",
    "colorscale = [[0, '#1a2a0d'], [1, '#d5d7ce']]\n",
    "table_train = ff.create_table(np.round(model_performances_train, 4),\n",
    "                              colorscale=colorscale)\n",
    "py.iplot(table_train)\n"
   ]
  },
  {
   "cell_type": "code",
   "execution_count": 121,
   "id": "a5575ae9",
   "metadata": {},
   "outputs": [
    {
     "data": {
      "application/vnd.plotly.v1+json": {
       "config": {
        "linkText": "Export to plot.ly",
        "plotlyServerURL": "https://plot.ly",
        "showLink": false
       },
       "data": [
        {
         "marker": {
          "color": "#400005",
          "opacity": 0.8
         },
         "name": "Accuracy",
         "orientation": "h",
         "text": [
          0.9194756554307116,
          0.848314606741573,
          0.8127340823970037
         ],
         "textposition": "auto",
         "type": "bar",
         "x": [
          0.9194756554307116,
          0.848314606741573,
          0.8127340823970037
         ],
         "y": [
          "Decision Tree",
          "KNN Classifier",
          "Logistic Regression"
         ]
        },
        {
         "marker": {
          "color": "#FF0000",
          "opacity": 0.8
         },
         "name": "Recall",
         "orientation": "h",
         "text": [
          0.7128712871287128,
          0.24752475247524752,
          0.10891089108910891
         ],
         "textposition": "auto",
         "type": "bar",
         "x": [
          0.7128712871287128,
          0.24752475247524752,
          0.10891089108910891
         ],
         "y": [
          "Decision Tree",
          "KNN Classifier",
          "Logistic Regression"
         ]
        },
        {
         "marker": {
          "color": "#f95462",
          "opacity": 0.8
         },
         "name": "Precision",
         "orientation": "h",
         "text": [
          0.8372093023255814,
          0.8333333333333334,
          0.5238095238095238
         ],
         "textposition": "auto",
         "type": "bar",
         "x": [
          0.8372093023255814,
          0.8333333333333334,
          0.5238095238095238
         ],
         "y": [
          "Decision Tree",
          "KNN Classifier",
          "Logistic Regression"
         ]
        },
        {
         "marker": {
          "color": "#d5d7ce",
          "opacity": 0.8
         },
         "name": "f1-score",
         "orientation": "h",
         "text": [
          0.770053475935829,
          0.3816793893129771,
          0.18032786885245902
         ],
         "textposition": "auto",
         "type": "bar",
         "x": [
          0.770053475935829,
          0.3816793893129771,
          0.18032786885245902
         ],
         "y": [
          "Decision Tree",
          "KNN Classifier",
          "Logistic Regression"
         ]
        },
        {
         "marker": {
          "color": "#FFC0CB",
          "opacity": 0.8
         },
         "name": "Roc_auc",
         "orientation": "h",
         "text": [
          0.8402693618091601,
          0.6179887041821965,
          0.5429081014337
         ],
         "textposition": "auto",
         "type": "bar",
         "x": [
          0.8402693618091601,
          0.6179887041821965,
          0.5429081014337
         ],
         "y": [
          "Decision Tree",
          "KNN Classifier",
          "Logistic Regression"
         ]
        },
        {
         "marker": {
          "color": "#c54f6b",
          "opacity": 0.8
         },
         "name": "Kappa_metric",
         "orientation": "h",
         "text": [
          0.7216254879615935,
          0.32303502676307627,
          0.12323908974485265
         ],
         "textposition": "auto",
         "type": "bar",
         "x": [
          0.7216254879615935,
          0.32303502676307627,
          0.12323908974485265
         ],
         "y": [
          "Decision Tree",
          "KNN Classifier",
          "Logistic Regression"
         ]
        }
       ],
       "layout": {
        "barmode": "group",
        "margin": {
         "l": 150
        },
        "template": {
         "data": {
          "bar": [
           {
            "error_x": {
             "color": "#2a3f5f"
            },
            "error_y": {
             "color": "#2a3f5f"
            },
            "marker": {
             "line": {
              "color": "#E5ECF6",
              "width": 0.5
             },
             "pattern": {
              "fillmode": "overlay",
              "size": 10,
              "solidity": 0.2
             }
            },
            "type": "bar"
           }
          ],
          "barpolar": [
           {
            "marker": {
             "line": {
              "color": "#E5ECF6",
              "width": 0.5
             },
             "pattern": {
              "fillmode": "overlay",
              "size": 10,
              "solidity": 0.2
             }
            },
            "type": "barpolar"
           }
          ],
          "carpet": [
           {
            "aaxis": {
             "endlinecolor": "#2a3f5f",
             "gridcolor": "white",
             "linecolor": "white",
             "minorgridcolor": "white",
             "startlinecolor": "#2a3f5f"
            },
            "baxis": {
             "endlinecolor": "#2a3f5f",
             "gridcolor": "white",
             "linecolor": "white",
             "minorgridcolor": "white",
             "startlinecolor": "#2a3f5f"
            },
            "type": "carpet"
           }
          ],
          "choropleth": [
           {
            "colorbar": {
             "outlinewidth": 0,
             "ticks": ""
            },
            "type": "choropleth"
           }
          ],
          "contour": [
           {
            "colorbar": {
             "outlinewidth": 0,
             "ticks": ""
            },
            "colorscale": [
             [
              0,
              "#0d0887"
             ],
             [
              0.1111111111111111,
              "#46039f"
             ],
             [
              0.2222222222222222,
              "#7201a8"
             ],
             [
              0.3333333333333333,
              "#9c179e"
             ],
             [
              0.4444444444444444,
              "#bd3786"
             ],
             [
              0.5555555555555556,
              "#d8576b"
             ],
             [
              0.6666666666666666,
              "#ed7953"
             ],
             [
              0.7777777777777778,
              "#fb9f3a"
             ],
             [
              0.8888888888888888,
              "#fdca26"
             ],
             [
              1,
              "#f0f921"
             ]
            ],
            "type": "contour"
           }
          ],
          "contourcarpet": [
           {
            "colorbar": {
             "outlinewidth": 0,
             "ticks": ""
            },
            "type": "contourcarpet"
           }
          ],
          "heatmap": [
           {
            "colorbar": {
             "outlinewidth": 0,
             "ticks": ""
            },
            "colorscale": [
             [
              0,
              "#0d0887"
             ],
             [
              0.1111111111111111,
              "#46039f"
             ],
             [
              0.2222222222222222,
              "#7201a8"
             ],
             [
              0.3333333333333333,
              "#9c179e"
             ],
             [
              0.4444444444444444,
              "#bd3786"
             ],
             [
              0.5555555555555556,
              "#d8576b"
             ],
             [
              0.6666666666666666,
              "#ed7953"
             ],
             [
              0.7777777777777778,
              "#fb9f3a"
             ],
             [
              0.8888888888888888,
              "#fdca26"
             ],
             [
              1,
              "#f0f921"
             ]
            ],
            "type": "heatmap"
           }
          ],
          "heatmapgl": [
           {
            "colorbar": {
             "outlinewidth": 0,
             "ticks": ""
            },
            "colorscale": [
             [
              0,
              "#0d0887"
             ],
             [
              0.1111111111111111,
              "#46039f"
             ],
             [
              0.2222222222222222,
              "#7201a8"
             ],
             [
              0.3333333333333333,
              "#9c179e"
             ],
             [
              0.4444444444444444,
              "#bd3786"
             ],
             [
              0.5555555555555556,
              "#d8576b"
             ],
             [
              0.6666666666666666,
              "#ed7953"
             ],
             [
              0.7777777777777778,
              "#fb9f3a"
             ],
             [
              0.8888888888888888,
              "#fdca26"
             ],
             [
              1,
              "#f0f921"
             ]
            ],
            "type": "heatmapgl"
           }
          ],
          "histogram": [
           {
            "marker": {
             "pattern": {
              "fillmode": "overlay",
              "size": 10,
              "solidity": 0.2
             }
            },
            "type": "histogram"
           }
          ],
          "histogram2d": [
           {
            "colorbar": {
             "outlinewidth": 0,
             "ticks": ""
            },
            "colorscale": [
             [
              0,
              "#0d0887"
             ],
             [
              0.1111111111111111,
              "#46039f"
             ],
             [
              0.2222222222222222,
              "#7201a8"
             ],
             [
              0.3333333333333333,
              "#9c179e"
             ],
             [
              0.4444444444444444,
              "#bd3786"
             ],
             [
              0.5555555555555556,
              "#d8576b"
             ],
             [
              0.6666666666666666,
              "#ed7953"
             ],
             [
              0.7777777777777778,
              "#fb9f3a"
             ],
             [
              0.8888888888888888,
              "#fdca26"
             ],
             [
              1,
              "#f0f921"
             ]
            ],
            "type": "histogram2d"
           }
          ],
          "histogram2dcontour": [
           {
            "colorbar": {
             "outlinewidth": 0,
             "ticks": ""
            },
            "colorscale": [
             [
              0,
              "#0d0887"
             ],
             [
              0.1111111111111111,
              "#46039f"
             ],
             [
              0.2222222222222222,
              "#7201a8"
             ],
             [
              0.3333333333333333,
              "#9c179e"
             ],
             [
              0.4444444444444444,
              "#bd3786"
             ],
             [
              0.5555555555555556,
              "#d8576b"
             ],
             [
              0.6666666666666666,
              "#ed7953"
             ],
             [
              0.7777777777777778,
              "#fb9f3a"
             ],
             [
              0.8888888888888888,
              "#fdca26"
             ],
             [
              1,
              "#f0f921"
             ]
            ],
            "type": "histogram2dcontour"
           }
          ],
          "mesh3d": [
           {
            "colorbar": {
             "outlinewidth": 0,
             "ticks": ""
            },
            "type": "mesh3d"
           }
          ],
          "parcoords": [
           {
            "line": {
             "colorbar": {
              "outlinewidth": 0,
              "ticks": ""
             }
            },
            "type": "parcoords"
           }
          ],
          "pie": [
           {
            "automargin": true,
            "type": "pie"
           }
          ],
          "scatter": [
           {
            "fillpattern": {
             "fillmode": "overlay",
             "size": 10,
             "solidity": 0.2
            },
            "type": "scatter"
           }
          ],
          "scatter3d": [
           {
            "line": {
             "colorbar": {
              "outlinewidth": 0,
              "ticks": ""
             }
            },
            "marker": {
             "colorbar": {
              "outlinewidth": 0,
              "ticks": ""
             }
            },
            "type": "scatter3d"
           }
          ],
          "scattercarpet": [
           {
            "marker": {
             "colorbar": {
              "outlinewidth": 0,
              "ticks": ""
             }
            },
            "type": "scattercarpet"
           }
          ],
          "scattergeo": [
           {
            "marker": {
             "colorbar": {
              "outlinewidth": 0,
              "ticks": ""
             }
            },
            "type": "scattergeo"
           }
          ],
          "scattergl": [
           {
            "marker": {
             "colorbar": {
              "outlinewidth": 0,
              "ticks": ""
             }
            },
            "type": "scattergl"
           }
          ],
          "scattermapbox": [
           {
            "marker": {
             "colorbar": {
              "outlinewidth": 0,
              "ticks": ""
             }
            },
            "type": "scattermapbox"
           }
          ],
          "scatterpolar": [
           {
            "marker": {
             "colorbar": {
              "outlinewidth": 0,
              "ticks": ""
             }
            },
            "type": "scatterpolar"
           }
          ],
          "scatterpolargl": [
           {
            "marker": {
             "colorbar": {
              "outlinewidth": 0,
              "ticks": ""
             }
            },
            "type": "scatterpolargl"
           }
          ],
          "scatterternary": [
           {
            "marker": {
             "colorbar": {
              "outlinewidth": 0,
              "ticks": ""
             }
            },
            "type": "scatterternary"
           }
          ],
          "surface": [
           {
            "colorbar": {
             "outlinewidth": 0,
             "ticks": ""
            },
            "colorscale": [
             [
              0,
              "#0d0887"
             ],
             [
              0.1111111111111111,
              "#46039f"
             ],
             [
              0.2222222222222222,
              "#7201a8"
             ],
             [
              0.3333333333333333,
              "#9c179e"
             ],
             [
              0.4444444444444444,
              "#bd3786"
             ],
             [
              0.5555555555555556,
              "#d8576b"
             ],
             [
              0.6666666666666666,
              "#ed7953"
             ],
             [
              0.7777777777777778,
              "#fb9f3a"
             ],
             [
              0.8888888888888888,
              "#fdca26"
             ],
             [
              1,
              "#f0f921"
             ]
            ],
            "type": "surface"
           }
          ],
          "table": [
           {
            "cells": {
             "fill": {
              "color": "#EBF0F8"
             },
             "line": {
              "color": "white"
             }
            },
            "header": {
             "fill": {
              "color": "#C8D4E3"
             },
             "line": {
              "color": "white"
             }
            },
            "type": "table"
           }
          ]
         },
         "layout": {
          "annotationdefaults": {
           "arrowcolor": "#2a3f5f",
           "arrowhead": 0,
           "arrowwidth": 1
          },
          "autotypenumbers": "strict",
          "coloraxis": {
           "colorbar": {
            "outlinewidth": 0,
            "ticks": ""
           }
          },
          "colorscale": {
           "diverging": [
            [
             0,
             "#8e0152"
            ],
            [
             0.1,
             "#c51b7d"
            ],
            [
             0.2,
             "#de77ae"
            ],
            [
             0.3,
             "#f1b6da"
            ],
            [
             0.4,
             "#fde0ef"
            ],
            [
             0.5,
             "#f7f7f7"
            ],
            [
             0.6,
             "#e6f5d0"
            ],
            [
             0.7,
             "#b8e186"
            ],
            [
             0.8,
             "#7fbc41"
            ],
            [
             0.9,
             "#4d9221"
            ],
            [
             1,
             "#276419"
            ]
           ],
           "sequential": [
            [
             0,
             "#0d0887"
            ],
            [
             0.1111111111111111,
             "#46039f"
            ],
            [
             0.2222222222222222,
             "#7201a8"
            ],
            [
             0.3333333333333333,
             "#9c179e"
            ],
            [
             0.4444444444444444,
             "#bd3786"
            ],
            [
             0.5555555555555556,
             "#d8576b"
            ],
            [
             0.6666666666666666,
             "#ed7953"
            ],
            [
             0.7777777777777778,
             "#fb9f3a"
            ],
            [
             0.8888888888888888,
             "#fdca26"
            ],
            [
             1,
             "#f0f921"
            ]
           ],
           "sequentialminus": [
            [
             0,
             "#0d0887"
            ],
            [
             0.1111111111111111,
             "#46039f"
            ],
            [
             0.2222222222222222,
             "#7201a8"
            ],
            [
             0.3333333333333333,
             "#9c179e"
            ],
            [
             0.4444444444444444,
             "#bd3786"
            ],
            [
             0.5555555555555556,
             "#d8576b"
            ],
            [
             0.6666666666666666,
             "#ed7953"
            ],
            [
             0.7777777777777778,
             "#fb9f3a"
            ],
            [
             0.8888888888888888,
             "#fdca26"
            ],
            [
             1,
             "#f0f921"
            ]
           ]
          },
          "colorway": [
           "#636efa",
           "#EF553B",
           "#00cc96",
           "#ab63fa",
           "#FFA15A",
           "#19d3f3",
           "#FF6692",
           "#B6E880",
           "#FF97FF",
           "#FECB52"
          ],
          "font": {
           "color": "#2a3f5f"
          },
          "geo": {
           "bgcolor": "white",
           "lakecolor": "white",
           "landcolor": "#E5ECF6",
           "showlakes": true,
           "showland": true,
           "subunitcolor": "white"
          },
          "hoverlabel": {
           "align": "left"
          },
          "hovermode": "closest",
          "mapbox": {
           "style": "light"
          },
          "paper_bgcolor": "white",
          "plot_bgcolor": "#E5ECF6",
          "polar": {
           "angularaxis": {
            "gridcolor": "white",
            "linecolor": "white",
            "ticks": ""
           },
           "bgcolor": "#E5ECF6",
           "radialaxis": {
            "gridcolor": "white",
            "linecolor": "white",
            "ticks": ""
           }
          },
          "scene": {
           "xaxis": {
            "backgroundcolor": "#E5ECF6",
            "gridcolor": "white",
            "gridwidth": 2,
            "linecolor": "white",
            "showbackground": true,
            "ticks": "",
            "zerolinecolor": "white"
           },
           "yaxis": {
            "backgroundcolor": "#E5ECF6",
            "gridcolor": "white",
            "gridwidth": 2,
            "linecolor": "white",
            "showbackground": true,
            "ticks": "",
            "zerolinecolor": "white"
           },
           "zaxis": {
            "backgroundcolor": "#E5ECF6",
            "gridcolor": "white",
            "gridwidth": 2,
            "linecolor": "white",
            "showbackground": true,
            "ticks": "",
            "zerolinecolor": "white"
           }
          },
          "shapedefaults": {
           "line": {
            "color": "#2a3f5f"
           }
          },
          "ternary": {
           "aaxis": {
            "gridcolor": "white",
            "linecolor": "white",
            "ticks": ""
           },
           "baxis": {
            "gridcolor": "white",
            "linecolor": "white",
            "ticks": ""
           },
           "bgcolor": "#E5ECF6",
           "caxis": {
            "gridcolor": "white",
            "linecolor": "white",
            "ticks": ""
           }
          },
          "title": {
           "x": 0.05
          },
          "xaxis": {
           "automargin": true,
           "gridcolor": "white",
           "linecolor": "white",
           "ticks": "",
           "title": {
            "standoff": 15
           },
           "zerolinecolor": "white",
           "zerolinewidth": 2
          },
          "yaxis": {
           "automargin": true,
           "gridcolor": "white",
           "linecolor": "white",
           "ticks": "",
           "title": {
            "standoff": 15
           },
           "zerolinecolor": "white",
           "zerolinewidth": 2
          }
         }
        },
        "title": {
         "text": "Model Metrics Performance over Training Set"
        },
        "yaxis": {
         "autorange": "reversed"
        }
       }
      },
      "text/html": [
       "<div>                            <div id=\"fce90f22-3afe-4254-a321-18ac4096df67\" class=\"plotly-graph-div\" style=\"height:525px; width:100%;\"></div>            <script type=\"text/javascript\">                require([\"plotly\"], function(Plotly) {                    window.PLOTLYENV=window.PLOTLYENV || {};                                    if (document.getElementById(\"fce90f22-3afe-4254-a321-18ac4096df67\")) {                    Plotly.newPlot(                        \"fce90f22-3afe-4254-a321-18ac4096df67\",                        [{\"marker\":{\"color\":\"#400005\",\"opacity\":0.8},\"name\":\"Accuracy\",\"orientation\":\"h\",\"text\":[0.9194756554307116,0.848314606741573,0.8127340823970037],\"textposition\":\"auto\",\"x\":[0.9194756554307116,0.848314606741573,0.8127340823970037],\"y\":[\"Decision Tree\",\"KNN Classifier\",\"Logistic Regression\"],\"type\":\"bar\"},{\"marker\":{\"color\":\"#FF0000\",\"opacity\":0.8},\"name\":\"Recall\",\"orientation\":\"h\",\"text\":[0.7128712871287128,0.24752475247524752,0.10891089108910891],\"textposition\":\"auto\",\"x\":[0.7128712871287128,0.24752475247524752,0.10891089108910891],\"y\":[\"Decision Tree\",\"KNN Classifier\",\"Logistic Regression\"],\"type\":\"bar\"},{\"marker\":{\"color\":\"#f95462\",\"opacity\":0.8},\"name\":\"Precision\",\"orientation\":\"h\",\"text\":[0.8372093023255814,0.8333333333333334,0.5238095238095238],\"textposition\":\"auto\",\"x\":[0.8372093023255814,0.8333333333333334,0.5238095238095238],\"y\":[\"Decision Tree\",\"KNN Classifier\",\"Logistic Regression\"],\"type\":\"bar\"},{\"marker\":{\"color\":\"#d5d7ce\",\"opacity\":0.8},\"name\":\"f1-score\",\"orientation\":\"h\",\"text\":[0.770053475935829,0.3816793893129771,0.18032786885245902],\"textposition\":\"auto\",\"x\":[0.770053475935829,0.3816793893129771,0.18032786885245902],\"y\":[\"Decision Tree\",\"KNN Classifier\",\"Logistic Regression\"],\"type\":\"bar\"},{\"marker\":{\"color\":\"#FFC0CB\",\"opacity\":0.8},\"name\":\"Roc_auc\",\"orientation\":\"h\",\"text\":[0.8402693618091601,0.6179887041821965,0.5429081014337],\"textposition\":\"auto\",\"x\":[0.8402693618091601,0.6179887041821965,0.5429081014337],\"y\":[\"Decision Tree\",\"KNN Classifier\",\"Logistic Regression\"],\"type\":\"bar\"},{\"marker\":{\"color\":\"#c54f6b\",\"opacity\":0.8},\"name\":\"Kappa_metric\",\"orientation\":\"h\",\"text\":[0.7216254879615935,0.32303502676307627,0.12323908974485265],\"textposition\":\"auto\",\"x\":[0.7216254879615935,0.32303502676307627,0.12323908974485265],\"y\":[\"Decision Tree\",\"KNN Classifier\",\"Logistic Regression\"],\"type\":\"bar\"}],                        {\"barmode\":\"group\",\"margin\":{\"l\":150},\"template\":{\"data\":{\"barpolar\":[{\"marker\":{\"line\":{\"color\":\"#E5ECF6\",\"width\":0.5},\"pattern\":{\"fillmode\":\"overlay\",\"size\":10,\"solidity\":0.2}},\"type\":\"barpolar\"}],\"bar\":[{\"error_x\":{\"color\":\"#2a3f5f\"},\"error_y\":{\"color\":\"#2a3f5f\"},\"marker\":{\"line\":{\"color\":\"#E5ECF6\",\"width\":0.5},\"pattern\":{\"fillmode\":\"overlay\",\"size\":10,\"solidity\":0.2}},\"type\":\"bar\"}],\"carpet\":[{\"aaxis\":{\"endlinecolor\":\"#2a3f5f\",\"gridcolor\":\"white\",\"linecolor\":\"white\",\"minorgridcolor\":\"white\",\"startlinecolor\":\"#2a3f5f\"},\"baxis\":{\"endlinecolor\":\"#2a3f5f\",\"gridcolor\":\"white\",\"linecolor\":\"white\",\"minorgridcolor\":\"white\",\"startlinecolor\":\"#2a3f5f\"},\"type\":\"carpet\"}],\"choropleth\":[{\"colorbar\":{\"outlinewidth\":0,\"ticks\":\"\"},\"type\":\"choropleth\"}],\"contourcarpet\":[{\"colorbar\":{\"outlinewidth\":0,\"ticks\":\"\"},\"type\":\"contourcarpet\"}],\"contour\":[{\"colorbar\":{\"outlinewidth\":0,\"ticks\":\"\"},\"colorscale\":[[0.0,\"#0d0887\"],[0.1111111111111111,\"#46039f\"],[0.2222222222222222,\"#7201a8\"],[0.3333333333333333,\"#9c179e\"],[0.4444444444444444,\"#bd3786\"],[0.5555555555555556,\"#d8576b\"],[0.6666666666666666,\"#ed7953\"],[0.7777777777777778,\"#fb9f3a\"],[0.8888888888888888,\"#fdca26\"],[1.0,\"#f0f921\"]],\"type\":\"contour\"}],\"heatmapgl\":[{\"colorbar\":{\"outlinewidth\":0,\"ticks\":\"\"},\"colorscale\":[[0.0,\"#0d0887\"],[0.1111111111111111,\"#46039f\"],[0.2222222222222222,\"#7201a8\"],[0.3333333333333333,\"#9c179e\"],[0.4444444444444444,\"#bd3786\"],[0.5555555555555556,\"#d8576b\"],[0.6666666666666666,\"#ed7953\"],[0.7777777777777778,\"#fb9f3a\"],[0.8888888888888888,\"#fdca26\"],[1.0,\"#f0f921\"]],\"type\":\"heatmapgl\"}],\"heatmap\":[{\"colorbar\":{\"outlinewidth\":0,\"ticks\":\"\"},\"colorscale\":[[0.0,\"#0d0887\"],[0.1111111111111111,\"#46039f\"],[0.2222222222222222,\"#7201a8\"],[0.3333333333333333,\"#9c179e\"],[0.4444444444444444,\"#bd3786\"],[0.5555555555555556,\"#d8576b\"],[0.6666666666666666,\"#ed7953\"],[0.7777777777777778,\"#fb9f3a\"],[0.8888888888888888,\"#fdca26\"],[1.0,\"#f0f921\"]],\"type\":\"heatmap\"}],\"histogram2dcontour\":[{\"colorbar\":{\"outlinewidth\":0,\"ticks\":\"\"},\"colorscale\":[[0.0,\"#0d0887\"],[0.1111111111111111,\"#46039f\"],[0.2222222222222222,\"#7201a8\"],[0.3333333333333333,\"#9c179e\"],[0.4444444444444444,\"#bd3786\"],[0.5555555555555556,\"#d8576b\"],[0.6666666666666666,\"#ed7953\"],[0.7777777777777778,\"#fb9f3a\"],[0.8888888888888888,\"#fdca26\"],[1.0,\"#f0f921\"]],\"type\":\"histogram2dcontour\"}],\"histogram2d\":[{\"colorbar\":{\"outlinewidth\":0,\"ticks\":\"\"},\"colorscale\":[[0.0,\"#0d0887\"],[0.1111111111111111,\"#46039f\"],[0.2222222222222222,\"#7201a8\"],[0.3333333333333333,\"#9c179e\"],[0.4444444444444444,\"#bd3786\"],[0.5555555555555556,\"#d8576b\"],[0.6666666666666666,\"#ed7953\"],[0.7777777777777778,\"#fb9f3a\"],[0.8888888888888888,\"#fdca26\"],[1.0,\"#f0f921\"]],\"type\":\"histogram2d\"}],\"histogram\":[{\"marker\":{\"pattern\":{\"fillmode\":\"overlay\",\"size\":10,\"solidity\":0.2}},\"type\":\"histogram\"}],\"mesh3d\":[{\"colorbar\":{\"outlinewidth\":0,\"ticks\":\"\"},\"type\":\"mesh3d\"}],\"parcoords\":[{\"line\":{\"colorbar\":{\"outlinewidth\":0,\"ticks\":\"\"}},\"type\":\"parcoords\"}],\"pie\":[{\"automargin\":true,\"type\":\"pie\"}],\"scatter3d\":[{\"line\":{\"colorbar\":{\"outlinewidth\":0,\"ticks\":\"\"}},\"marker\":{\"colorbar\":{\"outlinewidth\":0,\"ticks\":\"\"}},\"type\":\"scatter3d\"}],\"scattercarpet\":[{\"marker\":{\"colorbar\":{\"outlinewidth\":0,\"ticks\":\"\"}},\"type\":\"scattercarpet\"}],\"scattergeo\":[{\"marker\":{\"colorbar\":{\"outlinewidth\":0,\"ticks\":\"\"}},\"type\":\"scattergeo\"}],\"scattergl\":[{\"marker\":{\"colorbar\":{\"outlinewidth\":0,\"ticks\":\"\"}},\"type\":\"scattergl\"}],\"scattermapbox\":[{\"marker\":{\"colorbar\":{\"outlinewidth\":0,\"ticks\":\"\"}},\"type\":\"scattermapbox\"}],\"scatterpolargl\":[{\"marker\":{\"colorbar\":{\"outlinewidth\":0,\"ticks\":\"\"}},\"type\":\"scatterpolargl\"}],\"scatterpolar\":[{\"marker\":{\"colorbar\":{\"outlinewidth\":0,\"ticks\":\"\"}},\"type\":\"scatterpolar\"}],\"scatter\":[{\"fillpattern\":{\"fillmode\":\"overlay\",\"size\":10,\"solidity\":0.2},\"type\":\"scatter\"}],\"scatterternary\":[{\"marker\":{\"colorbar\":{\"outlinewidth\":0,\"ticks\":\"\"}},\"type\":\"scatterternary\"}],\"surface\":[{\"colorbar\":{\"outlinewidth\":0,\"ticks\":\"\"},\"colorscale\":[[0.0,\"#0d0887\"],[0.1111111111111111,\"#46039f\"],[0.2222222222222222,\"#7201a8\"],[0.3333333333333333,\"#9c179e\"],[0.4444444444444444,\"#bd3786\"],[0.5555555555555556,\"#d8576b\"],[0.6666666666666666,\"#ed7953\"],[0.7777777777777778,\"#fb9f3a\"],[0.8888888888888888,\"#fdca26\"],[1.0,\"#f0f921\"]],\"type\":\"surface\"}],\"table\":[{\"cells\":{\"fill\":{\"color\":\"#EBF0F8\"},\"line\":{\"color\":\"white\"}},\"header\":{\"fill\":{\"color\":\"#C8D4E3\"},\"line\":{\"color\":\"white\"}},\"type\":\"table\"}]},\"layout\":{\"annotationdefaults\":{\"arrowcolor\":\"#2a3f5f\",\"arrowhead\":0,\"arrowwidth\":1},\"autotypenumbers\":\"strict\",\"coloraxis\":{\"colorbar\":{\"outlinewidth\":0,\"ticks\":\"\"}},\"colorscale\":{\"diverging\":[[0,\"#8e0152\"],[0.1,\"#c51b7d\"],[0.2,\"#de77ae\"],[0.3,\"#f1b6da\"],[0.4,\"#fde0ef\"],[0.5,\"#f7f7f7\"],[0.6,\"#e6f5d0\"],[0.7,\"#b8e186\"],[0.8,\"#7fbc41\"],[0.9,\"#4d9221\"],[1,\"#276419\"]],\"sequential\":[[0.0,\"#0d0887\"],[0.1111111111111111,\"#46039f\"],[0.2222222222222222,\"#7201a8\"],[0.3333333333333333,\"#9c179e\"],[0.4444444444444444,\"#bd3786\"],[0.5555555555555556,\"#d8576b\"],[0.6666666666666666,\"#ed7953\"],[0.7777777777777778,\"#fb9f3a\"],[0.8888888888888888,\"#fdca26\"],[1.0,\"#f0f921\"]],\"sequentialminus\":[[0.0,\"#0d0887\"],[0.1111111111111111,\"#46039f\"],[0.2222222222222222,\"#7201a8\"],[0.3333333333333333,\"#9c179e\"],[0.4444444444444444,\"#bd3786\"],[0.5555555555555556,\"#d8576b\"],[0.6666666666666666,\"#ed7953\"],[0.7777777777777778,\"#fb9f3a\"],[0.8888888888888888,\"#fdca26\"],[1.0,\"#f0f921\"]]},\"colorway\":[\"#636efa\",\"#EF553B\",\"#00cc96\",\"#ab63fa\",\"#FFA15A\",\"#19d3f3\",\"#FF6692\",\"#B6E880\",\"#FF97FF\",\"#FECB52\"],\"font\":{\"color\":\"#2a3f5f\"},\"geo\":{\"bgcolor\":\"white\",\"lakecolor\":\"white\",\"landcolor\":\"#E5ECF6\",\"showlakes\":true,\"showland\":true,\"subunitcolor\":\"white\"},\"hoverlabel\":{\"align\":\"left\"},\"hovermode\":\"closest\",\"mapbox\":{\"style\":\"light\"},\"paper_bgcolor\":\"white\",\"plot_bgcolor\":\"#E5ECF6\",\"polar\":{\"angularaxis\":{\"gridcolor\":\"white\",\"linecolor\":\"white\",\"ticks\":\"\"},\"bgcolor\":\"#E5ECF6\",\"radialaxis\":{\"gridcolor\":\"white\",\"linecolor\":\"white\",\"ticks\":\"\"}},\"scene\":{\"xaxis\":{\"backgroundcolor\":\"#E5ECF6\",\"gridcolor\":\"white\",\"gridwidth\":2,\"linecolor\":\"white\",\"showbackground\":true,\"ticks\":\"\",\"zerolinecolor\":\"white\"},\"yaxis\":{\"backgroundcolor\":\"#E5ECF6\",\"gridcolor\":\"white\",\"gridwidth\":2,\"linecolor\":\"white\",\"showbackground\":true,\"ticks\":\"\",\"zerolinecolor\":\"white\"},\"zaxis\":{\"backgroundcolor\":\"#E5ECF6\",\"gridcolor\":\"white\",\"gridwidth\":2,\"linecolor\":\"white\",\"showbackground\":true,\"ticks\":\"\",\"zerolinecolor\":\"white\"}},\"shapedefaults\":{\"line\":{\"color\":\"#2a3f5f\"}},\"ternary\":{\"aaxis\":{\"gridcolor\":\"white\",\"linecolor\":\"white\",\"ticks\":\"\"},\"baxis\":{\"gridcolor\":\"white\",\"linecolor\":\"white\",\"ticks\":\"\"},\"bgcolor\":\"#E5ECF6\",\"caxis\":{\"gridcolor\":\"white\",\"linecolor\":\"white\",\"ticks\":\"\"}},\"title\":{\"x\":0.05},\"xaxis\":{\"automargin\":true,\"gridcolor\":\"white\",\"linecolor\":\"white\",\"ticks\":\"\",\"title\":{\"standoff\":15},\"zerolinecolor\":\"white\",\"zerolinewidth\":2},\"yaxis\":{\"automargin\":true,\"gridcolor\":\"white\",\"linecolor\":\"white\",\"ticks\":\"\",\"title\":{\"standoff\":15},\"zerolinecolor\":\"white\",\"zerolinewidth\":2}}},\"title\":{\"text\":\"Model Metrics Performance over Training Set\"},\"yaxis\":{\"autorange\":\"reversed\"}},                        {\"responsive\": true}                    ).then(function(){\n",
       "                            \n",
       "var gd = document.getElementById('fce90f22-3afe-4254-a321-18ac4096df67');\n",
       "var x = new MutationObserver(function (mutations, observer) {{\n",
       "        var display = window.getComputedStyle(gd).display;\n",
       "        if (!display || display === 'none') {{\n",
       "            console.log([gd, 'removed!']);\n",
       "            Plotly.purge(gd);\n",
       "            observer.disconnect();\n",
       "        }}\n",
       "}});\n",
       "\n",
       "// Listen for the removal of the full notebook cells\n",
       "var notebookContainer = gd.closest('#notebook-container');\n",
       "if (notebookContainer) {{\n",
       "    x.observe(notebookContainer, {childList: true});\n",
       "}}\n",
       "\n",
       "// Listen for the clearing of the current output cell\n",
       "var outputEl = gd.closest('.output');\n",
       "if (outputEl) {{\n",
       "    x.observe(outputEl, {childList: true});\n",
       "}}\n",
       "\n",
       "                        })                };                });            </script>        </div>"
      ]
     },
     "metadata": {},
     "output_type": "display_data"
    }
   ],
   "source": [
    "import plotly.graph_objs as go\n",
    "\n",
    "\n",
    "# Define colors for each trace\n",
    "colors = ['#400005', '#FF0000', '#f95462', '#d5d7ce', '#FFC0CB', '#c54f6b']\n",
    "\n",
    "# Define data for the bar chart\n",
    "metrics = ['Accuracy', 'Recall', 'Precision', 'f1-score', 'Roc_auc', 'Kappa_metric']\n",
    "traces = []\n",
    "for i, metric in enumerate(metrics):\n",
    "    trace = go.Bar(\n",
    "        x=model_performances_train[metric],\n",
    "        y=model_performances_train.Model,\n",
    "        orientation='h',\n",
    "        marker=dict(color=colors[i], opacity=0.8),\n",
    "        name=metric,\n",
    "        text=model_performances_train[metric],\n",
    "        textposition='auto'\n",
    "    )\n",
    "    traces.append(trace)\n",
    "\n",
    "# Define layout\n",
    "layout = go.Layout(\n",
    "    barmode='group',\n",
    "    title='Model Metrics Performance over Training Set',\n",
    "    yaxis=dict(autorange=\"reversed\"),\n",
    "    margin=dict(l=150),\n",
    ")\n",
    "\n",
    "# Create and show the figure\n",
    "fig = go.Figure(data=traces, layout=layout)\n",
    "py.iplot(fig)\n"
   ]
  },
  {
   "cell_type": "markdown",
   "id": "fa670fc7",
   "metadata": {},
   "source": [
    "Over Test Set"
   ]
  },
  {
   "cell_type": "code",
   "execution_count": 31,
   "id": "8e91fbde",
   "metadata": {},
   "outputs": [
    {
     "name": "stderr",
     "output_type": "stream",
     "text": [
      "/var/folders/q4/599_9y312tq2r68dy826djjr0000gn/T/ipykernel_55546/2083181859.py:8: FutureWarning:\n",
      "\n",
      "The frame.append method is deprecated and will be removed from pandas in a future version. Use pandas.concat instead.\n",
      "\n",
      "/Users/macos/opt/anaconda3/lib/python3.9/site-packages/sklearn/neighbors/_classification.py:198: DataConversionWarning:\n",
      "\n",
      "A column-vector y was passed when a 1d array was expected. Please change the shape of y to (n_samples,), for example using ravel().\n",
      "\n",
      "/Users/macos/opt/anaconda3/lib/python3.9/site-packages/sklearn/neighbors/_classification.py:228: FutureWarning:\n",
      "\n",
      "Unlike other reduction functions (e.g. `skew`, `kurtosis`), the default behavior of `mode` typically preserves the axis it acts along. In SciPy 1.11.0, this behavior will change: the default value of `keepdims` will become False, the `axis` over which the statistic is taken will be eliminated, and the value None will no longer be accepted. Set `keepdims` to True or False to avoid this warning.\n",
      "\n",
      "/var/folders/q4/599_9y312tq2r68dy826djjr0000gn/T/ipykernel_55546/2083181859.py:8: FutureWarning:\n",
      "\n",
      "The frame.append method is deprecated and will be removed from pandas in a future version. Use pandas.concat instead.\n",
      "\n",
      "/Users/macos/opt/anaconda3/lib/python3.9/site-packages/sklearn/utils/validation.py:993: DataConversionWarning:\n",
      "\n",
      "A column-vector y was passed when a 1d array was expected. Please change the shape of y to (n_samples, ), for example using ravel().\n",
      "\n",
      "/Users/macos/opt/anaconda3/lib/python3.9/site-packages/sklearn/linear_model/_logistic.py:814: ConvergenceWarning:\n",
      "\n",
      "lbfgs failed to converge (status=1):\n",
      "STOP: TOTAL NO. of ITERATIONS REACHED LIMIT.\n",
      "\n",
      "Increase the number of iterations (max_iter) or scale the data as shown in:\n",
      "    https://scikit-learn.org/stable/modules/preprocessing.html\n",
      "Please also refer to the documentation for alternative solver options:\n",
      "    https://scikit-learn.org/stable/modules/linear_model.html#logistic-regression\n",
      "\n",
      "/var/folders/q4/599_9y312tq2r68dy826djjr0000gn/T/ipykernel_55546/2083181859.py:8: FutureWarning:\n",
      "\n",
      "The frame.append method is deprecated and will be removed from pandas in a future version. Use pandas.concat instead.\n",
      "\n"
     ]
    },
    {
     "data": {
      "application/vnd.plotly.v1+json": {
       "config": {
        "linkText": "Export to plot.ly",
        "plotlyServerURL": "https://plot.ly",
        "showLink": false
       },
       "data": [
        {
         "colorscale": [
          [
           0,
           "#8B0000"
          ],
          [
           1,
           "#FFC0CB"
          ]
         ],
         "hoverinfo": "none",
         "opacity": 0.75,
         "showscale": false,
         "type": "heatmap",
         "z": [
          [
           0,
           0,
           0,
           0,
           0,
           0,
           0
          ],
          [
           0.5,
           0.5,
           0.5,
           0.5,
           0.5,
           0.5,
           0.5
          ],
          [
           1,
           1,
           1,
           1,
           1,
           1,
           1
          ],
          [
           0.5,
           0.5,
           0.5,
           0.5,
           0.5,
           0.5,
           0.5
          ]
         ]
        }
       ],
       "layout": {
        "annotations": [
         {
          "align": "left",
          "font": {
           "color": "#ffffff"
          },
          "showarrow": false,
          "text": "<b>Model</b>",
          "x": -0.45,
          "xanchor": "left",
          "xref": "x",
          "y": 0,
          "yref": "y"
         },
         {
          "align": "left",
          "font": {
           "color": "#ffffff"
          },
          "showarrow": false,
          "text": "<b>Accuracy</b>",
          "x": 0.55,
          "xanchor": "left",
          "xref": "x",
          "y": 0,
          "yref": "y"
         },
         {
          "align": "left",
          "font": {
           "color": "#ffffff"
          },
          "showarrow": false,
          "text": "<b>Recall</b>",
          "x": 1.55,
          "xanchor": "left",
          "xref": "x",
          "y": 0,
          "yref": "y"
         },
         {
          "align": "left",
          "font": {
           "color": "#ffffff"
          },
          "showarrow": false,
          "text": "<b>Precision</b>",
          "x": 2.55,
          "xanchor": "left",
          "xref": "x",
          "y": 0,
          "yref": "y"
         },
         {
          "align": "left",
          "font": {
           "color": "#ffffff"
          },
          "showarrow": false,
          "text": "<b>f1-score</b>",
          "x": 3.55,
          "xanchor": "left",
          "xref": "x",
          "y": 0,
          "yref": "y"
         },
         {
          "align": "left",
          "font": {
           "color": "#ffffff"
          },
          "showarrow": false,
          "text": "<b>Roc_auc</b>",
          "x": 4.55,
          "xanchor": "left",
          "xref": "x",
          "y": 0,
          "yref": "y"
         },
         {
          "align": "left",
          "font": {
           "color": "#ffffff"
          },
          "showarrow": false,
          "text": "<b>Kappa_metric</b>",
          "x": 5.55,
          "xanchor": "left",
          "xref": "x",
          "y": 0,
          "yref": "y"
         },
         {
          "align": "left",
          "font": {
           "color": "#000000"
          },
          "showarrow": false,
          "text": "Decision Tree",
          "x": -0.45,
          "xanchor": "left",
          "xref": "x",
          "y": 1,
          "yref": "y"
         },
         {
          "align": "left",
          "font": {
           "color": "#000000"
          },
          "showarrow": false,
          "text": "0.94",
          "x": 0.55,
          "xanchor": "left",
          "xref": "x",
          "y": 1,
          "yref": "y"
         },
         {
          "align": "left",
          "font": {
           "color": "#000000"
          },
          "showarrow": false,
          "text": "0.7158",
          "x": 1.55,
          "xanchor": "left",
          "xref": "x",
          "y": 1,
          "yref": "y"
         },
         {
          "align": "left",
          "font": {
           "color": "#000000"
          },
          "showarrow": false,
          "text": "0.8395",
          "x": 2.55,
          "xanchor": "left",
          "xref": "x",
          "y": 1,
          "yref": "y"
         },
         {
          "align": "left",
          "font": {
           "color": "#000000"
          },
          "showarrow": false,
          "text": "0.7727",
          "x": 3.55,
          "xanchor": "left",
          "xref": "x",
          "y": 1,
          "yref": "y"
         },
         {
          "align": "left",
          "font": {
           "color": "#000000"
          },
          "showarrow": false,
          "text": "0.8465",
          "x": 4.55,
          "xanchor": "left",
          "xref": "x",
          "y": 1,
          "yref": "y"
         },
         {
          "align": "left",
          "font": {
           "color": "#000000"
          },
          "showarrow": false,
          "text": "0.7384",
          "x": 5.55,
          "xanchor": "left",
          "xref": "x",
          "y": 1,
          "yref": "y"
         },
         {
          "align": "left",
          "font": {
           "color": "#000000"
          },
          "showarrow": false,
          "text": "KNN Classifier",
          "x": -0.45,
          "xanchor": "left",
          "xref": "x",
          "y": 2,
          "yref": "y"
         },
         {
          "align": "left",
          "font": {
           "color": "#000000"
          },
          "showarrow": false,
          "text": "0.8906",
          "x": 0.55,
          "xanchor": "left",
          "xref": "x",
          "y": 2,
          "yref": "y"
         },
         {
          "align": "left",
          "font": {
           "color": "#000000"
          },
          "showarrow": false,
          "text": "0.3368",
          "x": 1.55,
          "xanchor": "left",
          "xref": "x",
          "y": 2,
          "yref": "y"
         },
         {
          "align": "left",
          "font": {
           "color": "#000000"
          },
          "showarrow": false,
          "text": "0.7619",
          "x": 2.55,
          "xanchor": "left",
          "xref": "x",
          "y": 2,
          "yref": "y"
         },
         {
          "align": "left",
          "font": {
           "color": "#000000"
          },
          "showarrow": false,
          "text": "0.4672",
          "x": 3.55,
          "xanchor": "left",
          "xref": "x",
          "y": 2,
          "yref": "y"
         },
         {
          "align": "left",
          "font": {
           "color": "#000000"
          },
          "showarrow": false,
          "text": "0.6597",
          "x": 4.55,
          "xanchor": "left",
          "xref": "x",
          "y": 2,
          "yref": "y"
         },
         {
          "align": "left",
          "font": {
           "color": "#000000"
          },
          "showarrow": false,
          "text": "0.4162",
          "x": 5.55,
          "xanchor": "left",
          "xref": "x",
          "y": 2,
          "yref": "y"
         },
         {
          "align": "left",
          "font": {
           "color": "#000000"
          },
          "showarrow": false,
          "text": "Logistic Regression",
          "x": -0.45,
          "xanchor": "left",
          "xref": "x",
          "y": 3,
          "yref": "y"
         },
         {
          "align": "left",
          "font": {
           "color": "#000000"
          },
          "showarrow": false,
          "text": "0.8486",
          "x": 0.55,
          "xanchor": "left",
          "xref": "x",
          "y": 3,
          "yref": "y"
         },
         {
          "align": "left",
          "font": {
           "color": "#000000"
          },
          "showarrow": false,
          "text": "0.0421",
          "x": 1.55,
          "xanchor": "left",
          "xref": "x",
          "y": 3,
          "yref": "y"
         },
         {
          "align": "left",
          "font": {
           "color": "#000000"
          },
          "showarrow": false,
          "text": "0.2857",
          "x": 2.55,
          "xanchor": "left",
          "xref": "x",
          "y": 3,
          "yref": "y"
         },
         {
          "align": "left",
          "font": {
           "color": "#000000"
          },
          "showarrow": false,
          "text": "0.0734",
          "x": 3.55,
          "xanchor": "left",
          "xref": "x",
          "y": 3,
          "yref": "y"
         },
         {
          "align": "left",
          "font": {
           "color": "#000000"
          },
          "showarrow": false,
          "text": "0.5123",
          "x": 4.55,
          "xanchor": "left",
          "xref": "x",
          "y": 3,
          "yref": "y"
         },
         {
          "align": "left",
          "font": {
           "color": "#000000"
          },
          "showarrow": false,
          "text": "0.0382",
          "x": 5.55,
          "xanchor": "left",
          "xref": "x",
          "y": 3,
          "yref": "y"
         }
        ],
        "height": 170,
        "margin": {
         "b": 0,
         "l": 0,
         "r": 0,
         "t": 0
        },
        "template": {
         "data": {
          "bar": [
           {
            "error_x": {
             "color": "#2a3f5f"
            },
            "error_y": {
             "color": "#2a3f5f"
            },
            "marker": {
             "line": {
              "color": "#E5ECF6",
              "width": 0.5
             },
             "pattern": {
              "fillmode": "overlay",
              "size": 10,
              "solidity": 0.2
             }
            },
            "type": "bar"
           }
          ],
          "barpolar": [
           {
            "marker": {
             "line": {
              "color": "#E5ECF6",
              "width": 0.5
             },
             "pattern": {
              "fillmode": "overlay",
              "size": 10,
              "solidity": 0.2
             }
            },
            "type": "barpolar"
           }
          ],
          "carpet": [
           {
            "aaxis": {
             "endlinecolor": "#2a3f5f",
             "gridcolor": "white",
             "linecolor": "white",
             "minorgridcolor": "white",
             "startlinecolor": "#2a3f5f"
            },
            "baxis": {
             "endlinecolor": "#2a3f5f",
             "gridcolor": "white",
             "linecolor": "white",
             "minorgridcolor": "white",
             "startlinecolor": "#2a3f5f"
            },
            "type": "carpet"
           }
          ],
          "choropleth": [
           {
            "colorbar": {
             "outlinewidth": 0,
             "ticks": ""
            },
            "type": "choropleth"
           }
          ],
          "contour": [
           {
            "colorbar": {
             "outlinewidth": 0,
             "ticks": ""
            },
            "colorscale": [
             [
              0,
              "#0d0887"
             ],
             [
              0.1111111111111111,
              "#46039f"
             ],
             [
              0.2222222222222222,
              "#7201a8"
             ],
             [
              0.3333333333333333,
              "#9c179e"
             ],
             [
              0.4444444444444444,
              "#bd3786"
             ],
             [
              0.5555555555555556,
              "#d8576b"
             ],
             [
              0.6666666666666666,
              "#ed7953"
             ],
             [
              0.7777777777777778,
              "#fb9f3a"
             ],
             [
              0.8888888888888888,
              "#fdca26"
             ],
             [
              1,
              "#f0f921"
             ]
            ],
            "type": "contour"
           }
          ],
          "contourcarpet": [
           {
            "colorbar": {
             "outlinewidth": 0,
             "ticks": ""
            },
            "type": "contourcarpet"
           }
          ],
          "heatmap": [
           {
            "colorbar": {
             "outlinewidth": 0,
             "ticks": ""
            },
            "colorscale": [
             [
              0,
              "#0d0887"
             ],
             [
              0.1111111111111111,
              "#46039f"
             ],
             [
              0.2222222222222222,
              "#7201a8"
             ],
             [
              0.3333333333333333,
              "#9c179e"
             ],
             [
              0.4444444444444444,
              "#bd3786"
             ],
             [
              0.5555555555555556,
              "#d8576b"
             ],
             [
              0.6666666666666666,
              "#ed7953"
             ],
             [
              0.7777777777777778,
              "#fb9f3a"
             ],
             [
              0.8888888888888888,
              "#fdca26"
             ],
             [
              1,
              "#f0f921"
             ]
            ],
            "type": "heatmap"
           }
          ],
          "heatmapgl": [
           {
            "colorbar": {
             "outlinewidth": 0,
             "ticks": ""
            },
            "colorscale": [
             [
              0,
              "#0d0887"
             ],
             [
              0.1111111111111111,
              "#46039f"
             ],
             [
              0.2222222222222222,
              "#7201a8"
             ],
             [
              0.3333333333333333,
              "#9c179e"
             ],
             [
              0.4444444444444444,
              "#bd3786"
             ],
             [
              0.5555555555555556,
              "#d8576b"
             ],
             [
              0.6666666666666666,
              "#ed7953"
             ],
             [
              0.7777777777777778,
              "#fb9f3a"
             ],
             [
              0.8888888888888888,
              "#fdca26"
             ],
             [
              1,
              "#f0f921"
             ]
            ],
            "type": "heatmapgl"
           }
          ],
          "histogram": [
           {
            "marker": {
             "pattern": {
              "fillmode": "overlay",
              "size": 10,
              "solidity": 0.2
             }
            },
            "type": "histogram"
           }
          ],
          "histogram2d": [
           {
            "colorbar": {
             "outlinewidth": 0,
             "ticks": ""
            },
            "colorscale": [
             [
              0,
              "#0d0887"
             ],
             [
              0.1111111111111111,
              "#46039f"
             ],
             [
              0.2222222222222222,
              "#7201a8"
             ],
             [
              0.3333333333333333,
              "#9c179e"
             ],
             [
              0.4444444444444444,
              "#bd3786"
             ],
             [
              0.5555555555555556,
              "#d8576b"
             ],
             [
              0.6666666666666666,
              "#ed7953"
             ],
             [
              0.7777777777777778,
              "#fb9f3a"
             ],
             [
              0.8888888888888888,
              "#fdca26"
             ],
             [
              1,
              "#f0f921"
             ]
            ],
            "type": "histogram2d"
           }
          ],
          "histogram2dcontour": [
           {
            "colorbar": {
             "outlinewidth": 0,
             "ticks": ""
            },
            "colorscale": [
             [
              0,
              "#0d0887"
             ],
             [
              0.1111111111111111,
              "#46039f"
             ],
             [
              0.2222222222222222,
              "#7201a8"
             ],
             [
              0.3333333333333333,
              "#9c179e"
             ],
             [
              0.4444444444444444,
              "#bd3786"
             ],
             [
              0.5555555555555556,
              "#d8576b"
             ],
             [
              0.6666666666666666,
              "#ed7953"
             ],
             [
              0.7777777777777778,
              "#fb9f3a"
             ],
             [
              0.8888888888888888,
              "#fdca26"
             ],
             [
              1,
              "#f0f921"
             ]
            ],
            "type": "histogram2dcontour"
           }
          ],
          "mesh3d": [
           {
            "colorbar": {
             "outlinewidth": 0,
             "ticks": ""
            },
            "type": "mesh3d"
           }
          ],
          "parcoords": [
           {
            "line": {
             "colorbar": {
              "outlinewidth": 0,
              "ticks": ""
             }
            },
            "type": "parcoords"
           }
          ],
          "pie": [
           {
            "automargin": true,
            "type": "pie"
           }
          ],
          "scatter": [
           {
            "fillpattern": {
             "fillmode": "overlay",
             "size": 10,
             "solidity": 0.2
            },
            "type": "scatter"
           }
          ],
          "scatter3d": [
           {
            "line": {
             "colorbar": {
              "outlinewidth": 0,
              "ticks": ""
             }
            },
            "marker": {
             "colorbar": {
              "outlinewidth": 0,
              "ticks": ""
             }
            },
            "type": "scatter3d"
           }
          ],
          "scattercarpet": [
           {
            "marker": {
             "colorbar": {
              "outlinewidth": 0,
              "ticks": ""
             }
            },
            "type": "scattercarpet"
           }
          ],
          "scattergeo": [
           {
            "marker": {
             "colorbar": {
              "outlinewidth": 0,
              "ticks": ""
             }
            },
            "type": "scattergeo"
           }
          ],
          "scattergl": [
           {
            "marker": {
             "colorbar": {
              "outlinewidth": 0,
              "ticks": ""
             }
            },
            "type": "scattergl"
           }
          ],
          "scattermapbox": [
           {
            "marker": {
             "colorbar": {
              "outlinewidth": 0,
              "ticks": ""
             }
            },
            "type": "scattermapbox"
           }
          ],
          "scatterpolar": [
           {
            "marker": {
             "colorbar": {
              "outlinewidth": 0,
              "ticks": ""
             }
            },
            "type": "scatterpolar"
           }
          ],
          "scatterpolargl": [
           {
            "marker": {
             "colorbar": {
              "outlinewidth": 0,
              "ticks": ""
             }
            },
            "type": "scatterpolargl"
           }
          ],
          "scatterternary": [
           {
            "marker": {
             "colorbar": {
              "outlinewidth": 0,
              "ticks": ""
             }
            },
            "type": "scatterternary"
           }
          ],
          "surface": [
           {
            "colorbar": {
             "outlinewidth": 0,
             "ticks": ""
            },
            "colorscale": [
             [
              0,
              "#0d0887"
             ],
             [
              0.1111111111111111,
              "#46039f"
             ],
             [
              0.2222222222222222,
              "#7201a8"
             ],
             [
              0.3333333333333333,
              "#9c179e"
             ],
             [
              0.4444444444444444,
              "#bd3786"
             ],
             [
              0.5555555555555556,
              "#d8576b"
             ],
             [
              0.6666666666666666,
              "#ed7953"
             ],
             [
              0.7777777777777778,
              "#fb9f3a"
             ],
             [
              0.8888888888888888,
              "#fdca26"
             ],
             [
              1,
              "#f0f921"
             ]
            ],
            "type": "surface"
           }
          ],
          "table": [
           {
            "cells": {
             "fill": {
              "color": "#EBF0F8"
             },
             "line": {
              "color": "white"
             }
            },
            "header": {
             "fill": {
              "color": "#C8D4E3"
             },
             "line": {
              "color": "white"
             }
            },
            "type": "table"
           }
          ]
         },
         "layout": {
          "annotationdefaults": {
           "arrowcolor": "#2a3f5f",
           "arrowhead": 0,
           "arrowwidth": 1
          },
          "autotypenumbers": "strict",
          "coloraxis": {
           "colorbar": {
            "outlinewidth": 0,
            "ticks": ""
           }
          },
          "colorscale": {
           "diverging": [
            [
             0,
             "#8e0152"
            ],
            [
             0.1,
             "#c51b7d"
            ],
            [
             0.2,
             "#de77ae"
            ],
            [
             0.3,
             "#f1b6da"
            ],
            [
             0.4,
             "#fde0ef"
            ],
            [
             0.5,
             "#f7f7f7"
            ],
            [
             0.6,
             "#e6f5d0"
            ],
            [
             0.7,
             "#b8e186"
            ],
            [
             0.8,
             "#7fbc41"
            ],
            [
             0.9,
             "#4d9221"
            ],
            [
             1,
             "#276419"
            ]
           ],
           "sequential": [
            [
             0,
             "#0d0887"
            ],
            [
             0.1111111111111111,
             "#46039f"
            ],
            [
             0.2222222222222222,
             "#7201a8"
            ],
            [
             0.3333333333333333,
             "#9c179e"
            ],
            [
             0.4444444444444444,
             "#bd3786"
            ],
            [
             0.5555555555555556,
             "#d8576b"
            ],
            [
             0.6666666666666666,
             "#ed7953"
            ],
            [
             0.7777777777777778,
             "#fb9f3a"
            ],
            [
             0.8888888888888888,
             "#fdca26"
            ],
            [
             1,
             "#f0f921"
            ]
           ],
           "sequentialminus": [
            [
             0,
             "#0d0887"
            ],
            [
             0.1111111111111111,
             "#46039f"
            ],
            [
             0.2222222222222222,
             "#7201a8"
            ],
            [
             0.3333333333333333,
             "#9c179e"
            ],
            [
             0.4444444444444444,
             "#bd3786"
            ],
            [
             0.5555555555555556,
             "#d8576b"
            ],
            [
             0.6666666666666666,
             "#ed7953"
            ],
            [
             0.7777777777777778,
             "#fb9f3a"
            ],
            [
             0.8888888888888888,
             "#fdca26"
            ],
            [
             1,
             "#f0f921"
            ]
           ]
          },
          "colorway": [
           "#636efa",
           "#EF553B",
           "#00cc96",
           "#ab63fa",
           "#FFA15A",
           "#19d3f3",
           "#FF6692",
           "#B6E880",
           "#FF97FF",
           "#FECB52"
          ],
          "font": {
           "color": "#2a3f5f"
          },
          "geo": {
           "bgcolor": "white",
           "lakecolor": "white",
           "landcolor": "#E5ECF6",
           "showlakes": true,
           "showland": true,
           "subunitcolor": "white"
          },
          "hoverlabel": {
           "align": "left"
          },
          "hovermode": "closest",
          "mapbox": {
           "style": "light"
          },
          "paper_bgcolor": "white",
          "plot_bgcolor": "#E5ECF6",
          "polar": {
           "angularaxis": {
            "gridcolor": "white",
            "linecolor": "white",
            "ticks": ""
           },
           "bgcolor": "#E5ECF6",
           "radialaxis": {
            "gridcolor": "white",
            "linecolor": "white",
            "ticks": ""
           }
          },
          "scene": {
           "xaxis": {
            "backgroundcolor": "#E5ECF6",
            "gridcolor": "white",
            "gridwidth": 2,
            "linecolor": "white",
            "showbackground": true,
            "ticks": "",
            "zerolinecolor": "white"
           },
           "yaxis": {
            "backgroundcolor": "#E5ECF6",
            "gridcolor": "white",
            "gridwidth": 2,
            "linecolor": "white",
            "showbackground": true,
            "ticks": "",
            "zerolinecolor": "white"
           },
           "zaxis": {
            "backgroundcolor": "#E5ECF6",
            "gridcolor": "white",
            "gridwidth": 2,
            "linecolor": "white",
            "showbackground": true,
            "ticks": "",
            "zerolinecolor": "white"
           }
          },
          "shapedefaults": {
           "line": {
            "color": "#2a3f5f"
           }
          },
          "ternary": {
           "aaxis": {
            "gridcolor": "white",
            "linecolor": "white",
            "ticks": ""
           },
           "baxis": {
            "gridcolor": "white",
            "linecolor": "white",
            "ticks": ""
           },
           "bgcolor": "#E5ECF6",
           "caxis": {
            "gridcolor": "white",
            "linecolor": "white",
            "ticks": ""
           }
          },
          "title": {
           "x": 0.05
          },
          "xaxis": {
           "automargin": true,
           "gridcolor": "white",
           "linecolor": "white",
           "ticks": "",
           "title": {
            "standoff": 15
           },
           "zerolinecolor": "white",
           "zerolinewidth": 2
          },
          "yaxis": {
           "automargin": true,
           "gridcolor": "white",
           "linecolor": "white",
           "ticks": "",
           "title": {
            "standoff": 15
           },
           "zerolinecolor": "white",
           "zerolinewidth": 2
          }
         }
        },
        "xaxis": {
         "dtick": 1,
         "gridwidth": 2,
         "showticklabels": false,
         "tick0": -0.5,
         "ticks": "",
         "zeroline": false
        },
        "yaxis": {
         "autorange": "reversed",
         "dtick": 1,
         "gridwidth": 2,
         "showticklabels": false,
         "tick0": 0.5,
         "ticks": "",
         "zeroline": false
        }
       }
      },
      "text/html": [
       "<div>                            <div id=\"7d68221d-5590-4dbe-82c2-27b4657c7f3f\" class=\"plotly-graph-div\" style=\"height:170px; width:100%;\"></div>            <script type=\"text/javascript\">                require([\"plotly\"], function(Plotly) {                    window.PLOTLYENV=window.PLOTLYENV || {};                                    if (document.getElementById(\"7d68221d-5590-4dbe-82c2-27b4657c7f3f\")) {                    Plotly.newPlot(                        \"7d68221d-5590-4dbe-82c2-27b4657c7f3f\",                        [{\"colorscale\":[[0,\"#8B0000\"],[1,\"#FFC0CB\"]],\"hoverinfo\":\"none\",\"opacity\":0.75,\"showscale\":false,\"z\":[[0,0,0,0,0,0,0],[0.5,0.5,0.5,0.5,0.5,0.5,0.5],[1,1,1,1,1,1,1],[0.5,0.5,0.5,0.5,0.5,0.5,0.5]],\"type\":\"heatmap\"}],                        {\"annotations\":[{\"align\":\"left\",\"font\":{\"color\":\"#ffffff\"},\"showarrow\":false,\"text\":\"<b>Model</b>\",\"x\":-0.45,\"xanchor\":\"left\",\"xref\":\"x\",\"y\":0,\"yref\":\"y\"},{\"align\":\"left\",\"font\":{\"color\":\"#ffffff\"},\"showarrow\":false,\"text\":\"<b>Accuracy</b>\",\"x\":0.55,\"xanchor\":\"left\",\"xref\":\"x\",\"y\":0,\"yref\":\"y\"},{\"align\":\"left\",\"font\":{\"color\":\"#ffffff\"},\"showarrow\":false,\"text\":\"<b>Recall</b>\",\"x\":1.55,\"xanchor\":\"left\",\"xref\":\"x\",\"y\":0,\"yref\":\"y\"},{\"align\":\"left\",\"font\":{\"color\":\"#ffffff\"},\"showarrow\":false,\"text\":\"<b>Precision</b>\",\"x\":2.55,\"xanchor\":\"left\",\"xref\":\"x\",\"y\":0,\"yref\":\"y\"},{\"align\":\"left\",\"font\":{\"color\":\"#ffffff\"},\"showarrow\":false,\"text\":\"<b>f1-score</b>\",\"x\":3.55,\"xanchor\":\"left\",\"xref\":\"x\",\"y\":0,\"yref\":\"y\"},{\"align\":\"left\",\"font\":{\"color\":\"#ffffff\"},\"showarrow\":false,\"text\":\"<b>Roc_auc</b>\",\"x\":4.55,\"xanchor\":\"left\",\"xref\":\"x\",\"y\":0,\"yref\":\"y\"},{\"align\":\"left\",\"font\":{\"color\":\"#ffffff\"},\"showarrow\":false,\"text\":\"<b>Kappa_metric</b>\",\"x\":5.55,\"xanchor\":\"left\",\"xref\":\"x\",\"y\":0,\"yref\":\"y\"},{\"align\":\"left\",\"font\":{\"color\":\"#000000\"},\"showarrow\":false,\"text\":\"Decision Tree\",\"x\":-0.45,\"xanchor\":\"left\",\"xref\":\"x\",\"y\":1,\"yref\":\"y\"},{\"align\":\"left\",\"font\":{\"color\":\"#000000\"},\"showarrow\":false,\"text\":\"0.94\",\"x\":0.55,\"xanchor\":\"left\",\"xref\":\"x\",\"y\":1,\"yref\":\"y\"},{\"align\":\"left\",\"font\":{\"color\":\"#000000\"},\"showarrow\":false,\"text\":\"0.7158\",\"x\":1.55,\"xanchor\":\"left\",\"xref\":\"x\",\"y\":1,\"yref\":\"y\"},{\"align\":\"left\",\"font\":{\"color\":\"#000000\"},\"showarrow\":false,\"text\":\"0.8395\",\"x\":2.55,\"xanchor\":\"left\",\"xref\":\"x\",\"y\":1,\"yref\":\"y\"},{\"align\":\"left\",\"font\":{\"color\":\"#000000\"},\"showarrow\":false,\"text\":\"0.7727\",\"x\":3.55,\"xanchor\":\"left\",\"xref\":\"x\",\"y\":1,\"yref\":\"y\"},{\"align\":\"left\",\"font\":{\"color\":\"#000000\"},\"showarrow\":false,\"text\":\"0.8465\",\"x\":4.55,\"xanchor\":\"left\",\"xref\":\"x\",\"y\":1,\"yref\":\"y\"},{\"align\":\"left\",\"font\":{\"color\":\"#000000\"},\"showarrow\":false,\"text\":\"0.7384\",\"x\":5.55,\"xanchor\":\"left\",\"xref\":\"x\",\"y\":1,\"yref\":\"y\"},{\"align\":\"left\",\"font\":{\"color\":\"#000000\"},\"showarrow\":false,\"text\":\"KNN Classifier\",\"x\":-0.45,\"xanchor\":\"left\",\"xref\":\"x\",\"y\":2,\"yref\":\"y\"},{\"align\":\"left\",\"font\":{\"color\":\"#000000\"},\"showarrow\":false,\"text\":\"0.8906\",\"x\":0.55,\"xanchor\":\"left\",\"xref\":\"x\",\"y\":2,\"yref\":\"y\"},{\"align\":\"left\",\"font\":{\"color\":\"#000000\"},\"showarrow\":false,\"text\":\"0.3368\",\"x\":1.55,\"xanchor\":\"left\",\"xref\":\"x\",\"y\":2,\"yref\":\"y\"},{\"align\":\"left\",\"font\":{\"color\":\"#000000\"},\"showarrow\":false,\"text\":\"0.7619\",\"x\":2.55,\"xanchor\":\"left\",\"xref\":\"x\",\"y\":2,\"yref\":\"y\"},{\"align\":\"left\",\"font\":{\"color\":\"#000000\"},\"showarrow\":false,\"text\":\"0.4672\",\"x\":3.55,\"xanchor\":\"left\",\"xref\":\"x\",\"y\":2,\"yref\":\"y\"},{\"align\":\"left\",\"font\":{\"color\":\"#000000\"},\"showarrow\":false,\"text\":\"0.6597\",\"x\":4.55,\"xanchor\":\"left\",\"xref\":\"x\",\"y\":2,\"yref\":\"y\"},{\"align\":\"left\",\"font\":{\"color\":\"#000000\"},\"showarrow\":false,\"text\":\"0.4162\",\"x\":5.55,\"xanchor\":\"left\",\"xref\":\"x\",\"y\":2,\"yref\":\"y\"},{\"align\":\"left\",\"font\":{\"color\":\"#000000\"},\"showarrow\":false,\"text\":\"Logistic Regression\",\"x\":-0.45,\"xanchor\":\"left\",\"xref\":\"x\",\"y\":3,\"yref\":\"y\"},{\"align\":\"left\",\"font\":{\"color\":\"#000000\"},\"showarrow\":false,\"text\":\"0.8486\",\"x\":0.55,\"xanchor\":\"left\",\"xref\":\"x\",\"y\":3,\"yref\":\"y\"},{\"align\":\"left\",\"font\":{\"color\":\"#000000\"},\"showarrow\":false,\"text\":\"0.0421\",\"x\":1.55,\"xanchor\":\"left\",\"xref\":\"x\",\"y\":3,\"yref\":\"y\"},{\"align\":\"left\",\"font\":{\"color\":\"#000000\"},\"showarrow\":false,\"text\":\"0.2857\",\"x\":2.55,\"xanchor\":\"left\",\"xref\":\"x\",\"y\":3,\"yref\":\"y\"},{\"align\":\"left\",\"font\":{\"color\":\"#000000\"},\"showarrow\":false,\"text\":\"0.0734\",\"x\":3.55,\"xanchor\":\"left\",\"xref\":\"x\",\"y\":3,\"yref\":\"y\"},{\"align\":\"left\",\"font\":{\"color\":\"#000000\"},\"showarrow\":false,\"text\":\"0.5123\",\"x\":4.55,\"xanchor\":\"left\",\"xref\":\"x\",\"y\":3,\"yref\":\"y\"},{\"align\":\"left\",\"font\":{\"color\":\"#000000\"},\"showarrow\":false,\"text\":\"0.0382\",\"x\":5.55,\"xanchor\":\"left\",\"xref\":\"x\",\"y\":3,\"yref\":\"y\"}],\"height\":170,\"margin\":{\"b\":0,\"l\":0,\"r\":0,\"t\":0},\"template\":{\"data\":{\"barpolar\":[{\"marker\":{\"line\":{\"color\":\"#E5ECF6\",\"width\":0.5},\"pattern\":{\"fillmode\":\"overlay\",\"size\":10,\"solidity\":0.2}},\"type\":\"barpolar\"}],\"bar\":[{\"error_x\":{\"color\":\"#2a3f5f\"},\"error_y\":{\"color\":\"#2a3f5f\"},\"marker\":{\"line\":{\"color\":\"#E5ECF6\",\"width\":0.5},\"pattern\":{\"fillmode\":\"overlay\",\"size\":10,\"solidity\":0.2}},\"type\":\"bar\"}],\"carpet\":[{\"aaxis\":{\"endlinecolor\":\"#2a3f5f\",\"gridcolor\":\"white\",\"linecolor\":\"white\",\"minorgridcolor\":\"white\",\"startlinecolor\":\"#2a3f5f\"},\"baxis\":{\"endlinecolor\":\"#2a3f5f\",\"gridcolor\":\"white\",\"linecolor\":\"white\",\"minorgridcolor\":\"white\",\"startlinecolor\":\"#2a3f5f\"},\"type\":\"carpet\"}],\"choropleth\":[{\"colorbar\":{\"outlinewidth\":0,\"ticks\":\"\"},\"type\":\"choropleth\"}],\"contourcarpet\":[{\"colorbar\":{\"outlinewidth\":0,\"ticks\":\"\"},\"type\":\"contourcarpet\"}],\"contour\":[{\"colorbar\":{\"outlinewidth\":0,\"ticks\":\"\"},\"colorscale\":[[0.0,\"#0d0887\"],[0.1111111111111111,\"#46039f\"],[0.2222222222222222,\"#7201a8\"],[0.3333333333333333,\"#9c179e\"],[0.4444444444444444,\"#bd3786\"],[0.5555555555555556,\"#d8576b\"],[0.6666666666666666,\"#ed7953\"],[0.7777777777777778,\"#fb9f3a\"],[0.8888888888888888,\"#fdca26\"],[1.0,\"#f0f921\"]],\"type\":\"contour\"}],\"heatmapgl\":[{\"colorbar\":{\"outlinewidth\":0,\"ticks\":\"\"},\"colorscale\":[[0.0,\"#0d0887\"],[0.1111111111111111,\"#46039f\"],[0.2222222222222222,\"#7201a8\"],[0.3333333333333333,\"#9c179e\"],[0.4444444444444444,\"#bd3786\"],[0.5555555555555556,\"#d8576b\"],[0.6666666666666666,\"#ed7953\"],[0.7777777777777778,\"#fb9f3a\"],[0.8888888888888888,\"#fdca26\"],[1.0,\"#f0f921\"]],\"type\":\"heatmapgl\"}],\"heatmap\":[{\"colorbar\":{\"outlinewidth\":0,\"ticks\":\"\"},\"colorscale\":[[0.0,\"#0d0887\"],[0.1111111111111111,\"#46039f\"],[0.2222222222222222,\"#7201a8\"],[0.3333333333333333,\"#9c179e\"],[0.4444444444444444,\"#bd3786\"],[0.5555555555555556,\"#d8576b\"],[0.6666666666666666,\"#ed7953\"],[0.7777777777777778,\"#fb9f3a\"],[0.8888888888888888,\"#fdca26\"],[1.0,\"#f0f921\"]],\"type\":\"heatmap\"}],\"histogram2dcontour\":[{\"colorbar\":{\"outlinewidth\":0,\"ticks\":\"\"},\"colorscale\":[[0.0,\"#0d0887\"],[0.1111111111111111,\"#46039f\"],[0.2222222222222222,\"#7201a8\"],[0.3333333333333333,\"#9c179e\"],[0.4444444444444444,\"#bd3786\"],[0.5555555555555556,\"#d8576b\"],[0.6666666666666666,\"#ed7953\"],[0.7777777777777778,\"#fb9f3a\"],[0.8888888888888888,\"#fdca26\"],[1.0,\"#f0f921\"]],\"type\":\"histogram2dcontour\"}],\"histogram2d\":[{\"colorbar\":{\"outlinewidth\":0,\"ticks\":\"\"},\"colorscale\":[[0.0,\"#0d0887\"],[0.1111111111111111,\"#46039f\"],[0.2222222222222222,\"#7201a8\"],[0.3333333333333333,\"#9c179e\"],[0.4444444444444444,\"#bd3786\"],[0.5555555555555556,\"#d8576b\"],[0.6666666666666666,\"#ed7953\"],[0.7777777777777778,\"#fb9f3a\"],[0.8888888888888888,\"#fdca26\"],[1.0,\"#f0f921\"]],\"type\":\"histogram2d\"}],\"histogram\":[{\"marker\":{\"pattern\":{\"fillmode\":\"overlay\",\"size\":10,\"solidity\":0.2}},\"type\":\"histogram\"}],\"mesh3d\":[{\"colorbar\":{\"outlinewidth\":0,\"ticks\":\"\"},\"type\":\"mesh3d\"}],\"parcoords\":[{\"line\":{\"colorbar\":{\"outlinewidth\":0,\"ticks\":\"\"}},\"type\":\"parcoords\"}],\"pie\":[{\"automargin\":true,\"type\":\"pie\"}],\"scatter3d\":[{\"line\":{\"colorbar\":{\"outlinewidth\":0,\"ticks\":\"\"}},\"marker\":{\"colorbar\":{\"outlinewidth\":0,\"ticks\":\"\"}},\"type\":\"scatter3d\"}],\"scattercarpet\":[{\"marker\":{\"colorbar\":{\"outlinewidth\":0,\"ticks\":\"\"}},\"type\":\"scattercarpet\"}],\"scattergeo\":[{\"marker\":{\"colorbar\":{\"outlinewidth\":0,\"ticks\":\"\"}},\"type\":\"scattergeo\"}],\"scattergl\":[{\"marker\":{\"colorbar\":{\"outlinewidth\":0,\"ticks\":\"\"}},\"type\":\"scattergl\"}],\"scattermapbox\":[{\"marker\":{\"colorbar\":{\"outlinewidth\":0,\"ticks\":\"\"}},\"type\":\"scattermapbox\"}],\"scatterpolargl\":[{\"marker\":{\"colorbar\":{\"outlinewidth\":0,\"ticks\":\"\"}},\"type\":\"scatterpolargl\"}],\"scatterpolar\":[{\"marker\":{\"colorbar\":{\"outlinewidth\":0,\"ticks\":\"\"}},\"type\":\"scatterpolar\"}],\"scatter\":[{\"fillpattern\":{\"fillmode\":\"overlay\",\"size\":10,\"solidity\":0.2},\"type\":\"scatter\"}],\"scatterternary\":[{\"marker\":{\"colorbar\":{\"outlinewidth\":0,\"ticks\":\"\"}},\"type\":\"scatterternary\"}],\"surface\":[{\"colorbar\":{\"outlinewidth\":0,\"ticks\":\"\"},\"colorscale\":[[0.0,\"#0d0887\"],[0.1111111111111111,\"#46039f\"],[0.2222222222222222,\"#7201a8\"],[0.3333333333333333,\"#9c179e\"],[0.4444444444444444,\"#bd3786\"],[0.5555555555555556,\"#d8576b\"],[0.6666666666666666,\"#ed7953\"],[0.7777777777777778,\"#fb9f3a\"],[0.8888888888888888,\"#fdca26\"],[1.0,\"#f0f921\"]],\"type\":\"surface\"}],\"table\":[{\"cells\":{\"fill\":{\"color\":\"#EBF0F8\"},\"line\":{\"color\":\"white\"}},\"header\":{\"fill\":{\"color\":\"#C8D4E3\"},\"line\":{\"color\":\"white\"}},\"type\":\"table\"}]},\"layout\":{\"annotationdefaults\":{\"arrowcolor\":\"#2a3f5f\",\"arrowhead\":0,\"arrowwidth\":1},\"autotypenumbers\":\"strict\",\"coloraxis\":{\"colorbar\":{\"outlinewidth\":0,\"ticks\":\"\"}},\"colorscale\":{\"diverging\":[[0,\"#8e0152\"],[0.1,\"#c51b7d\"],[0.2,\"#de77ae\"],[0.3,\"#f1b6da\"],[0.4,\"#fde0ef\"],[0.5,\"#f7f7f7\"],[0.6,\"#e6f5d0\"],[0.7,\"#b8e186\"],[0.8,\"#7fbc41\"],[0.9,\"#4d9221\"],[1,\"#276419\"]],\"sequential\":[[0.0,\"#0d0887\"],[0.1111111111111111,\"#46039f\"],[0.2222222222222222,\"#7201a8\"],[0.3333333333333333,\"#9c179e\"],[0.4444444444444444,\"#bd3786\"],[0.5555555555555556,\"#d8576b\"],[0.6666666666666666,\"#ed7953\"],[0.7777777777777778,\"#fb9f3a\"],[0.8888888888888888,\"#fdca26\"],[1.0,\"#f0f921\"]],\"sequentialminus\":[[0.0,\"#0d0887\"],[0.1111111111111111,\"#46039f\"],[0.2222222222222222,\"#7201a8\"],[0.3333333333333333,\"#9c179e\"],[0.4444444444444444,\"#bd3786\"],[0.5555555555555556,\"#d8576b\"],[0.6666666666666666,\"#ed7953\"],[0.7777777777777778,\"#fb9f3a\"],[0.8888888888888888,\"#fdca26\"],[1.0,\"#f0f921\"]]},\"colorway\":[\"#636efa\",\"#EF553B\",\"#00cc96\",\"#ab63fa\",\"#FFA15A\",\"#19d3f3\",\"#FF6692\",\"#B6E880\",\"#FF97FF\",\"#FECB52\"],\"font\":{\"color\":\"#2a3f5f\"},\"geo\":{\"bgcolor\":\"white\",\"lakecolor\":\"white\",\"landcolor\":\"#E5ECF6\",\"showlakes\":true,\"showland\":true,\"subunitcolor\":\"white\"},\"hoverlabel\":{\"align\":\"left\"},\"hovermode\":\"closest\",\"mapbox\":{\"style\":\"light\"},\"paper_bgcolor\":\"white\",\"plot_bgcolor\":\"#E5ECF6\",\"polar\":{\"angularaxis\":{\"gridcolor\":\"white\",\"linecolor\":\"white\",\"ticks\":\"\"},\"bgcolor\":\"#E5ECF6\",\"radialaxis\":{\"gridcolor\":\"white\",\"linecolor\":\"white\",\"ticks\":\"\"}},\"scene\":{\"xaxis\":{\"backgroundcolor\":\"#E5ECF6\",\"gridcolor\":\"white\",\"gridwidth\":2,\"linecolor\":\"white\",\"showbackground\":true,\"ticks\":\"\",\"zerolinecolor\":\"white\"},\"yaxis\":{\"backgroundcolor\":\"#E5ECF6\",\"gridcolor\":\"white\",\"gridwidth\":2,\"linecolor\":\"white\",\"showbackground\":true,\"ticks\":\"\",\"zerolinecolor\":\"white\"},\"zaxis\":{\"backgroundcolor\":\"#E5ECF6\",\"gridcolor\":\"white\",\"gridwidth\":2,\"linecolor\":\"white\",\"showbackground\":true,\"ticks\":\"\",\"zerolinecolor\":\"white\"}},\"shapedefaults\":{\"line\":{\"color\":\"#2a3f5f\"}},\"ternary\":{\"aaxis\":{\"gridcolor\":\"white\",\"linecolor\":\"white\",\"ticks\":\"\"},\"baxis\":{\"gridcolor\":\"white\",\"linecolor\":\"white\",\"ticks\":\"\"},\"bgcolor\":\"#E5ECF6\",\"caxis\":{\"gridcolor\":\"white\",\"linecolor\":\"white\",\"ticks\":\"\"}},\"title\":{\"x\":0.05},\"xaxis\":{\"automargin\":true,\"gridcolor\":\"white\",\"linecolor\":\"white\",\"ticks\":\"\",\"title\":{\"standoff\":15},\"zerolinecolor\":\"white\",\"zerolinewidth\":2},\"yaxis\":{\"automargin\":true,\"gridcolor\":\"white\",\"linecolor\":\"white\",\"ticks\":\"\",\"title\":{\"standoff\":15},\"zerolinecolor\":\"white\",\"zerolinewidth\":2}}},\"xaxis\":{\"dtick\":1,\"gridwidth\":2,\"showticklabels\":false,\"tick0\":-0.5,\"ticks\":\"\",\"zeroline\":false},\"yaxis\":{\"autorange\":\"reversed\",\"dtick\":1,\"gridwidth\":2,\"showticklabels\":false,\"tick0\":0.5,\"ticks\":\"\",\"zeroline\":false}},                        {\"responsive\": true}                    ).then(function(){\n",
       "                            \n",
       "var gd = document.getElementById('7d68221d-5590-4dbe-82c2-27b4657c7f3f');\n",
       "var x = new MutationObserver(function (mutations, observer) {{\n",
       "        var display = window.getComputedStyle(gd).display;\n",
       "        if (!display || display === 'none') {{\n",
       "            console.log([gd, 'removed!']);\n",
       "            Plotly.purge(gd);\n",
       "            observer.disconnect();\n",
       "        }}\n",
       "}});\n",
       "\n",
       "// Listen for the removal of the full notebook cells\n",
       "var notebookContainer = gd.closest('#notebook-container');\n",
       "if (notebookContainer) {{\n",
       "    x.observe(notebookContainer, {childList: true});\n",
       "}}\n",
       "\n",
       "// Listen for the clearing of the current output cell\n",
       "var outputEl = gd.closest('.output');\n",
       "if (outputEl) {{\n",
       "    x.observe(outputEl, {childList: true});\n",
       "}}\n",
       "\n",
       "                        })                };                });            </script>        </div>"
      ]
     },
     "metadata": {},
     "output_type": "display_data"
    }
   ],
   "source": [
    "model_performances_test = pd.DataFrame() \n",
    "for name in models:\n",
    "    if name == 'Logistic (SMOTE)':\n",
    "        model_performances_test = model_performances_test.append(model_report(models[name][0],\n",
    "                                                    x_smote[models[name][1]], churn_test[models[name][1]],\n",
    "                                                    y_smote, churn_test[target_col], name), ignore_index=True)\n",
    "    else:\n",
    "        model_performances_test = model_performances_test.append(model_report(models[name][0],\n",
    "                                                    x_train[models[name][1]], churn_test[models[name][1]], \n",
    "                                                    y_train, churn_test[target_col], name), ignore_index=True)\n",
    "colorscale = [[0, '#8B0000'], [1, '#FFC0CB']]  \n",
    "\n",
    "\n",
    "\n",
    "table_test = ff.create_table(np.round(model_performances_test, 4), colorscale=colorscale)\n",
    "py.iplot(table_test)"
   ]
  },
  {
   "cell_type": "code",
   "execution_count": 26,
   "id": "3e7bf60e",
   "metadata": {},
   "outputs": [
    {
     "data": {
      "application/vnd.plotly.v1+json": {
       "config": {
        "linkText": "Export to plot.ly",
        "plotlyServerURL": "https://plot.ly",
        "showLink": false
       },
       "data": [
        {
         "marker": {
          "color": "#400005",
          "opacity": 0.8
         },
         "name": "Accuracy",
         "orientation": "h",
         "text": [
          0.9400299850074962,
          0.8905547226386806,
          0.848575712143928
         ],
         "textposition": "auto",
         "type": "bar",
         "x": [
          0.9400299850074962,
          0.8905547226386806,
          0.848575712143928
         ],
         "y": [
          "Decision Tree",
          "KNN Classifier",
          "Logistic Regression"
         ]
        },
        {
         "marker": {
          "color": "#FF0000",
          "opacity": 0.8
         },
         "name": "Recall",
         "orientation": "h",
         "text": [
          0.7157894736842105,
          0.3368421052631579,
          0.042105263157894736
         ],
         "textposition": "auto",
         "type": "bar",
         "x": [
          0.7157894736842105,
          0.3368421052631579,
          0.042105263157894736
         ],
         "y": [
          "Decision Tree",
          "KNN Classifier",
          "Logistic Regression"
         ]
        },
        {
         "marker": {
          "color": "#f95462",
          "opacity": 0.8
         },
         "name": "Precision",
         "orientation": "h",
         "text": [
          0.8395061728395061,
          0.7619047619047619,
          0.2857142857142857
         ],
         "textposition": "auto",
         "type": "bar",
         "x": [
          0.8395061728395061,
          0.7619047619047619,
          0.2857142857142857
         ],
         "y": [
          "Decision Tree",
          "KNN Classifier",
          "Logistic Regression"
         ]
        },
        {
         "marker": {
          "color": "#d5d7ce",
          "opacity": 0.8
         },
         "name": "f1-score",
         "orientation": "h",
         "text": [
          0.7727272727272727,
          0.4671532846715329,
          0.07339449541284403
         ],
         "textposition": "auto",
         "type": "bar",
         "x": [
          0.7727272727272727,
          0.4671532846715329,
          0.07339449541284403
         ],
         "y": [
          "Decision Tree",
          "KNN Classifier",
          "Logistic Regression"
         ]
        },
        {
         "marker": {
          "color": "#FFC0CB",
          "opacity": 0.8
         },
         "name": "Roc_auc",
         "orientation": "h",
         "text": [
          0.8465311004784689,
          0.65967979389032,
          0.5123113728376886
         ],
         "textposition": "auto",
         "type": "bar",
         "x": [
          0.8465311004784689,
          0.65967979389032,
          0.5123113728376886
         ],
         "y": [
          "Decision Tree",
          "KNN Classifier",
          "Logistic Regression"
         ]
        },
        {
         "marker": {
          "color": "#c54f6b",
          "opacity": 0.8
         },
         "name": "Kappa_metric",
         "orientation": "h",
         "text": [
          0.7384365012450735,
          0.41616805956905956,
          0.038205102579843886
         ],
         "textposition": "auto",
         "type": "bar",
         "x": [
          0.7384365012450735,
          0.41616805956905956,
          0.038205102579843886
         ],
         "y": [
          "Decision Tree",
          "KNN Classifier",
          "Logistic Regression"
         ]
        }
       ],
       "layout": {
        "barmode": "group",
        "margin": {
         "l": 150
        },
        "template": {
         "data": {
          "bar": [
           {
            "error_x": {
             "color": "#2a3f5f"
            },
            "error_y": {
             "color": "#2a3f5f"
            },
            "marker": {
             "line": {
              "color": "#E5ECF6",
              "width": 0.5
             },
             "pattern": {
              "fillmode": "overlay",
              "size": 10,
              "solidity": 0.2
             }
            },
            "type": "bar"
           }
          ],
          "barpolar": [
           {
            "marker": {
             "line": {
              "color": "#E5ECF6",
              "width": 0.5
             },
             "pattern": {
              "fillmode": "overlay",
              "size": 10,
              "solidity": 0.2
             }
            },
            "type": "barpolar"
           }
          ],
          "carpet": [
           {
            "aaxis": {
             "endlinecolor": "#2a3f5f",
             "gridcolor": "white",
             "linecolor": "white",
             "minorgridcolor": "white",
             "startlinecolor": "#2a3f5f"
            },
            "baxis": {
             "endlinecolor": "#2a3f5f",
             "gridcolor": "white",
             "linecolor": "white",
             "minorgridcolor": "white",
             "startlinecolor": "#2a3f5f"
            },
            "type": "carpet"
           }
          ],
          "choropleth": [
           {
            "colorbar": {
             "outlinewidth": 0,
             "ticks": ""
            },
            "type": "choropleth"
           }
          ],
          "contour": [
           {
            "colorbar": {
             "outlinewidth": 0,
             "ticks": ""
            },
            "colorscale": [
             [
              0,
              "#0d0887"
             ],
             [
              0.1111111111111111,
              "#46039f"
             ],
             [
              0.2222222222222222,
              "#7201a8"
             ],
             [
              0.3333333333333333,
              "#9c179e"
             ],
             [
              0.4444444444444444,
              "#bd3786"
             ],
             [
              0.5555555555555556,
              "#d8576b"
             ],
             [
              0.6666666666666666,
              "#ed7953"
             ],
             [
              0.7777777777777778,
              "#fb9f3a"
             ],
             [
              0.8888888888888888,
              "#fdca26"
             ],
             [
              1,
              "#f0f921"
             ]
            ],
            "type": "contour"
           }
          ],
          "contourcarpet": [
           {
            "colorbar": {
             "outlinewidth": 0,
             "ticks": ""
            },
            "type": "contourcarpet"
           }
          ],
          "heatmap": [
           {
            "colorbar": {
             "outlinewidth": 0,
             "ticks": ""
            },
            "colorscale": [
             [
              0,
              "#0d0887"
             ],
             [
              0.1111111111111111,
              "#46039f"
             ],
             [
              0.2222222222222222,
              "#7201a8"
             ],
             [
              0.3333333333333333,
              "#9c179e"
             ],
             [
              0.4444444444444444,
              "#bd3786"
             ],
             [
              0.5555555555555556,
              "#d8576b"
             ],
             [
              0.6666666666666666,
              "#ed7953"
             ],
             [
              0.7777777777777778,
              "#fb9f3a"
             ],
             [
              0.8888888888888888,
              "#fdca26"
             ],
             [
              1,
              "#f0f921"
             ]
            ],
            "type": "heatmap"
           }
          ],
          "heatmapgl": [
           {
            "colorbar": {
             "outlinewidth": 0,
             "ticks": ""
            },
            "colorscale": [
             [
              0,
              "#0d0887"
             ],
             [
              0.1111111111111111,
              "#46039f"
             ],
             [
              0.2222222222222222,
              "#7201a8"
             ],
             [
              0.3333333333333333,
              "#9c179e"
             ],
             [
              0.4444444444444444,
              "#bd3786"
             ],
             [
              0.5555555555555556,
              "#d8576b"
             ],
             [
              0.6666666666666666,
              "#ed7953"
             ],
             [
              0.7777777777777778,
              "#fb9f3a"
             ],
             [
              0.8888888888888888,
              "#fdca26"
             ],
             [
              1,
              "#f0f921"
             ]
            ],
            "type": "heatmapgl"
           }
          ],
          "histogram": [
           {
            "marker": {
             "pattern": {
              "fillmode": "overlay",
              "size": 10,
              "solidity": 0.2
             }
            },
            "type": "histogram"
           }
          ],
          "histogram2d": [
           {
            "colorbar": {
             "outlinewidth": 0,
             "ticks": ""
            },
            "colorscale": [
             [
              0,
              "#0d0887"
             ],
             [
              0.1111111111111111,
              "#46039f"
             ],
             [
              0.2222222222222222,
              "#7201a8"
             ],
             [
              0.3333333333333333,
              "#9c179e"
             ],
             [
              0.4444444444444444,
              "#bd3786"
             ],
             [
              0.5555555555555556,
              "#d8576b"
             ],
             [
              0.6666666666666666,
              "#ed7953"
             ],
             [
              0.7777777777777778,
              "#fb9f3a"
             ],
             [
              0.8888888888888888,
              "#fdca26"
             ],
             [
              1,
              "#f0f921"
             ]
            ],
            "type": "histogram2d"
           }
          ],
          "histogram2dcontour": [
           {
            "colorbar": {
             "outlinewidth": 0,
             "ticks": ""
            },
            "colorscale": [
             [
              0,
              "#0d0887"
             ],
             [
              0.1111111111111111,
              "#46039f"
             ],
             [
              0.2222222222222222,
              "#7201a8"
             ],
             [
              0.3333333333333333,
              "#9c179e"
             ],
             [
              0.4444444444444444,
              "#bd3786"
             ],
             [
              0.5555555555555556,
              "#d8576b"
             ],
             [
              0.6666666666666666,
              "#ed7953"
             ],
             [
              0.7777777777777778,
              "#fb9f3a"
             ],
             [
              0.8888888888888888,
              "#fdca26"
             ],
             [
              1,
              "#f0f921"
             ]
            ],
            "type": "histogram2dcontour"
           }
          ],
          "mesh3d": [
           {
            "colorbar": {
             "outlinewidth": 0,
             "ticks": ""
            },
            "type": "mesh3d"
           }
          ],
          "parcoords": [
           {
            "line": {
             "colorbar": {
              "outlinewidth": 0,
              "ticks": ""
             }
            },
            "type": "parcoords"
           }
          ],
          "pie": [
           {
            "automargin": true,
            "type": "pie"
           }
          ],
          "scatter": [
           {
            "fillpattern": {
             "fillmode": "overlay",
             "size": 10,
             "solidity": 0.2
            },
            "type": "scatter"
           }
          ],
          "scatter3d": [
           {
            "line": {
             "colorbar": {
              "outlinewidth": 0,
              "ticks": ""
             }
            },
            "marker": {
             "colorbar": {
              "outlinewidth": 0,
              "ticks": ""
             }
            },
            "type": "scatter3d"
           }
          ],
          "scattercarpet": [
           {
            "marker": {
             "colorbar": {
              "outlinewidth": 0,
              "ticks": ""
             }
            },
            "type": "scattercarpet"
           }
          ],
          "scattergeo": [
           {
            "marker": {
             "colorbar": {
              "outlinewidth": 0,
              "ticks": ""
             }
            },
            "type": "scattergeo"
           }
          ],
          "scattergl": [
           {
            "marker": {
             "colorbar": {
              "outlinewidth": 0,
              "ticks": ""
             }
            },
            "type": "scattergl"
           }
          ],
          "scattermapbox": [
           {
            "marker": {
             "colorbar": {
              "outlinewidth": 0,
              "ticks": ""
             }
            },
            "type": "scattermapbox"
           }
          ],
          "scatterpolar": [
           {
            "marker": {
             "colorbar": {
              "outlinewidth": 0,
              "ticks": ""
             }
            },
            "type": "scatterpolar"
           }
          ],
          "scatterpolargl": [
           {
            "marker": {
             "colorbar": {
              "outlinewidth": 0,
              "ticks": ""
             }
            },
            "type": "scatterpolargl"
           }
          ],
          "scatterternary": [
           {
            "marker": {
             "colorbar": {
              "outlinewidth": 0,
              "ticks": ""
             }
            },
            "type": "scatterternary"
           }
          ],
          "surface": [
           {
            "colorbar": {
             "outlinewidth": 0,
             "ticks": ""
            },
            "colorscale": [
             [
              0,
              "#0d0887"
             ],
             [
              0.1111111111111111,
              "#46039f"
             ],
             [
              0.2222222222222222,
              "#7201a8"
             ],
             [
              0.3333333333333333,
              "#9c179e"
             ],
             [
              0.4444444444444444,
              "#bd3786"
             ],
             [
              0.5555555555555556,
              "#d8576b"
             ],
             [
              0.6666666666666666,
              "#ed7953"
             ],
             [
              0.7777777777777778,
              "#fb9f3a"
             ],
             [
              0.8888888888888888,
              "#fdca26"
             ],
             [
              1,
              "#f0f921"
             ]
            ],
            "type": "surface"
           }
          ],
          "table": [
           {
            "cells": {
             "fill": {
              "color": "#EBF0F8"
             },
             "line": {
              "color": "white"
             }
            },
            "header": {
             "fill": {
              "color": "#C8D4E3"
             },
             "line": {
              "color": "white"
             }
            },
            "type": "table"
           }
          ]
         },
         "layout": {
          "annotationdefaults": {
           "arrowcolor": "#2a3f5f",
           "arrowhead": 0,
           "arrowwidth": 1
          },
          "autotypenumbers": "strict",
          "coloraxis": {
           "colorbar": {
            "outlinewidth": 0,
            "ticks": ""
           }
          },
          "colorscale": {
           "diverging": [
            [
             0,
             "#8e0152"
            ],
            [
             0.1,
             "#c51b7d"
            ],
            [
             0.2,
             "#de77ae"
            ],
            [
             0.3,
             "#f1b6da"
            ],
            [
             0.4,
             "#fde0ef"
            ],
            [
             0.5,
             "#f7f7f7"
            ],
            [
             0.6,
             "#e6f5d0"
            ],
            [
             0.7,
             "#b8e186"
            ],
            [
             0.8,
             "#7fbc41"
            ],
            [
             0.9,
             "#4d9221"
            ],
            [
             1,
             "#276419"
            ]
           ],
           "sequential": [
            [
             0,
             "#0d0887"
            ],
            [
             0.1111111111111111,
             "#46039f"
            ],
            [
             0.2222222222222222,
             "#7201a8"
            ],
            [
             0.3333333333333333,
             "#9c179e"
            ],
            [
             0.4444444444444444,
             "#bd3786"
            ],
            [
             0.5555555555555556,
             "#d8576b"
            ],
            [
             0.6666666666666666,
             "#ed7953"
            ],
            [
             0.7777777777777778,
             "#fb9f3a"
            ],
            [
             0.8888888888888888,
             "#fdca26"
            ],
            [
             1,
             "#f0f921"
            ]
           ],
           "sequentialminus": [
            [
             0,
             "#0d0887"
            ],
            [
             0.1111111111111111,
             "#46039f"
            ],
            [
             0.2222222222222222,
             "#7201a8"
            ],
            [
             0.3333333333333333,
             "#9c179e"
            ],
            [
             0.4444444444444444,
             "#bd3786"
            ],
            [
             0.5555555555555556,
             "#d8576b"
            ],
            [
             0.6666666666666666,
             "#ed7953"
            ],
            [
             0.7777777777777778,
             "#fb9f3a"
            ],
            [
             0.8888888888888888,
             "#fdca26"
            ],
            [
             1,
             "#f0f921"
            ]
           ]
          },
          "colorway": [
           "#636efa",
           "#EF553B",
           "#00cc96",
           "#ab63fa",
           "#FFA15A",
           "#19d3f3",
           "#FF6692",
           "#B6E880",
           "#FF97FF",
           "#FECB52"
          ],
          "font": {
           "color": "#2a3f5f"
          },
          "geo": {
           "bgcolor": "white",
           "lakecolor": "white",
           "landcolor": "#E5ECF6",
           "showlakes": true,
           "showland": true,
           "subunitcolor": "white"
          },
          "hoverlabel": {
           "align": "left"
          },
          "hovermode": "closest",
          "mapbox": {
           "style": "light"
          },
          "paper_bgcolor": "white",
          "plot_bgcolor": "#E5ECF6",
          "polar": {
           "angularaxis": {
            "gridcolor": "white",
            "linecolor": "white",
            "ticks": ""
           },
           "bgcolor": "#E5ECF6",
           "radialaxis": {
            "gridcolor": "white",
            "linecolor": "white",
            "ticks": ""
           }
          },
          "scene": {
           "xaxis": {
            "backgroundcolor": "#E5ECF6",
            "gridcolor": "white",
            "gridwidth": 2,
            "linecolor": "white",
            "showbackground": true,
            "ticks": "",
            "zerolinecolor": "white"
           },
           "yaxis": {
            "backgroundcolor": "#E5ECF6",
            "gridcolor": "white",
            "gridwidth": 2,
            "linecolor": "white",
            "showbackground": true,
            "ticks": "",
            "zerolinecolor": "white"
           },
           "zaxis": {
            "backgroundcolor": "#E5ECF6",
            "gridcolor": "white",
            "gridwidth": 2,
            "linecolor": "white",
            "showbackground": true,
            "ticks": "",
            "zerolinecolor": "white"
           }
          },
          "shapedefaults": {
           "line": {
            "color": "#2a3f5f"
           }
          },
          "ternary": {
           "aaxis": {
            "gridcolor": "white",
            "linecolor": "white",
            "ticks": ""
           },
           "baxis": {
            "gridcolor": "white",
            "linecolor": "white",
            "ticks": ""
           },
           "bgcolor": "#E5ECF6",
           "caxis": {
            "gridcolor": "white",
            "linecolor": "white",
            "ticks": ""
           }
          },
          "title": {
           "x": 0.05
          },
          "xaxis": {
           "automargin": true,
           "gridcolor": "white",
           "linecolor": "white",
           "ticks": "",
           "title": {
            "standoff": 15
           },
           "zerolinecolor": "white",
           "zerolinewidth": 2
          },
          "yaxis": {
           "automargin": true,
           "gridcolor": "white",
           "linecolor": "white",
           "ticks": "",
           "title": {
            "standoff": 15
           },
           "zerolinecolor": "white",
           "zerolinewidth": 2
          }
         }
        },
        "title": {
         "text": "Model Metrics Performance over Test Set"
        },
        "yaxis": {
         "autorange": "reversed"
        }
       }
      },
      "text/html": [
       "<div>                            <div id=\"9e9594d1-f62d-4465-bf3e-fe5ab725e4b9\" class=\"plotly-graph-div\" style=\"height:525px; width:100%;\"></div>            <script type=\"text/javascript\">                require([\"plotly\"], function(Plotly) {                    window.PLOTLYENV=window.PLOTLYENV || {};                                    if (document.getElementById(\"9e9594d1-f62d-4465-bf3e-fe5ab725e4b9\")) {                    Plotly.newPlot(                        \"9e9594d1-f62d-4465-bf3e-fe5ab725e4b9\",                        [{\"marker\":{\"color\":\"#400005\",\"opacity\":0.8},\"name\":\"Accuracy\",\"orientation\":\"h\",\"text\":[0.9400299850074962,0.8905547226386806,0.848575712143928],\"textposition\":\"auto\",\"x\":[0.9400299850074962,0.8905547226386806,0.848575712143928],\"y\":[\"Decision Tree\",\"KNN Classifier\",\"Logistic Regression\"],\"type\":\"bar\"},{\"marker\":{\"color\":\"#FF0000\",\"opacity\":0.8},\"name\":\"Recall\",\"orientation\":\"h\",\"text\":[0.7157894736842105,0.3368421052631579,0.042105263157894736],\"textposition\":\"auto\",\"x\":[0.7157894736842105,0.3368421052631579,0.042105263157894736],\"y\":[\"Decision Tree\",\"KNN Classifier\",\"Logistic Regression\"],\"type\":\"bar\"},{\"marker\":{\"color\":\"#f95462\",\"opacity\":0.8},\"name\":\"Precision\",\"orientation\":\"h\",\"text\":[0.8395061728395061,0.7619047619047619,0.2857142857142857],\"textposition\":\"auto\",\"x\":[0.8395061728395061,0.7619047619047619,0.2857142857142857],\"y\":[\"Decision Tree\",\"KNN Classifier\",\"Logistic Regression\"],\"type\":\"bar\"},{\"marker\":{\"color\":\"#d5d7ce\",\"opacity\":0.8},\"name\":\"f1-score\",\"orientation\":\"h\",\"text\":[0.7727272727272727,0.4671532846715329,0.07339449541284403],\"textposition\":\"auto\",\"x\":[0.7727272727272727,0.4671532846715329,0.07339449541284403],\"y\":[\"Decision Tree\",\"KNN Classifier\",\"Logistic Regression\"],\"type\":\"bar\"},{\"marker\":{\"color\":\"#FFC0CB\",\"opacity\":0.8},\"name\":\"Roc_auc\",\"orientation\":\"h\",\"text\":[0.8465311004784689,0.65967979389032,0.5123113728376886],\"textposition\":\"auto\",\"x\":[0.8465311004784689,0.65967979389032,0.5123113728376886],\"y\":[\"Decision Tree\",\"KNN Classifier\",\"Logistic Regression\"],\"type\":\"bar\"},{\"marker\":{\"color\":\"#c54f6b\",\"opacity\":0.8},\"name\":\"Kappa_metric\",\"orientation\":\"h\",\"text\":[0.7384365012450735,0.41616805956905956,0.038205102579843886],\"textposition\":\"auto\",\"x\":[0.7384365012450735,0.41616805956905956,0.038205102579843886],\"y\":[\"Decision Tree\",\"KNN Classifier\",\"Logistic Regression\"],\"type\":\"bar\"}],                        {\"barmode\":\"group\",\"margin\":{\"l\":150},\"template\":{\"data\":{\"barpolar\":[{\"marker\":{\"line\":{\"color\":\"#E5ECF6\",\"width\":0.5},\"pattern\":{\"fillmode\":\"overlay\",\"size\":10,\"solidity\":0.2}},\"type\":\"barpolar\"}],\"bar\":[{\"error_x\":{\"color\":\"#2a3f5f\"},\"error_y\":{\"color\":\"#2a3f5f\"},\"marker\":{\"line\":{\"color\":\"#E5ECF6\",\"width\":0.5},\"pattern\":{\"fillmode\":\"overlay\",\"size\":10,\"solidity\":0.2}},\"type\":\"bar\"}],\"carpet\":[{\"aaxis\":{\"endlinecolor\":\"#2a3f5f\",\"gridcolor\":\"white\",\"linecolor\":\"white\",\"minorgridcolor\":\"white\",\"startlinecolor\":\"#2a3f5f\"},\"baxis\":{\"endlinecolor\":\"#2a3f5f\",\"gridcolor\":\"white\",\"linecolor\":\"white\",\"minorgridcolor\":\"white\",\"startlinecolor\":\"#2a3f5f\"},\"type\":\"carpet\"}],\"choropleth\":[{\"colorbar\":{\"outlinewidth\":0,\"ticks\":\"\"},\"type\":\"choropleth\"}],\"contourcarpet\":[{\"colorbar\":{\"outlinewidth\":0,\"ticks\":\"\"},\"type\":\"contourcarpet\"}],\"contour\":[{\"colorbar\":{\"outlinewidth\":0,\"ticks\":\"\"},\"colorscale\":[[0.0,\"#0d0887\"],[0.1111111111111111,\"#46039f\"],[0.2222222222222222,\"#7201a8\"],[0.3333333333333333,\"#9c179e\"],[0.4444444444444444,\"#bd3786\"],[0.5555555555555556,\"#d8576b\"],[0.6666666666666666,\"#ed7953\"],[0.7777777777777778,\"#fb9f3a\"],[0.8888888888888888,\"#fdca26\"],[1.0,\"#f0f921\"]],\"type\":\"contour\"}],\"heatmapgl\":[{\"colorbar\":{\"outlinewidth\":0,\"ticks\":\"\"},\"colorscale\":[[0.0,\"#0d0887\"],[0.1111111111111111,\"#46039f\"],[0.2222222222222222,\"#7201a8\"],[0.3333333333333333,\"#9c179e\"],[0.4444444444444444,\"#bd3786\"],[0.5555555555555556,\"#d8576b\"],[0.6666666666666666,\"#ed7953\"],[0.7777777777777778,\"#fb9f3a\"],[0.8888888888888888,\"#fdca26\"],[1.0,\"#f0f921\"]],\"type\":\"heatmapgl\"}],\"heatmap\":[{\"colorbar\":{\"outlinewidth\":0,\"ticks\":\"\"},\"colorscale\":[[0.0,\"#0d0887\"],[0.1111111111111111,\"#46039f\"],[0.2222222222222222,\"#7201a8\"],[0.3333333333333333,\"#9c179e\"],[0.4444444444444444,\"#bd3786\"],[0.5555555555555556,\"#d8576b\"],[0.6666666666666666,\"#ed7953\"],[0.7777777777777778,\"#fb9f3a\"],[0.8888888888888888,\"#fdca26\"],[1.0,\"#f0f921\"]],\"type\":\"heatmap\"}],\"histogram2dcontour\":[{\"colorbar\":{\"outlinewidth\":0,\"ticks\":\"\"},\"colorscale\":[[0.0,\"#0d0887\"],[0.1111111111111111,\"#46039f\"],[0.2222222222222222,\"#7201a8\"],[0.3333333333333333,\"#9c179e\"],[0.4444444444444444,\"#bd3786\"],[0.5555555555555556,\"#d8576b\"],[0.6666666666666666,\"#ed7953\"],[0.7777777777777778,\"#fb9f3a\"],[0.8888888888888888,\"#fdca26\"],[1.0,\"#f0f921\"]],\"type\":\"histogram2dcontour\"}],\"histogram2d\":[{\"colorbar\":{\"outlinewidth\":0,\"ticks\":\"\"},\"colorscale\":[[0.0,\"#0d0887\"],[0.1111111111111111,\"#46039f\"],[0.2222222222222222,\"#7201a8\"],[0.3333333333333333,\"#9c179e\"],[0.4444444444444444,\"#bd3786\"],[0.5555555555555556,\"#d8576b\"],[0.6666666666666666,\"#ed7953\"],[0.7777777777777778,\"#fb9f3a\"],[0.8888888888888888,\"#fdca26\"],[1.0,\"#f0f921\"]],\"type\":\"histogram2d\"}],\"histogram\":[{\"marker\":{\"pattern\":{\"fillmode\":\"overlay\",\"size\":10,\"solidity\":0.2}},\"type\":\"histogram\"}],\"mesh3d\":[{\"colorbar\":{\"outlinewidth\":0,\"ticks\":\"\"},\"type\":\"mesh3d\"}],\"parcoords\":[{\"line\":{\"colorbar\":{\"outlinewidth\":0,\"ticks\":\"\"}},\"type\":\"parcoords\"}],\"pie\":[{\"automargin\":true,\"type\":\"pie\"}],\"scatter3d\":[{\"line\":{\"colorbar\":{\"outlinewidth\":0,\"ticks\":\"\"}},\"marker\":{\"colorbar\":{\"outlinewidth\":0,\"ticks\":\"\"}},\"type\":\"scatter3d\"}],\"scattercarpet\":[{\"marker\":{\"colorbar\":{\"outlinewidth\":0,\"ticks\":\"\"}},\"type\":\"scattercarpet\"}],\"scattergeo\":[{\"marker\":{\"colorbar\":{\"outlinewidth\":0,\"ticks\":\"\"}},\"type\":\"scattergeo\"}],\"scattergl\":[{\"marker\":{\"colorbar\":{\"outlinewidth\":0,\"ticks\":\"\"}},\"type\":\"scattergl\"}],\"scattermapbox\":[{\"marker\":{\"colorbar\":{\"outlinewidth\":0,\"ticks\":\"\"}},\"type\":\"scattermapbox\"}],\"scatterpolargl\":[{\"marker\":{\"colorbar\":{\"outlinewidth\":0,\"ticks\":\"\"}},\"type\":\"scatterpolargl\"}],\"scatterpolar\":[{\"marker\":{\"colorbar\":{\"outlinewidth\":0,\"ticks\":\"\"}},\"type\":\"scatterpolar\"}],\"scatter\":[{\"fillpattern\":{\"fillmode\":\"overlay\",\"size\":10,\"solidity\":0.2},\"type\":\"scatter\"}],\"scatterternary\":[{\"marker\":{\"colorbar\":{\"outlinewidth\":0,\"ticks\":\"\"}},\"type\":\"scatterternary\"}],\"surface\":[{\"colorbar\":{\"outlinewidth\":0,\"ticks\":\"\"},\"colorscale\":[[0.0,\"#0d0887\"],[0.1111111111111111,\"#46039f\"],[0.2222222222222222,\"#7201a8\"],[0.3333333333333333,\"#9c179e\"],[0.4444444444444444,\"#bd3786\"],[0.5555555555555556,\"#d8576b\"],[0.6666666666666666,\"#ed7953\"],[0.7777777777777778,\"#fb9f3a\"],[0.8888888888888888,\"#fdca26\"],[1.0,\"#f0f921\"]],\"type\":\"surface\"}],\"table\":[{\"cells\":{\"fill\":{\"color\":\"#EBF0F8\"},\"line\":{\"color\":\"white\"}},\"header\":{\"fill\":{\"color\":\"#C8D4E3\"},\"line\":{\"color\":\"white\"}},\"type\":\"table\"}]},\"layout\":{\"annotationdefaults\":{\"arrowcolor\":\"#2a3f5f\",\"arrowhead\":0,\"arrowwidth\":1},\"autotypenumbers\":\"strict\",\"coloraxis\":{\"colorbar\":{\"outlinewidth\":0,\"ticks\":\"\"}},\"colorscale\":{\"diverging\":[[0,\"#8e0152\"],[0.1,\"#c51b7d\"],[0.2,\"#de77ae\"],[0.3,\"#f1b6da\"],[0.4,\"#fde0ef\"],[0.5,\"#f7f7f7\"],[0.6,\"#e6f5d0\"],[0.7,\"#b8e186\"],[0.8,\"#7fbc41\"],[0.9,\"#4d9221\"],[1,\"#276419\"]],\"sequential\":[[0.0,\"#0d0887\"],[0.1111111111111111,\"#46039f\"],[0.2222222222222222,\"#7201a8\"],[0.3333333333333333,\"#9c179e\"],[0.4444444444444444,\"#bd3786\"],[0.5555555555555556,\"#d8576b\"],[0.6666666666666666,\"#ed7953\"],[0.7777777777777778,\"#fb9f3a\"],[0.8888888888888888,\"#fdca26\"],[1.0,\"#f0f921\"]],\"sequentialminus\":[[0.0,\"#0d0887\"],[0.1111111111111111,\"#46039f\"],[0.2222222222222222,\"#7201a8\"],[0.3333333333333333,\"#9c179e\"],[0.4444444444444444,\"#bd3786\"],[0.5555555555555556,\"#d8576b\"],[0.6666666666666666,\"#ed7953\"],[0.7777777777777778,\"#fb9f3a\"],[0.8888888888888888,\"#fdca26\"],[1.0,\"#f0f921\"]]},\"colorway\":[\"#636efa\",\"#EF553B\",\"#00cc96\",\"#ab63fa\",\"#FFA15A\",\"#19d3f3\",\"#FF6692\",\"#B6E880\",\"#FF97FF\",\"#FECB52\"],\"font\":{\"color\":\"#2a3f5f\"},\"geo\":{\"bgcolor\":\"white\",\"lakecolor\":\"white\",\"landcolor\":\"#E5ECF6\",\"showlakes\":true,\"showland\":true,\"subunitcolor\":\"white\"},\"hoverlabel\":{\"align\":\"left\"},\"hovermode\":\"closest\",\"mapbox\":{\"style\":\"light\"},\"paper_bgcolor\":\"white\",\"plot_bgcolor\":\"#E5ECF6\",\"polar\":{\"angularaxis\":{\"gridcolor\":\"white\",\"linecolor\":\"white\",\"ticks\":\"\"},\"bgcolor\":\"#E5ECF6\",\"radialaxis\":{\"gridcolor\":\"white\",\"linecolor\":\"white\",\"ticks\":\"\"}},\"scene\":{\"xaxis\":{\"backgroundcolor\":\"#E5ECF6\",\"gridcolor\":\"white\",\"gridwidth\":2,\"linecolor\":\"white\",\"showbackground\":true,\"ticks\":\"\",\"zerolinecolor\":\"white\"},\"yaxis\":{\"backgroundcolor\":\"#E5ECF6\",\"gridcolor\":\"white\",\"gridwidth\":2,\"linecolor\":\"white\",\"showbackground\":true,\"ticks\":\"\",\"zerolinecolor\":\"white\"},\"zaxis\":{\"backgroundcolor\":\"#E5ECF6\",\"gridcolor\":\"white\",\"gridwidth\":2,\"linecolor\":\"white\",\"showbackground\":true,\"ticks\":\"\",\"zerolinecolor\":\"white\"}},\"shapedefaults\":{\"line\":{\"color\":\"#2a3f5f\"}},\"ternary\":{\"aaxis\":{\"gridcolor\":\"white\",\"linecolor\":\"white\",\"ticks\":\"\"},\"baxis\":{\"gridcolor\":\"white\",\"linecolor\":\"white\",\"ticks\":\"\"},\"bgcolor\":\"#E5ECF6\",\"caxis\":{\"gridcolor\":\"white\",\"linecolor\":\"white\",\"ticks\":\"\"}},\"title\":{\"x\":0.05},\"xaxis\":{\"automargin\":true,\"gridcolor\":\"white\",\"linecolor\":\"white\",\"ticks\":\"\",\"title\":{\"standoff\":15},\"zerolinecolor\":\"white\",\"zerolinewidth\":2},\"yaxis\":{\"automargin\":true,\"gridcolor\":\"white\",\"linecolor\":\"white\",\"ticks\":\"\",\"title\":{\"standoff\":15},\"zerolinecolor\":\"white\",\"zerolinewidth\":2}}},\"title\":{\"text\":\"Model Metrics Performance over Test Set\"},\"yaxis\":{\"autorange\":\"reversed\"}},                        {\"responsive\": true}                    ).then(function(){\n",
       "                            \n",
       "var gd = document.getElementById('9e9594d1-f62d-4465-bf3e-fe5ab725e4b9');\n",
       "var x = new MutationObserver(function (mutations, observer) {{\n",
       "        var display = window.getComputedStyle(gd).display;\n",
       "        if (!display || display === 'none') {{\n",
       "            console.log([gd, 'removed!']);\n",
       "            Plotly.purge(gd);\n",
       "            observer.disconnect();\n",
       "        }}\n",
       "}});\n",
       "\n",
       "// Listen for the removal of the full notebook cells\n",
       "var notebookContainer = gd.closest('#notebook-container');\n",
       "if (notebookContainer) {{\n",
       "    x.observe(notebookContainer, {childList: true});\n",
       "}}\n",
       "\n",
       "// Listen for the clearing of the current output cell\n",
       "var outputEl = gd.closest('.output');\n",
       "if (outputEl) {{\n",
       "    x.observe(outputEl, {childList: true});\n",
       "}}\n",
       "\n",
       "                        })                };                });            </script>        </div>"
      ]
     },
     "metadata": {},
     "output_type": "display_data"
    }
   ],
   "source": [
    "# Define colors for each trace\n",
    "colors = ['#400005', '#FF0000', '#f95462', '#d5d7ce', '#FFC0CB', '#c54f6b']\n",
    "\n",
    "# Define data for the bar chart\n",
    "traces = [go.Bar(x=model_performances_test[column],\n",
    "                 y=model_performances_test.Model,\n",
    "                 orientation='h',\n",
    "                 marker=dict(color=colors[i], opacity=0.8),\n",
    "                 name=column,\n",
    "                 text=model_performances_test[column],\n",
    "                 textposition='auto') for i, column in enumerate(['Accuracy', \n",
    "                                                                  'Recall', 'Precision', \n",
    "                                                                  'f1-score', 'Roc_auc', 'Kappa_metric'])]\n",
    "\n",
    "# Define layout\n",
    "layout = go.Layout(\n",
    "    barmode='group',\n",
    "    title='Model Metrics Performance over Test Set',\n",
    "    yaxis=dict(autorange=\"reversed\"),\n",
    "    margin=dict(l=150),\n",
    ")\n",
    "\n",
    "# Create and show the figure\n",
    "fig = go.Figure(data=traces, layout=layout)\n",
    "py.iplot(fig)"
   ]
  },
  {
   "cell_type": "code",
   "execution_count": null,
   "id": "a1840bfb",
   "metadata": {},
   "outputs": [],
   "source": []
  }
 ],
 "metadata": {
  "kernelspec": {
   "display_name": "Python 3 (ipykernel)",
   "language": "python",
   "name": "python3"
  },
  "language_info": {
   "codemirror_mode": {
    "name": "ipython",
    "version": 3
   },
   "file_extension": ".py",
   "mimetype": "text/x-python",
   "name": "python",
   "nbconvert_exporter": "python",
   "pygments_lexer": "ipython3",
   "version": "3.9.13"
  }
 },
 "nbformat": 4,
 "nbformat_minor": 5
}
